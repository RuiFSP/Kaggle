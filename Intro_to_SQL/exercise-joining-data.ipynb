{
 "cells": [
  {
   "cell_type": "markdown",
   "id": "17587fc9",
   "metadata": {
    "papermill": {
     "duration": 0.007571,
     "end_time": "2024-01-02T15:29:06.907974",
     "exception": false,
     "start_time": "2024-01-02T15:29:06.900403",
     "status": "completed"
    },
    "tags": []
   },
   "source": [
    "**This notebook is an exercise in the [SQL](https://www.kaggle.com/learn/intro-to-sql) course.  You can reference the tutorial at [this link](https://www.kaggle.com/dansbecker/joining-data).**\n",
    "\n",
    "---\n"
   ]
  },
  {
   "cell_type": "markdown",
   "id": "ea0663d1",
   "metadata": {
    "papermill": {
     "duration": 0.006327,
     "end_time": "2024-01-02T15:29:06.921096",
     "exception": false,
     "start_time": "2024-01-02T15:29:06.914769",
     "status": "completed"
    },
    "tags": []
   },
   "source": [
    "# Introduction\n",
    "\n",
    "[Stack Overflow](https://stackoverflow.com/) is a widely beloved question and answer site for technical questions. You'll probably use it yourself as you keep using SQL (or any programming language). \n",
    "\n",
    "Their data is publicly available. What cool things do you think it would be useful for?\n",
    "\n",
    "Here's one idea:\n",
    "You could set up a service that identifies the Stack Overflow users who have demonstrated expertise with a specific technology by answering related questions about it, so someone could hire those experts for in-depth help.\n",
    "\n",
    "In this exercise, you'll write the SQL queries that might serve as the foundation for this type of service.\n",
    "\n",
    "As usual, run the following cell to set up our feedback system before moving on."
   ]
  },
  {
   "cell_type": "code",
   "execution_count": 1,
   "id": "d51d0eb9",
   "metadata": {
    "execution": {
     "iopub.execute_input": "2024-01-02T15:29:06.936453Z",
     "iopub.status.busy": "2024-01-02T15:29:06.935967Z",
     "iopub.status.idle": "2024-01-02T15:29:42.313178Z",
     "shell.execute_reply": "2024-01-02T15:29:42.311928Z"
    },
    "papermill": {
     "duration": 35.393607,
     "end_time": "2024-01-02T15:29:42.321448",
     "exception": false,
     "start_time": "2024-01-02T15:29:06.927841",
     "status": "completed"
    },
    "tags": []
   },
   "outputs": [
    {
     "name": "stdout",
     "output_type": "stream",
     "text": [
      "Using Kaggle's public dataset BigQuery integration.\n",
      "Setup Complete\n"
     ]
    }
   ],
   "source": [
    "# Set up feedback system\n",
    "from learntools.core import binder\n",
    "binder.bind(globals())\n",
    "from learntools.sql.ex6 import *\n",
    "print(\"Setup Complete\")"
   ]
  },
  {
   "cell_type": "markdown",
   "id": "71d9f3ba",
   "metadata": {
    "papermill": {
     "duration": 0.007258,
     "end_time": "2024-01-02T15:29:42.336411",
     "exception": false,
     "start_time": "2024-01-02T15:29:42.329153",
     "status": "completed"
    },
    "tags": []
   },
   "source": [
    "Run the next cell to fetch the `stackoverflow` dataset."
   ]
  },
  {
   "cell_type": "code",
   "execution_count": 2,
   "id": "ebcdf0f8",
   "metadata": {
    "execution": {
     "iopub.execute_input": "2024-01-02T15:29:42.353640Z",
     "iopub.status.busy": "2024-01-02T15:29:42.352367Z",
     "iopub.status.idle": "2024-01-02T15:29:42.830497Z",
     "shell.execute_reply": "2024-01-02T15:29:42.829358Z"
    },
    "papermill": {
     "duration": 0.490172,
     "end_time": "2024-01-02T15:29:42.833524",
     "exception": false,
     "start_time": "2024-01-02T15:29:42.343352",
     "status": "completed"
    },
    "tags": []
   },
   "outputs": [
    {
     "name": "stdout",
     "output_type": "stream",
     "text": [
      "Using Kaggle's public dataset BigQuery integration.\n"
     ]
    }
   ],
   "source": [
    "from google.cloud import bigquery\n",
    "\n",
    "# Create a \"Client\" object\n",
    "client = bigquery.Client()\n",
    "\n",
    "# Construct a reference to the \"stackoverflow\" dataset\n",
    "dataset_ref = client.dataset(\"stackoverflow\", project=\"bigquery-public-data\")\n",
    "\n",
    "# API request - fetch the dataset\n",
    "dataset = client.get_dataset(dataset_ref)"
   ]
  },
  {
   "cell_type": "markdown",
   "id": "6348c43c",
   "metadata": {
    "papermill": {
     "duration": 0.006901,
     "end_time": "2024-01-02T15:29:42.847789",
     "exception": false,
     "start_time": "2024-01-02T15:29:42.840888",
     "status": "completed"
    },
    "tags": []
   },
   "source": [
    "# Exercises\n",
    "\n",
    "### 1) Explore the data\n",
    "\n",
    "Before writing queries or **JOIN** clauses, you'll want to see what tables are available. \n",
    "\n",
    "*Hint*: Tab completion is helpful whenever you can't remember a command. Type `client.` and then hit the tab key. Don't forget the period before hitting tab."
   ]
  },
  {
   "cell_type": "code",
   "execution_count": 3,
   "id": "3a118dcc",
   "metadata": {
    "execution": {
     "iopub.execute_input": "2024-01-02T15:29:42.864730Z",
     "iopub.status.busy": "2024-01-02T15:29:42.863573Z",
     "iopub.status.idle": "2024-01-02T15:29:43.819986Z",
     "shell.execute_reply": "2024-01-02T15:29:43.818854Z"
    },
    "papermill": {
     "duration": 0.96788,
     "end_time": "2024-01-02T15:29:43.822793",
     "exception": false,
     "start_time": "2024-01-02T15:29:42.854913",
     "status": "completed"
    },
    "tags": []
   },
   "outputs": [
    {
     "name": "stdout",
     "output_type": "stream",
     "text": [
      "['badges', 'comments', 'post_history', 'post_links', 'posts_answers', 'posts_moderator_nomination', 'posts_orphaned_tag_wiki', 'posts_privilege_wiki', 'posts_questions', 'posts_tag_wiki', 'posts_tag_wiki_excerpt', 'posts_wiki_placeholder', 'stackoverflow_posts', 'tags', 'users', 'votes']\n"
     ]
    },
    {
     "data": {
      "application/javascript": [
       "parent.postMessage({\"jupyterEvent\": \"custom.exercise_interaction\", \"data\": {\"outcomeType\": 1, \"valueTowardsCompletion\": 0.16666666666666666, \"interactionType\": 1, \"questionType\": 1, \"questionId\": \"1_ListSOTables\", \"learnToolsVersion\": \"0.3.4\", \"failureMessage\": \"\", \"exceptionClass\": \"\", \"trace\": \"\"}}, \"*\")"
      ],
      "text/plain": [
       "<IPython.core.display.Javascript object>"
      ]
     },
     "metadata": {},
     "output_type": "display_data"
    },
    {
     "data": {
      "text/markdown": [
       "<span style=\"color:#33cc33\">Correct</span>"
      ],
      "text/plain": [
       "Correct"
      ]
     },
     "metadata": {},
     "output_type": "display_data"
    }
   ],
   "source": [
    "# Get a list of available tables \n",
    "list_of_tables = [table.table_id for table in list(client.list_tables(dataset))]\n",
    "\n",
    "# Print your answer\n",
    "print(list_of_tables)\n",
    "\n",
    "# Check your answer\n",
    "q_1.check()"
   ]
  },
  {
   "cell_type": "markdown",
   "id": "36ac8449",
   "metadata": {
    "papermill": {
     "duration": 0.00696,
     "end_time": "2024-01-02T15:29:43.836886",
     "exception": false,
     "start_time": "2024-01-02T15:29:43.829926",
     "status": "completed"
    },
    "tags": []
   },
   "source": [
    "For the solution, uncomment the line below."
   ]
  },
  {
   "cell_type": "code",
   "execution_count": 4,
   "id": "9faf2c76",
   "metadata": {
    "execution": {
     "iopub.execute_input": "2024-01-02T15:29:43.854749Z",
     "iopub.status.busy": "2024-01-02T15:29:43.853687Z",
     "iopub.status.idle": "2024-01-02T15:29:43.858596Z",
     "shell.execute_reply": "2024-01-02T15:29:43.857684Z"
    },
    "papermill": {
     "duration": 0.016092,
     "end_time": "2024-01-02T15:29:43.860615",
     "exception": false,
     "start_time": "2024-01-02T15:29:43.844523",
     "status": "completed"
    },
    "tags": []
   },
   "outputs": [],
   "source": [
    "#q_1.solution()"
   ]
  },
  {
   "cell_type": "markdown",
   "id": "afd562cc",
   "metadata": {
    "papermill": {
     "duration": 0.006889,
     "end_time": "2024-01-02T15:29:43.875085",
     "exception": false,
     "start_time": "2024-01-02T15:29:43.868196",
     "status": "completed"
    },
    "tags": []
   },
   "source": [
    "### 2) Review relevant tables\n",
    "\n",
    "If you are interested in people who answer questions on a given topic, the `posts_answers` table is a natural place to look. Run the following cell, and look at the output."
   ]
  },
  {
   "cell_type": "code",
   "execution_count": 5,
   "id": "6aeb8393",
   "metadata": {
    "execution": {
     "iopub.execute_input": "2024-01-02T15:29:43.892798Z",
     "iopub.status.busy": "2024-01-02T15:29:43.892261Z",
     "iopub.status.idle": "2024-01-02T15:29:46.029679Z",
     "shell.execute_reply": "2024-01-02T15:29:46.028389Z"
    },
    "papermill": {
     "duration": 2.149996,
     "end_time": "2024-01-02T15:29:46.032514",
     "exception": false,
     "start_time": "2024-01-02T15:29:43.882518",
     "status": "completed"
    },
    "tags": []
   },
   "outputs": [
    {
     "data": {
      "text/html": [
       "<div>\n",
       "<style scoped>\n",
       "    .dataframe tbody tr th:only-of-type {\n",
       "        vertical-align: middle;\n",
       "    }\n",
       "\n",
       "    .dataframe tbody tr th {\n",
       "        vertical-align: top;\n",
       "    }\n",
       "\n",
       "    .dataframe thead th {\n",
       "        text-align: right;\n",
       "    }\n",
       "</style>\n",
       "<table border=\"1\" class=\"dataframe\">\n",
       "  <thead>\n",
       "    <tr style=\"text-align: right;\">\n",
       "      <th></th>\n",
       "      <th>id</th>\n",
       "      <th>title</th>\n",
       "      <th>body</th>\n",
       "      <th>accepted_answer_id</th>\n",
       "      <th>answer_count</th>\n",
       "      <th>comment_count</th>\n",
       "      <th>community_owned_date</th>\n",
       "      <th>creation_date</th>\n",
       "      <th>favorite_count</th>\n",
       "      <th>last_activity_date</th>\n",
       "      <th>last_edit_date</th>\n",
       "      <th>last_editor_display_name</th>\n",
       "      <th>last_editor_user_id</th>\n",
       "      <th>owner_display_name</th>\n",
       "      <th>owner_user_id</th>\n",
       "      <th>parent_id</th>\n",
       "      <th>post_type_id</th>\n",
       "      <th>score</th>\n",
       "      <th>tags</th>\n",
       "      <th>view_count</th>\n",
       "    </tr>\n",
       "  </thead>\n",
       "  <tbody>\n",
       "    <tr>\n",
       "      <th>0</th>\n",
       "      <td>18</td>\n",
       "      <td>None</td>\n",
       "      <td>&lt;p&gt;For a table like this:&lt;/p&gt;\\n\\n&lt;pre&gt;&lt;code&gt;CR...</td>\n",
       "      <td>None</td>\n",
       "      <td>None</td>\n",
       "      <td>2</td>\n",
       "      <td>NaT</td>\n",
       "      <td>2008-08-01 05:12:44.193000+00:00</td>\n",
       "      <td>None</td>\n",
       "      <td>2016-06-02 05:56:26.060000+00:00</td>\n",
       "      <td>2016-06-02 05:56:26.060000+00:00</td>\n",
       "      <td>Jeff Atwood</td>\n",
       "      <td>126039</td>\n",
       "      <td>phpguy</td>\n",
       "      <td>NaN</td>\n",
       "      <td>17</td>\n",
       "      <td>2</td>\n",
       "      <td>59</td>\n",
       "      <td>None</td>\n",
       "      <td>None</td>\n",
       "    </tr>\n",
       "    <tr>\n",
       "      <th>1</th>\n",
       "      <td>165</td>\n",
       "      <td>None</td>\n",
       "      <td>&lt;p&gt;You can use a &lt;a href=\"http://sharpdevelop....</td>\n",
       "      <td>None</td>\n",
       "      <td>None</td>\n",
       "      <td>0</td>\n",
       "      <td>NaT</td>\n",
       "      <td>2008-08-01 18:04:25.023000+00:00</td>\n",
       "      <td>None</td>\n",
       "      <td>2019-04-06 14:03:51.080000+00:00</td>\n",
       "      <td>2019-04-06 14:03:51.080000+00:00</td>\n",
       "      <td>None</td>\n",
       "      <td>1721793</td>\n",
       "      <td>user2189331</td>\n",
       "      <td>NaN</td>\n",
       "      <td>145</td>\n",
       "      <td>2</td>\n",
       "      <td>10</td>\n",
       "      <td>None</td>\n",
       "      <td>None</td>\n",
       "    </tr>\n",
       "    <tr>\n",
       "      <th>2</th>\n",
       "      <td>1028</td>\n",
       "      <td>None</td>\n",
       "      <td>&lt;p&gt;The VB code looks something like this:&lt;/p&gt;\\...</td>\n",
       "      <td>None</td>\n",
       "      <td>None</td>\n",
       "      <td>0</td>\n",
       "      <td>NaT</td>\n",
       "      <td>2008-08-04 04:58:40.300000+00:00</td>\n",
       "      <td>None</td>\n",
       "      <td>2013-02-07 13:22:14.680000+00:00</td>\n",
       "      <td>2013-02-07 13:22:14.680000+00:00</td>\n",
       "      <td>None</td>\n",
       "      <td>395659</td>\n",
       "      <td>user2189331</td>\n",
       "      <td>NaN</td>\n",
       "      <td>947</td>\n",
       "      <td>2</td>\n",
       "      <td>8</td>\n",
       "      <td>None</td>\n",
       "      <td>None</td>\n",
       "    </tr>\n",
       "    <tr>\n",
       "      <th>3</th>\n",
       "      <td>1073</td>\n",
       "      <td>None</td>\n",
       "      <td>&lt;p&gt;My first choice would be a dedicated heap t...</td>\n",
       "      <td>None</td>\n",
       "      <td>None</td>\n",
       "      <td>0</td>\n",
       "      <td>NaT</td>\n",
       "      <td>2008-08-04 07:51:02.997000+00:00</td>\n",
       "      <td>None</td>\n",
       "      <td>2015-09-01 17:32:32.120000+00:00</td>\n",
       "      <td>2015-09-01 17:32:32.120000+00:00</td>\n",
       "      <td>None</td>\n",
       "      <td>45459</td>\n",
       "      <td>user2189331</td>\n",
       "      <td>NaN</td>\n",
       "      <td>1069</td>\n",
       "      <td>2</td>\n",
       "      <td>29</td>\n",
       "      <td>None</td>\n",
       "      <td>None</td>\n",
       "    </tr>\n",
       "    <tr>\n",
       "      <th>4</th>\n",
       "      <td>1260</td>\n",
       "      <td>None</td>\n",
       "      <td>&lt;p&gt;I found the answer. all you have to do is a...</td>\n",
       "      <td>None</td>\n",
       "      <td>None</td>\n",
       "      <td>0</td>\n",
       "      <td>NaT</td>\n",
       "      <td>2008-08-04 14:06:02.863000+00:00</td>\n",
       "      <td>None</td>\n",
       "      <td>2016-12-20 08:38:48.867000+00:00</td>\n",
       "      <td>2016-12-20 08:38:48.867000+00:00</td>\n",
       "      <td>None</td>\n",
       "      <td>1221571</td>\n",
       "      <td>Jin</td>\n",
       "      <td>NaN</td>\n",
       "      <td>1229</td>\n",
       "      <td>2</td>\n",
       "      <td>1</td>\n",
       "      <td>None</td>\n",
       "      <td>None</td>\n",
       "    </tr>\n",
       "  </tbody>\n",
       "</table>\n",
       "</div>"
      ],
      "text/plain": [
       "     id title                                               body  \\\n",
       "0    18  None  <p>For a table like this:</p>\\n\\n<pre><code>CR...   \n",
       "1   165  None  <p>You can use a <a href=\"http://sharpdevelop....   \n",
       "2  1028  None  <p>The VB code looks something like this:</p>\\...   \n",
       "3  1073  None  <p>My first choice would be a dedicated heap t...   \n",
       "4  1260  None  <p>I found the answer. all you have to do is a...   \n",
       "\n",
       "  accepted_answer_id answer_count  comment_count community_owned_date  \\\n",
       "0               None         None              2                  NaT   \n",
       "1               None         None              0                  NaT   \n",
       "2               None         None              0                  NaT   \n",
       "3               None         None              0                  NaT   \n",
       "4               None         None              0                  NaT   \n",
       "\n",
       "                     creation_date favorite_count  \\\n",
       "0 2008-08-01 05:12:44.193000+00:00           None   \n",
       "1 2008-08-01 18:04:25.023000+00:00           None   \n",
       "2 2008-08-04 04:58:40.300000+00:00           None   \n",
       "3 2008-08-04 07:51:02.997000+00:00           None   \n",
       "4 2008-08-04 14:06:02.863000+00:00           None   \n",
       "\n",
       "                last_activity_date                   last_edit_date  \\\n",
       "0 2016-06-02 05:56:26.060000+00:00 2016-06-02 05:56:26.060000+00:00   \n",
       "1 2019-04-06 14:03:51.080000+00:00 2019-04-06 14:03:51.080000+00:00   \n",
       "2 2013-02-07 13:22:14.680000+00:00 2013-02-07 13:22:14.680000+00:00   \n",
       "3 2015-09-01 17:32:32.120000+00:00 2015-09-01 17:32:32.120000+00:00   \n",
       "4 2016-12-20 08:38:48.867000+00:00 2016-12-20 08:38:48.867000+00:00   \n",
       "\n",
       "  last_editor_display_name  last_editor_user_id owner_display_name  \\\n",
       "0              Jeff Atwood               126039             phpguy   \n",
       "1                     None              1721793        user2189331   \n",
       "2                     None               395659        user2189331   \n",
       "3                     None                45459        user2189331   \n",
       "4                     None              1221571                Jin   \n",
       "\n",
       "   owner_user_id  parent_id  post_type_id  score  tags view_count  \n",
       "0            NaN         17             2     59  None       None  \n",
       "1            NaN        145             2     10  None       None  \n",
       "2            NaN        947             2      8  None       None  \n",
       "3            NaN       1069             2     29  None       None  \n",
       "4            NaN       1229             2      1  None       None  "
      ]
     },
     "execution_count": 5,
     "metadata": {},
     "output_type": "execute_result"
    }
   ],
   "source": [
    "# Construct a reference to the \"posts_answers\" table\n",
    "answers_table_ref = dataset_ref.table(\"posts_answers\")\n",
    "\n",
    "# API request - fetch the table\n",
    "answers_table = client.get_table(answers_table_ref)\n",
    "\n",
    "# Preview the first five lines of the \"posts_answers\" table\n",
    "client.list_rows(answers_table, max_results=5).to_dataframe()"
   ]
  },
  {
   "cell_type": "markdown",
   "id": "51351ae9",
   "metadata": {
    "papermill": {
     "duration": 0.007431,
     "end_time": "2024-01-02T15:29:46.047964",
     "exception": false,
     "start_time": "2024-01-02T15:29:46.040533",
     "status": "completed"
    },
    "tags": []
   },
   "source": [
    "It isn't clear yet how to find users who answered questions on any given topic. But `posts_answers` has a `parent_id` column. If you are familiar with the Stack Overflow site, you might figure out that the `parent_id` is the question each post is answering.\n",
    "\n",
    "Look at `posts_questions` using the cell below."
   ]
  },
  {
   "cell_type": "code",
   "execution_count": 6,
   "id": "8d93794d",
   "metadata": {
    "execution": {
     "iopub.execute_input": "2024-01-02T15:29:46.066751Z",
     "iopub.status.busy": "2024-01-02T15:29:46.065477Z",
     "iopub.status.idle": "2024-01-02T15:29:48.217372Z",
     "shell.execute_reply": "2024-01-02T15:29:48.215990Z"
    },
    "papermill": {
     "duration": 2.164539,
     "end_time": "2024-01-02T15:29:48.220297",
     "exception": false,
     "start_time": "2024-01-02T15:29:46.055758",
     "status": "completed"
    },
    "tags": []
   },
   "outputs": [
    {
     "data": {
      "text/html": [
       "<div>\n",
       "<style scoped>\n",
       "    .dataframe tbody tr th:only-of-type {\n",
       "        vertical-align: middle;\n",
       "    }\n",
       "\n",
       "    .dataframe tbody tr th {\n",
       "        vertical-align: top;\n",
       "    }\n",
       "\n",
       "    .dataframe thead th {\n",
       "        text-align: right;\n",
       "    }\n",
       "</style>\n",
       "<table border=\"1\" class=\"dataframe\">\n",
       "  <thead>\n",
       "    <tr style=\"text-align: right;\">\n",
       "      <th></th>\n",
       "      <th>id</th>\n",
       "      <th>title</th>\n",
       "      <th>body</th>\n",
       "      <th>accepted_answer_id</th>\n",
       "      <th>answer_count</th>\n",
       "      <th>comment_count</th>\n",
       "      <th>community_owned_date</th>\n",
       "      <th>creation_date</th>\n",
       "      <th>favorite_count</th>\n",
       "      <th>last_activity_date</th>\n",
       "      <th>last_edit_date</th>\n",
       "      <th>last_editor_display_name</th>\n",
       "      <th>last_editor_user_id</th>\n",
       "      <th>owner_display_name</th>\n",
       "      <th>owner_user_id</th>\n",
       "      <th>parent_id</th>\n",
       "      <th>post_type_id</th>\n",
       "      <th>score</th>\n",
       "      <th>tags</th>\n",
       "      <th>view_count</th>\n",
       "    </tr>\n",
       "  </thead>\n",
       "  <tbody>\n",
       "    <tr>\n",
       "      <th>0</th>\n",
       "      <td>320268</td>\n",
       "      <td>Html.ActionLink doesn’t render # properly</td>\n",
       "      <td>&lt;p&gt;When using Html.ActionLink passing a string...</td>\n",
       "      <td>NaN</td>\n",
       "      <td>0</td>\n",
       "      <td>0</td>\n",
       "      <td>NaT</td>\n",
       "      <td>2008-11-26 10:42:37.477000+00:00</td>\n",
       "      <td>0</td>\n",
       "      <td>2009-02-06 20:13:54.370000+00:00</td>\n",
       "      <td>NaT</td>\n",
       "      <td>None</td>\n",
       "      <td>NaN</td>\n",
       "      <td>Paulo</td>\n",
       "      <td>NaN</td>\n",
       "      <td>None</td>\n",
       "      <td>1</td>\n",
       "      <td>0</td>\n",
       "      <td>asp.net-mvc</td>\n",
       "      <td>390</td>\n",
       "    </tr>\n",
       "    <tr>\n",
       "      <th>1</th>\n",
       "      <td>324003</td>\n",
       "      <td>Primitive recursion</td>\n",
       "      <td>&lt;p&gt;how  will i define the function 'simplify' ...</td>\n",
       "      <td>NaN</td>\n",
       "      <td>0</td>\n",
       "      <td>0</td>\n",
       "      <td>NaT</td>\n",
       "      <td>2008-11-27 15:12:37.497000+00:00</td>\n",
       "      <td>0</td>\n",
       "      <td>2012-09-25 19:54:40.597000+00:00</td>\n",
       "      <td>2012-09-25 19:54:40.597000+00:00</td>\n",
       "      <td>Marcin</td>\n",
       "      <td>1288.0</td>\n",
       "      <td>None</td>\n",
       "      <td>41000.0</td>\n",
       "      <td>None</td>\n",
       "      <td>1</td>\n",
       "      <td>0</td>\n",
       "      <td>haskell|lambda|functional-programming|lambda-c...</td>\n",
       "      <td>497</td>\n",
       "    </tr>\n",
       "    <tr>\n",
       "      <th>2</th>\n",
       "      <td>390605</td>\n",
       "      <td>While vs. Do While</td>\n",
       "      <td>&lt;p&gt;I've seen both the blocks of code in use se...</td>\n",
       "      <td>390608.0</td>\n",
       "      <td>0</td>\n",
       "      <td>0</td>\n",
       "      <td>NaT</td>\n",
       "      <td>2008-12-24 01:49:54.230000+00:00</td>\n",
       "      <td>2</td>\n",
       "      <td>2008-12-24 03:08:55.897000+00:00</td>\n",
       "      <td>NaT</td>\n",
       "      <td>None</td>\n",
       "      <td>NaN</td>\n",
       "      <td>Unkwntech</td>\n",
       "      <td>115.0</td>\n",
       "      <td>None</td>\n",
       "      <td>1</td>\n",
       "      <td>0</td>\n",
       "      <td>language-agnostic|loops</td>\n",
       "      <td>11262</td>\n",
       "    </tr>\n",
       "    <tr>\n",
       "      <th>3</th>\n",
       "      <td>413246</td>\n",
       "      <td>Protect ASP.NET Source code</td>\n",
       "      <td>&lt;p&gt;Im currently doing some research in how to ...</td>\n",
       "      <td>NaN</td>\n",
       "      <td>0</td>\n",
       "      <td>0</td>\n",
       "      <td>NaT</td>\n",
       "      <td>2009-01-05 14:23:51.040000+00:00</td>\n",
       "      <td>0</td>\n",
       "      <td>2009-03-24 21:30:22.370000+00:00</td>\n",
       "      <td>2009-01-05 14:42:28.257000+00:00</td>\n",
       "      <td>Tom Anderson</td>\n",
       "      <td>13502.0</td>\n",
       "      <td>Velnias</td>\n",
       "      <td>NaN</td>\n",
       "      <td>None</td>\n",
       "      <td>1</td>\n",
       "      <td>0</td>\n",
       "      <td>asp.net|deployment|obfuscation</td>\n",
       "      <td>4823</td>\n",
       "    </tr>\n",
       "    <tr>\n",
       "      <th>4</th>\n",
       "      <td>454921</td>\n",
       "      <td>Difference between \"int[] myArray\" and \"int my...</td>\n",
       "      <td>&lt;blockquote&gt;\\n  &lt;p&gt;&lt;strong&gt;Possible Duplicate:...</td>\n",
       "      <td>454928.0</td>\n",
       "      <td>0</td>\n",
       "      <td>0</td>\n",
       "      <td>NaT</td>\n",
       "      <td>2009-01-18 10:22:52.177000+00:00</td>\n",
       "      <td>0</td>\n",
       "      <td>2009-01-18 10:30:50.930000+00:00</td>\n",
       "      <td>2017-05-23 11:49:26.567000+00:00</td>\n",
       "      <td>None</td>\n",
       "      <td>-1.0</td>\n",
       "      <td>Evan Fosmark</td>\n",
       "      <td>49701.0</td>\n",
       "      <td>None</td>\n",
       "      <td>1</td>\n",
       "      <td>0</td>\n",
       "      <td>java|arrays</td>\n",
       "      <td>798</td>\n",
       "    </tr>\n",
       "  </tbody>\n",
       "</table>\n",
       "</div>"
      ],
      "text/plain": [
       "       id                                              title  \\\n",
       "0  320268          Html.ActionLink doesn’t render # properly   \n",
       "1  324003                                Primitive recursion   \n",
       "2  390605                                 While vs. Do While   \n",
       "3  413246                        Protect ASP.NET Source code   \n",
       "4  454921  Difference between \"int[] myArray\" and \"int my...   \n",
       "\n",
       "                                                body  accepted_answer_id  \\\n",
       "0  <p>When using Html.ActionLink passing a string...                 NaN   \n",
       "1  <p>how  will i define the function 'simplify' ...                 NaN   \n",
       "2  <p>I've seen both the blocks of code in use se...            390608.0   \n",
       "3  <p>Im currently doing some research in how to ...                 NaN   \n",
       "4  <blockquote>\\n  <p><strong>Possible Duplicate:...            454928.0   \n",
       "\n",
       "   answer_count  comment_count community_owned_date  \\\n",
       "0             0              0                  NaT   \n",
       "1             0              0                  NaT   \n",
       "2             0              0                  NaT   \n",
       "3             0              0                  NaT   \n",
       "4             0              0                  NaT   \n",
       "\n",
       "                     creation_date  favorite_count  \\\n",
       "0 2008-11-26 10:42:37.477000+00:00               0   \n",
       "1 2008-11-27 15:12:37.497000+00:00               0   \n",
       "2 2008-12-24 01:49:54.230000+00:00               2   \n",
       "3 2009-01-05 14:23:51.040000+00:00               0   \n",
       "4 2009-01-18 10:22:52.177000+00:00               0   \n",
       "\n",
       "                last_activity_date                   last_edit_date  \\\n",
       "0 2009-02-06 20:13:54.370000+00:00                              NaT   \n",
       "1 2012-09-25 19:54:40.597000+00:00 2012-09-25 19:54:40.597000+00:00   \n",
       "2 2008-12-24 03:08:55.897000+00:00                              NaT   \n",
       "3 2009-03-24 21:30:22.370000+00:00 2009-01-05 14:42:28.257000+00:00   \n",
       "4 2009-01-18 10:30:50.930000+00:00 2017-05-23 11:49:26.567000+00:00   \n",
       "\n",
       "  last_editor_display_name  last_editor_user_id owner_display_name  \\\n",
       "0                     None                  NaN              Paulo   \n",
       "1                   Marcin               1288.0               None   \n",
       "2                     None                  NaN          Unkwntech   \n",
       "3             Tom Anderson              13502.0            Velnias   \n",
       "4                     None                 -1.0       Evan Fosmark   \n",
       "\n",
       "   owner_user_id parent_id  post_type_id  score  \\\n",
       "0            NaN      None             1      0   \n",
       "1        41000.0      None             1      0   \n",
       "2          115.0      None             1      0   \n",
       "3            NaN      None             1      0   \n",
       "4        49701.0      None             1      0   \n",
       "\n",
       "                                                tags  view_count  \n",
       "0                                        asp.net-mvc         390  \n",
       "1  haskell|lambda|functional-programming|lambda-c...         497  \n",
       "2                            language-agnostic|loops       11262  \n",
       "3                     asp.net|deployment|obfuscation        4823  \n",
       "4                                        java|arrays         798  "
      ]
     },
     "execution_count": 6,
     "metadata": {},
     "output_type": "execute_result"
    }
   ],
   "source": [
    "# Construct a reference to the \"posts_questions\" table\n",
    "questions_table_ref = dataset_ref.table(\"posts_questions\")\n",
    "\n",
    "# API request - fetch the table\n",
    "questions_table = client.get_table(questions_table_ref)\n",
    "\n",
    "# Preview the first five lines of the \"posts_questions\" table\n",
    "client.list_rows(questions_table, max_results=5).to_dataframe()"
   ]
  },
  {
   "cell_type": "markdown",
   "id": "28675234",
   "metadata": {
    "papermill": {
     "duration": 0.007905,
     "end_time": "2024-01-02T15:29:48.236915",
     "exception": false,
     "start_time": "2024-01-02T15:29:48.229010",
     "status": "completed"
    },
    "tags": []
   },
   "source": [
    "Are there any fields that identify what topic or technology each question is about? If so, how could you find the IDs of users who answered questions about a specific topic?\n",
    "\n",
    "Think about it, and then check the solution by running the code in the next cell."
   ]
  },
  {
   "cell_type": "code",
   "execution_count": 7,
   "id": "3f8fd639",
   "metadata": {
    "execution": {
     "iopub.execute_input": "2024-01-02T15:29:48.256703Z",
     "iopub.status.busy": "2024-01-02T15:29:48.256212Z",
     "iopub.status.idle": "2024-01-02T15:29:48.263603Z",
     "shell.execute_reply": "2024-01-02T15:29:48.262783Z"
    },
    "papermill": {
     "duration": 0.020208,
     "end_time": "2024-01-02T15:29:48.265697",
     "exception": false,
     "start_time": "2024-01-02T15:29:48.245489",
     "status": "completed"
    },
    "tags": []
   },
   "outputs": [
    {
     "data": {
      "application/javascript": [
       "parent.postMessage({\"jupyterEvent\": \"custom.exercise_interaction\", \"data\": {\"interactionType\": 3, \"questionType\": 4, \"questionId\": \"2_HowToFindExperts\", \"learnToolsVersion\": \"0.3.4\", \"valueTowardsCompletion\": 0.0, \"failureMessage\": \"\", \"exceptionClass\": \"\", \"trace\": \"\", \"outcomeType\": 4}}, \"*\")"
      ],
      "text/plain": [
       "<IPython.core.display.Javascript object>"
      ]
     },
     "metadata": {},
     "output_type": "display_data"
    },
    {
     "data": {
      "text/markdown": [
       "<span style=\"color:#33cc99\">Solution:</span> \n",
       "`posts_questions` has a column called `tags` which lists the topics/technologies each question is about.\n",
       "\n",
       "`posts_answers` has a column called `parent_id` which identifies the ID of the question each answer is responding to.\n",
       "`posts_answers` also has an `owner_user_id` column which specifies the ID of the user who answered the question.\n",
       "\n",
       "You can join these two tables to:\n",
       "- determine the `tags` for each answer, and then\n",
       "- select the `owner_user_id` of the answers on the desired tag.\n",
       "\n",
       "This is exactly what you will do over the next few questions.\n"
      ],
      "text/plain": [
       "Solution: \n",
       "`posts_questions` has a column called `tags` which lists the topics/technologies each question is about.\n",
       "\n",
       "`posts_answers` has a column called `parent_id` which identifies the ID of the question each answer is responding to.\n",
       "`posts_answers` also has an `owner_user_id` column which specifies the ID of the user who answered the question.\n",
       "\n",
       "You can join these two tables to:\n",
       "- determine the `tags` for each answer, and then\n",
       "- select the `owner_user_id` of the answers on the desired tag.\n",
       "\n",
       "This is exactly what you will do over the next few questions."
      ]
     },
     "metadata": {},
     "output_type": "display_data"
    }
   ],
   "source": [
    "# Check your answer (Run this code cell to receive credit!)\n",
    "q_2.solution()"
   ]
  },
  {
   "cell_type": "markdown",
   "id": "6ce8ad72",
   "metadata": {
    "papermill": {
     "duration": 0.008394,
     "end_time": "2024-01-02T15:29:48.282842",
     "exception": false,
     "start_time": "2024-01-02T15:29:48.274448",
     "status": "completed"
    },
    "tags": []
   },
   "source": [
    "### 3) Selecting the right questions\n",
    "\n",
    "A lot of this data is text. \n",
    "\n",
    "We'll explore one last technique in this course which you can apply to this text.\n",
    "\n",
    "A **WHERE** clause can limit your results to rows with certain text using the **LIKE** feature. For example, to select just the third row of the `pets` table from the tutorial, we could use the query in the picture below.\n",
    "\n",
    "![](https://storage.googleapis.com/kaggle-media/learn/images/RccsXBr.png) \n",
    "\n",
    "You can also use `%` as a \"wildcard\" for any number of characters. So you can also get the third row with:\n",
    "\n",
    "```\n",
    "query = \"\"\"\n",
    "        SELECT * \n",
    "        FROM `bigquery-public-data.pet_records.pets` \n",
    "        WHERE Name LIKE '%ipl%'\n",
    "        \"\"\"\n",
    "```\n",
    "\n",
    "Try this yourself. Write a query that selects the `id`, `title` and `owner_user_id` columns from the `posts_questions` table. \n",
    "- Restrict the results to rows that contain the word \"bigquery\" in the `tags` column. \n",
    "- Include rows where there is other text in addition to the word \"bigquery\" (e.g., if a row has a tag \"bigquery-sql\", your results should include that too)."
   ]
  },
  {
   "cell_type": "code",
   "execution_count": 8,
   "id": "7e4eb745",
   "metadata": {
    "execution": {
     "iopub.execute_input": "2024-01-02T15:29:48.303815Z",
     "iopub.status.busy": "2024-01-02T15:29:48.303028Z",
     "iopub.status.idle": "2024-01-02T15:29:53.334308Z",
     "shell.execute_reply": "2024-01-02T15:29:53.332741Z"
    },
    "papermill": {
     "duration": 5.045469,
     "end_time": "2024-01-02T15:29:53.337743",
     "exception": false,
     "start_time": "2024-01-02T15:29:48.292274",
     "status": "completed"
    },
    "tags": []
   },
   "outputs": [
    {
     "name": "stdout",
     "output_type": "stream",
     "text": [
      "         id                                              title  owner_user_id\n",
      "0  64345717  Loop by array and union looped result in BigQuery     13304769.0\n",
      "1  64610766  BigQuery Transfer jobs from S3 stuck pending o...     14549617.0\n",
      "2  64383871  How to get sum of values in days intervals usi...     12472644.0\n",
      "3  64251948                BigQuery get row above empty column      4572124.0\n",
      "4  64323398  SQL: Remove part of string that is in another ...      6089137.0\n"
     ]
    },
    {
     "data": {
      "application/javascript": [
       "parent.postMessage({\"jupyterEvent\": \"custom.exercise_interaction\", \"data\": {\"outcomeType\": 1, \"valueTowardsCompletion\": 0.16666666666666666, \"interactionType\": 1, \"questionType\": 2, \"questionId\": \"3_SelectRightQuestions\", \"learnToolsVersion\": \"0.3.4\", \"failureMessage\": \"\", \"exceptionClass\": \"\", \"trace\": \"\"}}, \"*\")"
      ],
      "text/plain": [
       "<IPython.core.display.Javascript object>"
      ]
     },
     "metadata": {},
     "output_type": "display_data"
    },
    {
     "data": {
      "text/markdown": [
       "<span style=\"color:#33cc33\">Correct</span>"
      ],
      "text/plain": [
       "Correct"
      ]
     },
     "metadata": {},
     "output_type": "display_data"
    }
   ],
   "source": [
    "# Your code here\n",
    "questions_query = \"\"\"\n",
    "                  SELECT id,title,owner_user_id\n",
    "                  FROM `bigquery-public-data.stackoverflow.posts_questions`\n",
    "                  WHERE tags LIKE '%bigquery%'\n",
    "                  \"\"\"\n",
    "\n",
    "# Set up the query (cancel the query if it would use too much of \n",
    "# your quota, with the limit set to 1 GB)\n",
    "safe_config = bigquery.QueryJobConfig(maximum_bytes_billed=10**10)\n",
    "questions_query_job = client.query(questions_query, job_config=safe_config)\n",
    "\n",
    "# API request - run the query, and return a pandas DataFrame\n",
    "questions_results = questions_query_job.to_dataframe()\n",
    "\n",
    "# Preview results\n",
    "print(questions_results.head())\n",
    "\n",
    "# Check your answer\n",
    "q_3.check()"
   ]
  },
  {
   "cell_type": "markdown",
   "id": "1fd0249b",
   "metadata": {
    "papermill": {
     "duration": 0.009539,
     "end_time": "2024-01-02T15:29:53.357087",
     "exception": false,
     "start_time": "2024-01-02T15:29:53.347548",
     "status": "completed"
    },
    "tags": []
   },
   "source": [
    "For a hint or the solution, uncomment the appropriate line below."
   ]
  },
  {
   "cell_type": "code",
   "execution_count": 9,
   "id": "62fd2eeb",
   "metadata": {
    "execution": {
     "iopub.execute_input": "2024-01-02T15:29:53.383359Z",
     "iopub.status.busy": "2024-01-02T15:29:53.381980Z",
     "iopub.status.idle": "2024-01-02T15:29:53.386906Z",
     "shell.execute_reply": "2024-01-02T15:29:53.386056Z"
    },
    "papermill": {
     "duration": 0.021783,
     "end_time": "2024-01-02T15:29:53.388964",
     "exception": false,
     "start_time": "2024-01-02T15:29:53.367181",
     "status": "completed"
    },
    "tags": []
   },
   "outputs": [],
   "source": [
    "#q_3.hint()\n",
    "#q_3.solution()"
   ]
  },
  {
   "cell_type": "markdown",
   "id": "8cbd3dc1",
   "metadata": {
    "papermill": {
     "duration": 0.008587,
     "end_time": "2024-01-02T15:29:53.406675",
     "exception": false,
     "start_time": "2024-01-02T15:29:53.398088",
     "status": "completed"
    },
    "tags": []
   },
   "source": [
    "### 4) Your first join\n",
    "Now that you have a query to select questions on any given topic (in this case, you chose \"bigquery\"), you can find the answers to those questions with a **JOIN**.  \n",
    "\n",
    "Write a query that returns the `id`, `body` and `owner_user_id` columns from the `posts_answers` table for answers to \"bigquery\"-related questions. \n",
    "- You should have one row in your results for each answer to a question that has \"bigquery\" in the tags.  \n",
    "- Remember you can get the tags for a question from the `tags` column in the `posts_questions` table.\n",
    "\n",
    "Here's a reminder of what a **JOIN** looked like in the tutorial:\n",
    "```\n",
    "query = \"\"\"\n",
    "        SELECT p.Name AS Pet_Name, o.Name AS Owner_Name\n",
    "        FROM `bigquery-public-data.pet_records.pets` as p\n",
    "        INNER JOIN `bigquery-public-data.pet_records.owners` as o \n",
    "            ON p.ID = o.Pet_ID\n",
    "        \"\"\"\n",
    "```\n",
    "\n",
    "It may be useful to scroll up and review the first several rows of the `posts_answers` and `posts_questions` tables.  "
   ]
  },
  {
   "cell_type": "code",
   "execution_count": 10,
   "id": "8fda6f1a",
   "metadata": {
    "execution": {
     "iopub.execute_input": "2024-01-02T15:29:53.426977Z",
     "iopub.status.busy": "2024-01-02T15:29:53.426475Z",
     "iopub.status.idle": "2024-01-02T15:30:11.935899Z",
     "shell.execute_reply": "2024-01-02T15:30:11.934730Z"
    },
    "papermill": {
     "duration": 18.523316,
     "end_time": "2024-01-02T15:30:11.938822",
     "exception": false,
     "start_time": "2024-01-02T15:29:53.415506",
     "status": "completed"
    },
    "tags": []
   },
   "outputs": [
    {
     "name": "stdout",
     "output_type": "stream",
     "text": [
      "         id                                               body  owner_user_id\n",
      "0  57032546  <p>Another solution - same logic, just a diffe...      1391685.0\n",
      "1  57032790  <p>Recommendation : </p>\\n\\n<pre><code>select\\...     10369599.0\n",
      "2  57036857  <p>Basically, this is the answer</p>\\n\\n<pre><...     11506172.0\n",
      "3  57042242  <p>first, I hope that year+week &amp; year+day...      2929192.0\n",
      "4  57049923  <p>I think the solutions mentioned by others s...      1391685.0\n"
     ]
    },
    {
     "name": "stderr",
     "output_type": "stream",
     "text": [
      "/opt/conda/lib/python3.10/site-packages/learntools/sql/ex6.py:129: FutureWarning: Calling int on a single element Series is deprecated and will raise a TypeError in the future. Use int(ser.iloc[0]) instead\n",
      "  correct_owner_user_id = int(answers_answer[answers_answer[\"id\"] == first_id][\"owner_user_id\"])\n",
      "/opt/conda/lib/python3.10/site-packages/learntools/sql/ex6.py:130: FutureWarning: Calling int on a single element Series is deprecated and will raise a TypeError in the future. Use int(ser.iloc[0]) instead\n",
      "  submitted_owner_user_id = int(results[results[\"id\"] == first_id][\"owner_user_id\"])\n"
     ]
    },
    {
     "data": {
      "application/javascript": [
       "parent.postMessage({\"jupyterEvent\": \"custom.exercise_interaction\", \"data\": {\"outcomeType\": 1, \"valueTowardsCompletion\": 0.16666666666666666, \"interactionType\": 1, \"questionType\": 2, \"questionId\": \"4_FirstJoin\", \"learnToolsVersion\": \"0.3.4\", \"failureMessage\": \"\", \"exceptionClass\": \"\", \"trace\": \"\"}}, \"*\")"
      ],
      "text/plain": [
       "<IPython.core.display.Javascript object>"
      ]
     },
     "metadata": {},
     "output_type": "display_data"
    },
    {
     "data": {
      "text/markdown": [
       "<span style=\"color:#33cc33\">Correct</span>"
      ],
      "text/plain": [
       "Correct"
      ]
     },
     "metadata": {},
     "output_type": "display_data"
    }
   ],
   "source": [
    "# Your code here\n",
    "answers_query = \"\"\"\n",
    "                SELECT a.id, a.body, a.owner_user_id\n",
    "                FROM `bigquery-public-data.stackoverflow.posts_questions` AS q \n",
    "                INNER JOIN `bigquery-public-data.stackoverflow.posts_answers` AS a\n",
    "                    ON q.id = a.parent_id\n",
    "                WHERE q.tags LIKE '%bigquery%'\n",
    "                \"\"\"\n",
    "\n",
    "# Set up the query\n",
    "safe_config = bigquery.QueryJobConfig(maximum_bytes_billed=27*10**10)\n",
    "answers_query_job = client.query(answers_query, job_config=safe_config)\n",
    "\n",
    "# API request - run the query, and return a pandas DataFrame\n",
    "answers_results = answers_query_job.to_dataframe()\n",
    "\n",
    "# Preview results\n",
    "print(answers_results.head())\n",
    "\n",
    "# Check your answer\n",
    "q_4.check()"
   ]
  },
  {
   "cell_type": "markdown",
   "id": "df0901b5",
   "metadata": {
    "papermill": {
     "duration": 0.008806,
     "end_time": "2024-01-02T15:30:11.956789",
     "exception": false,
     "start_time": "2024-01-02T15:30:11.947983",
     "status": "completed"
    },
    "tags": []
   },
   "source": [
    "For a hint or the solution, uncomment the appropriate line below."
   ]
  },
  {
   "cell_type": "code",
   "execution_count": 11,
   "id": "e634de95",
   "metadata": {
    "execution": {
     "iopub.execute_input": "2024-01-02T15:30:11.977187Z",
     "iopub.status.busy": "2024-01-02T15:30:11.976741Z",
     "iopub.status.idle": "2024-01-02T15:30:11.980950Z",
     "shell.execute_reply": "2024-01-02T15:30:11.979826Z"
    },
    "papermill": {
     "duration": 0.017515,
     "end_time": "2024-01-02T15:30:11.983372",
     "exception": false,
     "start_time": "2024-01-02T15:30:11.965857",
     "status": "completed"
    },
    "tags": []
   },
   "outputs": [],
   "source": [
    "#q_4.hint()\n",
    "#q_4.solution()"
   ]
  },
  {
   "cell_type": "markdown",
   "id": "8cb98b9f",
   "metadata": {
    "papermill": {
     "duration": 0.008997,
     "end_time": "2024-01-02T15:30:12.002039",
     "exception": false,
     "start_time": "2024-01-02T15:30:11.993042",
     "status": "completed"
    },
    "tags": []
   },
   "source": [
    "### 5) Answer the question\n",
    "You have the merge you need. But you want a list of users who have answered many questions... which requires more work beyond your previous result.\n",
    "\n",
    "Write a new query that has a single row for each user who answered at least one question with a tag that includes the string \"bigquery\". Your results should have two columns:\n",
    "- `user_id` - contains the `owner_user_id` column from the `posts_answers` table\n",
    "- `number_of_answers` - contains the number of answers the user has written to \"bigquery\"-related questions"
   ]
  },
  {
   "cell_type": "code",
   "execution_count": 12,
   "id": "c68b63b7",
   "metadata": {
    "execution": {
     "iopub.execute_input": "2024-01-02T15:30:12.022951Z",
     "iopub.status.busy": "2024-01-02T15:30:12.022516Z",
     "iopub.status.idle": "2024-01-02T15:30:13.770959Z",
     "shell.execute_reply": "2024-01-02T15:30:13.769675Z"
    },
    "papermill": {
     "duration": 1.762331,
     "end_time": "2024-01-02T15:30:13.773613",
     "exception": false,
     "start_time": "2024-01-02T15:30:12.011282",
     "status": "completed"
    },
    "tags": []
   },
   "outputs": [
    {
     "name": "stdout",
     "output_type": "stream",
     "text": [
      "      user_id  number_of_answers\n",
      "0  19189183.0                 12\n",
      "1   8252099.0                  1\n",
      "2  14400998.0                169\n",
      "3   9799789.0                  1\n",
      "4   5400749.0                  1\n"
     ]
    },
    {
     "name": "stderr",
     "output_type": "stream",
     "text": [
      "/opt/conda/lib/python3.10/site-packages/learntools/sql/ex6.py:199: FutureWarning: Calling int on a single element Series is deprecated and will raise a TypeError in the future. Use int(ser.iloc[0]) instead\n",
      "  correct_num = int(bigquery_experts_answer[bigquery_experts_answer[\"user_id\"] == first_id][\"number_of_answers\"])\n",
      "/opt/conda/lib/python3.10/site-packages/learntools/sql/ex6.py:200: FutureWarning: Calling int on a single element Series is deprecated and will raise a TypeError in the future. Use int(ser.iloc[0]) instead\n",
      "  submitted_num = int(results[results[\"user_id\"] == first_id][\"number_of_answers\"])\n"
     ]
    },
    {
     "data": {
      "application/javascript": [
       "parent.postMessage({\"jupyterEvent\": \"custom.exercise_interaction\", \"data\": {\"outcomeType\": 1, \"valueTowardsCompletion\": 0.16666666666666666, \"interactionType\": 1, \"questionType\": 2, \"questionId\": \"5_BigQueryExperts\", \"learnToolsVersion\": \"0.3.4\", \"failureMessage\": \"\", \"exceptionClass\": \"\", \"trace\": \"\"}}, \"*\")"
      ],
      "text/plain": [
       "<IPython.core.display.Javascript object>"
      ]
     },
     "metadata": {},
     "output_type": "display_data"
    },
    {
     "data": {
      "text/markdown": [
       "<span style=\"color:#33cc33\">Correct</span>"
      ],
      "text/plain": [
       "Correct"
      ]
     },
     "metadata": {},
     "output_type": "display_data"
    }
   ],
   "source": [
    "# Your code here\n",
    "bigquery_experts_query = \"\"\"\n",
    "                         SELECT a.owner_user_id AS user_id, COUNT(1) AS number_of_answers\n",
    "                         FROM `bigquery-public-data.stackoverflow.posts_questions` AS q\n",
    "                         INNER JOIN `bigquery-public-data.stackoverflow.posts_answers` AS a\n",
    "                             ON q.id = a.parent_Id\n",
    "                         WHERE q.tags LIKE '%bigquery%'\n",
    "                         GROUP BY a.owner_user_id\n",
    "                        \"\"\"\n",
    "\n",
    "# Set up the query\n",
    "safe_config = bigquery.QueryJobConfig(maximum_bytes_billed=10**10)\n",
    "bigquery_experts_query_job = client.query(bigquery_experts_query, job_config=safe_config)\n",
    "\n",
    "# API request - run the query, and return a pandas DataFrame\n",
    "bigquery_experts_results = bigquery_experts_query_job.to_dataframe()\n",
    "\n",
    "# Preview results\n",
    "print(bigquery_experts_results.head())\n",
    "\n",
    "# Check your answer\n",
    "q_5.check()"
   ]
  },
  {
   "cell_type": "markdown",
   "id": "fffb394c",
   "metadata": {
    "papermill": {
     "duration": 0.009084,
     "end_time": "2024-01-02T15:30:13.793319",
     "exception": false,
     "start_time": "2024-01-02T15:30:13.784235",
     "status": "completed"
    },
    "tags": []
   },
   "source": [
    "For a hint or the solution, uncomment the appropriate line below."
   ]
  },
  {
   "cell_type": "code",
   "execution_count": 13,
   "id": "edf49927",
   "metadata": {
    "execution": {
     "iopub.execute_input": "2024-01-02T15:30:13.814930Z",
     "iopub.status.busy": "2024-01-02T15:30:13.814160Z",
     "iopub.status.idle": "2024-01-02T15:30:13.819023Z",
     "shell.execute_reply": "2024-01-02T15:30:13.817880Z"
    },
    "papermill": {
     "duration": 0.01863,
     "end_time": "2024-01-02T15:30:13.821477",
     "exception": false,
     "start_time": "2024-01-02T15:30:13.802847",
     "status": "completed"
    },
    "tags": []
   },
   "outputs": [],
   "source": [
    "#q_5.hint()\n",
    "#q_5.solution()"
   ]
  },
  {
   "cell_type": "markdown",
   "id": "041057d7",
   "metadata": {
    "papermill": {
     "duration": 0.009912,
     "end_time": "2024-01-02T15:30:13.841451",
     "exception": false,
     "start_time": "2024-01-02T15:30:13.831539",
     "status": "completed"
    },
    "tags": []
   },
   "source": [
    "### 6) Building a more generally useful service\n",
    "\n",
    "How could you convert what you've done to a general function a website could call on the backend to get experts on any topic?  \n",
    "\n",
    "Think about it and then check the solution below."
   ]
  },
  {
   "cell_type": "code",
   "execution_count": 14,
   "id": "bb2ae2de",
   "metadata": {
    "execution": {
     "iopub.execute_input": "2024-01-02T15:30:13.863321Z",
     "iopub.status.busy": "2024-01-02T15:30:13.862521Z",
     "iopub.status.idle": "2024-01-02T15:30:13.870524Z",
     "shell.execute_reply": "2024-01-02T15:30:13.869703Z"
    },
    "papermill": {
     "duration": 0.021407,
     "end_time": "2024-01-02T15:30:13.872575",
     "exception": false,
     "start_time": "2024-01-02T15:30:13.851168",
     "status": "completed"
    },
    "tags": []
   },
   "outputs": [
    {
     "data": {
      "application/javascript": [
       "parent.postMessage({\"jupyterEvent\": \"custom.exercise_interaction\", \"data\": {\"interactionType\": 3, \"questionType\": 4, \"questionId\": \"6_GeneralizeExpertFinder\", \"learnToolsVersion\": \"0.3.4\", \"valueTowardsCompletion\": 0.0, \"failureMessage\": \"\", \"exceptionClass\": \"\", \"trace\": \"\", \"outcomeType\": 4}}, \"*\")"
      ],
      "text/plain": [
       "<IPython.core.display.Javascript object>"
      ]
     },
     "metadata": {},
     "output_type": "display_data"
    },
    {
     "data": {
      "text/markdown": [
       "<span style=\"color:#33cc99\">Solution:</span> \n",
       "```python\n",
       "\n",
       "def expert_finder(topic, client):\n",
       "    '''\n",
       "    Returns a DataFrame with the user IDs who have written Stack Overflow answers on a topic.\n",
       "\n",
       "    Inputs:\n",
       "        topic: A string with the topic of interest\n",
       "        client: A Client object that specifies the connection to the Stack Overflow dataset\n",
       "\n",
       "    Outputs:\n",
       "        results: A DataFrame with columns for user_id and number_of_answers. Follows similar logic to bigquery_experts_results shown above.\n",
       "    '''\n",
       "    my_query = \"\"\"\n",
       "               SELECT a.owner_user_id AS user_id, COUNT(1) AS number_of_answers\n",
       "               FROM `bigquery-public-data.stackoverflow.posts_questions` AS q\n",
       "               INNER JOIN `bigquery-public-data.stackoverflow.posts_answers` AS a\n",
       "                   ON q.id = a.parent_Id\n",
       "               WHERE q.tags like '%{topic}%'\n",
       "               GROUP BY a.owner_user_id\n",
       "               \"\"\"\n",
       "               \n",
       "    # Set up the query (a real service would have good error handling for \n",
       "    # queries that scan too much data)\n",
       "    safe_config = bigquery.QueryJobConfig(maximum_bytes_billed=10**10)      \n",
       "    my_query_job = client.query(my_query, job_config=safe_config)\n",
       "    \n",
       "    # API request - run the query, and return a pandas DataFrame\n",
       "    results = my_query_job.to_dataframe()\n",
       "\n",
       "    return results\n",
       "\n",
       "```"
      ],
      "text/plain": [
       "Solution: \n",
       "```python\n",
       "\n",
       "def expert_finder(topic, client):\n",
       "    '''\n",
       "    Returns a DataFrame with the user IDs who have written Stack Overflow answers on a topic.\n",
       "\n",
       "    Inputs:\n",
       "        topic: A string with the topic of interest\n",
       "        client: A Client object that specifies the connection to the Stack Overflow dataset\n",
       "\n",
       "    Outputs:\n",
       "        results: A DataFrame with columns for user_id and number_of_answers. Follows similar logic to bigquery_experts_results shown above.\n",
       "    '''\n",
       "    my_query = \"\"\"\n",
       "               SELECT a.owner_user_id AS user_id, COUNT(1) AS number_of_answers\n",
       "               FROM `bigquery-public-data.stackoverflow.posts_questions` AS q\n",
       "               INNER JOIN `bigquery-public-data.stackoverflow.posts_answers` AS a\n",
       "                   ON q.id = a.parent_Id\n",
       "               WHERE q.tags like '%{topic}%'\n",
       "               GROUP BY a.owner_user_id\n",
       "               \"\"\"\n",
       "               \n",
       "    # Set up the query (a real service would have good error handling for \n",
       "    # queries that scan too much data)\n",
       "    safe_config = bigquery.QueryJobConfig(maximum_bytes_billed=10**10)      \n",
       "    my_query_job = client.query(my_query, job_config=safe_config)\n",
       "    \n",
       "    # API request - run the query, and return a pandas DataFrame\n",
       "    results = my_query_job.to_dataframe()\n",
       "\n",
       "    return results\n",
       "\n",
       "```"
      ]
     },
     "metadata": {},
     "output_type": "display_data"
    }
   ],
   "source": [
    "# Check your answer (Run this code cell to receive credit!)\n",
    "q_6.solution()"
   ]
  },
  {
   "cell_type": "markdown",
   "id": "5ba5db7d",
   "metadata": {
    "papermill": {
     "duration": 0.009408,
     "end_time": "2024-01-02T15:30:13.892037",
     "exception": false,
     "start_time": "2024-01-02T15:30:13.882629",
     "status": "completed"
    },
    "tags": []
   },
   "source": [
    "# Congratulations!\n",
    "\n",
    "You know all the key components to use BigQuery and SQL effectively. Your SQL skills are sufficient to unlock many of the world's largest datasets.\n",
    "\n",
    "Want to go play with your new powers?  Kaggle has BigQuery datasets available [here](https://www.kaggle.com/datasets?fileType=bigQuery)."
   ]
  },
  {
   "cell_type": "markdown",
   "id": "2141a82e",
   "metadata": {
    "papermill": {
     "duration": 0.010196,
     "end_time": "2024-01-02T15:30:13.912120",
     "exception": false,
     "start_time": "2024-01-02T15:30:13.901924",
     "status": "completed"
    },
    "tags": []
   },
   "source": [
    "---\n",
    "\n",
    "\n",
    "\n",
    "\n",
    "*Have questions or comments? Visit the [course discussion forum](https://www.kaggle.com/learn/intro-to-sql/discussion) to chat with other learners.*"
   ]
  }
 ],
 "metadata": {
  "kaggle": {
   "accelerator": "none",
   "dataSources": [
    {
     "datasetId": 22685,
     "sourceId": 337535,
     "sourceType": "datasetVersion"
    }
   ],
   "isGpuEnabled": false,
   "isInternetEnabled": false,
   "language": "python",
   "sourceType": "notebook"
  },
  "kernelspec": {
   "display_name": "Python 3",
   "language": "python",
   "name": "python3"
  },
  "language_info": {
   "codemirror_mode": {
    "name": "ipython",
    "version": 3
   },
   "file_extension": ".py",
   "mimetype": "text/x-python",
   "name": "python",
   "nbconvert_exporter": "python",
   "pygments_lexer": "ipython3",
   "version": "3.10.12"
  },
  "papermill": {
   "default_parameters": {},
   "duration": 72.854793,
   "end_time": "2024-01-02T15:30:15.049110",
   "environment_variables": {},
   "exception": null,
   "input_path": "__notebook__.ipynb",
   "output_path": "__notebook__.ipynb",
   "parameters": {},
   "start_time": "2024-01-02T15:29:02.194317",
   "version": "2.4.0"
  }
 },
 "nbformat": 4,
 "nbformat_minor": 5
}
