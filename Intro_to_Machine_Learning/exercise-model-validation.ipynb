{
 "cells": [
  {
   "cell_type": "markdown",
   "id": "471ba270",
   "metadata": {
    "papermill": {
     "duration": 0.004931,
     "end_time": "2023-05-08T09:02:28.316619",
     "exception": false,
     "start_time": "2023-05-08T09:02:28.311688",
     "status": "completed"
    },
    "tags": []
   },
   "source": [
    "**This notebook is an exercise in the [Introduction to Machine Learning](https://www.kaggle.com/learn/intro-to-machine-learning) course.  You can reference the tutorial at [this link](https://www.kaggle.com/dansbecker/model-validation).**\n",
    "\n",
    "---\n"
   ]
  },
  {
   "cell_type": "markdown",
   "id": "865d64de",
   "metadata": {
    "papermill": {
     "duration": 0.004081,
     "end_time": "2023-05-08T09:02:28.325487",
     "exception": false,
     "start_time": "2023-05-08T09:02:28.321406",
     "status": "completed"
    },
    "tags": []
   },
   "source": [
    "## Recap\n",
    "You've built a model. In this exercise you will test how good your model is.\n",
    "\n",
    "Run the cell below to set up your coding environment where the previous exercise left off."
   ]
  },
  {
   "cell_type": "code",
   "execution_count": 1,
   "id": "81972350",
   "metadata": {
    "execution": {
     "iopub.execute_input": "2023-05-08T09:02:28.336105Z",
     "iopub.status.busy": "2023-05-08T09:02:28.335709Z",
     "iopub.status.idle": "2023-05-08T09:02:30.102630Z",
     "shell.execute_reply": "2023-05-08T09:02:30.101494Z"
    },
    "papermill": {
     "duration": 1.776045,
     "end_time": "2023-05-08T09:02:30.105872",
     "exception": false,
     "start_time": "2023-05-08T09:02:28.329827",
     "status": "completed"
    },
    "tags": []
   },
   "outputs": [
    {
     "name": "stderr",
     "output_type": "stream",
     "text": [
      "/opt/conda/lib/python3.10/site-packages/scipy/__init__.py:146: UserWarning: A NumPy version >=1.16.5 and <1.23.0 is required for this version of SciPy (detected version 1.23.5\n",
      "  warnings.warn(f\"A NumPy version >={np_minversion} and <{np_maxversion}\"\n"
     ]
    },
    {
     "name": "stdout",
     "output_type": "stream",
     "text": [
      "First in-sample predictions: [208500. 181500. 223500. 140000. 250000.]\n",
      "Actual target values for those homes: [208500, 181500, 223500, 140000, 250000]\n",
      "Setup Complete\n"
     ]
    }
   ],
   "source": [
    "# Code you have previously used to load data\n",
    "import pandas as pd\n",
    "from sklearn.tree import DecisionTreeRegressor\n",
    "\n",
    "# Path of the file to read\n",
    "iowa_file_path = '../input/home-data-for-ml-course/train.csv'\n",
    "\n",
    "home_data = pd.read_csv(iowa_file_path)\n",
    "y = home_data.SalePrice\n",
    "feature_columns = ['LotArea', 'YearBuilt', '1stFlrSF', '2ndFlrSF', 'FullBath', 'BedroomAbvGr', 'TotRmsAbvGrd']\n",
    "X = home_data[feature_columns]\n",
    "\n",
    "# Specify Model\n",
    "iowa_model = DecisionTreeRegressor()\n",
    "# Fit Model\n",
    "iowa_model.fit(X, y)\n",
    "\n",
    "print(\"First in-sample predictions:\", iowa_model.predict(X.head()))\n",
    "print(\"Actual target values for those homes:\", y.head().tolist())\n",
    "\n",
    "# Set up code checking\n",
    "from learntools.core import binder\n",
    "binder.bind(globals())\n",
    "from learntools.machine_learning.ex4 import *\n",
    "print(\"Setup Complete\")"
   ]
  },
  {
   "cell_type": "markdown",
   "id": "41473103",
   "metadata": {
    "papermill": {
     "duration": 0.004477,
     "end_time": "2023-05-08T09:02:30.115093",
     "exception": false,
     "start_time": "2023-05-08T09:02:30.110616",
     "status": "completed"
    },
    "tags": []
   },
   "source": [
    "# Exercises\n",
    "\n",
    "## Step 1: Split Your Data\n",
    "Use the `train_test_split` function to split up your data.\n",
    "\n",
    "Give it the argument `random_state=1` so the `check` functions know what to expect when verifying your code.\n",
    "\n",
    "Recall, your features are loaded in the DataFrame **X** and your target is loaded in **y**.\n"
   ]
  },
  {
   "cell_type": "code",
   "execution_count": 2,
   "id": "e022a693",
   "metadata": {
    "execution": {
     "iopub.execute_input": "2023-05-08T09:02:30.126053Z",
     "iopub.status.busy": "2023-05-08T09:02:30.125572Z",
     "iopub.status.idle": "2023-05-08T09:02:30.137865Z",
     "shell.execute_reply": "2023-05-08T09:02:30.136971Z"
    },
    "papermill": {
     "duration": 0.020319,
     "end_time": "2023-05-08T09:02:30.139901",
     "exception": false,
     "start_time": "2023-05-08T09:02:30.119582",
     "status": "completed"
    },
    "tags": []
   },
   "outputs": [
    {
     "data": {
      "application/javascript": [
       "parent.postMessage({\"jupyterEvent\": \"custom.exercise_interaction\", \"data\": {\"outcomeType\": 1, \"valueTowardsCompletion\": 0.25, \"interactionType\": 1, \"questionType\": 2, \"questionId\": \"1_SplitData\", \"learnToolsVersion\": \"0.3.4\", \"failureMessage\": \"\", \"exceptionClass\": \"\", \"trace\": \"\"}}, \"*\")"
      ],
      "text/plain": [
       "<IPython.core.display.Javascript object>"
      ]
     },
     "metadata": {},
     "output_type": "display_data"
    },
    {
     "data": {
      "text/markdown": [
       "<span style=\"color:#33cc33\">Correct</span>"
      ],
      "text/plain": [
       "Correct"
      ]
     },
     "metadata": {},
     "output_type": "display_data"
    }
   ],
   "source": [
    "# Import the train_test_split function and uncomment\n",
    "from sklearn.model_selection import train_test_split \n",
    "\n",
    "# fill in and uncomment\n",
    "train_X, val_X, train_y, val_y = train_test_split(X,y,random_state=1) \n",
    "\n",
    "# Check your answer\n",
    "step_1.check()"
   ]
  },
  {
   "cell_type": "code",
   "execution_count": 3,
   "id": "8b582c61",
   "metadata": {
    "execution": {
     "iopub.execute_input": "2023-05-08T09:02:30.151635Z",
     "iopub.status.busy": "2023-05-08T09:02:30.150964Z",
     "iopub.status.idle": "2023-05-08T09:02:30.154958Z",
     "shell.execute_reply": "2023-05-08T09:02:30.154009Z"
    },
    "papermill": {
     "duration": 0.012434,
     "end_time": "2023-05-08T09:02:30.157121",
     "exception": false,
     "start_time": "2023-05-08T09:02:30.144687",
     "status": "completed"
    },
    "tags": []
   },
   "outputs": [],
   "source": [
    "# The lines below will show you a hint or the solution.\n",
    "# step_1.hint() \n",
    "# step_1.solution()\n"
   ]
  },
  {
   "cell_type": "markdown",
   "id": "7188336c",
   "metadata": {
    "papermill": {
     "duration": 0.005169,
     "end_time": "2023-05-08T09:02:30.167126",
     "exception": false,
     "start_time": "2023-05-08T09:02:30.161957",
     "status": "completed"
    },
    "tags": []
   },
   "source": [
    "## Step 2: Specify and Fit the Model\n",
    "\n",
    "Create a `DecisionTreeRegressor` model and fit it to the relevant data.\n",
    "Set `random_state` to 1 again when creating the model."
   ]
  },
  {
   "cell_type": "code",
   "execution_count": 4,
   "id": "67cb15ea",
   "metadata": {
    "execution": {
     "iopub.execute_input": "2023-05-08T09:02:30.179342Z",
     "iopub.status.busy": "2023-05-08T09:02:30.178641Z",
     "iopub.status.idle": "2023-05-08T09:02:30.208289Z",
     "shell.execute_reply": "2023-05-08T09:02:30.207062Z"
    },
    "papermill": {
     "duration": 0.038845,
     "end_time": "2023-05-08T09:02:30.211059",
     "exception": false,
     "start_time": "2023-05-08T09:02:30.172214",
     "status": "completed"
    },
    "tags": []
   },
   "outputs": [
    {
     "name": "stdout",
     "output_type": "stream",
     "text": [
      "[186500. 184000. 130000.  92000. 164500. 220000. 335000. 144152. 215000.\n",
      " 262000.]\n",
      "[186500. 184000. 130000.  92000. 164500. 220000. 335000. 144152. 215000.\n",
      " 262000.]\n"
     ]
    },
    {
     "data": {
      "application/javascript": [
       "parent.postMessage({\"jupyterEvent\": \"custom.exercise_interaction\", \"data\": {\"outcomeType\": 1, \"valueTowardsCompletion\": 0.25, \"interactionType\": 1, \"questionType\": 2, \"questionId\": \"2_FitModelWithTrain\", \"learnToolsVersion\": \"0.3.4\", \"failureMessage\": \"\", \"exceptionClass\": \"\", \"trace\": \"\"}}, \"*\")"
      ],
      "text/plain": [
       "<IPython.core.display.Javascript object>"
      ]
     },
     "metadata": {},
     "output_type": "display_data"
    },
    {
     "data": {
      "text/markdown": [
       "<span style=\"color:#33cc33\">Correct</span>"
      ],
      "text/plain": [
       "Correct"
      ]
     },
     "metadata": {},
     "output_type": "display_data"
    }
   ],
   "source": [
    "# You imported DecisionTreeRegressor in your last exercise\n",
    "# and that code has been copied to the setup code above. So, no need to\n",
    "# import it again\n",
    "\n",
    "# Specify the model\n",
    "iowa_model = DecisionTreeRegressor(random_state=1)\n",
    "\n",
    "# Fit iowa_model with the training data.\n",
    "iowa_model.fit(train_X, train_y)\n",
    "\n",
    "# Check your answer\n",
    "step_2.check()"
   ]
  },
  {
   "cell_type": "code",
   "execution_count": 5,
   "id": "26d3c981",
   "metadata": {
    "execution": {
     "iopub.execute_input": "2023-05-08T09:02:30.224118Z",
     "iopub.status.busy": "2023-05-08T09:02:30.223275Z",
     "iopub.status.idle": "2023-05-08T09:02:30.228268Z",
     "shell.execute_reply": "2023-05-08T09:02:30.227010Z"
    },
    "papermill": {
     "duration": 0.013878,
     "end_time": "2023-05-08T09:02:30.230564",
     "exception": false,
     "start_time": "2023-05-08T09:02:30.216686",
     "status": "completed"
    },
    "tags": []
   },
   "outputs": [],
   "source": [
    "# step_2.hint()\n",
    "# step_2.solution()"
   ]
  },
  {
   "cell_type": "markdown",
   "id": "95fffde6",
   "metadata": {
    "papermill": {
     "duration": 0.004947,
     "end_time": "2023-05-08T09:02:30.241138",
     "exception": false,
     "start_time": "2023-05-08T09:02:30.236191",
     "status": "completed"
    },
    "tags": []
   },
   "source": [
    "## Step 3: Make Predictions with Validation data\n"
   ]
  },
  {
   "cell_type": "code",
   "execution_count": 6,
   "id": "1903a8cc",
   "metadata": {
    "execution": {
     "iopub.execute_input": "2023-05-08T09:02:30.253630Z",
     "iopub.status.busy": "2023-05-08T09:02:30.253206Z",
     "iopub.status.idle": "2023-05-08T09:02:30.268071Z",
     "shell.execute_reply": "2023-05-08T09:02:30.266876Z"
    },
    "papermill": {
     "duration": 0.024198,
     "end_time": "2023-05-08T09:02:30.270561",
     "exception": false,
     "start_time": "2023-05-08T09:02:30.246363",
     "status": "completed"
    },
    "tags": []
   },
   "outputs": [
    {
     "data": {
      "application/javascript": [
       "parent.postMessage({\"jupyterEvent\": \"custom.exercise_interaction\", \"data\": {\"outcomeType\": 1, \"valueTowardsCompletion\": 0.25, \"interactionType\": 1, \"questionType\": 2, \"questionId\": \"3_ValPreds\", \"learnToolsVersion\": \"0.3.4\", \"failureMessage\": \"\", \"exceptionClass\": \"\", \"trace\": \"\"}}, \"*\")"
      ],
      "text/plain": [
       "<IPython.core.display.Javascript object>"
      ]
     },
     "metadata": {},
     "output_type": "display_data"
    },
    {
     "data": {
      "text/markdown": [
       "<span style=\"color:#33cc33\">Correct</span>"
      ],
      "text/plain": [
       "Correct"
      ]
     },
     "metadata": {},
     "output_type": "display_data"
    }
   ],
   "source": [
    "# Predict with all validation observations\n",
    "val_predictions = iowa_model.predict(val_X)\n",
    "\n",
    "# Check your answer\n",
    "step_3.check()"
   ]
  },
  {
   "cell_type": "code",
   "execution_count": 7,
   "id": "6d86d574",
   "metadata": {
    "execution": {
     "iopub.execute_input": "2023-05-08T09:02:30.284172Z",
     "iopub.status.busy": "2023-05-08T09:02:30.283755Z",
     "iopub.status.idle": "2023-05-08T09:02:30.289306Z",
     "shell.execute_reply": "2023-05-08T09:02:30.287721Z"
    },
    "papermill": {
     "duration": 0.015624,
     "end_time": "2023-05-08T09:02:30.291752",
     "exception": false,
     "start_time": "2023-05-08T09:02:30.276128",
     "status": "completed"
    },
    "tags": []
   },
   "outputs": [],
   "source": [
    "# step_3.hint()\n",
    "# step_3.solution()"
   ]
  },
  {
   "cell_type": "markdown",
   "id": "e7e8ad98",
   "metadata": {
    "papermill": {
     "duration": 0.005653,
     "end_time": "2023-05-08T09:02:30.303400",
     "exception": false,
     "start_time": "2023-05-08T09:02:30.297747",
     "status": "completed"
    },
    "tags": []
   },
   "source": [
    "Inspect your predictions and actual values from validation data."
   ]
  },
  {
   "cell_type": "code",
   "execution_count": 8,
   "id": "9b4c24bf",
   "metadata": {
    "execution": {
     "iopub.execute_input": "2023-05-08T09:02:30.317282Z",
     "iopub.status.busy": "2023-05-08T09:02:30.316418Z",
     "iopub.status.idle": "2023-05-08T09:02:30.323376Z",
     "shell.execute_reply": "2023-05-08T09:02:30.321942Z"
    },
    "papermill": {
     "duration": 0.016785,
     "end_time": "2023-05-08T09:02:30.326011",
     "exception": false,
     "start_time": "2023-05-08T09:02:30.309226",
     "status": "completed"
    },
    "tags": []
   },
   "outputs": [
    {
     "name": "stdout",
     "output_type": "stream",
     "text": [
      "[186500.0, 184000.0, 130000.0, 92000.0, 164500.0]\n",
      "[231500, 179500, 122000, 84500, 142000]\n"
     ]
    }
   ],
   "source": [
    "# print the top few validation predictions\n",
    "print(val_predictions.tolist()[:5])\n",
    "# print the top few actual prices from validation data\n",
    "print(val_y.head().tolist())"
   ]
  },
  {
   "cell_type": "markdown",
   "id": "1de93f58",
   "metadata": {
    "papermill": {
     "duration": 0.005212,
     "end_time": "2023-05-08T09:02:30.336874",
     "exception": false,
     "start_time": "2023-05-08T09:02:30.331662",
     "status": "completed"
    },
    "tags": []
   },
   "source": [
    "What do you notice that is different from what you saw with in-sample predictions (which are printed after the top code cell in this page).\n",
    "\n",
    "Do you remember why validation predictions differ from in-sample (or training) predictions? This is an important idea from the last lesson.\n",
    "\n",
    "## Step 4: Calculate the Mean Absolute Error in Validation Data\n"
   ]
  },
  {
   "cell_type": "code",
   "execution_count": 9,
   "id": "6ee98b80",
   "metadata": {
    "execution": {
     "iopub.execute_input": "2023-05-08T09:02:30.350098Z",
     "iopub.status.busy": "2023-05-08T09:02:30.349665Z",
     "iopub.status.idle": "2023-05-08T09:02:30.361377Z",
     "shell.execute_reply": "2023-05-08T09:02:30.360266Z"
    },
    "papermill": {
     "duration": 0.021058,
     "end_time": "2023-05-08T09:02:30.363784",
     "exception": false,
     "start_time": "2023-05-08T09:02:30.342726",
     "status": "completed"
    },
    "tags": []
   },
   "outputs": [
    {
     "name": "stdout",
     "output_type": "stream",
     "text": [
      "29652.931506849316\n"
     ]
    },
    {
     "data": {
      "application/javascript": [
       "parent.postMessage({\"jupyterEvent\": \"custom.exercise_interaction\", \"data\": {\"outcomeType\": 1, \"valueTowardsCompletion\": 0.25, \"interactionType\": 1, \"questionType\": 1, \"questionId\": \"4_MAE\", \"learnToolsVersion\": \"0.3.4\", \"failureMessage\": \"\", \"exceptionClass\": \"\", \"trace\": \"\"}}, \"*\")"
      ],
      "text/plain": [
       "<IPython.core.display.Javascript object>"
      ]
     },
     "metadata": {},
     "output_type": "display_data"
    },
    {
     "data": {
      "text/markdown": [
       "<span style=\"color:#33cc33\">Correct</span>"
      ],
      "text/plain": [
       "Correct"
      ]
     },
     "metadata": {},
     "output_type": "display_data"
    }
   ],
   "source": [
    "from sklearn.metrics import mean_absolute_error\n",
    "val_mae = mean_absolute_error(val_y, val_predictions)\n",
    "\n",
    "# uncomment following line to see the validation_mae\n",
    "print(val_mae)\n",
    "\n",
    "# Check your answer\n",
    "step_4.check()"
   ]
  },
  {
   "cell_type": "code",
   "execution_count": 10,
   "id": "d64adc07",
   "metadata": {
    "execution": {
     "iopub.execute_input": "2023-05-08T09:02:30.377120Z",
     "iopub.status.busy": "2023-05-08T09:02:30.376739Z",
     "iopub.status.idle": "2023-05-08T09:02:30.381498Z",
     "shell.execute_reply": "2023-05-08T09:02:30.380300Z"
    },
    "papermill": {
     "duration": 0.014232,
     "end_time": "2023-05-08T09:02:30.383808",
     "exception": false,
     "start_time": "2023-05-08T09:02:30.369576",
     "status": "completed"
    },
    "tags": []
   },
   "outputs": [],
   "source": [
    "# step_4.hint()\n",
    "# step_4.solution()"
   ]
  },
  {
   "cell_type": "markdown",
   "id": "d5ad4f13",
   "metadata": {
    "papermill": {
     "duration": 0.00551,
     "end_time": "2023-05-08T09:02:30.395156",
     "exception": false,
     "start_time": "2023-05-08T09:02:30.389646",
     "status": "completed"
    },
    "tags": []
   },
   "source": [
    "Is that MAE good?  There isn't a general rule for what values are good that applies across applications. But you'll see how to use (and improve) this number in the next step.\n",
    "\n",
    "# Keep Going\n",
    "\n",
    "You are ready for **[Underfitting and Overfitting](https://www.kaggle.com/dansbecker/underfitting-and-overfitting).**\n"
   ]
  },
  {
   "cell_type": "markdown",
   "id": "6f428ace",
   "metadata": {
    "papermill": {
     "duration": 0.005399,
     "end_time": "2023-05-08T09:02:30.406191",
     "exception": false,
     "start_time": "2023-05-08T09:02:30.400792",
     "status": "completed"
    },
    "tags": []
   },
   "source": [
    "---\n",
    "\n",
    "\n",
    "\n",
    "\n",
    "*Have questions or comments? Visit the [course discussion forum](https://www.kaggle.com/learn/intro-to-machine-learning/discussion) to chat with other learners.*"
   ]
  }
 ],
 "metadata": {
  "kernelspec": {
   "display_name": "Python 3",
   "language": "python",
   "name": "python3"
  },
  "language_info": {
   "codemirror_mode": {
    "name": "ipython",
    "version": 3
   },
   "file_extension": ".py",
   "mimetype": "text/x-python",
   "name": "python",
   "nbconvert_exporter": "python",
   "pygments_lexer": "ipython3",
   "version": "3.10.10"
  },
  "papermill": {
   "default_parameters": {},
   "duration": 14.39681,
   "end_time": "2023-05-08T09:02:31.434485",
   "environment_variables": {},
   "exception": null,
   "input_path": "__notebook__.ipynb",
   "output_path": "__notebook__.ipynb",
   "parameters": {},
   "start_time": "2023-05-08T09:02:17.037675",
   "version": "2.4.0"
  }
 },
 "nbformat": 4,
 "nbformat_minor": 5
}
