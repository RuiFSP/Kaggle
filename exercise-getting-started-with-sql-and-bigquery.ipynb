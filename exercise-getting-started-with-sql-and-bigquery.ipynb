{
 "cells": [
  {
   "cell_type": "markdown",
   "id": "78703669",
   "metadata": {
    "papermill": {
     "duration": 0.005652,
     "end_time": "2024-01-01T17:07:40.005752",
     "exception": false,
     "start_time": "2024-01-01T17:07:40.000100",
     "status": "completed"
    },
    "tags": []
   },
   "source": [
    "**This notebook is an exercise in the [SQL](https://www.kaggle.com/learn/intro-to-sql) course.  You can reference the tutorial at [this link](https://www.kaggle.com/dansbecker/getting-started-with-sql-and-bigquery).**\n",
    "\n",
    "---\n"
   ]
  },
  {
   "cell_type": "markdown",
   "id": "a50af306",
   "metadata": {
    "papermill": {
     "duration": 0.004854,
     "end_time": "2024-01-01T17:07:40.015853",
     "exception": false,
     "start_time": "2024-01-01T17:07:40.010999",
     "status": "completed"
    },
    "tags": []
   },
   "source": [
    "# Introduction\n",
    "\n",
    "The first test of your new data exploration skills uses data describing crime in the city of Chicago.\n",
    "\n",
    "Before you get started, run the following cell. It sets up the automated feedback system to review your answers."
   ]
  },
  {
   "cell_type": "code",
   "execution_count": 1,
   "id": "6d7d49f4",
   "metadata": {
    "execution": {
     "iopub.execute_input": "2024-01-01T17:07:40.028330Z",
     "iopub.status.busy": "2024-01-01T17:07:40.027719Z",
     "iopub.status.idle": "2024-01-01T17:07:43.859043Z",
     "shell.execute_reply": "2024-01-01T17:07:43.857764Z"
    },
    "papermill": {
     "duration": 3.840327,
     "end_time": "2024-01-01T17:07:43.861324",
     "exception": false,
     "start_time": "2024-01-01T17:07:40.020997",
     "status": "completed"
    },
    "tags": []
   },
   "outputs": [
    {
     "name": "stdout",
     "output_type": "stream",
     "text": [
      "Using Kaggle's public dataset BigQuery integration.\n",
      "Setup Complete\n"
     ]
    }
   ],
   "source": [
    "# Set up feedack system\n",
    "from learntools.core import binder\n",
    "binder.bind(globals())\n",
    "from learntools.sql.ex1 import *\n",
    "print(\"Setup Complete\")"
   ]
  },
  {
   "cell_type": "markdown",
   "id": "0d16eb60",
   "metadata": {
    "papermill": {
     "duration": 0.005289,
     "end_time": "2024-01-01T17:07:43.872595",
     "exception": false,
     "start_time": "2024-01-01T17:07:43.867306",
     "status": "completed"
    },
    "tags": []
   },
   "source": [
    "Use the next code cell to fetch the dataset."
   ]
  },
  {
   "cell_type": "code",
   "execution_count": 2,
   "id": "d92eeb83",
   "metadata": {
    "execution": {
     "iopub.execute_input": "2024-01-01T17:07:43.885702Z",
     "iopub.status.busy": "2024-01-01T17:07:43.885129Z",
     "iopub.status.idle": "2024-01-01T17:07:44.137044Z",
     "shell.execute_reply": "2024-01-01T17:07:44.136051Z"
    },
    "papermill": {
     "duration": 0.261547,
     "end_time": "2024-01-01T17:07:44.139709",
     "exception": false,
     "start_time": "2024-01-01T17:07:43.878162",
     "status": "completed"
    },
    "tags": []
   },
   "outputs": [
    {
     "name": "stdout",
     "output_type": "stream",
     "text": [
      "Using Kaggle's public dataset BigQuery integration.\n"
     ]
    }
   ],
   "source": [
    "from google.cloud import bigquery\n",
    "\n",
    "# Create a \"Client\" object\n",
    "client = bigquery.Client()\n",
    "\n",
    "# Construct a reference to the \"chicago_crime\" dataset\n",
    "dataset_ref = client.dataset(\"chicago_crime\", project=\"bigquery-public-data\")\n",
    "\n",
    "# API request - fetch the dataset\n",
    "dataset = client.get_dataset(dataset_ref)"
   ]
  },
  {
   "cell_type": "markdown",
   "id": "88ce3dc4",
   "metadata": {
    "papermill": {
     "duration": 0.005312,
     "end_time": "2024-01-01T17:07:44.152599",
     "exception": false,
     "start_time": "2024-01-01T17:07:44.147287",
     "status": "completed"
    },
    "tags": []
   },
   "source": [
    "# Exercises\n",
    "\n",
    "### 1) Count tables in the dataset\n",
    "\n",
    "How many tables are in the Chicago Crime dataset?"
   ]
  },
  {
   "cell_type": "code",
   "execution_count": 3,
   "id": "4ec325fc",
   "metadata": {
    "execution": {
     "iopub.execute_input": "2024-01-01T17:07:44.166232Z",
     "iopub.status.busy": "2024-01-01T17:07:44.165429Z",
     "iopub.status.idle": "2024-01-01T17:07:44.381038Z",
     "shell.execute_reply": "2024-01-01T17:07:44.379934Z"
    },
    "papermill": {
     "duration": 0.226403,
     "end_time": "2024-01-01T17:07:44.384595",
     "exception": false,
     "start_time": "2024-01-01T17:07:44.158192",
     "status": "completed"
    },
    "tags": []
   },
   "outputs": [
    {
     "name": "stdout",
     "output_type": "stream",
     "text": [
      "crime\n"
     ]
    }
   ],
   "source": [
    "# Write the code you need here to figure out the answer\n",
    "tables = list(client.list_tables(dataset))\n",
    "\n",
    "for table in tables:\n",
    "    print(table.table_id)"
   ]
  },
  {
   "cell_type": "code",
   "execution_count": 4,
   "id": "79e90b6b",
   "metadata": {
    "execution": {
     "iopub.execute_input": "2024-01-01T17:07:44.400678Z",
     "iopub.status.busy": "2024-01-01T17:07:44.400182Z",
     "iopub.status.idle": "2024-01-01T17:07:44.410509Z",
     "shell.execute_reply": "2024-01-01T17:07:44.409608Z"
    },
    "papermill": {
     "duration": 0.019639,
     "end_time": "2024-01-01T17:07:44.412564",
     "exception": false,
     "start_time": "2024-01-01T17:07:44.392925",
     "status": "completed"
    },
    "tags": []
   },
   "outputs": [
    {
     "data": {
      "application/javascript": [
       "parent.postMessage({\"jupyterEvent\": \"custom.exercise_interaction\", \"data\": {\"outcomeType\": 1, \"valueTowardsCompletion\": 0.3333333333333333, \"interactionType\": 1, \"questionType\": 1, \"questionId\": \"1_CountTables\", \"learnToolsVersion\": \"0.3.4\", \"failureMessage\": \"\", \"exceptionClass\": \"\", \"trace\": \"\"}}, \"*\")"
      ],
      "text/plain": [
       "<IPython.core.display.Javascript object>"
      ]
     },
     "metadata": {},
     "output_type": "display_data"
    },
    {
     "data": {
      "text/markdown": [
       "<span style=\"color:#33cc33\">Correct</span>"
      ],
      "text/plain": [
       "Correct"
      ]
     },
     "metadata": {},
     "output_type": "display_data"
    }
   ],
   "source": [
    "num_tables = 1  # Store the answer as num_tables and then run this cell\n",
    "\n",
    "# Check your answer\n",
    "q_1.check()"
   ]
  },
  {
   "cell_type": "markdown",
   "id": "c7d05a9e",
   "metadata": {
    "papermill": {
     "duration": 0.005462,
     "end_time": "2024-01-01T17:07:44.423821",
     "exception": false,
     "start_time": "2024-01-01T17:07:44.418359",
     "status": "completed"
    },
    "tags": []
   },
   "source": [
    "For a hint or the solution, uncomment the appropriate line below."
   ]
  },
  {
   "cell_type": "code",
   "execution_count": 5,
   "id": "845fdab7",
   "metadata": {
    "execution": {
     "iopub.execute_input": "2024-01-01T17:07:44.437792Z",
     "iopub.status.busy": "2024-01-01T17:07:44.436894Z",
     "iopub.status.idle": "2024-01-01T17:07:44.441327Z",
     "shell.execute_reply": "2024-01-01T17:07:44.440411Z"
    },
    "papermill": {
     "duration": 0.014199,
     "end_time": "2024-01-01T17:07:44.443735",
     "exception": false,
     "start_time": "2024-01-01T17:07:44.429536",
     "status": "completed"
    },
    "tags": []
   },
   "outputs": [],
   "source": [
    "#q_1.hint()\n",
    "#q_1.solution()"
   ]
  },
  {
   "cell_type": "markdown",
   "id": "0d161aee",
   "metadata": {
    "papermill": {
     "duration": 0.005541,
     "end_time": "2024-01-01T17:07:44.455055",
     "exception": false,
     "start_time": "2024-01-01T17:07:44.449514",
     "status": "completed"
    },
    "tags": []
   },
   "source": [
    "### 2) Explore the table schema\n",
    "\n",
    "How many columns in the `crime` table have `TIMESTAMP` data?"
   ]
  },
  {
   "cell_type": "code",
   "execution_count": 6,
   "id": "f9c73684",
   "metadata": {
    "execution": {
     "iopub.execute_input": "2024-01-01T17:07:44.469422Z",
     "iopub.status.busy": "2024-01-01T17:07:44.468548Z",
     "iopub.status.idle": "2024-01-01T17:07:44.820774Z",
     "shell.execute_reply": "2024-01-01T17:07:44.819713Z"
    },
    "papermill": {
     "duration": 0.362127,
     "end_time": "2024-01-01T17:07:44.823154",
     "exception": false,
     "start_time": "2024-01-01T17:07:44.461027",
     "status": "completed"
    },
    "tags": []
   },
   "outputs": [
    {
     "data": {
      "text/plain": [
       "[SchemaField('unique_key', 'INTEGER', 'REQUIRED', None, (), None),\n",
       " SchemaField('case_number', 'STRING', 'NULLABLE', None, (), None),\n",
       " SchemaField('date', 'TIMESTAMP', 'NULLABLE', None, (), None),\n",
       " SchemaField('block', 'STRING', 'NULLABLE', None, (), None),\n",
       " SchemaField('iucr', 'STRING', 'NULLABLE', None, (), None),\n",
       " SchemaField('primary_type', 'STRING', 'NULLABLE', None, (), None),\n",
       " SchemaField('description', 'STRING', 'NULLABLE', None, (), None),\n",
       " SchemaField('location_description', 'STRING', 'NULLABLE', None, (), None),\n",
       " SchemaField('arrest', 'BOOLEAN', 'NULLABLE', None, (), None),\n",
       " SchemaField('domestic', 'BOOLEAN', 'NULLABLE', None, (), None),\n",
       " SchemaField('beat', 'INTEGER', 'NULLABLE', None, (), None),\n",
       " SchemaField('district', 'INTEGER', 'NULLABLE', None, (), None),\n",
       " SchemaField('ward', 'INTEGER', 'NULLABLE', None, (), None),\n",
       " SchemaField('community_area', 'INTEGER', 'NULLABLE', None, (), None),\n",
       " SchemaField('fbi_code', 'STRING', 'NULLABLE', None, (), None),\n",
       " SchemaField('x_coordinate', 'FLOAT', 'NULLABLE', None, (), None),\n",
       " SchemaField('y_coordinate', 'FLOAT', 'NULLABLE', None, (), None),\n",
       " SchemaField('year', 'INTEGER', 'NULLABLE', None, (), None),\n",
       " SchemaField('updated_on', 'TIMESTAMP', 'NULLABLE', None, (), None),\n",
       " SchemaField('latitude', 'FLOAT', 'NULLABLE', None, (), None),\n",
       " SchemaField('longitude', 'FLOAT', 'NULLABLE', None, (), None),\n",
       " SchemaField('location', 'STRING', 'NULLABLE', None, (), None)]"
      ]
     },
     "execution_count": 6,
     "metadata": {},
     "output_type": "execute_result"
    }
   ],
   "source": [
    "# Write the code to figure out the answer\n",
    "table_ref = dataset_ref.table(\"crime\")\n",
    "\n",
    "table = client.get_table(table_ref)\n",
    "\n",
    "table.schema"
   ]
  },
  {
   "cell_type": "code",
   "execution_count": 7,
   "id": "12250611",
   "metadata": {
    "execution": {
     "iopub.execute_input": "2024-01-01T17:07:44.836897Z",
     "iopub.status.busy": "2024-01-01T17:07:44.836254Z",
     "iopub.status.idle": "2024-01-01T17:07:44.845060Z",
     "shell.execute_reply": "2024-01-01T17:07:44.844007Z"
    },
    "papermill": {
     "duration": 0.018118,
     "end_time": "2024-01-01T17:07:44.847151",
     "exception": false,
     "start_time": "2024-01-01T17:07:44.829033",
     "status": "completed"
    },
    "tags": []
   },
   "outputs": [
    {
     "data": {
      "application/javascript": [
       "parent.postMessage({\"jupyterEvent\": \"custom.exercise_interaction\", \"data\": {\"outcomeType\": 1, \"valueTowardsCompletion\": 0.3333333333333333, \"interactionType\": 1, \"questionType\": 1, \"questionId\": \"2_CountTimestampFields\", \"learnToolsVersion\": \"0.3.4\", \"failureMessage\": \"\", \"exceptionClass\": \"\", \"trace\": \"\"}}, \"*\")"
      ],
      "text/plain": [
       "<IPython.core.display.Javascript object>"
      ]
     },
     "metadata": {},
     "output_type": "display_data"
    },
    {
     "data": {
      "text/markdown": [
       "<span style=\"color:#33cc33\">Correct</span>"
      ],
      "text/plain": [
       "Correct"
      ]
     },
     "metadata": {},
     "output_type": "display_data"
    }
   ],
   "source": [
    "num_timestamp_fields = 2 # Put your answer here\n",
    "\n",
    "# Check your answer\n",
    "q_2.check()"
   ]
  },
  {
   "cell_type": "markdown",
   "id": "1bd01141",
   "metadata": {
    "papermill": {
     "duration": 0.005744,
     "end_time": "2024-01-01T17:07:44.859129",
     "exception": false,
     "start_time": "2024-01-01T17:07:44.853385",
     "status": "completed"
    },
    "tags": []
   },
   "source": [
    "For a hint or the solution, uncomment the appropriate line below."
   ]
  },
  {
   "cell_type": "code",
   "execution_count": 8,
   "id": "5addb97b",
   "metadata": {
    "execution": {
     "iopub.execute_input": "2024-01-01T17:07:44.872846Z",
     "iopub.status.busy": "2024-01-01T17:07:44.872444Z",
     "iopub.status.idle": "2024-01-01T17:07:44.876888Z",
     "shell.execute_reply": "2024-01-01T17:07:44.875747Z"
    },
    "papermill": {
     "duration": 0.013975,
     "end_time": "2024-01-01T17:07:44.879043",
     "exception": false,
     "start_time": "2024-01-01T17:07:44.865068",
     "status": "completed"
    },
    "tags": []
   },
   "outputs": [],
   "source": [
    "#q_2.hint()\n",
    "#q_2.solution()"
   ]
  },
  {
   "cell_type": "markdown",
   "id": "97960061",
   "metadata": {
    "papermill": {
     "duration": 0.006459,
     "end_time": "2024-01-01T17:07:44.891943",
     "exception": false,
     "start_time": "2024-01-01T17:07:44.885484",
     "status": "completed"
    },
    "tags": []
   },
   "source": [
    "### 3) Create a crime map\n",
    "\n",
    "If you wanted to create a map with a dot at the location of each crime, what are the names of the two fields you likely need to pull out of the `crime` table to plot the crimes on a map?"
   ]
  },
  {
   "cell_type": "code",
   "execution_count": 9,
   "id": "75cb3c23",
   "metadata": {
    "execution": {
     "iopub.execute_input": "2024-01-01T17:07:44.907482Z",
     "iopub.status.busy": "2024-01-01T17:07:44.906189Z",
     "iopub.status.idle": "2024-01-01T17:07:45.154342Z",
     "shell.execute_reply": "2024-01-01T17:07:45.153237Z"
    },
    "papermill": {
     "duration": 0.258393,
     "end_time": "2024-01-01T17:07:45.156898",
     "exception": false,
     "start_time": "2024-01-01T17:07:44.898505",
     "status": "completed"
    },
    "tags": []
   },
   "outputs": [
    {
     "data": {
      "text/plain": [
       "[SchemaField('unique_key', 'INTEGER', 'REQUIRED', None, (), None),\n",
       " SchemaField('case_number', 'STRING', 'NULLABLE', None, (), None),\n",
       " SchemaField('date', 'TIMESTAMP', 'NULLABLE', None, (), None),\n",
       " SchemaField('block', 'STRING', 'NULLABLE', None, (), None),\n",
       " SchemaField('iucr', 'STRING', 'NULLABLE', None, (), None),\n",
       " SchemaField('primary_type', 'STRING', 'NULLABLE', None, (), None),\n",
       " SchemaField('description', 'STRING', 'NULLABLE', None, (), None),\n",
       " SchemaField('location_description', 'STRING', 'NULLABLE', None, (), None),\n",
       " SchemaField('arrest', 'BOOLEAN', 'NULLABLE', None, (), None),\n",
       " SchemaField('domestic', 'BOOLEAN', 'NULLABLE', None, (), None),\n",
       " SchemaField('beat', 'INTEGER', 'NULLABLE', None, (), None),\n",
       " SchemaField('district', 'INTEGER', 'NULLABLE', None, (), None),\n",
       " SchemaField('ward', 'INTEGER', 'NULLABLE', None, (), None),\n",
       " SchemaField('community_area', 'INTEGER', 'NULLABLE', None, (), None),\n",
       " SchemaField('fbi_code', 'STRING', 'NULLABLE', None, (), None),\n",
       " SchemaField('x_coordinate', 'FLOAT', 'NULLABLE', None, (), None),\n",
       " SchemaField('y_coordinate', 'FLOAT', 'NULLABLE', None, (), None),\n",
       " SchemaField('year', 'INTEGER', 'NULLABLE', None, (), None),\n",
       " SchemaField('updated_on', 'TIMESTAMP', 'NULLABLE', None, (), None),\n",
       " SchemaField('latitude', 'FLOAT', 'NULLABLE', None, (), None),\n",
       " SchemaField('longitude', 'FLOAT', 'NULLABLE', None, (), None),\n",
       " SchemaField('location', 'STRING', 'NULLABLE', None, (), None)]"
      ]
     },
     "execution_count": 9,
     "metadata": {},
     "output_type": "execute_result"
    }
   ],
   "source": [
    "# Write the code here to explore the data so you can find the answer\n",
    "table_ref = dataset_ref.table(\"crime\")\n",
    "\n",
    "table = client.get_table(table_ref)\n",
    "\n",
    "table.schema"
   ]
  },
  {
   "cell_type": "code",
   "execution_count": 10,
   "id": "7eaa46ac",
   "metadata": {
    "execution": {
     "iopub.execute_input": "2024-01-01T17:07:45.171930Z",
     "iopub.status.busy": "2024-01-01T17:07:45.171122Z",
     "iopub.status.idle": "2024-01-01T17:07:45.180147Z",
     "shell.execute_reply": "2024-01-01T17:07:45.179086Z"
    },
    "papermill": {
     "duration": 0.01888,
     "end_time": "2024-01-01T17:07:45.182134",
     "exception": false,
     "start_time": "2024-01-01T17:07:45.163254",
     "status": "completed"
    },
    "tags": []
   },
   "outputs": [
    {
     "data": {
      "application/javascript": [
       "parent.postMessage({\"jupyterEvent\": \"custom.exercise_interaction\", \"data\": {\"outcomeType\": 1, \"valueTowardsCompletion\": 0.3333333333333333, \"interactionType\": 1, \"questionType\": 2, \"questionId\": \"3_IdentifyFieldsForPlotting\", \"learnToolsVersion\": \"0.3.4\", \"failureMessage\": \"\", \"exceptionClass\": \"\", \"trace\": \"\"}}, \"*\")"
      ],
      "text/plain": [
       "<IPython.core.display.Javascript object>"
      ]
     },
     "metadata": {},
     "output_type": "display_data"
    },
    {
     "data": {
      "text/markdown": [
       "<span style=\"color:#33cc33\">Correct</span>"
      ],
      "text/plain": [
       "Correct"
      ]
     },
     "metadata": {},
     "output_type": "display_data"
    }
   ],
   "source": [
    "fields_for_plotting = ['latitude','longitude'] # Put your answers here\n",
    "\n",
    "# Check your answer\n",
    "q_3.check()"
   ]
  },
  {
   "cell_type": "markdown",
   "id": "210576e5",
   "metadata": {
    "papermill": {
     "duration": 0.006926,
     "end_time": "2024-01-01T17:07:45.195467",
     "exception": false,
     "start_time": "2024-01-01T17:07:45.188541",
     "status": "completed"
    },
    "tags": []
   },
   "source": [
    "For a hint or the solution, uncomment the appropriate line below."
   ]
  },
  {
   "cell_type": "code",
   "execution_count": 11,
   "id": "8476deac",
   "metadata": {
    "execution": {
     "iopub.execute_input": "2024-01-01T17:07:45.210775Z",
     "iopub.status.busy": "2024-01-01T17:07:45.210015Z",
     "iopub.status.idle": "2024-01-01T17:07:45.214517Z",
     "shell.execute_reply": "2024-01-01T17:07:45.213679Z"
    },
    "papermill": {
     "duration": 0.014743,
     "end_time": "2024-01-01T17:07:45.216663",
     "exception": false,
     "start_time": "2024-01-01T17:07:45.201920",
     "status": "completed"
    },
    "tags": []
   },
   "outputs": [],
   "source": [
    "#q_3.hint()\n",
    "#q_3.solution()"
   ]
  },
  {
   "cell_type": "markdown",
   "id": "bc7ea3ee",
   "metadata": {
    "papermill": {
     "duration": 0.006128,
     "end_time": "2024-01-01T17:07:45.229245",
     "exception": false,
     "start_time": "2024-01-01T17:07:45.223117",
     "status": "completed"
    },
    "tags": []
   },
   "source": [
    "Thinking about the question above, there are a few columns that appear to have geographic data. Look at a few values (with the `list_rows()` command) to see if you can determine their relationship.  Two columns will still be hard to interpret. But it should be obvious how the `location` column relates to `latitude` and `longitude`."
   ]
  },
  {
   "cell_type": "code",
   "execution_count": 12,
   "id": "9f5839b2",
   "metadata": {
    "execution": {
     "iopub.execute_input": "2024-01-01T17:07:45.244251Z",
     "iopub.status.busy": "2024-01-01T17:07:45.243890Z",
     "iopub.status.idle": "2024-01-01T17:07:45.650050Z",
     "shell.execute_reply": "2024-01-01T17:07:45.649185Z"
    },
    "papermill": {
     "duration": 0.4175,
     "end_time": "2024-01-01T17:07:45.653219",
     "exception": false,
     "start_time": "2024-01-01T17:07:45.235719",
     "status": "completed"
    },
    "tags": []
   },
   "outputs": [
    {
     "data": {
      "text/html": [
       "<div>\n",
       "<style scoped>\n",
       "    .dataframe tbody tr th:only-of-type {\n",
       "        vertical-align: middle;\n",
       "    }\n",
       "\n",
       "    .dataframe tbody tr th {\n",
       "        vertical-align: top;\n",
       "    }\n",
       "\n",
       "    .dataframe thead th {\n",
       "        text-align: right;\n",
       "    }\n",
       "</style>\n",
       "<table border=\"1\" class=\"dataframe\">\n",
       "  <thead>\n",
       "    <tr style=\"text-align: right;\">\n",
       "      <th></th>\n",
       "      <th>latitude</th>\n",
       "      <th>longitude</th>\n",
       "      <th>location</th>\n",
       "    </tr>\n",
       "  </thead>\n",
       "  <tbody>\n",
       "    <tr>\n",
       "      <th>0</th>\n",
       "      <td>41.885729</td>\n",
       "      <td>-87.625781</td>\n",
       "      <td>(41.885729338, -87.625780935)</td>\n",
       "    </tr>\n",
       "    <tr>\n",
       "      <th>1</th>\n",
       "      <td>41.885112</td>\n",
       "      <td>-87.624484</td>\n",
       "      <td>(41.885112119, -87.624484053)</td>\n",
       "    </tr>\n",
       "    <tr>\n",
       "      <th>2</th>\n",
       "      <td>41.885192</td>\n",
       "      <td>-87.624487</td>\n",
       "      <td>(41.885191719, -87.624486846)</td>\n",
       "    </tr>\n",
       "    <tr>\n",
       "      <th>3</th>\n",
       "      <td>41.884484</td>\n",
       "      <td>-87.629030</td>\n",
       "      <td>(41.884484216, -87.629030004)</td>\n",
       "    </tr>\n",
       "    <tr>\n",
       "      <th>4</th>\n",
       "      <td>41.885730</td>\n",
       "      <td>-87.625821</td>\n",
       "      <td>(41.885729587, -87.625821329)</td>\n",
       "    </tr>\n",
       "  </tbody>\n",
       "</table>\n",
       "</div>"
      ],
      "text/plain": [
       "    latitude  longitude                       location\n",
       "0  41.885729 -87.625781  (41.885729338, -87.625780935)\n",
       "1  41.885112 -87.624484  (41.885112119, -87.624484053)\n",
       "2  41.885192 -87.624487  (41.885191719, -87.624486846)\n",
       "3  41.884484 -87.629030  (41.884484216, -87.629030004)\n",
       "4  41.885730 -87.625821  (41.885729587, -87.625821329)"
      ]
     },
     "execution_count": 12,
     "metadata": {},
     "output_type": "execute_result"
    }
   ],
   "source": [
    "# Scratch space for your code\n",
    "client.list_rows(table, selected_fields=table.schema[-3:] ,max_results=5).to_dataframe()"
   ]
  },
  {
   "cell_type": "markdown",
   "id": "13ae49af",
   "metadata": {
    "papermill": {
     "duration": 0.006401,
     "end_time": "2024-01-01T17:07:45.667397",
     "exception": false,
     "start_time": "2024-01-01T17:07:45.660996",
     "status": "completed"
    },
    "tags": []
   },
   "source": [
    "# Keep going\n",
    "\n",
    "You've looked at the schema, but you haven't yet done anything exciting with the data itself. Things get more interesting when you get to the data, so keep going to **[write your first SQL query](https://www.kaggle.com/dansbecker/select-from-where).**"
   ]
  },
  {
   "cell_type": "markdown",
   "id": "df8336fc",
   "metadata": {
    "papermill": {
     "duration": 0.006582,
     "end_time": "2024-01-01T17:07:45.680650",
     "exception": false,
     "start_time": "2024-01-01T17:07:45.674068",
     "status": "completed"
    },
    "tags": []
   },
   "source": [
    "---\n",
    "\n",
    "\n",
    "\n",
    "\n",
    "*Have questions or comments? Visit the [course discussion forum](https://www.kaggle.com/learn/intro-to-sql/discussion) to chat with other learners.*"
   ]
  }
 ],
 "metadata": {
  "kaggle": {
   "accelerator": "none",
   "dataSources": [
    {
     "datasetId": 22090,
     "sourceId": 28376,
     "sourceType": "datasetVersion"
    },
    {
     "datasetId": 6057,
     "sourceId": 285982,
     "sourceType": "datasetVersion"
    }
   ],
   "isGpuEnabled": false,
   "isInternetEnabled": false,
   "language": "python",
   "sourceType": "notebook"
  },
  "kernelspec": {
   "display_name": "Python 3",
   "language": "python",
   "name": "python3"
  },
  "language_info": {
   "codemirror_mode": {
    "name": "ipython",
    "version": 3
   },
   "file_extension": ".py",
   "mimetype": "text/x-python",
   "name": "python",
   "nbconvert_exporter": "python",
   "pygments_lexer": "ipython3",
   "version": "3.10.12"
  },
  "papermill": {
   "default_parameters": {},
   "duration": 9.542209,
   "end_time": "2024-01-01T17:07:46.509852",
   "environment_variables": {},
   "exception": null,
   "input_path": "__notebook__.ipynb",
   "output_path": "__notebook__.ipynb",
   "parameters": {},
   "start_time": "2024-01-01T17:07:36.967643",
   "version": "2.4.0"
  }
 },
 "nbformat": 4,
 "nbformat_minor": 5
}
