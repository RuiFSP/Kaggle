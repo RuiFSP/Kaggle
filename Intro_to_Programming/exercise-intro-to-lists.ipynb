{
 "cells": [
  {
   "cell_type": "markdown",
   "id": "dc80df9c",
   "metadata": {
    "papermill": {
     "duration": 0.006423,
     "end_time": "2023-03-31T15:20:04.541189",
     "exception": false,
     "start_time": "2023-03-31T15:20:04.534766",
     "status": "completed"
    },
    "tags": []
   },
   "source": [
    "**This notebook is an exercise in the [Intro to Programming](https://www.kaggle.com/learn/intro-to-programming) course.  You can reference the tutorial at [this link](https://www.kaggle.com/alexisbcook/intro-to-lists).**\n",
    "\n",
    "---\n"
   ]
  },
  {
   "cell_type": "markdown",
   "id": "f5b2eaaa",
   "metadata": {
    "papermill": {
     "duration": 0.005312,
     "end_time": "2023-03-31T15:20:04.552211",
     "exception": false,
     "start_time": "2023-03-31T15:20:04.546899",
     "status": "completed"
    },
    "tags": []
   },
   "source": [
    "In the tutorial, you learned how to define and modify Python lists.  In this exercise, you will use your new knowledge to solve several problems.\n",
    "\n",
    "# Set up the notebook\n",
    "\n",
    "Run the next code cell without changes to set up the notebook."
   ]
  },
  {
   "cell_type": "code",
   "execution_count": 1,
   "id": "4af6e479",
   "metadata": {
    "execution": {
     "iopub.execute_input": "2023-03-31T15:20:04.565718Z",
     "iopub.status.busy": "2023-03-31T15:20:04.565279Z",
     "iopub.status.idle": "2023-03-31T15:20:04.615552Z",
     "shell.execute_reply": "2023-03-31T15:20:04.614762Z"
    },
    "papermill": {
     "duration": 0.059903,
     "end_time": "2023-03-31T15:20:04.617898",
     "exception": false,
     "start_time": "2023-03-31T15:20:04.557995",
     "status": "completed"
    },
    "tags": []
   },
   "outputs": [
    {
     "name": "stdout",
     "output_type": "stream",
     "text": [
      "Setup complete.\n"
     ]
    }
   ],
   "source": [
    "from learntools.core import binder\n",
    "binder.bind(globals())\n",
    "from learntools.intro_to_programming.ex5 import *\n",
    "print('Setup complete.')"
   ]
  },
  {
   "cell_type": "markdown",
   "id": "58a88863",
   "metadata": {
    "papermill": {
     "duration": 0.005411,
     "end_time": "2023-03-31T15:20:04.629420",
     "exception": false,
     "start_time": "2023-03-31T15:20:04.624009",
     "status": "completed"
    },
    "tags": []
   },
   "source": [
    "# Question 1\n",
    "\n",
    "You own a restaurant with five food dishes, organized in the Python list `menu` below.  One day, you decide to:\n",
    "- remove bean soup (`'bean soup'`) from the menu, and\n",
    "- add roasted beet salad (`'roasted beet salad'`) to the menu.\n",
    "\n",
    "Implement this change to the list below.  While completing this task, \n",
    "- do not change the line that creates the `menu` list.  \n",
    "- your answer should use `.remove()` and `.append()`.  "
   ]
  },
  {
   "cell_type": "code",
   "execution_count": 2,
   "id": "96fad118",
   "metadata": {
    "execution": {
     "iopub.execute_input": "2023-03-31T15:20:04.642733Z",
     "iopub.status.busy": "2023-03-31T15:20:04.642345Z",
     "iopub.status.idle": "2023-03-31T15:20:04.651978Z",
     "shell.execute_reply": "2023-03-31T15:20:04.650422Z"
    },
    "papermill": {
     "duration": 0.019045,
     "end_time": "2023-03-31T15:20:04.654333",
     "exception": false,
     "start_time": "2023-03-31T15:20:04.635288",
     "status": "completed"
    },
    "tags": []
   },
   "outputs": [
    {
     "data": {
      "application/javascript": [
       "parent.postMessage({\"jupyterEvent\": \"custom.exercise_interaction\", \"data\": {\"outcomeType\": 1, \"valueTowardsCompletion\": 0.2, \"interactionType\": 1, \"questionType\": 2, \"questionId\": \"1_FoodMenu\", \"learnToolsVersion\": \"0.3.4\", \"failureMessage\": \"\", \"exceptionClass\": \"\", \"trace\": \"\"}}, \"*\")"
      ],
      "text/plain": [
       "<IPython.core.display.Javascript object>"
      ]
     },
     "metadata": {},
     "output_type": "display_data"
    },
    {
     "data": {
      "text/markdown": [
       "<span style=\"color:#33cc33\">Correct</span>"
      ],
      "text/plain": [
       "Correct"
      ]
     },
     "metadata": {},
     "output_type": "display_data"
    }
   ],
   "source": [
    "# Do not change: Initial menu for your restaurant\n",
    "menu = ['stewed meat with onions', 'bean soup', 'risotto with trout and shrimp',\n",
    "       'fish soup with cream and onion', 'gyro']\n",
    "\n",
    "# TODO: remove 'bean soup', and add 'roasted beet salad' to the end of the menu\n",
    "menu.remove('bean soup')\n",
    "menu.append('roasted beet salad')\n",
    "\n",
    "# Do not change: Check your answer\n",
    "q1.check()"
   ]
  },
  {
   "cell_type": "code",
   "execution_count": 3,
   "id": "4fe8bd22",
   "metadata": {
    "execution": {
     "iopub.execute_input": "2023-03-31T15:20:04.668106Z",
     "iopub.status.busy": "2023-03-31T15:20:04.667717Z",
     "iopub.status.idle": "2023-03-31T15:20:04.675951Z",
     "shell.execute_reply": "2023-03-31T15:20:04.674775Z"
    },
    "papermill": {
     "duration": 0.017964,
     "end_time": "2023-03-31T15:20:04.678365",
     "exception": false,
     "start_time": "2023-03-31T15:20:04.660401",
     "status": "completed"
    },
    "tags": []
   },
   "outputs": [
    {
     "data": {
      "application/javascript": [
       "parent.postMessage({\"jupyterEvent\": \"custom.exercise_interaction\", \"data\": {\"interactionType\": 3, \"questionType\": 2, \"questionId\": \"1_FoodMenu\", \"learnToolsVersion\": \"0.3.4\", \"valueTowardsCompletion\": 0.0, \"failureMessage\": \"\", \"exceptionClass\": \"\", \"trace\": \"\", \"outcomeType\": 4}}, \"*\")"
      ],
      "text/plain": [
       "<IPython.core.display.Javascript object>"
      ]
     },
     "metadata": {},
     "output_type": "display_data"
    },
    {
     "data": {
      "text/markdown": [
       "<span style=\"color:#33cc99\">Solution:</span> \n",
       "```python\n",
       "# Do not change: Initial menu for your restaurant\n",
       "menu = ['stewed meat with onions', 'bean soup', 'risotto with trout and shrimp',\n",
       "       'fish soup with cream and onion', 'gyro']\n",
       "\n",
       "# Remove 'bean soup', and add 'roasted beet salad' to the end of the menu\n",
       "menu.remove('bean soup')\n",
       "menu.append('roasted beet salad')\n",
       "\n",
       "```"
      ],
      "text/plain": [
       "Solution: \n",
       "```python\n",
       "# Do not change: Initial menu for your restaurant\n",
       "menu = ['stewed meat with onions', 'bean soup', 'risotto with trout and shrimp',\n",
       "       'fish soup with cream and onion', 'gyro']\n",
       "\n",
       "# Remove 'bean soup', and add 'roasted beet salad' to the end of the menu\n",
       "menu.remove('bean soup')\n",
       "menu.append('roasted beet salad')\n",
       "\n",
       "```"
      ]
     },
     "metadata": {},
     "output_type": "display_data"
    }
   ],
   "source": [
    "# Uncomment to see a hint\n",
    "#q1.hint()\n",
    "\n",
    "# Uncomment to see the solution\n",
    "q1.solution()"
   ]
  },
  {
   "cell_type": "markdown",
   "id": "89559f53",
   "metadata": {
    "papermill": {
     "duration": 0.005695,
     "end_time": "2023-03-31T15:20:04.690444",
     "exception": false,
     "start_time": "2023-03-31T15:20:04.684749",
     "status": "completed"
    },
    "tags": []
   },
   "source": [
    "# Question 2\n",
    "\n",
    "The list `num_customers` contains the number of customers who came into your restaurant every day over the last month (which lasted thirty days).  Fill in values for each of the following:\n",
    "- `avg_first_seven` - average number of customers who visited in the first seven days\n",
    "- `avg_last_seven` - average number of customers who visited in the last seven days\n",
    "- `max_month` - number of customers on the day that got the most customers in the last month\n",
    "- `min_month` - number of customers on the day that got the least customers in the last month\n",
    "\n",
    "Answer this question by writing code.  For instance, if you have to find the minimum value in a list, use `min()` instead of scanning for the smallest value and directly filling in a number."
   ]
  },
  {
   "cell_type": "code",
   "execution_count": 4,
   "id": "e63bd5a0",
   "metadata": {
    "execution": {
     "iopub.execute_input": "2023-03-31T15:20:04.704561Z",
     "iopub.status.busy": "2023-03-31T15:20:04.703920Z",
     "iopub.status.idle": "2023-03-31T15:20:04.714107Z",
     "shell.execute_reply": "2023-03-31T15:20:04.713019Z"
    },
    "papermill": {
     "duration": 0.019958,
     "end_time": "2023-03-31T15:20:04.716307",
     "exception": false,
     "start_time": "2023-03-31T15:20:04.696349",
     "status": "completed"
    },
    "tags": []
   },
   "outputs": [
    {
     "data": {
      "application/javascript": [
       "parent.postMessage({\"jupyterEvent\": \"custom.exercise_interaction\", \"data\": {\"outcomeType\": 1, \"valueTowardsCompletion\": 0.2, \"interactionType\": 1, \"questionType\": 1, \"questionId\": \"2_NumCustomers\", \"learnToolsVersion\": \"0.3.4\", \"failureMessage\": \"\", \"exceptionClass\": \"\", \"trace\": \"\"}}, \"*\")"
      ],
      "text/plain": [
       "<IPython.core.display.Javascript object>"
      ]
     },
     "metadata": {},
     "output_type": "display_data"
    },
    {
     "data": {
      "text/markdown": [
       "<span style=\"color:#33cc33\">Correct</span>"
      ],
      "text/plain": [
       "Correct"
      ]
     },
     "metadata": {},
     "output_type": "display_data"
    }
   ],
   "source": [
    "# Do not change: Number of customers each day for the last month\n",
    "num_customers = [137, 147, 135, 128, 170, 174, 165, 146, 126, 159,\n",
    "                 141, 148, 132, 147, 168, 153, 170, 161, 148, 152,\n",
    "                 141, 151, 131, 149, 164, 163, 143, 143, 166, 171]\n",
    "\n",
    "# TODO: Fill in values for the variables below\n",
    "avg_first_seven = sum(num_customers[:7]) / 7  \n",
    "avg_last_seven = sum(num_customers[-7:]) / 7  \n",
    "max_month = max(num_customers)\n",
    "min_month = min(num_customers)\n",
    "\n",
    "# Do not change: Check your answer\n",
    "q2.check()"
   ]
  },
  {
   "cell_type": "code",
   "execution_count": 5,
   "id": "f4135c95",
   "metadata": {
    "execution": {
     "iopub.execute_input": "2023-03-31T15:20:04.731081Z",
     "iopub.status.busy": "2023-03-31T15:20:04.730695Z",
     "iopub.status.idle": "2023-03-31T15:20:04.739630Z",
     "shell.execute_reply": "2023-03-31T15:20:04.738341Z"
    },
    "papermill": {
     "duration": 0.01875,
     "end_time": "2023-03-31T15:20:04.741929",
     "exception": false,
     "start_time": "2023-03-31T15:20:04.723179",
     "status": "completed"
    },
    "tags": []
   },
   "outputs": [
    {
     "data": {
      "application/javascript": [
       "parent.postMessage({\"jupyterEvent\": \"custom.exercise_interaction\", \"data\": {\"interactionType\": 3, \"questionType\": 1, \"questionId\": \"2_NumCustomers\", \"learnToolsVersion\": \"0.3.4\", \"valueTowardsCompletion\": 0.0, \"failureMessage\": \"\", \"exceptionClass\": \"\", \"trace\": \"\", \"outcomeType\": 4}}, \"*\")"
      ],
      "text/plain": [
       "<IPython.core.display.Javascript object>"
      ]
     },
     "metadata": {},
     "output_type": "display_data"
    },
    {
     "data": {
      "text/markdown": [
       "<span style=\"color:#33cc99\">Solution:</span> \n",
       "```python\n",
       "# Fill in values for the variables below\n",
       "avg_first_seven = sum(num_customers[:7])/7 \n",
       "avg_last_seven = sum(num_customers[-7:])/7\n",
       "max_month = max(num_customers)\n",
       "min_month = min(num_customers)\n",
       "\n",
       "```"
      ],
      "text/plain": [
       "Solution: \n",
       "```python\n",
       "# Fill in values for the variables below\n",
       "avg_first_seven = sum(num_customers[:7])/7 \n",
       "avg_last_seven = sum(num_customers[-7:])/7\n",
       "max_month = max(num_customers)\n",
       "min_month = min(num_customers)\n",
       "\n",
       "```"
      ]
     },
     "metadata": {},
     "output_type": "display_data"
    }
   ],
   "source": [
    "# Uncomment to see a hint\n",
    "#q2.hint()\n",
    "\n",
    "# Uncomment to see the solution\n",
    "q2.solution()"
   ]
  },
  {
   "cell_type": "markdown",
   "id": "3dd8c08f",
   "metadata": {
    "papermill": {
     "duration": 0.006193,
     "end_time": "2023-03-31T15:20:04.754893",
     "exception": false,
     "start_time": "2023-03-31T15:20:04.748700",
     "status": "completed"
    },
    "tags": []
   },
   "source": [
    "# Question 3\n",
    "\n",
    "In the tutorial, we gave an example of a Python string with information that was better as a list."
   ]
  },
  {
   "cell_type": "code",
   "execution_count": 6,
   "id": "e0b8157b",
   "metadata": {
    "execution": {
     "iopub.execute_input": "2023-03-31T15:20:04.770780Z",
     "iopub.status.busy": "2023-03-31T15:20:04.770138Z",
     "iopub.status.idle": "2023-03-31T15:20:04.775704Z",
     "shell.execute_reply": "2023-03-31T15:20:04.774343Z"
    },
    "papermill": {
     "duration": 0.01682,
     "end_time": "2023-03-31T15:20:04.779007",
     "exception": false,
     "start_time": "2023-03-31T15:20:04.762187",
     "status": "completed"
    },
    "tags": []
   },
   "outputs": [],
   "source": [
    "flowers = \"pink primrose,hard-leaved pocket orchid,canterbury bells,sweet pea,english marigold,tiger lily,moon orchid,bird of paradise,monkshood,globe thistle\""
   ]
  },
  {
   "cell_type": "markdown",
   "id": "ff4d28bd",
   "metadata": {
    "papermill": {
     "duration": 0.006614,
     "end_time": "2023-03-31T15:20:04.792664",
     "exception": false,
     "start_time": "2023-03-31T15:20:04.786050",
     "status": "completed"
    },
    "tags": []
   },
   "source": [
    "You can actually use Python to quickly turn this string into a list with `.split()`.  In the parentheses, we need to provide the character should be used to mark the end of one list item and the beginning of another, and enclose it in quotation marks.  In this case, that character is a comma."
   ]
  },
  {
   "cell_type": "code",
   "execution_count": 7,
   "id": "ee3549ef",
   "metadata": {
    "execution": {
     "iopub.execute_input": "2023-03-31T15:20:04.808185Z",
     "iopub.status.busy": "2023-03-31T15:20:04.807795Z",
     "iopub.status.idle": "2023-03-31T15:20:04.813299Z",
     "shell.execute_reply": "2023-03-31T15:20:04.811950Z"
    },
    "papermill": {
     "duration": 0.016193,
     "end_time": "2023-03-31T15:20:04.815646",
     "exception": false,
     "start_time": "2023-03-31T15:20:04.799453",
     "status": "completed"
    },
    "tags": []
   },
   "outputs": [
    {
     "name": "stdout",
     "output_type": "stream",
     "text": [
      "['pink primrose', 'hard-leaved pocket orchid', 'canterbury bells', 'sweet pea', 'english marigold', 'tiger lily', 'moon orchid', 'bird of paradise', 'monkshood', 'globe thistle']\n"
     ]
    }
   ],
   "source": [
    " print(flowers.split(\",\"))"
   ]
  },
  {
   "cell_type": "markdown",
   "id": "6944787b",
   "metadata": {
    "papermill": {
     "duration": 0.006451,
     "end_time": "2023-03-31T15:20:04.829681",
     "exception": false,
     "start_time": "2023-03-31T15:20:04.823230",
     "status": "completed"
    },
    "tags": []
   },
   "source": [
    "Now it is your turn to try this out!  Create two Python lists:\n",
    "- `letters` should be a Python list where each entry is an uppercase letter of the English alphabet.  For instance, the first two entries should be `\"A\"` and `\"B\"`, and the final two entries should be `\"Y\"` and `\"Z\"`.  Use the string `alphabet` to create this list.\n",
    "- `address` should be a Python list where each row in `address` is a different item in the list.  Currently, each row in `address` is separated by a comma. "
   ]
  },
  {
   "cell_type": "code",
   "execution_count": 8,
   "id": "1d6e747b",
   "metadata": {
    "execution": {
     "iopub.execute_input": "2023-03-31T15:20:04.845092Z",
     "iopub.status.busy": "2023-03-31T15:20:04.844710Z",
     "iopub.status.idle": "2023-03-31T15:20:04.854216Z",
     "shell.execute_reply": "2023-03-31T15:20:04.853122Z"
    },
    "papermill": {
     "duration": 0.019835,
     "end_time": "2023-03-31T15:20:04.856425",
     "exception": false,
     "start_time": "2023-03-31T15:20:04.836590",
     "status": "completed"
    },
    "tags": []
   },
   "outputs": [
    {
     "data": {
      "application/javascript": [
       "parent.postMessage({\"jupyterEvent\": \"custom.exercise_interaction\", \"data\": {\"outcomeType\": 1, \"valueTowardsCompletion\": 0.2, \"interactionType\": 1, \"questionType\": 1, \"questionId\": \"3_SplitString\", \"learnToolsVersion\": \"0.3.4\", \"failureMessage\": \"\", \"exceptionClass\": \"\", \"trace\": \"\"}}, \"*\")"
      ],
      "text/plain": [
       "<IPython.core.display.Javascript object>"
      ]
     },
     "metadata": {},
     "output_type": "display_data"
    },
    {
     "data": {
      "text/markdown": [
       "<span style=\"color:#33cc33\">Correct</span>"
      ],
      "text/plain": [
       "Correct"
      ]
     },
     "metadata": {},
     "output_type": "display_data"
    }
   ],
   "source": [
    "# DO not change: Define two Python strings\n",
    "alphabet = \"A.B.C.D.E.F.G.H.I.J.K.L.M.N.O.P.Q.R.S.T.U.V.W.X.Y.Z\"\n",
    "address = \"Mr. H. Potter,The cupboard under the Stairs,4 Privet Drive,Little Whinging,Surrey\"\n",
    "\n",
    "# TODO: Convert strings into Python lists\n",
    "letters = alphabet.split('.')\n",
    "formatted_address = address.split(',')\n",
    "\n",
    "# Do not change: Check your answer\n",
    "q3.check()"
   ]
  },
  {
   "cell_type": "code",
   "execution_count": 9,
   "id": "2c9eb1b8",
   "metadata": {
    "execution": {
     "iopub.execute_input": "2023-03-31T15:20:04.872074Z",
     "iopub.status.busy": "2023-03-31T15:20:04.871626Z",
     "iopub.status.idle": "2023-03-31T15:20:04.876060Z",
     "shell.execute_reply": "2023-03-31T15:20:04.875019Z"
    },
    "papermill": {
     "duration": 0.01551,
     "end_time": "2023-03-31T15:20:04.878953",
     "exception": false,
     "start_time": "2023-03-31T15:20:04.863443",
     "status": "completed"
    },
    "tags": []
   },
   "outputs": [],
   "source": [
    "# Uncomment to see a hint\n",
    "#q3.hint()\n",
    "\n",
    "# Uncomment to see the solution\n",
    "#q3.solution()"
   ]
  },
  {
   "cell_type": "markdown",
   "id": "217f18d5",
   "metadata": {
    "papermill": {
     "duration": 0.006336,
     "end_time": "2023-03-31T15:20:04.892445",
     "exception": false,
     "start_time": "2023-03-31T15:20:04.886109",
     "status": "completed"
    },
    "tags": []
   },
   "source": [
    "# Question 4\n",
    "\n",
    "In the Python course, you'll learn all about **list comprehensions**, which allow you to create a list based on the values in another list.  In this question, you'll get a brief preview of how they work.\n",
    "\n",
    "Say we're working with the list below."
   ]
  },
  {
   "cell_type": "code",
   "execution_count": 10,
   "id": "0a7df93a",
   "metadata": {
    "execution": {
     "iopub.execute_input": "2023-03-31T15:20:04.907532Z",
     "iopub.status.busy": "2023-03-31T15:20:04.907109Z",
     "iopub.status.idle": "2023-03-31T15:20:04.912561Z",
     "shell.execute_reply": "2023-03-31T15:20:04.911257Z"
    },
    "papermill": {
     "duration": 0.015704,
     "end_time": "2023-03-31T15:20:04.914695",
     "exception": false,
     "start_time": "2023-03-31T15:20:04.898991",
     "status": "completed"
    },
    "tags": []
   },
   "outputs": [],
   "source": [
    "test_ratings = [1, 2, 3, 4, 5]"
   ]
  },
  {
   "cell_type": "markdown",
   "id": "4fbb1a02",
   "metadata": {
    "papermill": {
     "duration": 0.006417,
     "end_time": "2023-03-31T15:20:04.927910",
     "exception": false,
     "start_time": "2023-03-31T15:20:04.921493",
     "status": "completed"
    },
    "tags": []
   },
   "source": [
    "Then we can use this list (`test_ratings`) to create a new list (`test_liked`) where each item has been turned into a boolean, depending on whether or not the item is greater than or equal to four."
   ]
  },
  {
   "cell_type": "code",
   "execution_count": 11,
   "id": "026baf5e",
   "metadata": {
    "execution": {
     "iopub.execute_input": "2023-03-31T15:20:04.942666Z",
     "iopub.status.busy": "2023-03-31T15:20:04.942337Z",
     "iopub.status.idle": "2023-03-31T15:20:04.948132Z",
     "shell.execute_reply": "2023-03-31T15:20:04.946917Z"
    },
    "papermill": {
     "duration": 0.015969,
     "end_time": "2023-03-31T15:20:04.950496",
     "exception": false,
     "start_time": "2023-03-31T15:20:04.934527",
     "status": "completed"
    },
    "tags": []
   },
   "outputs": [
    {
     "name": "stdout",
     "output_type": "stream",
     "text": [
      "[False, False, False, True, True]\n"
     ]
    }
   ],
   "source": [
    "test_liked = [i>=4 for i in test_ratings]\n",
    "print(test_liked)"
   ]
  },
  {
   "cell_type": "markdown",
   "id": "de002c33",
   "metadata": {
    "papermill": {
     "duration": 0.006264,
     "end_time": "2023-03-31T15:20:04.964015",
     "exception": false,
     "start_time": "2023-03-31T15:20:04.957751",
     "status": "completed"
    },
    "tags": []
   },
   "source": [
    "In this question, you'll use this list comprehension to define a function `percentage_liked()` that takes one argument as input:\n",
    "- `ratings`: list of ratings that people gave to a movie, where each rating is a number between 1-5, inclusive\n",
    "\n",
    "We say someone liked the movie, if they gave a rating of either 4 or 5.  Your function should return the percentage of people who liked the movie.\n",
    "\n",
    "For instance, if we supply a value of `[1, 2, 3, 4, 5, 4, 5, 1]`, then 50% (4/8) of the people liked the movie, and the function should return `0.5`.\n",
    "\n",
    "Part of the function has already been completed for you.  You need only use `list_liked` to calculate `percentage_liked`."
   ]
  },
  {
   "cell_type": "code",
   "execution_count": 12,
   "id": "ce0ee58f",
   "metadata": {
    "execution": {
     "iopub.execute_input": "2023-03-31T15:20:04.978526Z",
     "iopub.status.busy": "2023-03-31T15:20:04.978200Z",
     "iopub.status.idle": "2023-03-31T15:20:04.988539Z",
     "shell.execute_reply": "2023-03-31T15:20:04.986239Z"
    },
    "papermill": {
     "duration": 0.020243,
     "end_time": "2023-03-31T15:20:04.990704",
     "exception": false,
     "start_time": "2023-03-31T15:20:04.970461",
     "status": "completed"
    },
    "tags": []
   },
   "outputs": [
    {
     "data": {
      "application/javascript": [
       "parent.postMessage({\"jupyterEvent\": \"custom.exercise_interaction\", \"data\": {\"outcomeType\": 1, \"valueTowardsCompletion\": 0.2, \"interactionType\": 1, \"questionType\": 2, \"questionId\": \"4_PercentageLiked\", \"learnToolsVersion\": \"0.3.4\", \"failureMessage\": \"\", \"exceptionClass\": \"\", \"trace\": \"\"}}, \"*\")"
      ],
      "text/plain": [
       "<IPython.core.display.Javascript object>"
      ]
     },
     "metadata": {},
     "output_type": "display_data"
    },
    {
     "data": {
      "text/markdown": [
       "<span style=\"color:#33cc33\">Correct</span>"
      ],
      "text/plain": [
       "Correct"
      ]
     },
     "metadata": {},
     "output_type": "display_data"
    }
   ],
   "source": [
    "\n",
    "def percentage_liked(ratings):\n",
    "    list_liked = [i>=4 for i in ratings]\n",
    "    # TODO: Complete the function\n",
    "    percentage_liked = sum(list_liked) / len(ratings)\n",
    "    return percentage_liked\n",
    "\n",
    "# Do not change: should return 0.5\n",
    "percentage_liked([1, 2, 3, 4, 5, 4, 5, 1])\n",
    "\n",
    "# Do not change: Check your answer\n",
    "q4.check()"
   ]
  },
  {
   "cell_type": "code",
   "execution_count": 13,
   "id": "b9fce17e",
   "metadata": {
    "execution": {
     "iopub.execute_input": "2023-03-31T15:20:05.005905Z",
     "iopub.status.busy": "2023-03-31T15:20:05.005476Z",
     "iopub.status.idle": "2023-03-31T15:20:05.013480Z",
     "shell.execute_reply": "2023-03-31T15:20:05.012790Z"
    },
    "papermill": {
     "duration": 0.01775,
     "end_time": "2023-03-31T15:20:05.015228",
     "exception": false,
     "start_time": "2023-03-31T15:20:04.997478",
     "status": "completed"
    },
    "tags": []
   },
   "outputs": [
    {
     "data": {
      "application/javascript": [
       "parent.postMessage({\"jupyterEvent\": \"custom.exercise_interaction\", \"data\": {\"interactionType\": 3, \"questionType\": 2, \"questionId\": \"4_PercentageLiked\", \"learnToolsVersion\": \"0.3.4\", \"valueTowardsCompletion\": 0.0, \"failureMessage\": \"\", \"exceptionClass\": \"\", \"trace\": \"\", \"outcomeType\": 4}}, \"*\")"
      ],
      "text/plain": [
       "<IPython.core.display.Javascript object>"
      ]
     },
     "metadata": {},
     "output_type": "display_data"
    },
    {
     "data": {
      "text/markdown": [
       "<span style=\"color:#33cc99\">Solution:</span> \n",
       "```python\n",
       "\n",
       "# Complete the function\n",
       "def percentage_liked(ratings):\n",
       "    list_liked = [i >= 4 for i in ratings]\n",
       "    percentage_liked = sum(list_liked)/len(list_liked)\n",
       "    return percentage_liked\n",
       "\n",
       "```"
      ],
      "text/plain": [
       "Solution: \n",
       "```python\n",
       "\n",
       "# Complete the function\n",
       "def percentage_liked(ratings):\n",
       "    list_liked = [i >= 4 for i in ratings]\n",
       "    percentage_liked = sum(list_liked)/len(list_liked)\n",
       "    return percentage_liked\n",
       "\n",
       "```"
      ]
     },
     "metadata": {},
     "output_type": "display_data"
    }
   ],
   "source": [
    "# Uncomment to see a hint\n",
    "#q4.hint()\n",
    "\n",
    "# Uncomment to see the solution\n",
    "q4.solution()"
   ]
  },
  {
   "cell_type": "markdown",
   "id": "71ea2818",
   "metadata": {
    "papermill": {
     "duration": 0.007044,
     "end_time": "2023-03-31T15:20:05.029630",
     "exception": false,
     "start_time": "2023-03-31T15:20:05.022586",
     "status": "completed"
    },
    "tags": []
   },
   "source": [
    "# 🌶️ Question 5\n",
    " \n",
    "Say you're doing analytics for a website.  You need to write a function that returns the percentage growth in the total number of users relative to a specified number of years ago.\n",
    "\n",
    "Your function `percentage_growth()` should take two arguments as input:\n",
    "- `num_users` = Python list with the total number of users each year.  So `num_users[0]` is the total number of users in the first year, `num_users[1]` is the total number of users in the second year, and so on.  The final entry in the list gives the total number of users in the most recently completed year.\n",
    "- `yrs_ago` = number of years to go back in time when calculating the growth percentage\n",
    "\n",
    "For instance, say `num_users = [920344, 1043553, 1204334, 1458996, 1503323, 1593432, 1623463, 1843064, 1930992, 2001078]`.\n",
    "- if `yrs_ago = 1`, we want the function to return a value of about `0.036`. This corresponds to a percentage growth of approximately 3.6%, calculated as (2001078 - 1930992)/1930992.\n",
    "- if `years_ago = 7`, we would want to return approximately `0.66`.  This corresponds to a percentage growth of approximately 66%, calculated as (2001078 - 1204334)/1204334.\n",
    "\n",
    "Your coworker sent you a draft of a function, but it doesn't seem to be doing the correct calculation.  Can you figure out what has gone wrong and make the needed changes?"
   ]
  },
  {
   "cell_type": "code",
   "execution_count": 14,
   "id": "ab57f805",
   "metadata": {
    "execution": {
     "iopub.execute_input": "2023-03-31T15:20:05.046230Z",
     "iopub.status.busy": "2023-03-31T15:20:05.045773Z",
     "iopub.status.idle": "2023-03-31T15:20:05.057067Z",
     "shell.execute_reply": "2023-03-31T15:20:05.056230Z"
    },
    "papermill": {
     "duration": 0.022943,
     "end_time": "2023-03-31T15:20:05.059973",
     "exception": false,
     "start_time": "2023-03-31T15:20:05.037030",
     "status": "completed"
    },
    "tags": []
   },
   "outputs": [
    {
     "name": "stdout",
     "output_type": "stream",
     "text": [
      "0.03629533421163837\n",
      "0.6615639847417742\n"
     ]
    },
    {
     "data": {
      "application/javascript": [
       "parent.postMessage({\"jupyterEvent\": \"custom.exercise_interaction\", \"data\": {\"outcomeType\": 1, \"valueTowardsCompletion\": 0.2, \"interactionType\": 1, \"questionType\": 2, \"questionId\": \"5_WebsiteAnalytics\", \"learnToolsVersion\": \"0.3.4\", \"failureMessage\": \"\", \"exceptionClass\": \"\", \"trace\": \"\"}}, \"*\")"
      ],
      "text/plain": [
       "<IPython.core.display.Javascript object>"
      ]
     },
     "metadata": {},
     "output_type": "display_data"
    },
    {
     "data": {
      "text/markdown": [
       "<span style=\"color:#33cc33\">Correct</span>"
      ],
      "text/plain": [
       "Correct"
      ]
     },
     "metadata": {},
     "output_type": "display_data"
    }
   ],
   "source": [
    "# TODO: Edit the function\n",
    "def percentage_growth(num_users, yrs_ago): \n",
    "    growth = (num_users[len(num_users)-1] - num_users[len(num_users)- yrs_ago - 1]) / num_users[len(num_users)- yrs_ago - 1]\n",
    "    return growth\n",
    "\n",
    "# Do not change: Variable for calculating some test examples\n",
    "num_users_test = [920344, 1043553, 1204334, 1458996, 1503323, 1593432, 1623463, 1843064, 1930992, 2001078]\n",
    "\n",
    "# Do not change: Should return .036\n",
    "print(percentage_growth(num_users_test, 1))\n",
    "\n",
    "# Do not change: Should return 0.66\n",
    "print(percentage_growth(num_users_test, 7))\n",
    "\n",
    "# Do not change: Check your answer\n",
    "q5.check()"
   ]
  },
  {
   "cell_type": "code",
   "execution_count": 15,
   "id": "3fc7d914",
   "metadata": {
    "execution": {
     "iopub.execute_input": "2023-03-31T15:20:05.078655Z",
     "iopub.status.busy": "2023-03-31T15:20:05.078326Z",
     "iopub.status.idle": "2023-03-31T15:20:05.082063Z",
     "shell.execute_reply": "2023-03-31T15:20:05.081067Z"
    },
    "papermill": {
     "duration": 0.015425,
     "end_time": "2023-03-31T15:20:05.084134",
     "exception": false,
     "start_time": "2023-03-31T15:20:05.068709",
     "status": "completed"
    },
    "tags": []
   },
   "outputs": [],
   "source": [
    "# Uncomment to see a hint\n",
    "#q5.hint()\n",
    "\n",
    "# Uncomment to see the solution\n",
    "#q5.solution()"
   ]
  },
  {
   "cell_type": "markdown",
   "id": "12c949a4",
   "metadata": {
    "papermill": {
     "duration": 0.008012,
     "end_time": "2023-03-31T15:20:05.100413",
     "exception": false,
     "start_time": "2023-03-31T15:20:05.092401",
     "status": "completed"
    },
    "tags": []
   },
   "source": [
    "# Congratulations!\n",
    "\n",
    "Congratulations for finishing the Intro to Programming course!  You should be proud of your very first steps with learning programming.  As next steps, we recommend taking:\n",
    "- the **[Python course](http://www.kaggle.com/learn/python)**, and \n",
    "- the **[Intro to Machine Learning course](https://www.kaggle.com/learn/intro-to-machine-learning)**."
   ]
  },
  {
   "cell_type": "markdown",
   "id": "0f6aba76",
   "metadata": {
    "papermill": {
     "duration": 0.007863,
     "end_time": "2023-03-31T15:20:05.116129",
     "exception": false,
     "start_time": "2023-03-31T15:20:05.108266",
     "status": "completed"
    },
    "tags": []
   },
   "source": [
    "---\n",
    "\n",
    "\n",
    "\n",
    "\n",
    "*Have questions or comments? Visit the [course discussion forum](https://www.kaggle.com/learn/intro-to-programming/discussion) to chat with other learners.*"
   ]
  }
 ],
 "metadata": {
  "kernelspec": {
   "display_name": "Python 3",
   "language": "python",
   "name": "python3"
  },
  "language_info": {
   "codemirror_mode": {
    "name": "ipython",
    "version": 3
   },
   "file_extension": ".py",
   "mimetype": "text/x-python",
   "name": "python",
   "nbconvert_exporter": "python",
   "pygments_lexer": "ipython3",
   "version": "3.7.12"
  },
  "papermill": {
   "default_parameters": {},
   "duration": 10.165932,
   "end_time": "2023-03-31T15:20:05.744104",
   "environment_variables": {},
   "exception": null,
   "input_path": "__notebook__.ipynb",
   "output_path": "__notebook__.ipynb",
   "parameters": {},
   "start_time": "2023-03-31T15:19:55.578172",
   "version": "2.4.0"
  }
 },
 "nbformat": 4,
 "nbformat_minor": 5
}
