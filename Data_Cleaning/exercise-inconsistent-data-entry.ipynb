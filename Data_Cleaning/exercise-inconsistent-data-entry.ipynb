{
 "cells": [
  {
   "cell_type": "markdown",
   "id": "82f6f8c0",
   "metadata": {
    "papermill": {
     "duration": 0.009496,
     "end_time": "2023-11-04T18:35:20.004101",
     "exception": false,
     "start_time": "2023-11-04T18:35:19.994605",
     "status": "completed"
    },
    "tags": []
   },
   "source": [
    "**This notebook is an exercise in the [Data Cleaning](https://www.kaggle.com/learn/data-cleaning) course.  You can reference the tutorial at [this link](https://www.kaggle.com/alexisbcook/inconsistent-data-entry).**\n",
    "\n",
    "---\n"
   ]
  },
  {
   "cell_type": "markdown",
   "id": "69021efe",
   "metadata": {
    "papermill": {
     "duration": 0.006736,
     "end_time": "2023-11-04T18:35:20.018033",
     "exception": false,
     "start_time": "2023-11-04T18:35:20.011297",
     "status": "completed"
    },
    "tags": []
   },
   "source": [
    "In this exercise, you'll apply what you learned in the **Inconsistent data entry** tutorial.\n",
    "\n",
    "# Setup\n",
    "\n",
    "The questions below will give you feedback on your work. Run the following cell to set up the feedback system."
   ]
  },
  {
   "cell_type": "code",
   "execution_count": 1,
   "id": "f20bf5b5",
   "metadata": {
    "execution": {
     "iopub.execute_input": "2023-11-04T18:35:20.034217Z",
     "iopub.status.busy": "2023-11-04T18:35:20.033681Z",
     "iopub.status.idle": "2023-11-04T18:35:21.024199Z",
     "shell.execute_reply": "2023-11-04T18:35:21.022709Z"
    },
    "papermill": {
     "duration": 1.002263,
     "end_time": "2023-11-04T18:35:21.027270",
     "exception": false,
     "start_time": "2023-11-04T18:35:20.025007",
     "status": "completed"
    },
    "tags": []
   },
   "outputs": [
    {
     "name": "stdout",
     "output_type": "stream",
     "text": [
      "Setup Complete\n"
     ]
    }
   ],
   "source": [
    "from learntools.core import binder\n",
    "binder.bind(globals())\n",
    "from learntools.data_cleaning.ex5 import *\n",
    "print(\"Setup Complete\")"
   ]
  },
  {
   "cell_type": "markdown",
   "id": "ac5b42a5",
   "metadata": {
    "papermill": {
     "duration": 0.007256,
     "end_time": "2023-11-04T18:35:21.041685",
     "exception": false,
     "start_time": "2023-11-04T18:35:21.034429",
     "status": "completed"
    },
    "tags": []
   },
   "source": [
    "# Get our environment set up\n",
    "\n",
    "The first thing we'll need to do is load in the libraries and dataset we'll be using.  We use the same dataset from the tutorial."
   ]
  },
  {
   "cell_type": "code",
   "execution_count": 2,
   "id": "1e08e5f5",
   "metadata": {
    "execution": {
     "iopub.execute_input": "2023-11-04T18:35:21.058286Z",
     "iopub.status.busy": "2023-11-04T18:35:21.057825Z",
     "iopub.status.idle": "2023-11-04T18:35:21.076125Z",
     "shell.execute_reply": "2023-11-04T18:35:21.075057Z"
    },
    "papermill": {
     "duration": 0.029874,
     "end_time": "2023-11-04T18:35:21.079036",
     "exception": false,
     "start_time": "2023-11-04T18:35:21.049162",
     "status": "completed"
    },
    "tags": []
   },
   "outputs": [],
   "source": [
    "# modules we'll use\n",
    "import pandas as pd\n",
    "import numpy as np\n",
    "\n",
    "# helpful modules\n",
    "import fuzzywuzzy\n",
    "from fuzzywuzzy import process\n",
    "import charset_normalizer\n",
    "\n",
    "# read in all our data\n",
    "professors = pd.read_csv(\"../input/pakistan-intellectual-capital/pakistan_intellectual_capital.csv\")\n",
    "\n",
    "# set seed for reproducibility\n",
    "np.random.seed(0)"
   ]
  },
  {
   "cell_type": "markdown",
   "id": "a5d108ae",
   "metadata": {
    "papermill": {
     "duration": 0.006866,
     "end_time": "2023-11-04T18:35:21.093228",
     "exception": false,
     "start_time": "2023-11-04T18:35:21.086362",
     "status": "completed"
    },
    "tags": []
   },
   "source": [
    "Next, we'll redo all of the work that we did in the tutorial."
   ]
  },
  {
   "cell_type": "code",
   "execution_count": 3,
   "id": "6137ab14",
   "metadata": {
    "execution": {
     "iopub.execute_input": "2023-11-04T18:35:21.109419Z",
     "iopub.status.busy": "2023-11-04T18:35:21.109019Z",
     "iopub.status.idle": "2023-11-04T18:35:21.126937Z",
     "shell.execute_reply": "2023-11-04T18:35:21.125887Z"
    },
    "papermill": {
     "duration": 0.028877,
     "end_time": "2023-11-04T18:35:21.129303",
     "exception": false,
     "start_time": "2023-11-04T18:35:21.100426",
     "status": "completed"
    },
    "tags": []
   },
   "outputs": [
    {
     "name": "stdout",
     "output_type": "stream",
     "text": [
      "All done!\n"
     ]
    }
   ],
   "source": [
    "# convert to lower case\n",
    "professors['Country'] = professors['Country'].str.lower()\n",
    "# remove trailing white spaces\n",
    "professors['Country'] = professors['Country'].str.strip()\n",
    "\n",
    "# get the top 10 closest matches to \"south korea\"\n",
    "countries = professors['Country'].unique()\n",
    "matches = fuzzywuzzy.process.extract(\"south korea\", countries, limit=10, scorer=fuzzywuzzy.fuzz.token_sort_ratio)\n",
    "\n",
    "def replace_matches_in_column(df, column, string_to_match, min_ratio = 47):\n",
    "    # get a list of unique strings\n",
    "    strings = df[column].unique()\n",
    "    \n",
    "    # get the top 10 closest matches to our input string\n",
    "    matches = fuzzywuzzy.process.extract(string_to_match, strings, \n",
    "                                         limit=10, scorer=fuzzywuzzy.fuzz.token_sort_ratio)\n",
    "\n",
    "    # only get matches with a ratio > 90\n",
    "    close_matches = [matches[0] for matches in matches if matches[1] >= min_ratio]\n",
    "\n",
    "    # get the rows of all the close matches in our dataframe\n",
    "    rows_with_matches = df[column].isin(close_matches)\n",
    "\n",
    "    # replace all rows with close matches with the input matches \n",
    "    df.loc[rows_with_matches, column] = string_to_match\n",
    "    \n",
    "    # let us know the function's done\n",
    "    print(\"All done!\")\n",
    "    \n",
    "replace_matches_in_column(df=professors, column='Country', string_to_match=\"south korea\")\n",
    "countries = professors['Country'].unique()"
   ]
  },
  {
   "cell_type": "markdown",
   "id": "181d90ca",
   "metadata": {
    "papermill": {
     "duration": 0.006847,
     "end_time": "2023-11-04T18:35:21.143846",
     "exception": false,
     "start_time": "2023-11-04T18:35:21.136999",
     "status": "completed"
    },
    "tags": []
   },
   "source": [
    "# 1) Examine another column\n",
    "\n",
    "Write code below to take a look at all the unique values in the \"Graduated from\" column."
   ]
  },
  {
   "cell_type": "code",
   "execution_count": null,
   "id": "c1476d44",
   "metadata": {
    "papermill": {
     "duration": 0.00671,
     "end_time": "2023-11-04T18:35:21.157838",
     "exception": false,
     "start_time": "2023-11-04T18:35:21.151128",
     "status": "completed"
    },
    "tags": []
   },
   "outputs": [],
   "source": []
  },
  {
   "cell_type": "raw",
   "id": "fdb6915a",
   "metadata": {
    "execution": {
     "iopub.execute_input": "2023-11-04T18:22:31.219603Z",
     "iopub.status.busy": "2023-11-04T18:22:31.219231Z",
     "iopub.status.idle": "2023-11-04T18:22:31.231134Z",
     "shell.execute_reply": "2023-11-04T18:22:31.229762Z",
     "shell.execute_reply.started": "2023-11-04T18:22:31.219574Z"
    },
    "papermill": {
     "duration": 0.006858,
     "end_time": "2023-11-04T18:35:21.171688",
     "exception": false,
     "start_time": "2023-11-04T18:35:21.164830",
     "status": "completed"
    },
    "tags": []
   },
   "source": [
    "professors['Graduated from'].unique()"
   ]
  },
  {
   "cell_type": "markdown",
   "id": "c8428559",
   "metadata": {
    "papermill": {
     "duration": 0.006716,
     "end_time": "2023-11-04T18:35:21.185425",
     "exception": false,
     "start_time": "2023-11-04T18:35:21.178709",
     "status": "completed"
    },
    "tags": []
   },
   "source": [
    "Do you notice any inconsistencies in the data?  Can any of the inconsistencies in the data be fixed by removing white spaces at the beginning and end of cells?\n",
    "\n",
    "Once you have answered these questions, run the code cell below to get credit for your work."
   ]
  },
  {
   "cell_type": "code",
   "execution_count": 4,
   "id": "090cb5c1",
   "metadata": {
    "execution": {
     "iopub.execute_input": "2023-11-04T18:35:21.201327Z",
     "iopub.status.busy": "2023-11-04T18:35:21.200934Z",
     "iopub.status.idle": "2023-11-04T18:35:21.210889Z",
     "shell.execute_reply": "2023-11-04T18:35:21.209794Z"
    },
    "papermill": {
     "duration": 0.020599,
     "end_time": "2023-11-04T18:35:21.213195",
     "exception": false,
     "start_time": "2023-11-04T18:35:21.192596",
     "status": "completed"
    },
    "tags": []
   },
   "outputs": [
    {
     "data": {
      "application/javascript": [
       "parent.postMessage({\"jupyterEvent\": \"custom.exercise_interaction\", \"data\": {\"outcomeType\": 1, \"valueTowardsCompletion\": 0.3333333333333333, \"interactionType\": 1, \"questionType\": 4, \"questionId\": \"1_ExamineProvince\", \"learnToolsVersion\": \"0.3.4\", \"failureMessage\": \"\", \"exceptionClass\": \"\", \"trace\": \"\"}}, \"*\")"
      ],
      "text/plain": [
       "<IPython.core.display.Javascript object>"
      ]
     },
     "metadata": {},
     "output_type": "display_data"
    },
    {
     "data": {
      "text/markdown": [
       "<span style=\"color:#33cc33\">Correct:</span> \n",
       "\n",
       "There are inconsistencies that can be fixed by removing white spaces at the beginning and end of cells.  For instance, \"University of Central Florida\" and \" University of Central Florida\" both appear in the column."
      ],
      "text/plain": [
       "Correct: \n",
       "\n",
       "There are inconsistencies that can be fixed by removing white spaces at the beginning and end of cells.  For instance, \"University of Central Florida\" and \" University of Central Florida\" both appear in the column."
      ]
     },
     "metadata": {},
     "output_type": "display_data"
    }
   ],
   "source": [
    "# Check your answer (Run this code cell to receive credit!)\n",
    "q1.check()"
   ]
  },
  {
   "cell_type": "code",
   "execution_count": 5,
   "id": "65171388",
   "metadata": {
    "execution": {
     "iopub.execute_input": "2023-11-04T18:35:21.229888Z",
     "iopub.status.busy": "2023-11-04T18:35:21.229506Z",
     "iopub.status.idle": "2023-11-04T18:35:21.234053Z",
     "shell.execute_reply": "2023-11-04T18:35:21.232846Z"
    },
    "papermill": {
     "duration": 0.015468,
     "end_time": "2023-11-04T18:35:21.236332",
     "exception": false,
     "start_time": "2023-11-04T18:35:21.220864",
     "status": "completed"
    },
    "tags": []
   },
   "outputs": [],
   "source": [
    "# Line below will give you a hint\n",
    "#q1.hint()"
   ]
  },
  {
   "cell_type": "markdown",
   "id": "793c1323",
   "metadata": {
    "papermill": {
     "duration": 0.007205,
     "end_time": "2023-11-04T18:35:21.250923",
     "exception": false,
     "start_time": "2023-11-04T18:35:21.243718",
     "status": "completed"
    },
    "tags": []
   },
   "source": [
    "# 2) Do some text pre-processing\n",
    "\n",
    "Convert every entry in the \"Graduated from\" column in the `professors` DataFrame to remove white spaces at the beginning and end of cells."
   ]
  },
  {
   "cell_type": "code",
   "execution_count": 6,
   "id": "2cb0c529",
   "metadata": {
    "execution": {
     "iopub.execute_input": "2023-11-04T18:35:21.268110Z",
     "iopub.status.busy": "2023-11-04T18:35:21.266859Z",
     "iopub.status.idle": "2023-11-04T18:35:21.280143Z",
     "shell.execute_reply": "2023-11-04T18:35:21.279308Z"
    },
    "papermill": {
     "duration": 0.023991,
     "end_time": "2023-11-04T18:35:21.282275",
     "exception": false,
     "start_time": "2023-11-04T18:35:21.258284",
     "status": "completed"
    },
    "tags": []
   },
   "outputs": [
    {
     "data": {
      "application/javascript": [
       "parent.postMessage({\"jupyterEvent\": \"custom.exercise_interaction\", \"data\": {\"outcomeType\": 1, \"valueTowardsCompletion\": 0.3333333333333333, \"interactionType\": 1, \"questionType\": 1, \"questionId\": \"2_TextProcessing\", \"learnToolsVersion\": \"0.3.4\", \"failureMessage\": \"\", \"exceptionClass\": \"\", \"trace\": \"\"}}, \"*\")"
      ],
      "text/plain": [
       "<IPython.core.display.Javascript object>"
      ]
     },
     "metadata": {},
     "output_type": "display_data"
    },
    {
     "data": {
      "text/markdown": [
       "<span style=\"color:#33cc33\">Correct</span>"
      ],
      "text/plain": [
       "Correct"
      ]
     },
     "metadata": {},
     "output_type": "display_data"
    }
   ],
   "source": [
    "professors['Graduated from'] = professors['Graduated from'].str.strip()\n",
    "____\n",
    "\n",
    "# Check your answer\n",
    "q2.check()"
   ]
  },
  {
   "cell_type": "code",
   "execution_count": 7,
   "id": "cbd3f412",
   "metadata": {
    "execution": {
     "iopub.execute_input": "2023-11-04T18:35:21.300033Z",
     "iopub.status.busy": "2023-11-04T18:35:21.299312Z",
     "iopub.status.idle": "2023-11-04T18:35:21.304196Z",
     "shell.execute_reply": "2023-11-04T18:35:21.303097Z"
    },
    "papermill": {
     "duration": 0.016354,
     "end_time": "2023-11-04T18:35:21.306388",
     "exception": false,
     "start_time": "2023-11-04T18:35:21.290034",
     "status": "completed"
    },
    "tags": []
   },
   "outputs": [],
   "source": [
    "# Lines below will give you a hint or solution code\n",
    "#q2.hint()\n",
    "#q2.solution()"
   ]
  },
  {
   "cell_type": "markdown",
   "id": "965dfce9",
   "metadata": {
    "papermill": {
     "duration": 0.007479,
     "end_time": "2023-11-04T18:35:21.321910",
     "exception": false,
     "start_time": "2023-11-04T18:35:21.314431",
     "status": "completed"
    },
    "tags": []
   },
   "source": [
    "# 3) Continue working with countries\n",
    "\n",
    "In the tutorial, we focused on cleaning up inconsistencies in the \"Country\" column.  Run the code cell below to view the list of unique values that we ended with."
   ]
  },
  {
   "cell_type": "code",
   "execution_count": 8,
   "id": "2f497976",
   "metadata": {
    "execution": {
     "iopub.execute_input": "2023-11-04T18:35:21.339342Z",
     "iopub.status.busy": "2023-11-04T18:35:21.338898Z",
     "iopub.status.idle": "2023-11-04T18:35:21.347381Z",
     "shell.execute_reply": "2023-11-04T18:35:21.346407Z"
    },
    "papermill": {
     "duration": 0.019757,
     "end_time": "2023-11-04T18:35:21.349535",
     "exception": false,
     "start_time": "2023-11-04T18:35:21.329778",
     "status": "completed"
    },
    "tags": []
   },
   "outputs": [
    {
     "data": {
      "text/plain": [
       "array(['australia', 'austria', 'canada', 'china', 'finland', 'france',\n",
       "       'germany', 'greece', 'hongkong', 'ireland', 'italy', 'japan',\n",
       "       'macau', 'malaysia', 'mauritius', 'netherland', 'new zealand',\n",
       "       'norway', 'pakistan', 'portugal', 'russian federation',\n",
       "       'saudi arabia', 'scotland', 'singapore', 'south korea', 'spain',\n",
       "       'sweden', 'thailand', 'turkey', 'uk', 'urbana', 'usa', 'usofa'],\n",
       "      dtype=object)"
      ]
     },
     "execution_count": 8,
     "metadata": {},
     "output_type": "execute_result"
    }
   ],
   "source": [
    "# get all the unique values in the 'City' column\n",
    "countries = professors['Country'].unique()\n",
    "\n",
    "# sort them alphabetically and then take a closer look\n",
    "countries.sort()\n",
    "countries"
   ]
  },
  {
   "cell_type": "markdown",
   "id": "b454b3e7",
   "metadata": {
    "papermill": {
     "duration": 0.007773,
     "end_time": "2023-11-04T18:35:21.365238",
     "exception": false,
     "start_time": "2023-11-04T18:35:21.357465",
     "status": "completed"
    },
    "tags": []
   },
   "source": [
    "Take another look at the \"Country\" column and see if there's any more data cleaning we need to do.\n",
    "\n",
    "It looks like 'usa' and 'usofa' should be the same country.  Correct the \"Country\" column in the dataframe to replace 'usofa' with 'usa'.\n",
    "\n",
    "**Use the most recent version of the DataFrame (with the whitespaces at the beginning and end of cells removed) from question 2.**"
   ]
  },
  {
   "cell_type": "code",
   "execution_count": 9,
   "id": "c9069857",
   "metadata": {
    "execution": {
     "iopub.execute_input": "2023-11-04T18:35:21.382748Z",
     "iopub.status.busy": "2023-11-04T18:35:21.382321Z",
     "iopub.status.idle": "2023-11-04T18:35:21.400466Z",
     "shell.execute_reply": "2023-11-04T18:35:21.399387Z"
    },
    "papermill": {
     "duration": 0.029539,
     "end_time": "2023-11-04T18:35:21.402709",
     "exception": false,
     "start_time": "2023-11-04T18:35:21.373170",
     "status": "completed"
    },
    "tags": []
   },
   "outputs": [
    {
     "name": "stdout",
     "output_type": "stream",
     "text": [
      "All done!\n"
     ]
    },
    {
     "data": {
      "application/javascript": [
       "parent.postMessage({\"jupyterEvent\": \"custom.exercise_interaction\", \"data\": {\"outcomeType\": 1, \"valueTowardsCompletion\": 0.3333333333333333, \"interactionType\": 1, \"questionType\": 1, \"questionId\": \"3_WorkingWithCities\", \"learnToolsVersion\": \"0.3.4\", \"failureMessage\": \"\", \"exceptionClass\": \"\", \"trace\": \"\"}}, \"*\")"
      ],
      "text/plain": [
       "<IPython.core.display.Javascript object>"
      ]
     },
     "metadata": {},
     "output_type": "display_data"
    },
    {
     "data": {
      "text/markdown": [
       "<span style=\"color:#33cc33\">Correct</span>"
      ],
      "text/plain": [
       "Correct"
      ]
     },
     "metadata": {},
     "output_type": "display_data"
    },
    {
     "data": {
      "text/plain": [
       "[('usa', 100),\n",
       " ('usofa', 75),\n",
       " ('austria', 60),\n",
       " ('australia', 50),\n",
       " ('spain', 50),\n",
       " ('urbana', 44),\n",
       " ('uk', 40),\n",
       " ('malaysia', 36),\n",
       " ('pakistan', 36),\n",
       " ('portugal', 36)]"
      ]
     },
     "execution_count": 9,
     "metadata": {},
     "output_type": "execute_result"
    }
   ],
   "source": [
    "matches = fuzzywuzzy.process.extract(\"usa\", countries, limit=10, scorer=fuzzywuzzy.fuzz.token_sort_ratio)\n",
    "replace_matches_in_column(df=professors, column='Country', string_to_match=\"usa\", min_ratio=70)\n",
    "____\n",
    "\n",
    "# Check your answer\n",
    "q3.check()\n",
    "\n",
    "matches"
   ]
  },
  {
   "cell_type": "code",
   "execution_count": 10,
   "id": "6cc32bf5",
   "metadata": {
    "execution": {
     "iopub.execute_input": "2023-11-04T18:35:21.421339Z",
     "iopub.status.busy": "2023-11-04T18:35:21.420916Z",
     "iopub.status.idle": "2023-11-04T18:35:21.430537Z",
     "shell.execute_reply": "2023-11-04T18:35:21.429223Z"
    },
    "papermill": {
     "duration": 0.021688,
     "end_time": "2023-11-04T18:35:21.432911",
     "exception": false,
     "start_time": "2023-11-04T18:35:21.411223",
     "status": "completed"
    },
    "tags": []
   },
   "outputs": [
    {
     "data": {
      "application/javascript": [
       "parent.postMessage({\"jupyterEvent\": \"custom.exercise_interaction\", \"data\": {\"interactionType\": 3, \"questionType\": 1, \"questionId\": \"3_WorkingWithCities\", \"learnToolsVersion\": \"0.3.4\", \"valueTowardsCompletion\": 0.0, \"failureMessage\": \"\", \"exceptionClass\": \"\", \"trace\": \"\", \"outcomeType\": 4}}, \"*\")"
      ],
      "text/plain": [
       "<IPython.core.display.Javascript object>"
      ]
     },
     "metadata": {},
     "output_type": "display_data"
    },
    {
     "data": {
      "text/markdown": [
       "<span style=\"color:#33cc99\">Solution:</span> \n",
       "```python\n",
       "matches = fuzzywuzzy.process.extract(\"usa\", countries, limit=10, scorer=fuzzywuzzy.fuzz.token_sort_ratio)\n",
       "replace_matches_in_column(df=professors, column='Country', string_to_match=\"usa\", min_ratio=70)\n",
       "\n",
       "```"
      ],
      "text/plain": [
       "Solution: \n",
       "```python\n",
       "matches = fuzzywuzzy.process.extract(\"usa\", countries, limit=10, scorer=fuzzywuzzy.fuzz.token_sort_ratio)\n",
       "replace_matches_in_column(df=professors, column='Country', string_to_match=\"usa\", min_ratio=70)\n",
       "\n",
       "```"
      ]
     },
     "metadata": {},
     "output_type": "display_data"
    }
   ],
   "source": [
    "# Lines below will give you a hint or solution code\n",
    "#q3.hint()\n",
    "q3.solution()"
   ]
  },
  {
   "cell_type": "markdown",
   "id": "217edc5f",
   "metadata": {
    "papermill": {
     "duration": 0.009311,
     "end_time": "2023-11-04T18:35:21.451295",
     "exception": false,
     "start_time": "2023-11-04T18:35:21.441984",
     "status": "completed"
    },
    "tags": []
   },
   "source": [
    "# Congratulations!\n",
    "\n",
    "Congratulations for completing the **Data Cleaning** course on Kaggle Learn!\n",
    "\n",
    "To practice your new skills, you're encouraged to download and investigate some of [Kaggle's Datasets](https://www.kaggle.com/datasets)."
   ]
  },
  {
   "cell_type": "markdown",
   "id": "8398b0b5",
   "metadata": {
    "papermill": {
     "duration": 0.008518,
     "end_time": "2023-11-04T18:35:21.468827",
     "exception": false,
     "start_time": "2023-11-04T18:35:21.460309",
     "status": "completed"
    },
    "tags": []
   },
   "source": [
    "---\n",
    "\n",
    "\n",
    "\n",
    "\n",
    "*Have questions or comments? Visit the [course discussion forum](https://www.kaggle.com/learn/data-cleaning/discussion) to chat with other learners.*"
   ]
  }
 ],
 "metadata": {
  "kernelspec": {
   "display_name": "Python 3",
   "language": "python",
   "name": "python3"
  },
  "language_info": {
   "codemirror_mode": {
    "name": "ipython",
    "version": 3
   },
   "file_extension": ".py",
   "mimetype": "text/x-python",
   "name": "python",
   "nbconvert_exporter": "python",
   "pygments_lexer": "ipython3",
   "version": "3.10.12"
  },
  "papermill": {
   "default_parameters": {},
   "duration": 6.426129,
   "end_time": "2023-11-04T18:35:21.997571",
   "environment_variables": {},
   "exception": null,
   "input_path": "__notebook__.ipynb",
   "output_path": "__notebook__.ipynb",
   "parameters": {},
   "start_time": "2023-11-04T18:35:15.571442",
   "version": "2.4.0"
  }
 },
 "nbformat": 4,
 "nbformat_minor": 5
}
