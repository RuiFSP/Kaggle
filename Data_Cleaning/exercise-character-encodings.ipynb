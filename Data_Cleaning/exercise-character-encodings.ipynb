{
 "cells": [
  {
   "cell_type": "markdown",
   "id": "c2dff13a",
   "metadata": {
    "papermill": {
     "duration": 0.004584,
     "end_time": "2023-11-04T18:17:30.786846",
     "exception": false,
     "start_time": "2023-11-04T18:17:30.782262",
     "status": "completed"
    },
    "tags": []
   },
   "source": [
    "**This notebook is an exercise in the [Data Cleaning](https://www.kaggle.com/learn/data-cleaning) course.  You can reference the tutorial at [this link](https://www.kaggle.com/alexisbcook/character-encodings).**\n",
    "\n",
    "---\n"
   ]
  },
  {
   "cell_type": "markdown",
   "id": "4fc7f985",
   "metadata": {
    "papermill": {
     "duration": 0.003821,
     "end_time": "2023-11-04T18:17:30.796616",
     "exception": false,
     "start_time": "2023-11-04T18:17:30.792795",
     "status": "completed"
    },
    "tags": []
   },
   "source": [
    "In this exercise, you'll apply what you learned in the **Character encodings** tutorial.\n",
    "\n",
    "# Setup\n",
    "\n",
    "The questions below will give you feedback on your work. Run the following cell to set up the feedback system."
   ]
  },
  {
   "cell_type": "code",
   "execution_count": 1,
   "id": "84dd1d05",
   "metadata": {
    "execution": {
     "iopub.execute_input": "2023-11-04T18:17:30.806785Z",
     "iopub.status.busy": "2023-11-04T18:17:30.806144Z",
     "iopub.status.idle": "2023-11-04T18:17:31.257013Z",
     "shell.execute_reply": "2023-11-04T18:17:31.255696Z"
    },
    "papermill": {
     "duration": 0.458822,
     "end_time": "2023-11-04T18:17:31.259480",
     "exception": false,
     "start_time": "2023-11-04T18:17:30.800658",
     "status": "completed"
    },
    "tags": []
   },
   "outputs": [
    {
     "name": "stdout",
     "output_type": "stream",
     "text": [
      "Setup Complete\n"
     ]
    }
   ],
   "source": [
    "from learntools.core import binder\n",
    "binder.bind(globals())\n",
    "from learntools.data_cleaning.ex4 import *\n",
    "print(\"Setup Complete\")"
   ]
  },
  {
   "cell_type": "markdown",
   "id": "402f900f",
   "metadata": {
    "papermill": {
     "duration": 0.004034,
     "end_time": "2023-11-04T18:17:31.267924",
     "exception": false,
     "start_time": "2023-11-04T18:17:31.263890",
     "status": "completed"
    },
    "tags": []
   },
   "source": [
    "# Get our environment set up\n",
    "\n",
    "The first thing we'll need to do is load in the libraries we'll be using."
   ]
  },
  {
   "cell_type": "code",
   "execution_count": 2,
   "id": "6b915370",
   "metadata": {
    "execution": {
     "iopub.execute_input": "2023-11-04T18:17:31.278139Z",
     "iopub.status.busy": "2023-11-04T18:17:31.277775Z",
     "iopub.status.idle": "2023-11-04T18:17:31.282459Z",
     "shell.execute_reply": "2023-11-04T18:17:31.281645Z"
    },
    "papermill": {
     "duration": 0.012547,
     "end_time": "2023-11-04T18:17:31.284764",
     "exception": false,
     "start_time": "2023-11-04T18:17:31.272217",
     "status": "completed"
    },
    "tags": []
   },
   "outputs": [],
   "source": [
    "# modules we'll use\n",
    "import pandas as pd\n",
    "import numpy as np\n",
    "\n",
    "# helpful character encoding module\n",
    "import charset_normalizer\n",
    "\n",
    "# set seed for reproducibility\n",
    "np.random.seed(0)"
   ]
  },
  {
   "cell_type": "markdown",
   "id": "5fe05346",
   "metadata": {
    "papermill": {
     "duration": 0.003914,
     "end_time": "2023-11-04T18:17:31.293157",
     "exception": false,
     "start_time": "2023-11-04T18:17:31.289243",
     "status": "completed"
    },
    "tags": []
   },
   "source": [
    "# 1) What are encodings?\n",
    "\n",
    "You're working with a dataset composed of bytes.  Run the code cell below to print a sample entry."
   ]
  },
  {
   "cell_type": "code",
   "execution_count": 3,
   "id": "cebf18a5",
   "metadata": {
    "execution": {
     "iopub.execute_input": "2023-11-04T18:17:31.303104Z",
     "iopub.status.busy": "2023-11-04T18:17:31.302713Z",
     "iopub.status.idle": "2023-11-04T18:17:31.308195Z",
     "shell.execute_reply": "2023-11-04T18:17:31.307130Z"
    },
    "papermill": {
     "duration": 0.012824,
     "end_time": "2023-11-04T18:17:31.310083",
     "exception": false,
     "start_time": "2023-11-04T18:17:31.297259",
     "status": "completed"
    },
    "tags": []
   },
   "outputs": [
    {
     "name": "stdout",
     "output_type": "stream",
     "text": [
      "b'\\xa7A\\xa6n'\n",
      "data type: <class 'bytes'>\n"
     ]
    }
   ],
   "source": [
    "sample_entry = b'\\xa7A\\xa6n'\n",
    "print(sample_entry)\n",
    "print('data type:', type(sample_entry))"
   ]
  },
  {
   "cell_type": "markdown",
   "id": "713f33e2",
   "metadata": {
    "papermill": {
     "duration": 0.003975,
     "end_time": "2023-11-04T18:17:31.318515",
     "exception": false,
     "start_time": "2023-11-04T18:17:31.314540",
     "status": "completed"
    },
    "tags": []
   },
   "source": [
    "You notice that it doesn't use the standard UTF-8 encoding. \n",
    "\n",
    "Use the next code cell to create a variable `new_entry` that changes the encoding from `\"big5-tw\"` to `\"utf-8\"`.  `new_entry` should have the bytes datatype."
   ]
  },
  {
   "cell_type": "code",
   "execution_count": 4,
   "id": "f444d793",
   "metadata": {
    "execution": {
     "iopub.execute_input": "2023-11-04T18:17:31.329110Z",
     "iopub.status.busy": "2023-11-04T18:17:31.328459Z",
     "iopub.status.idle": "2023-11-04T18:17:31.338674Z",
     "shell.execute_reply": "2023-11-04T18:17:31.337629Z"
    },
    "papermill": {
     "duration": 0.018149,
     "end_time": "2023-11-04T18:17:31.340916",
     "exception": false,
     "start_time": "2023-11-04T18:17:31.322767",
     "status": "completed"
    },
    "tags": []
   },
   "outputs": [
    {
     "data": {
      "application/javascript": [
       "parent.postMessage({\"jupyterEvent\": \"custom.exercise_interaction\", \"data\": {\"outcomeType\": 1, \"valueTowardsCompletion\": 0.3333333333333333, \"interactionType\": 1, \"questionType\": 1, \"questionId\": \"1_EncodingsIntro\", \"learnToolsVersion\": \"0.3.4\", \"failureMessage\": \"\", \"exceptionClass\": \"\", \"trace\": \"\"}}, \"*\")"
      ],
      "text/plain": [
       "<IPython.core.display.Javascript object>"
      ]
     },
     "metadata": {},
     "output_type": "display_data"
    },
    {
     "data": {
      "text/markdown": [
       "<span style=\"color:#33cc33\">Correct</span>"
      ],
      "text/plain": [
       "Correct"
      ]
     },
     "metadata": {},
     "output_type": "display_data"
    },
    {
     "data": {
      "text/plain": [
       "b'\\xe4\\xbd\\xa0\\xe5\\xa5\\xbd'"
      ]
     },
     "execution_count": 4,
     "metadata": {},
     "output_type": "execute_result"
    }
   ],
   "source": [
    "new_entry = sample_entry.decode(\"big5-tw\").encode()\n",
    "\n",
    "# Check your answer\n",
    "q1.check()\n",
    "\n",
    "new_entry"
   ]
  },
  {
   "cell_type": "code",
   "execution_count": 5,
   "id": "29562245",
   "metadata": {
    "execution": {
     "iopub.execute_input": "2023-11-04T18:17:31.352588Z",
     "iopub.status.busy": "2023-11-04T18:17:31.351875Z",
     "iopub.status.idle": "2023-11-04T18:17:31.356182Z",
     "shell.execute_reply": "2023-11-04T18:17:31.355411Z"
    },
    "papermill": {
     "duration": 0.012809,
     "end_time": "2023-11-04T18:17:31.358515",
     "exception": false,
     "start_time": "2023-11-04T18:17:31.345706",
     "status": "completed"
    },
    "tags": []
   },
   "outputs": [],
   "source": [
    "# Lines below will give you a hint or solution code\n",
    "#q1.hint()\n",
    "#q1.solution()"
   ]
  },
  {
   "cell_type": "markdown",
   "id": "89bfa56f",
   "metadata": {
    "papermill": {
     "duration": 0.004483,
     "end_time": "2023-11-04T18:17:31.367998",
     "exception": false,
     "start_time": "2023-11-04T18:17:31.363515",
     "status": "completed"
    },
    "tags": []
   },
   "source": [
    "# 2) Reading in files with encoding problems\n",
    "\n",
    "Use the code cell below to read in this file at path `\"../input/fatal-police-shootings-in-the-us/PoliceKillingsUS.csv\"`.  \n",
    "\n",
    "Figure out what the correct encoding should be and read in the file to a DataFrame `police_killings`."
   ]
  },
  {
   "cell_type": "code",
   "execution_count": 6,
   "id": "27c3584f",
   "metadata": {
    "execution": {
     "iopub.execute_input": "2023-11-04T18:17:31.379884Z",
     "iopub.status.busy": "2023-11-04T18:17:31.378863Z",
     "iopub.status.idle": "2023-11-04T18:17:31.889136Z",
     "shell.execute_reply": "2023-11-04T18:17:31.888059Z"
    },
    "papermill": {
     "duration": 0.51902,
     "end_time": "2023-11-04T18:17:31.891772",
     "exception": false,
     "start_time": "2023-11-04T18:17:31.372752",
     "status": "completed"
    },
    "tags": []
   },
   "outputs": [
    {
     "name": "stdout",
     "output_type": "stream",
     "text": [
      "{'encoding': 'windows-1250', 'language': 'English', 'confidence': 1.0}\n"
     ]
    },
    {
     "data": {
      "application/javascript": [
       "parent.postMessage({\"jupyterEvent\": \"custom.exercise_interaction\", \"data\": {\"outcomeType\": 1, \"valueTowardsCompletion\": 0.3333333333333333, \"interactionType\": 1, \"questionType\": 1, \"questionId\": \"2_ReadIn\", \"learnToolsVersion\": \"0.3.4\", \"failureMessage\": \"\", \"exceptionClass\": \"\", \"trace\": \"\"}}, \"*\")"
      ],
      "text/plain": [
       "<IPython.core.display.Javascript object>"
      ]
     },
     "metadata": {},
     "output_type": "display_data"
    },
    {
     "data": {
      "text/markdown": [
       "<span style=\"color:#33cc33\">Correct</span>"
      ],
      "text/plain": [
       "Correct"
      ]
     },
     "metadata": {},
     "output_type": "display_data"
    },
    {
     "data": {
      "text/html": [
       "<div>\n",
       "<style scoped>\n",
       "    .dataframe tbody tr th:only-of-type {\n",
       "        vertical-align: middle;\n",
       "    }\n",
       "\n",
       "    .dataframe tbody tr th {\n",
       "        vertical-align: top;\n",
       "    }\n",
       "\n",
       "    .dataframe thead th {\n",
       "        text-align: right;\n",
       "    }\n",
       "</style>\n",
       "<table border=\"1\" class=\"dataframe\">\n",
       "  <thead>\n",
       "    <tr style=\"text-align: right;\">\n",
       "      <th></th>\n",
       "      <th>id</th>\n",
       "      <th>name</th>\n",
       "      <th>date</th>\n",
       "      <th>manner_of_death</th>\n",
       "      <th>armed</th>\n",
       "      <th>age</th>\n",
       "      <th>gender</th>\n",
       "      <th>race</th>\n",
       "      <th>city</th>\n",
       "      <th>state</th>\n",
       "      <th>signs_of_mental_illness</th>\n",
       "      <th>threat_level</th>\n",
       "      <th>flee</th>\n",
       "      <th>body_camera</th>\n",
       "    </tr>\n",
       "  </thead>\n",
       "  <tbody>\n",
       "    <tr>\n",
       "      <th>0</th>\n",
       "      <td>3</td>\n",
       "      <td>Tim Elliot</td>\n",
       "      <td>02/01/15</td>\n",
       "      <td>shot</td>\n",
       "      <td>gun</td>\n",
       "      <td>53.0</td>\n",
       "      <td>M</td>\n",
       "      <td>A</td>\n",
       "      <td>Shelton</td>\n",
       "      <td>WA</td>\n",
       "      <td>True</td>\n",
       "      <td>attack</td>\n",
       "      <td>Not fleeing</td>\n",
       "      <td>False</td>\n",
       "    </tr>\n",
       "    <tr>\n",
       "      <th>1</th>\n",
       "      <td>4</td>\n",
       "      <td>Lewis Lee Lembke</td>\n",
       "      <td>02/01/15</td>\n",
       "      <td>shot</td>\n",
       "      <td>gun</td>\n",
       "      <td>47.0</td>\n",
       "      <td>M</td>\n",
       "      <td>W</td>\n",
       "      <td>Aloha</td>\n",
       "      <td>OR</td>\n",
       "      <td>False</td>\n",
       "      <td>attack</td>\n",
       "      <td>Not fleeing</td>\n",
       "      <td>False</td>\n",
       "    </tr>\n",
       "    <tr>\n",
       "      <th>2</th>\n",
       "      <td>5</td>\n",
       "      <td>John Paul Quintero</td>\n",
       "      <td>03/01/15</td>\n",
       "      <td>shot and Tasered</td>\n",
       "      <td>unarmed</td>\n",
       "      <td>23.0</td>\n",
       "      <td>M</td>\n",
       "      <td>H</td>\n",
       "      <td>Wichita</td>\n",
       "      <td>KS</td>\n",
       "      <td>False</td>\n",
       "      <td>other</td>\n",
       "      <td>Not fleeing</td>\n",
       "      <td>False</td>\n",
       "    </tr>\n",
       "    <tr>\n",
       "      <th>3</th>\n",
       "      <td>8</td>\n",
       "      <td>Matthew Hoffman</td>\n",
       "      <td>04/01/15</td>\n",
       "      <td>shot</td>\n",
       "      <td>toy weapon</td>\n",
       "      <td>32.0</td>\n",
       "      <td>M</td>\n",
       "      <td>W</td>\n",
       "      <td>San Francisco</td>\n",
       "      <td>CA</td>\n",
       "      <td>True</td>\n",
       "      <td>attack</td>\n",
       "      <td>Not fleeing</td>\n",
       "      <td>False</td>\n",
       "    </tr>\n",
       "    <tr>\n",
       "      <th>4</th>\n",
       "      <td>9</td>\n",
       "      <td>Michael Rodriguez</td>\n",
       "      <td>04/01/15</td>\n",
       "      <td>shot</td>\n",
       "      <td>nail gun</td>\n",
       "      <td>39.0</td>\n",
       "      <td>M</td>\n",
       "      <td>H</td>\n",
       "      <td>Evans</td>\n",
       "      <td>CO</td>\n",
       "      <td>False</td>\n",
       "      <td>attack</td>\n",
       "      <td>Not fleeing</td>\n",
       "      <td>False</td>\n",
       "    </tr>\n",
       "  </tbody>\n",
       "</table>\n",
       "</div>"
      ],
      "text/plain": [
       "   id                name      date   manner_of_death       armed   age  \\\n",
       "0   3          Tim Elliot  02/01/15              shot         gun  53.0   \n",
       "1   4    Lewis Lee Lembke  02/01/15              shot         gun  47.0   \n",
       "2   5  John Paul Quintero  03/01/15  shot and Tasered     unarmed  23.0   \n",
       "3   8     Matthew Hoffman  04/01/15              shot  toy weapon  32.0   \n",
       "4   9   Michael Rodriguez  04/01/15              shot    nail gun  39.0   \n",
       "\n",
       "  gender race           city state  signs_of_mental_illness threat_level  \\\n",
       "0      M    A        Shelton    WA                     True       attack   \n",
       "1      M    W          Aloha    OR                    False       attack   \n",
       "2      M    H        Wichita    KS                    False        other   \n",
       "3      M    W  San Francisco    CA                     True       attack   \n",
       "4      M    H          Evans    CO                    False       attack   \n",
       "\n",
       "          flee  body_camera  \n",
       "0  Not fleeing        False  \n",
       "1  Not fleeing        False  \n",
       "2  Not fleeing        False  \n",
       "3  Not fleeing        False  \n",
       "4  Not fleeing        False  "
      ]
     },
     "execution_count": 6,
     "metadata": {},
     "output_type": "execute_result"
    }
   ],
   "source": [
    "# TODO: Load in the DataFrame correctly.\n",
    "with open(\"../input/fatal-police-shootings-in-the-us/PoliceKillingsUS.csv\", 'rb') as data:\n",
    "    result = charset_normalizer.detect(data.read(100000))\n",
    "    print(result)\n",
    "\n",
    "    police_killings = pd.read_csv(\"../input/fatal-police-shootings-in-the-us/PoliceKillingsUS.csv\", encoding=result['encoding'])\n",
    "# Check your answer\n",
    "q2.check()\n",
    "\n",
    "police_killings.head()"
   ]
  },
  {
   "cell_type": "markdown",
   "id": "5ab2aebe",
   "metadata": {
    "papermill": {
     "duration": 0.005048,
     "end_time": "2023-11-04T18:17:31.902066",
     "exception": false,
     "start_time": "2023-11-04T18:17:31.897018",
     "status": "completed"
    },
    "tags": []
   },
   "source": [
    "Feel free to use any additional code cells for supplemental work.  To get credit for finishing this question, you'll need to run `q2.check()` and get a result of **Correct**."
   ]
  },
  {
   "cell_type": "code",
   "execution_count": 7,
   "id": "1d5e9220",
   "metadata": {
    "execution": {
     "iopub.execute_input": "2023-11-04T18:17:31.914055Z",
     "iopub.status.busy": "2023-11-04T18:17:31.913694Z",
     "iopub.status.idle": "2023-11-04T18:17:31.917995Z",
     "shell.execute_reply": "2023-11-04T18:17:31.916868Z"
    },
    "papermill": {
     "duration": 0.013088,
     "end_time": "2023-11-04T18:17:31.920316",
     "exception": false,
     "start_time": "2023-11-04T18:17:31.907228",
     "status": "completed"
    },
    "tags": []
   },
   "outputs": [],
   "source": [
    "# Lines below will give you a hint or solution code\n",
    "#q2.hint()\n",
    "#q2.solution()"
   ]
  },
  {
   "cell_type": "markdown",
   "id": "997c1c00",
   "metadata": {
    "papermill": {
     "duration": 0.005237,
     "end_time": "2023-11-04T18:17:31.930883",
     "exception": false,
     "start_time": "2023-11-04T18:17:31.925646",
     "status": "completed"
    },
    "tags": []
   },
   "source": [
    "# 3) Saving your files with UTF-8 encoding\n",
    "\n",
    "Save a version of the police killings dataset to CSV with UTF-8 encoding.  Your answer will be marked correct after saving this file.  \n",
    "\n",
    "Note: When using the `to_csv()` method, supply only the name of the file (e.g., `\"my_file.csv\"`).  This saves the file at the filepath `\"/kaggle/working/my_file.csv\"`."
   ]
  },
  {
   "cell_type": "code",
   "execution_count": 8,
   "id": "93160116",
   "metadata": {
    "execution": {
     "iopub.execute_input": "2023-11-04T18:17:31.943501Z",
     "iopub.status.busy": "2023-11-04T18:17:31.943125Z",
     "iopub.status.idle": "2023-11-04T18:17:31.982707Z",
     "shell.execute_reply": "2023-11-04T18:17:31.981445Z"
    },
    "papermill": {
     "duration": 0.048923,
     "end_time": "2023-11-04T18:17:31.985185",
     "exception": false,
     "start_time": "2023-11-04T18:17:31.936262",
     "status": "completed"
    },
    "tags": []
   },
   "outputs": [
    {
     "data": {
      "application/javascript": [
       "parent.postMessage({\"jupyterEvent\": \"custom.exercise_interaction\", \"data\": {\"outcomeType\": 1, \"valueTowardsCompletion\": 0.3333333333333333, \"interactionType\": 1, \"questionType\": 2, \"questionId\": \"3_SaveCSV\", \"learnToolsVersion\": \"0.3.4\", \"failureMessage\": \"\", \"exceptionClass\": \"\", \"trace\": \"\"}}, \"*\")"
      ],
      "text/plain": [
       "<IPython.core.display.Javascript object>"
      ]
     },
     "metadata": {},
     "output_type": "display_data"
    },
    {
     "data": {
      "text/markdown": [
       "<span style=\"color:#33cc33\">Correct</span>"
      ],
      "text/plain": [
       "Correct"
      ]
     },
     "metadata": {},
     "output_type": "display_data"
    }
   ],
   "source": [
    "police_killings.to_csv(\"my_file.csv\")\n",
    "____\n",
    "\n",
    "# Check your answer\n",
    "q3.check()"
   ]
  },
  {
   "cell_type": "code",
   "execution_count": 9,
   "id": "81bc18e5",
   "metadata": {
    "execution": {
     "iopub.execute_input": "2023-11-04T18:17:31.998616Z",
     "iopub.status.busy": "2023-11-04T18:17:31.998215Z",
     "iopub.status.idle": "2023-11-04T18:17:32.002689Z",
     "shell.execute_reply": "2023-11-04T18:17:32.001647Z"
    },
    "papermill": {
     "duration": 0.013453,
     "end_time": "2023-11-04T18:17:32.004940",
     "exception": false,
     "start_time": "2023-11-04T18:17:31.991487",
     "status": "completed"
    },
    "tags": []
   },
   "outputs": [],
   "source": [
    "# Lines below will give you a hint or solution code\n",
    "#q3.hint()\n",
    "#q3.solution()"
   ]
  },
  {
   "cell_type": "markdown",
   "id": "724a9a60",
   "metadata": {
    "papermill": {
     "duration": 0.005302,
     "end_time": "2023-11-04T18:17:32.016193",
     "exception": false,
     "start_time": "2023-11-04T18:17:32.010891",
     "status": "completed"
    },
    "tags": []
   },
   "source": [
    "# (Optional) More practice\n",
    "\n",
    "Check out [this dataset of files in different character encodings](https://www.kaggle.com/rtatman/character-encoding-examples). Can you read in all the files with their original encodings and them save them out as UTF-8 files?\n",
    "\n",
    "If you have a file that's in UTF-8 but has just a couple of weird-looking characters in it, you can try out the [ftfy module](https://ftfy.readthedocs.io/en/latest/#) and see if it helps. \n",
    "\n",
    "# Keep going\n",
    "\n",
    "In the final lesson, learn how to [**clean up inconsistent text entries**](https://www.kaggle.com/alexisbcook/inconsistent-data-entry) in your dataset."
   ]
  },
  {
   "cell_type": "markdown",
   "id": "e253b66f",
   "metadata": {
    "papermill": {
     "duration": 0.005336,
     "end_time": "2023-11-04T18:17:32.027146",
     "exception": false,
     "start_time": "2023-11-04T18:17:32.021810",
     "status": "completed"
    },
    "tags": []
   },
   "source": [
    "---\n",
    "\n",
    "\n",
    "\n",
    "\n",
    "*Have questions or comments? Visit the [course discussion forum](https://www.kaggle.com/learn/data-cleaning/discussion) to chat with other learners.*"
   ]
  }
 ],
 "metadata": {
  "kernelspec": {
   "display_name": "Python 3",
   "language": "python",
   "name": "python3"
  },
  "language_info": {
   "codemirror_mode": {
    "name": "ipython",
    "version": 3
   },
   "file_extension": ".py",
   "mimetype": "text/x-python",
   "name": "python",
   "nbconvert_exporter": "python",
   "pygments_lexer": "ipython3",
   "version": "3.10.12"
  },
  "papermill": {
   "default_parameters": {},
   "duration": 4.861987,
   "end_time": "2023-11-04T18:17:32.452286",
   "environment_variables": {},
   "exception": null,
   "input_path": "__notebook__.ipynb",
   "output_path": "__notebook__.ipynb",
   "parameters": {},
   "start_time": "2023-11-04T18:17:27.590299",
   "version": "2.4.0"
  }
 },
 "nbformat": 4,
 "nbformat_minor": 5
}
