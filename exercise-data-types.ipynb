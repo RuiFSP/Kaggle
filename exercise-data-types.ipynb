{
 "cells": [
  {
   "cell_type": "markdown",
   "id": "15264eb1",
   "metadata": {
    "papermill": {
     "duration": 0.007981,
     "end_time": "2023-03-31T14:08:22.973675",
     "exception": false,
     "start_time": "2023-03-31T14:08:22.965694",
     "status": "completed"
    },
    "tags": []
   },
   "source": [
    "**This notebook is an exercise in the [Intro to Programming](https://www.kaggle.com/learn/intro-to-programming) course.  You can reference the tutorial at [this link](https://www.kaggle.com/alexisbcook/data-types).**\n",
    "\n",
    "---\n"
   ]
  },
  {
   "cell_type": "markdown",
   "id": "f7c5056f",
   "metadata": {
    "papermill": {
     "duration": 0.006805,
     "end_time": "2023-03-31T14:08:22.987325",
     "exception": false,
     "start_time": "2023-03-31T14:08:22.980520",
     "status": "completed"
    },
    "tags": []
   },
   "source": [
    "In the tutorial, you learned about four different data types: floats, integers, strings, and booleans.  In this exercise, you'll experiment with them.\n",
    "\n",
    "# Set up the notebook\n",
    "\n",
    "Run the next code cell without changes to set up the notebook."
   ]
  },
  {
   "cell_type": "code",
   "execution_count": 1,
   "id": "bd69a01d",
   "metadata": {
    "execution": {
     "iopub.execute_input": "2023-03-31T14:08:23.002735Z",
     "iopub.status.busy": "2023-03-31T14:08:23.002308Z",
     "iopub.status.idle": "2023-03-31T14:08:23.056936Z",
     "shell.execute_reply": "2023-03-31T14:08:23.054992Z"
    },
    "papermill": {
     "duration": 0.065889,
     "end_time": "2023-03-31T14:08:23.060003",
     "exception": false,
     "start_time": "2023-03-31T14:08:22.994114",
     "status": "completed"
    },
    "tags": []
   },
   "outputs": [
    {
     "name": "stdout",
     "output_type": "stream",
     "text": [
      "Setup complete.\n"
     ]
    }
   ],
   "source": [
    "# Set up the exercise\n",
    "from learntools.core import binder\n",
    "binder.bind(globals())\n",
    "from learntools.intro_to_programming.ex3 import *\n",
    "print('Setup complete.')"
   ]
  },
  {
   "cell_type": "markdown",
   "id": "8d1ec65e",
   "metadata": {
    "papermill": {
     "duration": 0.006423,
     "end_time": "2023-03-31T14:08:23.073165",
     "exception": false,
     "start_time": "2023-03-31T14:08:23.066742",
     "status": "completed"
    },
    "tags": []
   },
   "source": [
    "# Question 1\n",
    "\n",
    "You have seen how to convert a float to an integer with the `int` function.  Try this out yourself by running the code cell below."
   ]
  },
  {
   "cell_type": "code",
   "execution_count": 2,
   "id": "eb2dd587",
   "metadata": {
    "execution": {
     "iopub.execute_input": "2023-03-31T14:08:23.088509Z",
     "iopub.status.busy": "2023-03-31T14:08:23.087964Z",
     "iopub.status.idle": "2023-03-31T14:08:23.095680Z",
     "shell.execute_reply": "2023-03-31T14:08:23.094128Z"
    },
    "papermill": {
     "duration": 0.019273,
     "end_time": "2023-03-31T14:08:23.099001",
     "exception": false,
     "start_time": "2023-03-31T14:08:23.079728",
     "status": "completed"
    },
    "tags": []
   },
   "outputs": [
    {
     "name": "stdout",
     "output_type": "stream",
     "text": [
      "1.0\n",
      "<class 'float'>\n",
      "1\n",
      "<class 'int'>\n"
     ]
    }
   ],
   "source": [
    "# Define a float\n",
    "y = 1.\n",
    "print(y)\n",
    "print(type(y))\n",
    "\n",
    "# Convert float to integer with the int function\n",
    "z = int(y)\n",
    "print(z)\n",
    "print(type(z))"
   ]
  },
  {
   "cell_type": "markdown",
   "id": "4c41819e",
   "metadata": {
    "papermill": {
     "duration": 0.006373,
     "end_time": "2023-03-31T14:08:23.112079",
     "exception": false,
     "start_time": "2023-03-31T14:08:23.105706",
     "status": "completed"
    },
    "tags": []
   },
   "source": [
    "In this case, the float you are using has no numbers after the decimal.  \n",
    "- But what happens when you try to convert a float with a fractional part to an integer?  \n",
    "- How does the outcome of the `int` function change for positive and negative numbers?\n",
    "\n",
    "Use the next code cell to investigate and answer these questions.  Feel free to add or remove any lines of code -- it is your workspace!"
   ]
  },
  {
   "cell_type": "code",
   "execution_count": 3,
   "id": "facf83a8",
   "metadata": {
    "execution": {
     "iopub.execute_input": "2023-03-31T14:08:23.127893Z",
     "iopub.status.busy": "2023-03-31T14:08:23.126961Z",
     "iopub.status.idle": "2023-03-31T14:08:23.134911Z",
     "shell.execute_reply": "2023-03-31T14:08:23.133137Z"
    },
    "papermill": {
     "duration": 0.018868,
     "end_time": "2023-03-31T14:08:23.137705",
     "exception": false,
     "start_time": "2023-03-31T14:08:23.118837",
     "status": "completed"
    },
    "tags": []
   },
   "outputs": [
    {
     "name": "stdout",
     "output_type": "stream",
     "text": [
      "1\n",
      "1\n",
      "-3\n",
      "-2\n"
     ]
    }
   ],
   "source": [
    "# Uncomment and run this code to get started!\n",
    "print(int(1.2321))\n",
    "print(int(1.747))\n",
    "print(int(-3.94535))\n",
    "print(int(-2.19774))"
   ]
  },
  {
   "cell_type": "markdown",
   "id": "4ef02d7f",
   "metadata": {
    "papermill": {
     "duration": 0.006539,
     "end_time": "2023-03-31T14:08:23.151108",
     "exception": false,
     "start_time": "2023-03-31T14:08:23.144569",
     "status": "completed"
    },
    "tags": []
   },
   "source": [
    "Once you have an answer, run the code cell below to see the solution.  Viewing the solution will give you credit for answering the problem."
   ]
  },
  {
   "cell_type": "code",
   "execution_count": 4,
   "id": "89979f8c",
   "metadata": {
    "execution": {
     "iopub.execute_input": "2023-03-31T14:08:23.166624Z",
     "iopub.status.busy": "2023-03-31T14:08:23.166148Z",
     "iopub.status.idle": "2023-03-31T14:08:23.176598Z",
     "shell.execute_reply": "2023-03-31T14:08:23.175272Z"
    },
    "papermill": {
     "duration": 0.02142,
     "end_time": "2023-03-31T14:08:23.179184",
     "exception": false,
     "start_time": "2023-03-31T14:08:23.157764",
     "status": "completed"
    },
    "tags": []
   },
   "outputs": [
    {
     "data": {
      "application/javascript": [
       "parent.postMessage({\"jupyterEvent\": \"custom.exercise_interaction\", \"data\": {\"outcomeType\": 1, \"valueTowardsCompletion\": 0.2, \"interactionType\": 1, \"questionType\": 4, \"questionId\": \"1_FloatToInt\", \"learnToolsVersion\": \"0.3.4\", \"failureMessage\": \"\", \"exceptionClass\": \"\", \"trace\": \"\"}}, \"*\")"
      ],
      "text/plain": [
       "<IPython.core.display.Javascript object>"
      ]
     },
     "metadata": {},
     "output_type": "display_data"
    },
    {
     "data": {
      "text/markdown": [
       "<span style=\"color:#33cc33\">Correct:</span> \n",
       "\n",
       "Negative floats are always rounded UP to the closest integer (for instance, both -1.1 and -1.9 are rounded up to -1). Positive floats are always rounded DOWN to the closest integer (for instance, 2.1 and 2.9 are rounded down to 2)."
      ],
      "text/plain": [
       "Correct: \n",
       "\n",
       "Negative floats are always rounded UP to the closest integer (for instance, both -1.1 and -1.9 are rounded up to -1). Positive floats are always rounded DOWN to the closest integer (for instance, 2.1 and 2.9 are rounded down to 2)."
      ]
     },
     "metadata": {},
     "output_type": "display_data"
    }
   ],
   "source": [
    "# Check your answer (Run this code cell to receive credit!)\n",
    "q1.check()"
   ]
  },
  {
   "cell_type": "markdown",
   "id": "6ee537fb",
   "metadata": {
    "papermill": {
     "duration": 0.006715,
     "end_time": "2023-03-31T14:08:23.193012",
     "exception": false,
     "start_time": "2023-03-31T14:08:23.186297",
     "status": "completed"
    },
    "tags": []
   },
   "source": [
    "# Question 2\n",
    "\n",
    "In the tutorial, you learned about booleans (which can take a value of `True` or `False`), in addition to integers, floats, and strings.  For this question, your goal is to determine what happens when you multiply a boolean by any of these data types.  Specifically, \n",
    "- What happens when you multiply an integer or float by `True`?  What happens when you multiply them by `False`?  How does the answer change if the numbers are positive or negative?\n",
    "- What happens when you multiply a string by `True`?  By `False`?\n",
    "\n",
    "Use the next code cell for your investigation. "
   ]
  },
  {
   "cell_type": "code",
   "execution_count": 5,
   "id": "5d13c81c",
   "metadata": {
    "execution": {
     "iopub.execute_input": "2023-03-31T14:08:23.209292Z",
     "iopub.status.busy": "2023-03-31T14:08:23.208882Z",
     "iopub.status.idle": "2023-03-31T14:08:23.216582Z",
     "shell.execute_reply": "2023-03-31T14:08:23.214710Z"
    },
    "papermill": {
     "duration": 0.020176,
     "end_time": "2023-03-31T14:08:23.220217",
     "exception": false,
     "start_time": "2023-03-31T14:08:23.200041",
     "status": "completed"
    },
    "tags": []
   },
   "outputs": [
    {
     "name": "stdout",
     "output_type": "stream",
     "text": [
      "3\n",
      "-3.1\n",
      "<class 'str'>\n",
      "0\n"
     ]
    }
   ],
   "source": [
    "# Uncomment and run this code to get started!\n",
    "print(3 * True)\n",
    "print(-3.1 * True)\n",
    "print(type(\"abc\" * False))\n",
    "print(len(\"abc\" * False))"
   ]
  },
  {
   "cell_type": "markdown",
   "id": "9458cc70",
   "metadata": {
    "papermill": {
     "duration": 0.006671,
     "end_time": "2023-03-31T14:08:23.235520",
     "exception": false,
     "start_time": "2023-03-31T14:08:23.228849",
     "status": "completed"
    },
    "tags": []
   },
   "source": [
    "Once you have an answer, run the code cell below to see the solution.  Viewing the solution will give you credit for answering the problem."
   ]
  },
  {
   "cell_type": "code",
   "execution_count": 6,
   "id": "89592c48",
   "metadata": {
    "execution": {
     "iopub.execute_input": "2023-03-31T14:08:23.251614Z",
     "iopub.status.busy": "2023-03-31T14:08:23.251193Z",
     "iopub.status.idle": "2023-03-31T14:08:23.261446Z",
     "shell.execute_reply": "2023-03-31T14:08:23.260104Z"
    },
    "papermill": {
     "duration": 0.021559,
     "end_time": "2023-03-31T14:08:23.264036",
     "exception": false,
     "start_time": "2023-03-31T14:08:23.242477",
     "status": "completed"
    },
    "tags": []
   },
   "outputs": [
    {
     "data": {
      "application/javascript": [
       "parent.postMessage({\"jupyterEvent\": \"custom.exercise_interaction\", \"data\": {\"outcomeType\": 1, \"valueTowardsCompletion\": 0.2, \"interactionType\": 1, \"questionType\": 4, \"questionId\": \"2_MultiplyBooleans\", \"learnToolsVersion\": \"0.3.4\", \"failureMessage\": \"\", \"exceptionClass\": \"\", \"trace\": \"\"}}, \"*\")"
      ],
      "text/plain": [
       "<IPython.core.display.Javascript object>"
      ]
     },
     "metadata": {},
     "output_type": "display_data"
    },
    {
     "data": {
      "text/markdown": [
       "<span style=\"color:#33cc33\">Correct:</span> \n",
       "\n",
       "When you multiple an integer or float by a boolean with value `True`, it just returns that same integer or float (and is equivalent to multiplying by 1).  If you multiply an integer or float by a boolean with value `False`, it always returns 0.  This is true for both positive and negative numbers.  If you multiply a string by a boolean with value `True`, it just returns that same string.  And if you multiply a string by a boolean with value `False`, it returns an empty string (or a string with length zero)."
      ],
      "text/plain": [
       "Correct: \n",
       "\n",
       "When you multiple an integer or float by a boolean with value `True`, it just returns that same integer or float (and is equivalent to multiplying by 1).  If you multiply an integer or float by a boolean with value `False`, it always returns 0.  This is true for both positive and negative numbers.  If you multiply a string by a boolean with value `True`, it just returns that same string.  And if you multiply a string by a boolean with value `False`, it returns an empty string (or a string with length zero)."
      ]
     },
     "metadata": {},
     "output_type": "display_data"
    }
   ],
   "source": [
    "# Check your answer (Run this code cell to receive credit!)\n",
    "q2.check()"
   ]
  },
  {
   "cell_type": "markdown",
   "id": "dcac9882",
   "metadata": {
    "papermill": {
     "duration": 0.006943,
     "end_time": "2023-03-31T14:08:23.278437",
     "exception": false,
     "start_time": "2023-03-31T14:08:23.271494",
     "status": "completed"
    },
    "tags": []
   },
   "source": [
    "# Question 3\n",
    "\n",
    "In this question, you will build off your work from the previous exercise to write a function that estimates the value of a house.\n",
    "\n",
    "Use the next code cell to create a function `get_expected_cost` that takes as input three variables:\n",
    "- `beds` - number of bedrooms (data type float)\n",
    "- `baths` - number of bathrooms (data type float)\n",
    "- `has_basement` - whether or not the house has a basement (data type boolean)\n",
    "\n",
    "It should return the expected cost of a house with those characteristics. Assume that:\n",
    "- the expected cost for a house with 0 bedrooms and 0 bathrooms, and no basement is 80000, \n",
    "- each bedroom adds 30000 to the expected cost,\n",
    "- each bathroom adds 10000 to the expected cost, and\n",
    "- a basement adds 40000 to the expected cost.\n",
    "\n",
    "For instance,\n",
    "- a house with 1 bedroom, 1 bathroom, and no basement has an expected cost of 80000 + 30000 + 10000 = 120000.  This value will be calculated with `get_expected_cost(1, 1, False)`.\n",
    "- a house with 2 bedrooms, 1 bathroom, and a basement has an expected cost of 80000 + 2*30000 + 10000 + 40000 = 190000.  This value will be calculated with `get_expected_cost(2, 1, True)`.\n",
    "\n",
    "Remember you can always get a hint by uncommenting `q3.hint()` in the code cell following the next!"
   ]
  },
  {
   "cell_type": "code",
   "execution_count": 7,
   "id": "bacaef2f",
   "metadata": {
    "execution": {
     "iopub.execute_input": "2023-03-31T14:08:23.294743Z",
     "iopub.status.busy": "2023-03-31T14:08:23.294305Z",
     "iopub.status.idle": "2023-03-31T14:08:23.306569Z",
     "shell.execute_reply": "2023-03-31T14:08:23.305159Z"
    },
    "papermill": {
     "duration": 0.023972,
     "end_time": "2023-03-31T14:08:23.309630",
     "exception": false,
     "start_time": "2023-03-31T14:08:23.285658",
     "status": "completed"
    },
    "tags": []
   },
   "outputs": [
    {
     "data": {
      "application/javascript": [
       "parent.postMessage({\"jupyterEvent\": \"custom.exercise_interaction\", \"data\": {\"outcomeType\": 1, \"valueTowardsCompletion\": 0.2, \"interactionType\": 1, \"questionType\": 2, \"questionId\": \"3_EstimateHouseValueBool\", \"learnToolsVersion\": \"0.3.4\", \"failureMessage\": \"\", \"exceptionClass\": \"\", \"trace\": \"\"}}, \"*\")"
      ],
      "text/plain": [
       "<IPython.core.display.Javascript object>"
      ]
     },
     "metadata": {},
     "output_type": "display_data"
    },
    {
     "data": {
      "text/markdown": [
       "<span style=\"color:#33cc33\">Correct</span>"
      ],
      "text/plain": [
       "Correct"
      ]
     },
     "metadata": {},
     "output_type": "display_data"
    }
   ],
   "source": [
    "# TODO: Complete the function\n",
    "def get_expected_cost(beds, baths, has_basement):\n",
    "    value = 80000 + beds * 30000 + baths * 10000 + has_basement * 40000\n",
    "    return value\n",
    "\n",
    "# Check your answer \n",
    "q3.check()"
   ]
  },
  {
   "cell_type": "code",
   "execution_count": 8,
   "id": "20dd220c",
   "metadata": {
    "execution": {
     "iopub.execute_input": "2023-03-31T14:08:23.327597Z",
     "iopub.status.busy": "2023-03-31T14:08:23.327202Z",
     "iopub.status.idle": "2023-03-31T14:08:23.332281Z",
     "shell.execute_reply": "2023-03-31T14:08:23.330705Z"
    },
    "papermill": {
     "duration": 0.017004,
     "end_time": "2023-03-31T14:08:23.334826",
     "exception": false,
     "start_time": "2023-03-31T14:08:23.317822",
     "status": "completed"
    },
    "tags": []
   },
   "outputs": [],
   "source": [
    "# Uncomment to see a hint\n",
    "#q3.hint()\n",
    "\n",
    "# Uncomment to view the solution\n",
    "#q3.solution()"
   ]
  },
  {
   "cell_type": "markdown",
   "id": "bca568cd",
   "metadata": {
    "papermill": {
     "duration": 0.007099,
     "end_time": "2023-03-31T14:08:23.349508",
     "exception": false,
     "start_time": "2023-03-31T14:08:23.342409",
     "status": "completed"
    },
    "tags": []
   },
   "source": [
    "# Question 4\n",
    "\n",
    "We'll continue our study of boolean arithmetic.  For this question, your task is to provide a description of what happpens when you add booleans. \n",
    "\n",
    "Use the next code cell for your investigation.  Feel free to add or remove any lines of code - use it as your workspace!"
   ]
  },
  {
   "cell_type": "code",
   "execution_count": 9,
   "id": "1391bece",
   "metadata": {
    "execution": {
     "iopub.execute_input": "2023-03-31T14:08:23.367562Z",
     "iopub.status.busy": "2023-03-31T14:08:23.366572Z",
     "iopub.status.idle": "2023-03-31T14:08:23.374189Z",
     "shell.execute_reply": "2023-03-31T14:08:23.372858Z"
    },
    "papermill": {
     "duration": 0.0196,
     "end_time": "2023-03-31T14:08:23.376913",
     "exception": false,
     "start_time": "2023-03-31T14:08:23.357313",
     "status": "completed"
    },
    "tags": []
   },
   "outputs": [
    {
     "name": "stdout",
     "output_type": "stream",
     "text": [
      "0\n",
      "1\n",
      "1\n",
      "2\n",
      "3\n"
     ]
    }
   ],
   "source": [
    "print(False + False)\n",
    "print(True + False)\n",
    "print(False + True)\n",
    "print(True + True)\n",
    "print(False + True + True + True)"
   ]
  },
  {
   "cell_type": "markdown",
   "id": "0abafc43",
   "metadata": {
    "papermill": {
     "duration": 0.007363,
     "end_time": "2023-03-31T14:08:23.391925",
     "exception": false,
     "start_time": "2023-03-31T14:08:23.384562",
     "status": "completed"
    },
    "tags": []
   },
   "source": [
    "Once you have an answer, run the code cell below to see the solution.  Viewing the solution will give you credit for answering the problem."
   ]
  },
  {
   "cell_type": "code",
   "execution_count": 10,
   "id": "8fdf69da",
   "metadata": {
    "execution": {
     "iopub.execute_input": "2023-03-31T14:08:23.409716Z",
     "iopub.status.busy": "2023-03-31T14:08:23.409289Z",
     "iopub.status.idle": "2023-03-31T14:08:23.419192Z",
     "shell.execute_reply": "2023-03-31T14:08:23.417841Z"
    },
    "papermill": {
     "duration": 0.021994,
     "end_time": "2023-03-31T14:08:23.421589",
     "exception": false,
     "start_time": "2023-03-31T14:08:23.399595",
     "status": "completed"
    },
    "tags": []
   },
   "outputs": [
    {
     "data": {
      "application/javascript": [
       "parent.postMessage({\"jupyterEvent\": \"custom.exercise_interaction\", \"data\": {\"outcomeType\": 1, \"valueTowardsCompletion\": 0.2, \"interactionType\": 1, \"questionType\": 4, \"questionId\": \"4_AddingBooleans\", \"learnToolsVersion\": \"0.3.4\", \"failureMessage\": \"\", \"exceptionClass\": \"\", \"trace\": \"\"}}, \"*\")"
      ],
      "text/plain": [
       "<IPython.core.display.Javascript object>"
      ]
     },
     "metadata": {},
     "output_type": "display_data"
    },
    {
     "data": {
      "text/markdown": [
       "<span style=\"color:#33cc33\">Correct:</span> \n",
       "\n",
       "When you add booleans, adding `False` is equivalent to adding 0, and adding `True` is equivalent to adding 1."
      ],
      "text/plain": [
       "Correct: \n",
       "\n",
       "When you add booleans, adding `False` is equivalent to adding 0, and adding `True` is equivalent to adding 1."
      ]
     },
     "metadata": {},
     "output_type": "display_data"
    }
   ],
   "source": [
    "# Check your answer (Run this code cell to receive credit!)\n",
    "q4.check()"
   ]
  },
  {
   "cell_type": "markdown",
   "id": "cf541636",
   "metadata": {
    "papermill": {
     "duration": 0.007625,
     "end_time": "2023-03-31T14:08:23.437129",
     "exception": false,
     "start_time": "2023-03-31T14:08:23.429504",
     "status": "completed"
    },
    "tags": []
   },
   "source": [
    "# 🌶️ Question 5\n",
    "\n",
    "You own an online shop where you sell rings with custom engravings.  You offer both gold plated and solid gold rings.\n",
    "- Gold plated rings have a base cost of \\\\$50, and you charge \\\\$7 per engraved unit.  \n",
    "- Solid gold rings have a base cost of \\\\$100, and you charge \\\\$10 per engraved unit.\n",
    "- Spaces and punctuation are counted as engraved units.\n",
    "\n",
    "Write a function `cost_of_project()` that takes two arguments:\n",
    "- `engraving` - a Python string with the text of the engraving\n",
    "- `solid_gold` - a Boolean that indicates whether the ring is solid gold\n",
    "\n",
    "It should return the cost of the project.  This question should be fairly challenging, and you may need a hint."
   ]
  },
  {
   "cell_type": "code",
   "execution_count": 11,
   "id": "73f1e10d",
   "metadata": {
    "execution": {
     "iopub.execute_input": "2023-03-31T14:08:23.454616Z",
     "iopub.status.busy": "2023-03-31T14:08:23.454196Z",
     "iopub.status.idle": "2023-03-31T14:08:23.465570Z",
     "shell.execute_reply": "2023-03-31T14:08:23.464097Z"
    },
    "papermill": {
     "duration": 0.023429,
     "end_time": "2023-03-31T14:08:23.468302",
     "exception": false,
     "start_time": "2023-03-31T14:08:23.444873",
     "status": "completed"
    },
    "tags": []
   },
   "outputs": [
    {
     "data": {
      "application/javascript": [
       "parent.postMessage({\"jupyterEvent\": \"custom.exercise_interaction\", \"data\": {\"outcomeType\": 1, \"valueTowardsCompletion\": 0.2, \"interactionType\": 1, \"questionType\": 2, \"questionId\": \"5_CustomEngravings\", \"learnToolsVersion\": \"0.3.4\", \"failureMessage\": \"\", \"exceptionClass\": \"\", \"trace\": \"\"}}, \"*\")"
      ],
      "text/plain": [
       "<IPython.core.display.Javascript object>"
      ]
     },
     "metadata": {},
     "output_type": "display_data"
    },
    {
     "data": {
      "text/markdown": [
       "<span style=\"color:#33cc33\">Correct</span>"
      ],
      "text/plain": [
       "Correct"
      ]
     },
     "metadata": {},
     "output_type": "display_data"
    }
   ],
   "source": [
    "def cost_of_project(engraving, solid_gold):\n",
    "    cost = len(engraving) * 10 + 100 if solid_gold else len(engraving) * 7 + 50\n",
    "    return cost\n",
    "\n",
    "# Check your answer\n",
    "q5.check()"
   ]
  },
  {
   "cell_type": "code",
   "execution_count": 12,
   "id": "4e0405c8",
   "metadata": {
    "execution": {
     "iopub.execute_input": "2023-03-31T14:08:23.486514Z",
     "iopub.status.busy": "2023-03-31T14:08:23.486116Z",
     "iopub.status.idle": "2023-03-31T14:08:23.491484Z",
     "shell.execute_reply": "2023-03-31T14:08:23.490128Z"
    },
    "papermill": {
     "duration": 0.017663,
     "end_time": "2023-03-31T14:08:23.494206",
     "exception": false,
     "start_time": "2023-03-31T14:08:23.476543",
     "status": "completed"
    },
    "tags": []
   },
   "outputs": [],
   "source": [
    "# Uncomment to see a hint\n",
    "#q5.hint()\n",
    "\n",
    "# Uncomment to view the solution\n",
    "#q5.solution()"
   ]
  },
  {
   "cell_type": "markdown",
   "id": "0c85cdbe",
   "metadata": {
    "papermill": {
     "duration": 0.007857,
     "end_time": "2023-03-31T14:08:23.510145",
     "exception": false,
     "start_time": "2023-03-31T14:08:23.502288",
     "status": "completed"
    },
    "tags": []
   },
   "source": [
    "Run the next code cell to calculate the cost of engraving `Charlie+Denver` on a solid gold ring."
   ]
  },
  {
   "cell_type": "code",
   "execution_count": 13,
   "id": "79650544",
   "metadata": {
    "execution": {
     "iopub.execute_input": "2023-03-31T14:08:23.528180Z",
     "iopub.status.busy": "2023-03-31T14:08:23.527718Z",
     "iopub.status.idle": "2023-03-31T14:08:23.534292Z",
     "shell.execute_reply": "2023-03-31T14:08:23.532795Z"
    },
    "papermill": {
     "duration": 0.018874,
     "end_time": "2023-03-31T14:08:23.537048",
     "exception": false,
     "start_time": "2023-03-31T14:08:23.518174",
     "status": "completed"
    },
    "tags": []
   },
   "outputs": [
    {
     "name": "stdout",
     "output_type": "stream",
     "text": [
      "240\n"
     ]
    }
   ],
   "source": [
    "project_one = cost_of_project(\"Charlie+Denver\", True)\n",
    "print(project_one)"
   ]
  },
  {
   "cell_type": "markdown",
   "id": "a770af6c",
   "metadata": {
    "papermill": {
     "duration": 0.007912,
     "end_time": "2023-03-31T14:08:23.553402",
     "exception": false,
     "start_time": "2023-03-31T14:08:23.545490",
     "status": "completed"
    },
    "tags": []
   },
   "source": [
    "Use the next code cell to calculate the cost of engraving `08/10/2000` on a gold plated ring."
   ]
  },
  {
   "cell_type": "code",
   "execution_count": 14,
   "id": "55f7d65e",
   "metadata": {
    "execution": {
     "iopub.execute_input": "2023-03-31T14:08:23.573491Z",
     "iopub.status.busy": "2023-03-31T14:08:23.572561Z",
     "iopub.status.idle": "2023-03-31T14:08:23.580265Z",
     "shell.execute_reply": "2023-03-31T14:08:23.578291Z"
    },
    "papermill": {
     "duration": 0.021393,
     "end_time": "2023-03-31T14:08:23.583237",
     "exception": false,
     "start_time": "2023-03-31T14:08:23.561844",
     "status": "completed"
    },
    "tags": []
   },
   "outputs": [
    {
     "name": "stdout",
     "output_type": "stream",
     "text": [
      "120\n"
     ]
    }
   ],
   "source": [
    "project_two = cost_of_project(\"08/10/2000\", False)\n",
    "print(project_two)"
   ]
  },
  {
   "cell_type": "markdown",
   "id": "d4e5c9ed",
   "metadata": {
    "papermill": {
     "duration": 0.0083,
     "end_time": "2023-03-31T14:08:23.600937",
     "exception": false,
     "start_time": "2023-03-31T14:08:23.592637",
     "status": "completed"
    },
    "tags": []
   },
   "source": [
    "# Keep going\n",
    "\n",
    "Continue to the next lesson to **[learn about conditions and conditional statements](https://www.kaggle.com/alexisbcook/conditions-and-conditional-statements)**."
   ]
  },
  {
   "cell_type": "markdown",
   "id": "326b84eb",
   "metadata": {
    "papermill": {
     "duration": 0.008037,
     "end_time": "2023-03-31T14:08:23.617483",
     "exception": false,
     "start_time": "2023-03-31T14:08:23.609446",
     "status": "completed"
    },
    "tags": []
   },
   "source": [
    "---\n",
    "\n",
    "\n",
    "\n",
    "\n",
    "*Have questions or comments? Visit the [course discussion forum](https://www.kaggle.com/learn/intro-to-programming/discussion) to chat with other learners.*"
   ]
  }
 ],
 "metadata": {
  "kernelspec": {
   "display_name": "Python 3",
   "language": "python",
   "name": "python3"
  },
  "language_info": {
   "codemirror_mode": {
    "name": "ipython",
    "version": 3
   },
   "file_extension": ".py",
   "mimetype": "text/x-python",
   "name": "python",
   "nbconvert_exporter": "python",
   "pygments_lexer": "ipython3",
   "version": "3.7.12"
  },
  "papermill": {
   "default_parameters": {},
   "duration": 13.092878,
   "end_time": "2023-03-31T14:08:24.349137",
   "environment_variables": {},
   "exception": null,
   "input_path": "__notebook__.ipynb",
   "output_path": "__notebook__.ipynb",
   "parameters": {},
   "start_time": "2023-03-31T14:08:11.256259",
   "version": "2.4.0"
  }
 },
 "nbformat": 4,
 "nbformat_minor": 5
}
