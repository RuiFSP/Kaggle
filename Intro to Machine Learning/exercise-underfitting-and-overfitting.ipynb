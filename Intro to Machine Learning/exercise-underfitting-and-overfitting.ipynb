{
 "cells": [
  {
   "cell_type": "markdown",
   "id": "5a506a01",
   "metadata": {
    "papermill": {
     "duration": 0.005081,
     "end_time": "2023-08-15T08:27:11.844907",
     "exception": false,
     "start_time": "2023-08-15T08:27:11.839826",
     "status": "completed"
    },
    "tags": []
   },
   "source": [
    "**This notebook is an exercise in the [Introduction to Machine Learning](https://www.kaggle.com/learn/intro-to-machine-learning) course.  You can reference the tutorial at [this link](https://www.kaggle.com/dansbecker/underfitting-and-overfitting).**\n",
    "\n",
    "---\n"
   ]
  },
  {
   "cell_type": "markdown",
   "id": "6bffffe6",
   "metadata": {
    "papermill": {
     "duration": 0.004185,
     "end_time": "2023-08-15T08:27:11.853868",
     "exception": false,
     "start_time": "2023-08-15T08:27:11.849683",
     "status": "completed"
    },
    "tags": []
   },
   "source": [
    "## Recap\n",
    "You've built your first model, and now it's time to optimize the size of the tree to make better predictions. Run this cell to set up your coding environment where the previous step left off."
   ]
  },
  {
   "cell_type": "code",
   "execution_count": 1,
   "id": "be5628d0",
   "metadata": {
    "execution": {
     "iopub.execute_input": "2023-08-15T08:27:11.865134Z",
     "iopub.status.busy": "2023-08-15T08:27:11.864615Z",
     "iopub.status.idle": "2023-08-15T08:27:13.708725Z",
     "shell.execute_reply": "2023-08-15T08:27:13.707036Z"
    },
    "papermill": {
     "duration": 1.853452,
     "end_time": "2023-08-15T08:27:13.711896",
     "exception": false,
     "start_time": "2023-08-15T08:27:11.858444",
     "status": "completed"
    },
    "tags": []
   },
   "outputs": [
    {
     "name": "stderr",
     "output_type": "stream",
     "text": [
      "/opt/conda/lib/python3.10/site-packages/scipy/__init__.py:146: UserWarning: A NumPy version >=1.16.5 and <1.23.0 is required for this version of SciPy (detected version 1.23.5\n",
      "  warnings.warn(f\"A NumPy version >={np_minversion} and <{np_maxversion}\"\n"
     ]
    },
    {
     "name": "stdout",
     "output_type": "stream",
     "text": [
      "Validation MAE: 29,653\n",
      "\n",
      "Setup complete\n"
     ]
    }
   ],
   "source": [
    "# Code you have previously used to load data\n",
    "import pandas as pd\n",
    "from sklearn.metrics import mean_absolute_error\n",
    "from sklearn.model_selection import train_test_split\n",
    "from sklearn.tree import DecisionTreeRegressor\n",
    "\n",
    "\n",
    "# Path of the file to read\n",
    "iowa_file_path = '../input/home-data-for-ml-course/train.csv'\n",
    "\n",
    "home_data = pd.read_csv(iowa_file_path)\n",
    "# Create target object and call it y\n",
    "y = home_data.SalePrice\n",
    "# Create X\n",
    "features = ['LotArea', 'YearBuilt', '1stFlrSF', '2ndFlrSF', 'FullBath', 'BedroomAbvGr', 'TotRmsAbvGrd']\n",
    "X = home_data[features]\n",
    "\n",
    "# Split into validation and training data\n",
    "train_X, val_X, train_y, val_y = train_test_split(X, y, random_state=1)\n",
    "\n",
    "# Specify Model\n",
    "iowa_model = DecisionTreeRegressor(random_state=1)\n",
    "# Fit Model\n",
    "iowa_model.fit(train_X, train_y)\n",
    "\n",
    "# Make validation predictions and calculate mean absolute error\n",
    "val_predictions = iowa_model.predict(val_X)\n",
    "val_mae = mean_absolute_error(val_predictions, val_y)\n",
    "print(\"Validation MAE: {:,.0f}\".format(val_mae))\n",
    "\n",
    "# Set up code checking\n",
    "from learntools.core import binder\n",
    "binder.bind(globals())\n",
    "from learntools.machine_learning.ex5 import *\n",
    "print(\"\\nSetup complete\")"
   ]
  },
  {
   "cell_type": "markdown",
   "id": "af0d3072",
   "metadata": {
    "papermill": {
     "duration": 0.004597,
     "end_time": "2023-08-15T08:27:13.721530",
     "exception": false,
     "start_time": "2023-08-15T08:27:13.716933",
     "status": "completed"
    },
    "tags": []
   },
   "source": [
    "# Exercises\n",
    "You could write the function `get_mae` yourself. For now, we'll supply it. This is the same function you read about in the previous lesson. Just run the cell below."
   ]
  },
  {
   "cell_type": "code",
   "execution_count": 2,
   "id": "53a807c6",
   "metadata": {
    "execution": {
     "iopub.execute_input": "2023-08-15T08:27:13.733464Z",
     "iopub.status.busy": "2023-08-15T08:27:13.732962Z",
     "iopub.status.idle": "2023-08-15T08:27:13.740068Z",
     "shell.execute_reply": "2023-08-15T08:27:13.738656Z"
    },
    "papermill": {
     "duration": 0.016381,
     "end_time": "2023-08-15T08:27:13.742604",
     "exception": false,
     "start_time": "2023-08-15T08:27:13.726223",
     "status": "completed"
    },
    "tags": []
   },
   "outputs": [],
   "source": [
    "def get_mae(max_leaf_nodes, train_X, val_X, train_y, val_y):\n",
    "    model = DecisionTreeRegressor(max_leaf_nodes=max_leaf_nodes, random_state=0)\n",
    "    model.fit(train_X, train_y)\n",
    "    preds_val = model.predict(val_X)\n",
    "    mae = mean_absolute_error(val_y, preds_val)\n",
    "    return(mae)"
   ]
  },
  {
   "cell_type": "markdown",
   "id": "b4647c94",
   "metadata": {
    "papermill": {
     "duration": 0.004484,
     "end_time": "2023-08-15T08:27:13.751936",
     "exception": false,
     "start_time": "2023-08-15T08:27:13.747452",
     "status": "completed"
    },
    "tags": []
   },
   "source": [
    "## Step 1: Compare Different Tree Sizes\n",
    "Write a loop that tries the following values for *max_leaf_nodes* from a set of possible values.\n",
    "\n",
    "Call the *get_mae* function on each value of max_leaf_nodes. Store the output in some way that allows you to select the value of `max_leaf_nodes` that gives the most accurate model on your data."
   ]
  },
  {
   "cell_type": "code",
   "execution_count": 3,
   "id": "eb4c47d7",
   "metadata": {
    "execution": {
     "iopub.execute_input": "2023-08-15T08:27:13.763420Z",
     "iopub.status.busy": "2023-08-15T08:27:13.762924Z",
     "iopub.status.idle": "2023-08-15T08:27:13.818627Z",
     "shell.execute_reply": "2023-08-15T08:27:13.817672Z"
    },
    "papermill": {
     "duration": 0.064248,
     "end_time": "2023-08-15T08:27:13.820730",
     "exception": false,
     "start_time": "2023-08-15T08:27:13.756482",
     "status": "completed"
    },
    "tags": []
   },
   "outputs": [
    {
     "data": {
      "application/javascript": [
       "parent.postMessage({\"jupyterEvent\": \"custom.exercise_interaction\", \"data\": {\"outcomeType\": 1, \"valueTowardsCompletion\": 0.5, \"interactionType\": 1, \"questionType\": 1, \"questionId\": \"1_BestTreeSize\", \"learnToolsVersion\": \"0.3.4\", \"failureMessage\": \"\", \"exceptionClass\": \"\", \"trace\": \"\"}}, \"*\")"
      ],
      "text/plain": [
       "<IPython.core.display.Javascript object>"
      ]
     },
     "metadata": {},
     "output_type": "display_data"
    },
    {
     "data": {
      "text/markdown": [
       "<span style=\"color:#33cc33\">Correct</span>"
      ],
      "text/plain": [
       "Correct"
      ]
     },
     "metadata": {},
     "output_type": "display_data"
    }
   ],
   "source": [
    "candidate_max_leaf_nodes = [5, 25, 50, 100, 250, 500]\n",
    "# Write loop to find the ideal tree size from candidate_max_leaf_nodes\n",
    "# look with all key values\n",
    "scores = {leaf_size: get_mae(leaf_size, train_X, val_X, train_y, val_y) for leaf_size in candidate_max_leaf_nodes}\n",
    "    \n",
    "# Store the best value of max_leaf_nodes (it will be either 5, 25, 50, 100, 250 or 500)\n",
    "best_tree_size = min(scores, key=scores.get)\n",
    "\n",
    "# Check your answer\n",
    "step_1.check()"
   ]
  },
  {
   "cell_type": "code",
   "execution_count": 4,
   "id": "0830e0df",
   "metadata": {
    "execution": {
     "iopub.execute_input": "2023-08-15T08:27:13.833488Z",
     "iopub.status.busy": "2023-08-15T08:27:13.833056Z",
     "iopub.status.idle": "2023-08-15T08:27:13.838218Z",
     "shell.execute_reply": "2023-08-15T08:27:13.836866Z"
    },
    "papermill": {
     "duration": 0.014763,
     "end_time": "2023-08-15T08:27:13.840656",
     "exception": false,
     "start_time": "2023-08-15T08:27:13.825893",
     "status": "completed"
    },
    "tags": []
   },
   "outputs": [],
   "source": [
    "# The lines below will show you a hint or the solution.\n",
    "# step_1.hint() \n",
    "# step_1.solution()"
   ]
  },
  {
   "cell_type": "markdown",
   "id": "8d52e621",
   "metadata": {
    "papermill": {
     "duration": 0.004942,
     "end_time": "2023-08-15T08:27:13.853200",
     "exception": false,
     "start_time": "2023-08-15T08:27:13.848258",
     "status": "completed"
    },
    "tags": []
   },
   "source": [
    "## Step 2: Fit Model Using All Data\n",
    "You know the best tree size. If you were going to deploy this model in practice, you would make it even more accurate by using all of the data and keeping that tree size.  That is, you don't need to hold out the validation data now that you've made all your modeling decisions."
   ]
  },
  {
   "cell_type": "code",
   "execution_count": 5,
   "id": "d86bef9b",
   "metadata": {
    "execution": {
     "iopub.execute_input": "2023-08-15T08:27:13.865524Z",
     "iopub.status.busy": "2023-08-15T08:27:13.865098Z",
     "iopub.status.idle": "2023-08-15T08:27:13.885236Z",
     "shell.execute_reply": "2023-08-15T08:27:13.884199Z"
    },
    "papermill": {
     "duration": 0.02925,
     "end_time": "2023-08-15T08:27:13.887643",
     "exception": false,
     "start_time": "2023-08-15T08:27:13.858393",
     "status": "completed"
    },
    "tags": []
   },
   "outputs": [
    {
     "data": {
      "application/javascript": [
       "parent.postMessage({\"jupyterEvent\": \"custom.exercise_interaction\", \"data\": {\"outcomeType\": 1, \"valueTowardsCompletion\": 0.5, \"interactionType\": 1, \"questionType\": 2, \"questionId\": \"2_FitModelWithAllData\", \"learnToolsVersion\": \"0.3.4\", \"failureMessage\": \"\", \"exceptionClass\": \"\", \"trace\": \"\"}}, \"*\")"
      ],
      "text/plain": [
       "<IPython.core.display.Javascript object>"
      ]
     },
     "metadata": {},
     "output_type": "display_data"
    },
    {
     "data": {
      "text/markdown": [
       "<span style=\"color:#33cc33\">Correct</span>"
      ],
      "text/plain": [
       "Correct"
      ]
     },
     "metadata": {},
     "output_type": "display_data"
    }
   ],
   "source": [
    "# Fill in argument to make optimal size and uncomment\n",
    "final_model = DecisionTreeRegressor(max_leaf_nodes=best_tree_size, random_state=1)\n",
    "\n",
    "# fit the final model and uncomment the next two lines\n",
    "final_model.fit(X,y)\n",
    "\n",
    "# Check your answer\n",
    "step_2.check()"
   ]
  },
  {
   "cell_type": "code",
   "execution_count": 6,
   "id": "08f1285b",
   "metadata": {
    "execution": {
     "iopub.execute_input": "2023-08-15T08:27:13.901016Z",
     "iopub.status.busy": "2023-08-15T08:27:13.900577Z",
     "iopub.status.idle": "2023-08-15T08:27:13.906136Z",
     "shell.execute_reply": "2023-08-15T08:27:13.904512Z"
    },
    "papermill": {
     "duration": 0.016105,
     "end_time": "2023-08-15T08:27:13.909358",
     "exception": false,
     "start_time": "2023-08-15T08:27:13.893253",
     "status": "completed"
    },
    "tags": []
   },
   "outputs": [],
   "source": [
    "# step_2.hint()\n",
    "# step_2.solution()"
   ]
  },
  {
   "cell_type": "markdown",
   "id": "efdac162",
   "metadata": {
    "papermill": {
     "duration": 0.005172,
     "end_time": "2023-08-15T08:27:13.920346",
     "exception": false,
     "start_time": "2023-08-15T08:27:13.915174",
     "status": "completed"
    },
    "tags": []
   },
   "source": [
    "You've tuned this model and improved your results. But we are still using Decision Tree models, which are not very sophisticated by modern machine learning standards. In the next step you will learn to use Random Forests to improve your models even more.\n",
    "\n",
    "# Keep Going\n",
    "\n",
    "You are ready for **[Random Forests](https://www.kaggle.com/dansbecker/random-forests).**\n"
   ]
  },
  {
   "cell_type": "markdown",
   "id": "f056783c",
   "metadata": {
    "papermill": {
     "duration": 0.005054,
     "end_time": "2023-08-15T08:27:13.930804",
     "exception": false,
     "start_time": "2023-08-15T08:27:13.925750",
     "status": "completed"
    },
    "tags": []
   },
   "source": [
    "---\n",
    "\n",
    "\n",
    "\n",
    "\n",
    "*Have questions or comments? Visit the [course discussion forum](https://www.kaggle.com/learn/intro-to-machine-learning/discussion) to chat with other learners.*"
   ]
  }
 ],
 "metadata": {
  "kernelspec": {
   "display_name": "Python 3",
   "language": "python",
   "name": "python3"
  },
  "language_info": {
   "codemirror_mode": {
    "name": "ipython",
    "version": 3
   },
   "file_extension": ".py",
   "mimetype": "text/x-python",
   "name": "python",
   "nbconvert_exporter": "python",
   "pygments_lexer": "ipython3",
   "version": "3.10.12"
  },
  "papermill": {
   "default_parameters": {},
   "duration": 16.028816,
   "end_time": "2023-08-15T08:27:15.162809",
   "environment_variables": {},
   "exception": null,
   "input_path": "__notebook__.ipynb",
   "output_path": "__notebook__.ipynb",
   "parameters": {},
   "start_time": "2023-08-15T08:26:59.133993",
   "version": "2.4.0"
  }
 },
 "nbformat": 4,
 "nbformat_minor": 5
}
