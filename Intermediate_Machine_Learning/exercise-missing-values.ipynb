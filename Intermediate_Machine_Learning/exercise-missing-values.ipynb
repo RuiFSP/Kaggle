{
 "cells": [
  {
   "cell_type": "markdown",
   "id": "f130b1ff",
   "metadata": {
    "papermill": {
     "duration": 0.007977,
     "end_time": "2023-11-11T16:51:51.840386",
     "exception": false,
     "start_time": "2023-11-11T16:51:51.832409",
     "status": "completed"
    },
    "tags": []
   },
   "source": [
    "**This notebook is an exercise in the [Intermediate Machine Learning](https://www.kaggle.com/learn/intermediate-machine-learning) course.  You can reference the tutorial at [this link](https://www.kaggle.com/alexisbcook/missing-values).**\n",
    "\n",
    "---\n"
   ]
  },
  {
   "cell_type": "markdown",
   "id": "d5a0a191",
   "metadata": {
    "papermill": {
     "duration": 0.006749,
     "end_time": "2023-11-11T16:51:51.854829",
     "exception": false,
     "start_time": "2023-11-11T16:51:51.848080",
     "status": "completed"
    },
    "tags": []
   },
   "source": [
    "Now it's your turn to test your new knowledge of **missing values** handling. You'll probably find it makes a big difference.\n",
    "\n",
    "# Setup\n",
    "\n",
    "The questions will give you feedback on your work. Run the following cell to set up the feedback system."
   ]
  },
  {
   "cell_type": "code",
   "execution_count": 1,
   "id": "821824eb",
   "metadata": {
    "execution": {
     "iopub.execute_input": "2023-11-11T16:51:51.871550Z",
     "iopub.status.busy": "2023-11-11T16:51:51.871091Z",
     "iopub.status.idle": "2023-11-11T16:51:52.292150Z",
     "shell.execute_reply": "2023-11-11T16:51:52.290361Z"
    },
    "papermill": {
     "duration": 0.43365,
     "end_time": "2023-11-11T16:51:52.295539",
     "exception": false,
     "start_time": "2023-11-11T16:51:51.861889",
     "status": "completed"
    },
    "tags": []
   },
   "outputs": [
    {
     "name": "stdout",
     "output_type": "stream",
     "text": [
      "Setup Complete\n"
     ]
    }
   ],
   "source": [
    "# Set up code checking\n",
    "import os\n",
    "if not os.path.exists(\"../input/train.csv\"):\n",
    "    os.symlink(\"../input/home-data-for-ml-course/train.csv\", \"../input/train.csv\")  \n",
    "    os.symlink(\"../input/home-data-for-ml-course/test.csv\", \"../input/test.csv\") \n",
    "from learntools.core import binder\n",
    "binder.bind(globals())\n",
    "from learntools.ml_intermediate.ex2 import *\n",
    "print(\"Setup Complete\")"
   ]
  },
  {
   "cell_type": "markdown",
   "id": "5ae34407",
   "metadata": {
    "papermill": {
     "duration": 0.011701,
     "end_time": "2023-11-11T16:51:52.316266",
     "exception": false,
     "start_time": "2023-11-11T16:51:52.304565",
     "status": "completed"
    },
    "tags": []
   },
   "source": [
    "In this exercise, you will work with data from the [Housing Prices Competition for Kaggle Learn Users](https://www.kaggle.com/c/home-data-for-ml-course). \n",
    "\n",
    "![Ames Housing dataset image](https://storage.googleapis.com/kaggle-media/learn/images/lTJVG4e.png)\n",
    "\n",
    "Run the next code cell without changes to load the training and validation sets in `X_train`, `X_valid`, `y_train`, and `y_valid`.  The test set is loaded in `X_test`."
   ]
  },
  {
   "cell_type": "code",
   "execution_count": 2,
   "id": "80669a93",
   "metadata": {
    "execution": {
     "iopub.execute_input": "2023-11-11T16:51:52.339536Z",
     "iopub.status.busy": "2023-11-11T16:51:52.336578Z",
     "iopub.status.idle": "2023-11-11T16:51:53.749428Z",
     "shell.execute_reply": "2023-11-11T16:51:53.747293Z"
    },
    "papermill": {
     "duration": 1.428465,
     "end_time": "2023-11-11T16:51:53.754233",
     "exception": false,
     "start_time": "2023-11-11T16:51:52.325768",
     "status": "completed"
    },
    "tags": []
   },
   "outputs": [],
   "source": [
    "import pandas as pd\n",
    "from sklearn.model_selection import train_test_split\n",
    "\n",
    "# Read the data\n",
    "X_full = pd.read_csv('../input/train.csv', index_col='Id')\n",
    "X_test_full = pd.read_csv('../input/test.csv', index_col='Id')\n",
    "\n",
    "# Remove rows with missing target, separate target from predictors\n",
    "X_full.dropna(axis=0, subset=['SalePrice'], inplace=True)\n",
    "y = X_full.SalePrice\n",
    "X_full.drop(['SalePrice'], axis=1, inplace=True)\n",
    "\n",
    "# To keep things simple, we'll use only numerical predictors\n",
    "X = X_full.select_dtypes(exclude=['object'])\n",
    "X_test = X_test_full.select_dtypes(exclude=['object'])\n",
    "\n",
    "# Break off validation set from training data\n",
    "X_train, X_valid, y_train, y_valid = train_test_split(X, y, train_size=0.8, test_size=0.2,\n",
    "                                                      random_state=0)"
   ]
  },
  {
   "cell_type": "markdown",
   "id": "975b7a9c",
   "metadata": {
    "papermill": {
     "duration": 0.008934,
     "end_time": "2023-11-11T16:51:53.772105",
     "exception": false,
     "start_time": "2023-11-11T16:51:53.763171",
     "status": "completed"
    },
    "tags": []
   },
   "source": [
    "Use the next code cell to print the first five rows of the data."
   ]
  },
  {
   "cell_type": "code",
   "execution_count": 3,
   "id": "660a51ed",
   "metadata": {
    "execution": {
     "iopub.execute_input": "2023-11-11T16:51:53.792739Z",
     "iopub.status.busy": "2023-11-11T16:51:53.791944Z",
     "iopub.status.idle": "2023-11-11T16:51:53.820834Z",
     "shell.execute_reply": "2023-11-11T16:51:53.819289Z"
    },
    "papermill": {
     "duration": 0.041811,
     "end_time": "2023-11-11T16:51:53.823693",
     "exception": false,
     "start_time": "2023-11-11T16:51:53.781882",
     "status": "completed"
    },
    "tags": []
   },
   "outputs": [
    {
     "data": {
      "text/html": [
       "<div>\n",
       "<style scoped>\n",
       "    .dataframe tbody tr th:only-of-type {\n",
       "        vertical-align: middle;\n",
       "    }\n",
       "\n",
       "    .dataframe tbody tr th {\n",
       "        vertical-align: top;\n",
       "    }\n",
       "\n",
       "    .dataframe thead th {\n",
       "        text-align: right;\n",
       "    }\n",
       "</style>\n",
       "<table border=\"1\" class=\"dataframe\">\n",
       "  <thead>\n",
       "    <tr style=\"text-align: right;\">\n",
       "      <th></th>\n",
       "      <th>MSSubClass</th>\n",
       "      <th>LotFrontage</th>\n",
       "      <th>LotArea</th>\n",
       "      <th>OverallQual</th>\n",
       "      <th>OverallCond</th>\n",
       "      <th>YearBuilt</th>\n",
       "      <th>YearRemodAdd</th>\n",
       "      <th>MasVnrArea</th>\n",
       "      <th>BsmtFinSF1</th>\n",
       "      <th>BsmtFinSF2</th>\n",
       "      <th>...</th>\n",
       "      <th>GarageArea</th>\n",
       "      <th>WoodDeckSF</th>\n",
       "      <th>OpenPorchSF</th>\n",
       "      <th>EnclosedPorch</th>\n",
       "      <th>3SsnPorch</th>\n",
       "      <th>ScreenPorch</th>\n",
       "      <th>PoolArea</th>\n",
       "      <th>MiscVal</th>\n",
       "      <th>MoSold</th>\n",
       "      <th>YrSold</th>\n",
       "    </tr>\n",
       "    <tr>\n",
       "      <th>Id</th>\n",
       "      <th></th>\n",
       "      <th></th>\n",
       "      <th></th>\n",
       "      <th></th>\n",
       "      <th></th>\n",
       "      <th></th>\n",
       "      <th></th>\n",
       "      <th></th>\n",
       "      <th></th>\n",
       "      <th></th>\n",
       "      <th></th>\n",
       "      <th></th>\n",
       "      <th></th>\n",
       "      <th></th>\n",
       "      <th></th>\n",
       "      <th></th>\n",
       "      <th></th>\n",
       "      <th></th>\n",
       "      <th></th>\n",
       "      <th></th>\n",
       "      <th></th>\n",
       "    </tr>\n",
       "  </thead>\n",
       "  <tbody>\n",
       "    <tr>\n",
       "      <th>619</th>\n",
       "      <td>20</td>\n",
       "      <td>90.0</td>\n",
       "      <td>11694</td>\n",
       "      <td>9</td>\n",
       "      <td>5</td>\n",
       "      <td>2007</td>\n",
       "      <td>2007</td>\n",
       "      <td>452.0</td>\n",
       "      <td>48</td>\n",
       "      <td>0</td>\n",
       "      <td>...</td>\n",
       "      <td>774</td>\n",
       "      <td>0</td>\n",
       "      <td>108</td>\n",
       "      <td>0</td>\n",
       "      <td>0</td>\n",
       "      <td>260</td>\n",
       "      <td>0</td>\n",
       "      <td>0</td>\n",
       "      <td>7</td>\n",
       "      <td>2007</td>\n",
       "    </tr>\n",
       "    <tr>\n",
       "      <th>871</th>\n",
       "      <td>20</td>\n",
       "      <td>60.0</td>\n",
       "      <td>6600</td>\n",
       "      <td>5</td>\n",
       "      <td>5</td>\n",
       "      <td>1962</td>\n",
       "      <td>1962</td>\n",
       "      <td>0.0</td>\n",
       "      <td>0</td>\n",
       "      <td>0</td>\n",
       "      <td>...</td>\n",
       "      <td>308</td>\n",
       "      <td>0</td>\n",
       "      <td>0</td>\n",
       "      <td>0</td>\n",
       "      <td>0</td>\n",
       "      <td>0</td>\n",
       "      <td>0</td>\n",
       "      <td>0</td>\n",
       "      <td>8</td>\n",
       "      <td>2009</td>\n",
       "    </tr>\n",
       "    <tr>\n",
       "      <th>93</th>\n",
       "      <td>30</td>\n",
       "      <td>80.0</td>\n",
       "      <td>13360</td>\n",
       "      <td>5</td>\n",
       "      <td>7</td>\n",
       "      <td>1921</td>\n",
       "      <td>2006</td>\n",
       "      <td>0.0</td>\n",
       "      <td>713</td>\n",
       "      <td>0</td>\n",
       "      <td>...</td>\n",
       "      <td>432</td>\n",
       "      <td>0</td>\n",
       "      <td>0</td>\n",
       "      <td>44</td>\n",
       "      <td>0</td>\n",
       "      <td>0</td>\n",
       "      <td>0</td>\n",
       "      <td>0</td>\n",
       "      <td>8</td>\n",
       "      <td>2009</td>\n",
       "    </tr>\n",
       "    <tr>\n",
       "      <th>818</th>\n",
       "      <td>20</td>\n",
       "      <td>NaN</td>\n",
       "      <td>13265</td>\n",
       "      <td>8</td>\n",
       "      <td>5</td>\n",
       "      <td>2002</td>\n",
       "      <td>2002</td>\n",
       "      <td>148.0</td>\n",
       "      <td>1218</td>\n",
       "      <td>0</td>\n",
       "      <td>...</td>\n",
       "      <td>857</td>\n",
       "      <td>150</td>\n",
       "      <td>59</td>\n",
       "      <td>0</td>\n",
       "      <td>0</td>\n",
       "      <td>0</td>\n",
       "      <td>0</td>\n",
       "      <td>0</td>\n",
       "      <td>7</td>\n",
       "      <td>2008</td>\n",
       "    </tr>\n",
       "    <tr>\n",
       "      <th>303</th>\n",
       "      <td>20</td>\n",
       "      <td>118.0</td>\n",
       "      <td>13704</td>\n",
       "      <td>7</td>\n",
       "      <td>5</td>\n",
       "      <td>2001</td>\n",
       "      <td>2002</td>\n",
       "      <td>150.0</td>\n",
       "      <td>0</td>\n",
       "      <td>0</td>\n",
       "      <td>...</td>\n",
       "      <td>843</td>\n",
       "      <td>468</td>\n",
       "      <td>81</td>\n",
       "      <td>0</td>\n",
       "      <td>0</td>\n",
       "      <td>0</td>\n",
       "      <td>0</td>\n",
       "      <td>0</td>\n",
       "      <td>1</td>\n",
       "      <td>2006</td>\n",
       "    </tr>\n",
       "  </tbody>\n",
       "</table>\n",
       "<p>5 rows × 36 columns</p>\n",
       "</div>"
      ],
      "text/plain": [
       "     MSSubClass  LotFrontage  LotArea  OverallQual  OverallCond  YearBuilt  \\\n",
       "Id                                                                           \n",
       "619          20         90.0    11694            9            5       2007   \n",
       "871          20         60.0     6600            5            5       1962   \n",
       "93           30         80.0    13360            5            7       1921   \n",
       "818          20          NaN    13265            8            5       2002   \n",
       "303          20        118.0    13704            7            5       2001   \n",
       "\n",
       "     YearRemodAdd  MasVnrArea  BsmtFinSF1  BsmtFinSF2  ...  GarageArea  \\\n",
       "Id                                                     ...               \n",
       "619          2007       452.0          48           0  ...         774   \n",
       "871          1962         0.0           0           0  ...         308   \n",
       "93           2006         0.0         713           0  ...         432   \n",
       "818          2002       148.0        1218           0  ...         857   \n",
       "303          2002       150.0           0           0  ...         843   \n",
       "\n",
       "     WoodDeckSF  OpenPorchSF  EnclosedPorch  3SsnPorch  ScreenPorch  PoolArea  \\\n",
       "Id                                                                              \n",
       "619           0          108              0          0          260         0   \n",
       "871           0            0              0          0            0         0   \n",
       "93            0            0             44          0            0         0   \n",
       "818         150           59              0          0            0         0   \n",
       "303         468           81              0          0            0         0   \n",
       "\n",
       "     MiscVal  MoSold  YrSold  \n",
       "Id                            \n",
       "619        0       7    2007  \n",
       "871        0       8    2009  \n",
       "93         0       8    2009  \n",
       "818        0       7    2008  \n",
       "303        0       1    2006  \n",
       "\n",
       "[5 rows x 36 columns]"
      ]
     },
     "execution_count": 3,
     "metadata": {},
     "output_type": "execute_result"
    }
   ],
   "source": [
    "X_train.head()"
   ]
  },
  {
   "cell_type": "markdown",
   "id": "70769f4b",
   "metadata": {
    "papermill": {
     "duration": 0.011945,
     "end_time": "2023-11-11T16:51:53.846227",
     "exception": false,
     "start_time": "2023-11-11T16:51:53.834282",
     "status": "completed"
    },
    "tags": []
   },
   "source": [
    "You can already see a few missing values in the first several rows.  In the next step, you'll obtain a more comprehensive understanding of the missing values in the dataset.\n",
    "\n",
    "# Step 1: Preliminary investigation\n",
    "\n",
    "Run the code cell below without changes."
   ]
  },
  {
   "cell_type": "code",
   "execution_count": 4,
   "id": "6e5dfd40",
   "metadata": {
    "execution": {
     "iopub.execute_input": "2023-11-11T16:51:53.867741Z",
     "iopub.status.busy": "2023-11-11T16:51:53.866681Z",
     "iopub.status.idle": "2023-11-11T16:51:53.875140Z",
     "shell.execute_reply": "2023-11-11T16:51:53.873899Z"
    },
    "papermill": {
     "duration": 0.02189,
     "end_time": "2023-11-11T16:51:53.878418",
     "exception": false,
     "start_time": "2023-11-11T16:51:53.856528",
     "status": "completed"
    },
    "tags": []
   },
   "outputs": [
    {
     "name": "stdout",
     "output_type": "stream",
     "text": [
      "(1168, 36)\n",
      "LotFrontage    212\n",
      "MasVnrArea       6\n",
      "GarageYrBlt     58\n",
      "dtype: int64\n"
     ]
    }
   ],
   "source": [
    "# Shape of training data (num_rows, num_columns)\n",
    "print(X_train.shape)\n",
    "\n",
    "# Number of missing values in each column of training data\n",
    "missing_val_count_by_column = (X_train.isnull().sum())\n",
    "print(missing_val_count_by_column[missing_val_count_by_column > 0])"
   ]
  },
  {
   "cell_type": "markdown",
   "id": "0597ead4",
   "metadata": {
    "papermill": {
     "duration": 0.008606,
     "end_time": "2023-11-11T16:51:53.896268",
     "exception": false,
     "start_time": "2023-11-11T16:51:53.887662",
     "status": "completed"
    },
    "tags": []
   },
   "source": [
    "### Part A\n",
    "\n",
    "Use the above output to answer the questions below."
   ]
  },
  {
   "cell_type": "code",
   "execution_count": 5,
   "id": "32307c71",
   "metadata": {
    "execution": {
     "iopub.execute_input": "2023-11-11T16:51:53.917662Z",
     "iopub.status.busy": "2023-11-11T16:51:53.916442Z",
     "iopub.status.idle": "2023-11-11T16:51:53.926945Z",
     "shell.execute_reply": "2023-11-11T16:51:53.925885Z"
    },
    "papermill": {
     "duration": 0.02393,
     "end_time": "2023-11-11T16:51:53.929841",
     "exception": false,
     "start_time": "2023-11-11T16:51:53.905911",
     "status": "completed"
    },
    "tags": []
   },
   "outputs": [
    {
     "data": {
      "application/javascript": [
       "parent.postMessage({\"jupyterEvent\": \"custom.exercise_interaction\", \"data\": {\"outcomeType\": 1, \"valueTowardsCompletion\": 1.0, \"interactionType\": 1, \"questionType\": 1, \"questionId\": \"1.1_InvestigateEquality\", \"learnToolsVersion\": \"0.3.4\", \"failureMessage\": \"\", \"exceptionClass\": \"\", \"trace\": \"\"}}, \"*\")"
      ],
      "text/plain": [
       "<IPython.core.display.Javascript object>"
      ]
     },
     "metadata": {},
     "output_type": "display_data"
    },
    {
     "data": {
      "text/markdown": [
       "<span style=\"color:#33cc33\">Correct</span>"
      ],
      "text/plain": [
       "Correct"
      ]
     },
     "metadata": {},
     "output_type": "display_data"
    }
   ],
   "source": [
    "# Fill in the line below: How many rows are in the training data?\n",
    "num_rows = 1168\n",
    "\n",
    "# Fill in the line below: How many columns in the training data\n",
    "# have missing values?\n",
    "num_cols_with_missing = 3\n",
    "\n",
    "# Fill in the line below: How many missing entries are contained in \n",
    "# all of the training data?\n",
    "tot_missing = 212+6+58\n",
    "\n",
    "# Check your answers\n",
    "step_1.a.check()"
   ]
  },
  {
   "cell_type": "code",
   "execution_count": 6,
   "id": "0ed0b67e",
   "metadata": {
    "execution": {
     "iopub.execute_input": "2023-11-11T16:51:53.953564Z",
     "iopub.status.busy": "2023-11-11T16:51:53.952251Z",
     "iopub.status.idle": "2023-11-11T16:51:53.958491Z",
     "shell.execute_reply": "2023-11-11T16:51:53.957372Z"
    },
    "papermill": {
     "duration": 0.021454,
     "end_time": "2023-11-11T16:51:53.961722",
     "exception": false,
     "start_time": "2023-11-11T16:51:53.940268",
     "status": "completed"
    },
    "tags": []
   },
   "outputs": [],
   "source": [
    "# Lines below will give you a hint or solution code\n",
    "#step_1.a.hint()\n",
    "#step_1.a.solution()"
   ]
  },
  {
   "cell_type": "markdown",
   "id": "bd566628",
   "metadata": {
    "papermill": {
     "duration": 0.008843,
     "end_time": "2023-11-11T16:51:53.981725",
     "exception": false,
     "start_time": "2023-11-11T16:51:53.972882",
     "status": "completed"
    },
    "tags": []
   },
   "source": [
    "### Part B\n",
    "Considering your answers above, what do you think is likely the best approach to dealing with the missing values?"
   ]
  },
  {
   "cell_type": "code",
   "execution_count": 7,
   "id": "c52ae243",
   "metadata": {
    "execution": {
     "iopub.execute_input": "2023-11-11T16:51:54.003203Z",
     "iopub.status.busy": "2023-11-11T16:51:54.002420Z",
     "iopub.status.idle": "2023-11-11T16:51:54.010311Z",
     "shell.execute_reply": "2023-11-11T16:51:54.008946Z"
    },
    "papermill": {
     "duration": 0.023725,
     "end_time": "2023-11-11T16:51:54.014447",
     "exception": false,
     "start_time": "2023-11-11T16:51:53.990722",
     "status": "completed"
    },
    "tags": []
   },
   "outputs": [
    {
     "data": {
      "application/javascript": [
       "parent.postMessage({\"jupyterEvent\": \"custom.exercise_interaction\", \"data\": {\"outcomeType\": 1, \"valueTowardsCompletion\": 1.0, \"interactionType\": 1, \"questionType\": 4, \"questionId\": \"1.2_InvestigateThought\", \"learnToolsVersion\": \"0.3.4\", \"failureMessage\": \"\", \"exceptionClass\": \"\", \"trace\": \"\"}}, \"*\")"
      ],
      "text/plain": [
       "<IPython.core.display.Javascript object>"
      ]
     },
     "metadata": {},
     "output_type": "display_data"
    },
    {
     "data": {
      "text/markdown": [
       "<span style=\"color:#33cc33\">Correct:</span> \n",
       "\n",
       "Since there are relatively few missing entries in the data (the column with the greatest percentage of missing values is missing less than 20% of its entries), we can expect that dropping columns is unlikely to yield good results.  This is because we'd be throwing away a lot of valuable data, and so imputation will likely perform better."
      ],
      "text/plain": [
       "Correct: \n",
       "\n",
       "Since there are relatively few missing entries in the data (the column with the greatest percentage of missing values is missing less than 20% of its entries), we can expect that dropping columns is unlikely to yield good results.  This is because we'd be throwing away a lot of valuable data, and so imputation will likely perform better."
      ]
     },
     "metadata": {},
     "output_type": "display_data"
    }
   ],
   "source": [
    "# Check your answer (Run this code cell to receive credit!)\n",
    "step_1.b.check()"
   ]
  },
  {
   "cell_type": "code",
   "execution_count": 8,
   "id": "ac428085",
   "metadata": {
    "execution": {
     "iopub.execute_input": "2023-11-11T16:51:54.039580Z",
     "iopub.status.busy": "2023-11-11T16:51:54.038620Z",
     "iopub.status.idle": "2023-11-11T16:51:54.043443Z",
     "shell.execute_reply": "2023-11-11T16:51:54.042522Z"
    },
    "papermill": {
     "duration": 0.018641,
     "end_time": "2023-11-11T16:51:54.045475",
     "exception": false,
     "start_time": "2023-11-11T16:51:54.026834",
     "status": "completed"
    },
    "tags": []
   },
   "outputs": [],
   "source": [
    "#step_1.b.hint()"
   ]
  },
  {
   "cell_type": "markdown",
   "id": "0a2c0f0b",
   "metadata": {
    "papermill": {
     "duration": 0.009038,
     "end_time": "2023-11-11T16:51:54.064654",
     "exception": false,
     "start_time": "2023-11-11T16:51:54.055616",
     "status": "completed"
    },
    "tags": []
   },
   "source": [
    "To compare different approaches to dealing with missing values, you'll use the same `score_dataset()` function from the tutorial.  This function reports the [mean absolute error](https://en.wikipedia.org/wiki/Mean_absolute_error) (MAE) from a random forest model."
   ]
  },
  {
   "cell_type": "code",
   "execution_count": 9,
   "id": "f165b61d",
   "metadata": {
    "execution": {
     "iopub.execute_input": "2023-11-11T16:51:54.089202Z",
     "iopub.status.busy": "2023-11-11T16:51:54.087785Z",
     "iopub.status.idle": "2023-11-11T16:51:54.503811Z",
     "shell.execute_reply": "2023-11-11T16:51:54.502145Z"
    },
    "papermill": {
     "duration": 0.432824,
     "end_time": "2023-11-11T16:51:54.507228",
     "exception": false,
     "start_time": "2023-11-11T16:51:54.074404",
     "status": "completed"
    },
    "tags": []
   },
   "outputs": [],
   "source": [
    "from sklearn.ensemble import RandomForestRegressor\n",
    "from sklearn.metrics import mean_absolute_error\n",
    "\n",
    "# Function for comparing different approaches\n",
    "def score_dataset(X_train, X_valid, y_train, y_valid):\n",
    "    model = RandomForestRegressor(n_estimators=100, random_state=0)\n",
    "    model.fit(X_train, y_train)\n",
    "    preds = model.predict(X_valid)\n",
    "    return mean_absolute_error(y_valid, preds)"
   ]
  },
  {
   "cell_type": "markdown",
   "id": "fc5609e1",
   "metadata": {
    "papermill": {
     "duration": 0.008859,
     "end_time": "2023-11-11T16:51:54.527818",
     "exception": false,
     "start_time": "2023-11-11T16:51:54.518959",
     "status": "completed"
    },
    "tags": []
   },
   "source": [
    "# Step 2: Drop columns with missing values\n",
    "\n",
    "In this step, you'll preprocess the data in `X_train` and `X_valid` to remove columns with missing values.  Set the preprocessed DataFrames to `reduced_X_train` and `reduced_X_valid`, respectively.  "
   ]
  },
  {
   "cell_type": "code",
   "execution_count": 10,
   "id": "e4438235",
   "metadata": {
    "execution": {
     "iopub.execute_input": "2023-11-11T16:51:54.548834Z",
     "iopub.status.busy": "2023-11-11T16:51:54.548424Z",
     "iopub.status.idle": "2023-11-11T16:51:54.560225Z",
     "shell.execute_reply": "2023-11-11T16:51:54.558409Z"
    },
    "papermill": {
     "duration": 0.025977,
     "end_time": "2023-11-11T16:51:54.563076",
     "exception": false,
     "start_time": "2023-11-11T16:51:54.537099",
     "status": "completed"
    },
    "tags": []
   },
   "outputs": [
    {
     "data": {
      "text/plain": [
       "LotFrontage    212\n",
       "MasVnrArea       6\n",
       "GarageYrBlt     58\n",
       "dtype: int64"
      ]
     },
     "execution_count": 10,
     "metadata": {},
     "output_type": "execute_result"
    }
   ],
   "source": [
    "missing_val_count_by_column[missing_val_count_by_column > 0]"
   ]
  },
  {
   "cell_type": "code",
   "execution_count": 11,
   "id": "aba12cf2",
   "metadata": {
    "execution": {
     "iopub.execute_input": "2023-11-11T16:51:54.586713Z",
     "iopub.status.busy": "2023-11-11T16:51:54.586368Z",
     "iopub.status.idle": "2023-11-11T16:51:54.611797Z",
     "shell.execute_reply": "2023-11-11T16:51:54.610105Z"
    },
    "papermill": {
     "duration": 0.040764,
     "end_time": "2023-11-11T16:51:54.614546",
     "exception": false,
     "start_time": "2023-11-11T16:51:54.573782",
     "status": "completed"
    },
    "tags": []
   },
   "outputs": [
    {
     "data": {
      "application/javascript": [
       "parent.postMessage({\"jupyterEvent\": \"custom.exercise_interaction\", \"data\": {\"outcomeType\": 1, \"valueTowardsCompletion\": 1.0, \"interactionType\": 1, \"questionType\": 2, \"questionId\": \"2_DropMissing\", \"learnToolsVersion\": \"0.3.4\", \"failureMessage\": \"\", \"exceptionClass\": \"\", \"trace\": \"\"}}, \"*\")"
      ],
      "text/plain": [
       "<IPython.core.display.Javascript object>"
      ]
     },
     "metadata": {},
     "output_type": "display_data"
    },
    {
     "data": {
      "text/markdown": [
       "<span style=\"color:#33cc33\">Correct</span>"
      ],
      "text/plain": [
       "Correct"
      ]
     },
     "metadata": {},
     "output_type": "display_data"
    }
   ],
   "source": [
    "# Fill in the line below: get names of columns with missing values\n",
    "names = ['LotFrontage','MasVnrArea','GarageYrBlt']\n",
    "\n",
    "# Fill in the lines below: drop columns in training and validation data\n",
    "reduced_X_train = X_train.drop(columns=names)\n",
    "reduced_X_valid = X_valid.drop(columns=names)\n",
    "\n",
    "# Check your answers\n",
    "step_2.check()"
   ]
  },
  {
   "cell_type": "code",
   "execution_count": 12,
   "id": "8ac759fc",
   "metadata": {
    "execution": {
     "iopub.execute_input": "2023-11-11T16:51:54.637647Z",
     "iopub.status.busy": "2023-11-11T16:51:54.635902Z",
     "iopub.status.idle": "2023-11-11T16:51:54.641475Z",
     "shell.execute_reply": "2023-11-11T16:51:54.640460Z"
    },
    "papermill": {
     "duration": 0.019153,
     "end_time": "2023-11-11T16:51:54.643639",
     "exception": false,
     "start_time": "2023-11-11T16:51:54.624486",
     "status": "completed"
    },
    "tags": []
   },
   "outputs": [],
   "source": [
    "# Lines below will give you a hint or solution code\n",
    "#step_2.hint()\n",
    "#step_2.solution()"
   ]
  },
  {
   "cell_type": "markdown",
   "id": "c5b305d2",
   "metadata": {
    "papermill": {
     "duration": 0.009295,
     "end_time": "2023-11-11T16:51:54.662848",
     "exception": false,
     "start_time": "2023-11-11T16:51:54.653553",
     "status": "completed"
    },
    "tags": []
   },
   "source": [
    "Run the next code cell without changes to obtain the MAE for this approach."
   ]
  },
  {
   "cell_type": "code",
   "execution_count": 13,
   "id": "3aeea77d",
   "metadata": {
    "execution": {
     "iopub.execute_input": "2023-11-11T16:51:54.684369Z",
     "iopub.status.busy": "2023-11-11T16:51:54.683920Z",
     "iopub.status.idle": "2023-11-11T16:51:55.751706Z",
     "shell.execute_reply": "2023-11-11T16:51:55.749852Z"
    },
    "papermill": {
     "duration": 1.08247,
     "end_time": "2023-11-11T16:51:55.755285",
     "exception": false,
     "start_time": "2023-11-11T16:51:54.672815",
     "status": "completed"
    },
    "tags": []
   },
   "outputs": [
    {
     "name": "stdout",
     "output_type": "stream",
     "text": [
      "MAE (Drop columns with missing values):\n",
      "17837.82570776256\n"
     ]
    }
   ],
   "source": [
    "print(\"MAE (Drop columns with missing values):\")\n",
    "print(score_dataset(reduced_X_train, reduced_X_valid, y_train, y_valid))"
   ]
  },
  {
   "cell_type": "markdown",
   "id": "c26e443e",
   "metadata": {
    "papermill": {
     "duration": 0.009433,
     "end_time": "2023-11-11T16:51:55.849806",
     "exception": false,
     "start_time": "2023-11-11T16:51:55.840373",
     "status": "completed"
    },
    "tags": []
   },
   "source": [
    "# Step 3: Imputation\n",
    "\n",
    "### Part A\n",
    "\n",
    "Use the next code cell to impute missing values with the mean value along each column.  Set the preprocessed DataFrames to `imputed_X_train` and `imputed_X_valid`.  Make sure that the column names match those in `X_train` and `X_valid`."
   ]
  },
  {
   "cell_type": "code",
   "execution_count": 14,
   "id": "22357192",
   "metadata": {
    "execution": {
     "iopub.execute_input": "2023-11-11T16:51:55.870764Z",
     "iopub.status.busy": "2023-11-11T16:51:55.870414Z",
     "iopub.status.idle": "2023-11-11T16:51:55.903544Z",
     "shell.execute_reply": "2023-11-11T16:51:55.901935Z"
    },
    "papermill": {
     "duration": 0.046836,
     "end_time": "2023-11-11T16:51:55.906393",
     "exception": false,
     "start_time": "2023-11-11T16:51:55.859557",
     "status": "completed"
    },
    "tags": []
   },
   "outputs": [
    {
     "data": {
      "application/javascript": [
       "parent.postMessage({\"jupyterEvent\": \"custom.exercise_interaction\", \"data\": {\"outcomeType\": 1, \"valueTowardsCompletion\": 1.0, \"interactionType\": 1, \"questionType\": 2, \"questionId\": \"3.1_ImputeCode\", \"learnToolsVersion\": \"0.3.4\", \"failureMessage\": \"\", \"exceptionClass\": \"\", \"trace\": \"\"}}, \"*\")"
      ],
      "text/plain": [
       "<IPython.core.display.Javascript object>"
      ]
     },
     "metadata": {},
     "output_type": "display_data"
    },
    {
     "data": {
      "text/markdown": [
       "<span style=\"color:#33cc33\">Correct</span>"
      ],
      "text/plain": [
       "Correct"
      ]
     },
     "metadata": {},
     "output_type": "display_data"
    }
   ],
   "source": [
    "from sklearn.impute import SimpleImputer\n",
    "\n",
    "# Fill in the lines below: imputation\n",
    "imputer = SimpleImputer()\n",
    "imputed_X_train = pd.DataFrame(imputer.fit_transform(X_train))\n",
    "imputed_X_valid = pd.DataFrame(imputer.transform(X_valid))\n",
    "\n",
    "# Fill in the lines below: imputation removed column names; put them back\n",
    "imputed_X_train.columns = X_train.columns\n",
    "imputed_X_valid.columns = X_valid.columns\n",
    "\n",
    "# Check your answers\n",
    "step_3.a.check()"
   ]
  },
  {
   "cell_type": "code",
   "execution_count": 15,
   "id": "08fde9e5",
   "metadata": {
    "execution": {
     "iopub.execute_input": "2023-11-11T16:51:55.929240Z",
     "iopub.status.busy": "2023-11-11T16:51:55.928747Z",
     "iopub.status.idle": "2023-11-11T16:51:55.933532Z",
     "shell.execute_reply": "2023-11-11T16:51:55.932608Z"
    },
    "papermill": {
     "duration": 0.018513,
     "end_time": "2023-11-11T16:51:55.935467",
     "exception": false,
     "start_time": "2023-11-11T16:51:55.916954",
     "status": "completed"
    },
    "tags": []
   },
   "outputs": [],
   "source": [
    "# Lines below will give you a hint or solution code\n",
    "#step_3.a.hint()\n",
    "#step_3.a.solution()"
   ]
  },
  {
   "cell_type": "markdown",
   "id": "ddde8cbc",
   "metadata": {
    "papermill": {
     "duration": 0.009987,
     "end_time": "2023-11-11T16:51:55.955689",
     "exception": false,
     "start_time": "2023-11-11T16:51:55.945702",
     "status": "completed"
    },
    "tags": []
   },
   "source": [
    "Run the next code cell without changes to obtain the MAE for this approach."
   ]
  },
  {
   "cell_type": "code",
   "execution_count": 16,
   "id": "02a50939",
   "metadata": {
    "execution": {
     "iopub.execute_input": "2023-11-11T16:51:55.977993Z",
     "iopub.status.busy": "2023-11-11T16:51:55.977569Z",
     "iopub.status.idle": "2023-11-11T16:51:57.194393Z",
     "shell.execute_reply": "2023-11-11T16:51:57.192672Z"
    },
    "papermill": {
     "duration": 1.232132,
     "end_time": "2023-11-11T16:51:57.198075",
     "exception": false,
     "start_time": "2023-11-11T16:51:55.965943",
     "status": "completed"
    },
    "tags": []
   },
   "outputs": [
    {
     "name": "stdout",
     "output_type": "stream",
     "text": [
      "MAE (Imputation):\n",
      "18062.894611872147\n"
     ]
    }
   ],
   "source": [
    "print(\"MAE (Imputation):\")\n",
    "print(score_dataset(imputed_X_train, imputed_X_valid, y_train, y_valid))"
   ]
  },
  {
   "cell_type": "markdown",
   "id": "e9d9eaf6",
   "metadata": {
    "papermill": {
     "duration": 0.013281,
     "end_time": "2023-11-11T16:51:57.224181",
     "exception": false,
     "start_time": "2023-11-11T16:51:57.210900",
     "status": "completed"
    },
    "tags": []
   },
   "source": [
    "### Part B\n",
    "\n",
    "Compare the MAE from each approach.  Does anything surprise you about the results?  Why do you think one approach performed better than the other?"
   ]
  },
  {
   "cell_type": "code",
   "execution_count": 17,
   "id": "f9a16676",
   "metadata": {
    "execution": {
     "iopub.execute_input": "2023-11-11T16:51:57.247576Z",
     "iopub.status.busy": "2023-11-11T16:51:57.247185Z",
     "iopub.status.idle": "2023-11-11T16:51:57.257090Z",
     "shell.execute_reply": "2023-11-11T16:51:57.256123Z"
    },
    "papermill": {
     "duration": 0.024203,
     "end_time": "2023-11-11T16:51:57.259008",
     "exception": false,
     "start_time": "2023-11-11T16:51:57.234805",
     "status": "completed"
    },
    "tags": []
   },
   "outputs": [
    {
     "data": {
      "application/javascript": [
       "parent.postMessage({\"jupyterEvent\": \"custom.exercise_interaction\", \"data\": {\"outcomeType\": 1, \"valueTowardsCompletion\": 1.0, \"interactionType\": 1, \"questionType\": 4, \"questionId\": \"3.2_ImputeThought\", \"learnToolsVersion\": \"0.3.4\", \"failureMessage\": \"\", \"exceptionClass\": \"\", \"trace\": \"\"}}, \"*\")"
      ],
      "text/plain": [
       "<IPython.core.display.Javascript object>"
      ]
     },
     "metadata": {},
     "output_type": "display_data"
    },
    {
     "data": {
      "text/markdown": [
       "<span style=\"color:#33cc33\">Correct:</span> \n",
       "\n",
       "Given that thre are so few missing values in the dataset, we'd expect imputation to perform better than dropping columns entirely.  However, we see that dropping columns performs slightly better!  While this can probably partially be attributed to noise in the dataset, another potential explanation is that the imputation method is not a great match to this dataset.  That is, maybe instead of filling in the mean value, it makes more sense to set every missing value to a value of 0, to fill in the most frequently encountered value, or to use some other method.  For instance, consider the `GarageYrBlt` column (which indicates the year that the garage was built).  It's likely that in some cases, a missing value could indicate a house that does not have a garage.  Does it make more sense to fill in the median value along each column in this case?  Or could we get better results by filling in the minimum value along each column?  It's not quite clear what's best in this case, but perhaps we can rule out some options immediately - for instance, setting missing values in this column to 0 is likely to yield horrible results!"
      ],
      "text/plain": [
       "Correct: \n",
       "\n",
       "Given that thre are so few missing values in the dataset, we'd expect imputation to perform better than dropping columns entirely.  However, we see that dropping columns performs slightly better!  While this can probably partially be attributed to noise in the dataset, another potential explanation is that the imputation method is not a great match to this dataset.  That is, maybe instead of filling in the mean value, it makes more sense to set every missing value to a value of 0, to fill in the most frequently encountered value, or to use some other method.  For instance, consider the `GarageYrBlt` column (which indicates the year that the garage was built).  It's likely that in some cases, a missing value could indicate a house that does not have a garage.  Does it make more sense to fill in the median value along each column in this case?  Or could we get better results by filling in the minimum value along each column?  It's not quite clear what's best in this case, but perhaps we can rule out some options immediately - for instance, setting missing values in this column to 0 is likely to yield horrible results!"
      ]
     },
     "metadata": {},
     "output_type": "display_data"
    }
   ],
   "source": [
    "# Check your answer (Run this code cell to receive credit!)\n",
    "step_3.b.check()"
   ]
  },
  {
   "cell_type": "code",
   "execution_count": 18,
   "id": "3c6e567e",
   "metadata": {
    "execution": {
     "iopub.execute_input": "2023-11-11T16:51:57.284385Z",
     "iopub.status.busy": "2023-11-11T16:51:57.283104Z",
     "iopub.status.idle": "2023-11-11T16:51:57.288929Z",
     "shell.execute_reply": "2023-11-11T16:51:57.287248Z"
    },
    "papermill": {
     "duration": 0.020244,
     "end_time": "2023-11-11T16:51:57.291168",
     "exception": false,
     "start_time": "2023-11-11T16:51:57.270924",
     "status": "completed"
    },
    "tags": []
   },
   "outputs": [],
   "source": [
    "#step_3.b.hint()"
   ]
  },
  {
   "cell_type": "markdown",
   "id": "e2a1513a",
   "metadata": {
    "papermill": {
     "duration": 0.011158,
     "end_time": "2023-11-11T16:51:57.315719",
     "exception": false,
     "start_time": "2023-11-11T16:51:57.304561",
     "status": "completed"
    },
    "tags": []
   },
   "source": [
    "# Step 4: Generate test predictions\n",
    "\n",
    "In this final step, you'll use any approach of your choosing to deal with missing values.  Once you've preprocessed the training and validation features, you'll train and evaluate a random forest model.  Then, you'll preprocess the test data before generating predictions that can be submitted to the competition!\n",
    "\n",
    "### Part A\n",
    "\n",
    "Use the next code cell to preprocess the training and validation data.  Set the preprocessed DataFrames to `final_X_train` and `final_X_valid`.  **You can use any approach of your choosing here!**  in order for this step to be marked as correct, you need only ensure:\n",
    "- the preprocessed DataFrames have the same number of columns,\n",
    "- the preprocessed DataFrames have no missing values, \n",
    "- `final_X_train` and `y_train` have the same number of rows, and\n",
    "- `final_X_valid` and `y_valid` have the same number of rows."
   ]
  },
  {
   "cell_type": "code",
   "execution_count": 19,
   "id": "b9deb579",
   "metadata": {
    "execution": {
     "iopub.execute_input": "2023-11-11T16:51:57.341624Z",
     "iopub.status.busy": "2023-11-11T16:51:57.340962Z",
     "iopub.status.idle": "2023-11-11T16:51:57.357821Z",
     "shell.execute_reply": "2023-11-11T16:51:57.357187Z"
    },
    "papermill": {
     "duration": 0.032392,
     "end_time": "2023-11-11T16:51:57.359626",
     "exception": false,
     "start_time": "2023-11-11T16:51:57.327234",
     "status": "completed"
    },
    "tags": []
   },
   "outputs": [
    {
     "data": {
      "application/javascript": [
       "parent.postMessage({\"jupyterEvent\": \"custom.exercise_interaction\", \"data\": {\"outcomeType\": 1, \"valueTowardsCompletion\": 1.0, \"interactionType\": 1, \"questionType\": 2, \"questionId\": \"4.1_PredsCodeA\", \"learnToolsVersion\": \"0.3.4\", \"failureMessage\": \"\", \"exceptionClass\": \"\", \"trace\": \"\"}}, \"*\")"
      ],
      "text/plain": [
       "<IPython.core.display.Javascript object>"
      ]
     },
     "metadata": {},
     "output_type": "display_data"
    },
    {
     "data": {
      "text/markdown": [
       "<span style=\"color:#33cc33\">Correct</span>"
      ],
      "text/plain": [
       "Correct"
      ]
     },
     "metadata": {},
     "output_type": "display_data"
    }
   ],
   "source": [
    "# Preprocessed training and validation features\n",
    "final_X_train = imputed_X_train\n",
    "final_X_valid = imputed_X_valid\n",
    "\n",
    "# Check your answers\n",
    "step_4.a.check()"
   ]
  },
  {
   "cell_type": "code",
   "execution_count": 20,
   "id": "4d486275",
   "metadata": {
    "execution": {
     "iopub.execute_input": "2023-11-11T16:51:57.384157Z",
     "iopub.status.busy": "2023-11-11T16:51:57.383099Z",
     "iopub.status.idle": "2023-11-11T16:51:57.388729Z",
     "shell.execute_reply": "2023-11-11T16:51:57.387172Z"
    },
    "papermill": {
     "duration": 0.020996,
     "end_time": "2023-11-11T16:51:57.391790",
     "exception": false,
     "start_time": "2023-11-11T16:51:57.370794",
     "status": "completed"
    },
    "tags": []
   },
   "outputs": [],
   "source": [
    "# Lines below will give you a hint or solution code\n",
    "#step_4.a.hint()\n",
    "#step_4.a.solution()"
   ]
  },
  {
   "cell_type": "markdown",
   "id": "73e36dee",
   "metadata": {
    "papermill": {
     "duration": 0.011694,
     "end_time": "2023-11-11T16:51:57.415616",
     "exception": false,
     "start_time": "2023-11-11T16:51:57.403922",
     "status": "completed"
    },
    "tags": []
   },
   "source": [
    "Run the next code cell to train and evaluate a random forest model.  (*Note that we don't use the `score_dataset()` function above, because we will soon use the trained model to generate test predictions!*)"
   ]
  },
  {
   "cell_type": "code",
   "execution_count": 21,
   "id": "0bc3f12f",
   "metadata": {
    "execution": {
     "iopub.execute_input": "2023-11-11T16:51:57.445604Z",
     "iopub.status.busy": "2023-11-11T16:51:57.444240Z",
     "iopub.status.idle": "2023-11-11T16:51:58.667854Z",
     "shell.execute_reply": "2023-11-11T16:51:58.666080Z"
    },
    "papermill": {
     "duration": 1.240258,
     "end_time": "2023-11-11T16:51:58.670483",
     "exception": false,
     "start_time": "2023-11-11T16:51:57.430225",
     "status": "completed"
    },
    "tags": []
   },
   "outputs": [
    {
     "name": "stdout",
     "output_type": "stream",
     "text": [
      "MAE (Your approach):\n",
      "18062.894611872147\n"
     ]
    }
   ],
   "source": [
    "# Define and fit model\n",
    "model = RandomForestRegressor(n_estimators=100, random_state=0)\n",
    "model.fit(final_X_train, y_train)\n",
    "\n",
    "# Get validation predictions and MAE\n",
    "preds_valid = model.predict(final_X_valid)\n",
    "print(\"MAE (Your approach):\")\n",
    "print(mean_absolute_error(y_valid, preds_valid))"
   ]
  },
  {
   "cell_type": "markdown",
   "id": "a605b67c",
   "metadata": {
    "papermill": {
     "duration": 0.011689,
     "end_time": "2023-11-11T16:51:58.694368",
     "exception": false,
     "start_time": "2023-11-11T16:51:58.682679",
     "status": "completed"
    },
    "tags": []
   },
   "source": [
    "### Part B\n",
    "\n",
    "Use the next code cell to preprocess your test data.  Make sure that you use a method that agrees with how you preprocessed the training and validation data, and set the preprocessed test features to `final_X_test`.\n",
    "\n",
    "Then, use the preprocessed test features and the trained model to generate test predictions in `preds_test`.\n",
    "\n",
    "In order for this step to be marked correct, you need only ensure:\n",
    "- the preprocessed test DataFrame has no missing values, and\n",
    "- `final_X_test` has the same number of rows as `X_test`."
   ]
  },
  {
   "cell_type": "code",
   "execution_count": 22,
   "id": "f6714869",
   "metadata": {
    "execution": {
     "iopub.execute_input": "2023-11-11T16:51:58.717915Z",
     "iopub.status.busy": "2023-11-11T16:51:58.717577Z",
     "iopub.status.idle": "2023-11-11T16:51:58.767364Z",
     "shell.execute_reply": "2023-11-11T16:51:58.766399Z"
    },
    "papermill": {
     "duration": 0.063813,
     "end_time": "2023-11-11T16:51:58.769184",
     "exception": false,
     "start_time": "2023-11-11T16:51:58.705371",
     "status": "completed"
    },
    "tags": []
   },
   "outputs": [
    {
     "name": "stderr",
     "output_type": "stream",
     "text": [
      "/opt/conda/lib/python3.10/site-packages/sklearn/base.py:439: UserWarning: X does not have valid feature names, but RandomForestRegressor was fitted with feature names\n",
      "  warnings.warn(\n"
     ]
    },
    {
     "data": {
      "application/javascript": [
       "parent.postMessage({\"jupyterEvent\": \"custom.exercise_interaction\", \"data\": {\"outcomeType\": 1, \"valueTowardsCompletion\": 1.0, \"interactionType\": 1, \"questionType\": 2, \"questionId\": \"4.2_PredsCodeB\", \"learnToolsVersion\": \"0.3.4\", \"failureMessage\": \"\", \"exceptionClass\": \"\", \"trace\": \"\"}}, \"*\")"
      ],
      "text/plain": [
       "<IPython.core.display.Javascript object>"
      ]
     },
     "metadata": {},
     "output_type": "display_data"
    },
    {
     "data": {
      "text/markdown": [
       "<span style=\"color:#33cc33\">Correct</span>"
      ],
      "text/plain": [
       "Correct"
      ]
     },
     "metadata": {},
     "output_type": "display_data"
    }
   ],
   "source": [
    "# Fill in the line below: preprocess test data\n",
    "final_X_test = pd.DataFrame(imputer.transform(X_test))\n",
    "\n",
    "# Fill in the line below: get test predictions\n",
    "preds_test = model.predict(final_X_test)\n",
    "\n",
    "# Check your answers\n",
    "step_4.b.check()"
   ]
  },
  {
   "cell_type": "code",
   "execution_count": 23,
   "id": "83a17392",
   "metadata": {
    "execution": {
     "iopub.execute_input": "2023-11-11T16:51:58.793101Z",
     "iopub.status.busy": "2023-11-11T16:51:58.792637Z",
     "iopub.status.idle": "2023-11-11T16:51:58.797173Z",
     "shell.execute_reply": "2023-11-11T16:51:58.796240Z"
    },
    "papermill": {
     "duration": 0.019228,
     "end_time": "2023-11-11T16:51:58.799214",
     "exception": false,
     "start_time": "2023-11-11T16:51:58.779986",
     "status": "completed"
    },
    "tags": []
   },
   "outputs": [],
   "source": [
    "# Lines below will give you a hint or solution code\n",
    "#step_4.b.hint()\n",
    "#step_4.b.solution()"
   ]
  },
  {
   "cell_type": "markdown",
   "id": "27c83b64",
   "metadata": {
    "papermill": {
     "duration": 0.010706,
     "end_time": "2023-11-11T16:51:58.821236",
     "exception": false,
     "start_time": "2023-11-11T16:51:58.810530",
     "status": "completed"
    },
    "tags": []
   },
   "source": [
    "Run the next code cell without changes to save your results to a CSV file that can be submitted directly to the competition."
   ]
  },
  {
   "cell_type": "code",
   "execution_count": 24,
   "id": "e4ab787e",
   "metadata": {
    "execution": {
     "iopub.execute_input": "2023-11-11T16:51:58.844659Z",
     "iopub.status.busy": "2023-11-11T16:51:58.844192Z",
     "iopub.status.idle": "2023-11-11T16:51:58.856130Z",
     "shell.execute_reply": "2023-11-11T16:51:58.854779Z"
    },
    "papermill": {
     "duration": 0.027295,
     "end_time": "2023-11-11T16:51:58.858897",
     "exception": false,
     "start_time": "2023-11-11T16:51:58.831602",
     "status": "completed"
    },
    "tags": []
   },
   "outputs": [],
   "source": [
    "# Save test predictions to file\n",
    "output = pd.DataFrame({'Id': X_test.index,\n",
    "                       'SalePrice': preds_test})\n",
    "output.to_csv('submission.csv', index=False)"
   ]
  },
  {
   "cell_type": "markdown",
   "id": "5dc6bd52",
   "metadata": {
    "papermill": {
     "duration": 0.011046,
     "end_time": "2023-11-11T16:51:58.881578",
     "exception": false,
     "start_time": "2023-11-11T16:51:58.870532",
     "status": "completed"
    },
    "tags": []
   },
   "source": [
    "# Submit your results\n",
    "\n",
    "Once you have successfully completed Step 4, you're ready to submit your results to the leaderboard!  (_You also learned how to do this in the previous exercise.  If you need a reminder of how to do this, please use the instructions below._)  \n",
    "\n",
    "First, you'll need to join the competition if you haven't already.  So open a new window by clicking on [this link](https://www.kaggle.com/c/home-data-for-ml-course).  Then click on the **Join Competition** button.\n",
    "\n",
    "![join competition image](https://storage.googleapis.com/kaggle-media/learn/images/wLmFtH3.png)\n",
    "\n",
    "Next, follow the instructions below:\n",
    "1. Begin by clicking on the **Save Version** button in the top right corner of the window.  This will generate a pop-up window.  \n",
    "2. Ensure that the **Save and Run All** option is selected, and then click on the **Save** button.\n",
    "3. This generates a window in the bottom left corner of the notebook.  After it has finished running, click on the number to the right of the **Save Version** button.  This pulls up a list of versions on the right of the screen.  Click on the ellipsis **(...)** to the right of the most recent version, and select **Open in Viewer**.  This brings you into view mode of the same page. You will need to scroll down to get back to these instructions.\n",
    "4. Click on the **Data** tab near the top of the screen.  Then, click on the file you would like to submit, and click on the **Submit** button to submit your results to the leaderboard.\n",
    "\n",
    "You have now successfully submitted to the competition!\n",
    "\n",
    "If you want to keep working to improve your performance, select the **Edit** button in the top right of the screen. Then you can change your code and repeat the process. There's a lot of room to improve, and you will climb up the leaderboard as you work.\n",
    "\n",
    "\n",
    "# Keep going\n",
    "\n",
    "Move on to learn what **[categorical variables](https://www.kaggle.com/alexisbcook/categorical-variables)** are, along with how to incorporate them into your machine learning models.  Categorical variables are very common in real-world data, but you'll get an error if you try to plug them into your models without processing them first!"
   ]
  },
  {
   "cell_type": "markdown",
   "id": "8cd6c07d",
   "metadata": {
    "papermill": {
     "duration": 0.012202,
     "end_time": "2023-11-11T16:51:58.904918",
     "exception": false,
     "start_time": "2023-11-11T16:51:58.892716",
     "status": "completed"
    },
    "tags": []
   },
   "source": [
    "---\n",
    "\n",
    "\n",
    "\n",
    "\n",
    "*Have questions or comments? Visit the [course discussion forum](https://www.kaggle.com/learn/intermediate-machine-learning/discussion) to chat with other learners.*"
   ]
  }
 ],
 "metadata": {
  "kernelspec": {
   "display_name": "Python 3",
   "language": "python",
   "name": "python3"
  },
  "language_info": {
   "codemirror_mode": {
    "name": "ipython",
    "version": 3
   },
   "file_extension": ".py",
   "mimetype": "text/x-python",
   "name": "python",
   "nbconvert_exporter": "python",
   "pygments_lexer": "ipython3",
   "version": "3.10.12"
  },
  "papermill": {
   "default_parameters": {},
   "duration": 10.83949,
   "end_time": "2023-11-11T16:51:59.644891",
   "environment_variables": {},
   "exception": null,
   "input_path": "__notebook__.ipynb",
   "output_path": "__notebook__.ipynb",
   "parameters": {},
   "start_time": "2023-11-11T16:51:48.805401",
   "version": "2.4.0"
  }
 },
 "nbformat": 4,
 "nbformat_minor": 5
}
