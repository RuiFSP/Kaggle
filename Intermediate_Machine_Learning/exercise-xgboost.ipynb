{
 "cells": [
  {
   "cell_type": "markdown",
   "id": "0cacb826",
   "metadata": {
    "papermill": {
     "duration": 0.007607,
     "end_time": "2023-11-11T18:31:57.218802",
     "exception": false,
     "start_time": "2023-11-11T18:31:57.211195",
     "status": "completed"
    },
    "tags": []
   },
   "source": [
    "**This notebook is an exercise in the [Intermediate Machine Learning](https://www.kaggle.com/learn/intermediate-machine-learning) course.  You can reference the tutorial at [this link](https://www.kaggle.com/alexisbcook/xgboost).**\n",
    "\n",
    "---\n"
   ]
  },
  {
   "cell_type": "markdown",
   "id": "34bb193a",
   "metadata": {
    "papermill": {
     "duration": 0.006558,
     "end_time": "2023-11-11T18:31:57.232800",
     "exception": false,
     "start_time": "2023-11-11T18:31:57.226242",
     "status": "completed"
    },
    "tags": []
   },
   "source": [
    "In this exercise, you will use your new knowledge to train a model with **gradient boosting**.\n",
    "\n",
    "# Setup\n",
    "\n",
    "The questions below will give you feedback on your work. Run the following cell to set up the feedback system."
   ]
  },
  {
   "cell_type": "code",
   "execution_count": 1,
   "id": "d19ab4e1",
   "metadata": {
    "execution": {
     "iopub.execute_input": "2023-11-11T18:31:57.248523Z",
     "iopub.status.busy": "2023-11-11T18:31:57.248066Z",
     "iopub.status.idle": "2023-11-11T18:32:00.352723Z",
     "shell.execute_reply": "2023-11-11T18:32:00.351811Z"
    },
    "papermill": {
     "duration": 3.115948,
     "end_time": "2023-11-11T18:32:00.355594",
     "exception": false,
     "start_time": "2023-11-11T18:31:57.239646",
     "status": "completed"
    },
    "tags": []
   },
   "outputs": [
    {
     "name": "stdout",
     "output_type": "stream",
     "text": [
      "Setup Complete\n"
     ]
    }
   ],
   "source": [
    "# Set up code checking\n",
    "import os\n",
    "if not os.path.exists(\"../input/train.csv\"):\n",
    "    os.symlink(\"../input/home-data-for-ml-course/train.csv\", \"../input/train.csv\")  \n",
    "    os.symlink(\"../input/home-data-for-ml-course/test.csv\", \"../input/test.csv\") \n",
    "from learntools.core import binder\n",
    "binder.bind(globals())\n",
    "from learntools.ml_intermediate.ex6 import *\n",
    "print(\"Setup Complete\")"
   ]
  },
  {
   "cell_type": "markdown",
   "id": "1538e23c",
   "metadata": {
    "papermill": {
     "duration": 0.006542,
     "end_time": "2023-11-11T18:32:00.369888",
     "exception": false,
     "start_time": "2023-11-11T18:32:00.363346",
     "status": "completed"
    },
    "tags": []
   },
   "source": [
    "You will work with the [Housing Prices Competition for Kaggle Learn Users](https://www.kaggle.com/c/home-data-for-ml-course) dataset from the previous exercise. \n",
    "\n",
    "![Ames Housing dataset image](https://storage.googleapis.com/kaggle-media/learn/images/lTJVG4e.png)\n",
    "\n",
    "Run the next code cell without changes to load the training and validation sets in `X_train`, `X_valid`, `y_train`, and `y_valid`.  The test set is loaded in `X_test`."
   ]
  },
  {
   "cell_type": "code",
   "execution_count": 2,
   "id": "72fc22ac",
   "metadata": {
    "execution": {
     "iopub.execute_input": "2023-11-11T18:32:00.385832Z",
     "iopub.status.busy": "2023-11-11T18:32:00.385431Z",
     "iopub.status.idle": "2023-11-11T18:32:00.593444Z",
     "shell.execute_reply": "2023-11-11T18:32:00.592439Z"
    },
    "papermill": {
     "duration": 0.219193,
     "end_time": "2023-11-11T18:32:00.596340",
     "exception": false,
     "start_time": "2023-11-11T18:32:00.377147",
     "status": "completed"
    },
    "tags": []
   },
   "outputs": [],
   "source": [
    "import pandas as pd\n",
    "from sklearn.model_selection import train_test_split\n",
    "\n",
    "# Read the data\n",
    "X = pd.read_csv('../input/train.csv', index_col='Id')\n",
    "X_test_full = pd.read_csv('../input/test.csv', index_col='Id')\n",
    "\n",
    "# Remove rows with missing target, separate target from predictors\n",
    "X.dropna(axis=0, subset=['SalePrice'], inplace=True)\n",
    "y = X.SalePrice              \n",
    "X.drop(['SalePrice'], axis=1, inplace=True)\n",
    "\n",
    "# Break off validation set from training data\n",
    "X_train_full, X_valid_full, y_train, y_valid = train_test_split(X, y, train_size=0.8, test_size=0.2,\n",
    "                                                                random_state=0)\n",
    "\n",
    "# \"Cardinality\" means the number of unique values in a column\n",
    "# Select categorical columns with relatively low cardinality (convenient but arbitrary)\n",
    "low_cardinality_cols = [cname for cname in X_train_full.columns if X_train_full[cname].nunique() < 10 and \n",
    "                        X_train_full[cname].dtype == \"object\"]\n",
    "\n",
    "# Select numeric columns\n",
    "numeric_cols = [cname for cname in X_train_full.columns if X_train_full[cname].dtype in ['int64', 'float64']]\n",
    "\n",
    "# Keep selected columns only\n",
    "my_cols = low_cardinality_cols + numeric_cols\n",
    "X_train = X_train_full[my_cols].copy()\n",
    "X_valid = X_valid_full[my_cols].copy()\n",
    "X_test = X_test_full[my_cols].copy()\n",
    "\n",
    "# One-hot encode the data (to shorten the code, we use pandas)\n",
    "X_train = pd.get_dummies(X_train)\n",
    "X_valid = pd.get_dummies(X_valid)\n",
    "X_test = pd.get_dummies(X_test)\n",
    "X_train, X_valid = X_train.align(X_valid, join='left', axis=1)\n",
    "X_train, X_test = X_train.align(X_test, join='left', axis=1)"
   ]
  },
  {
   "cell_type": "markdown",
   "id": "d7694031",
   "metadata": {
    "papermill": {
     "duration": 0.006884,
     "end_time": "2023-11-11T18:32:00.610473",
     "exception": false,
     "start_time": "2023-11-11T18:32:00.603589",
     "status": "completed"
    },
    "tags": []
   },
   "source": [
    "# Step 1: Build model\n",
    "\n",
    "### Part A\n",
    "\n",
    "In this step, you'll build and train your first model with gradient boosting.\n",
    "\n",
    "- Begin by setting `my_model_1` to an XGBoost model.  Use the [XGBRegressor](https://xgboost.readthedocs.io/en/latest/python/python_api.html#xgboost.XGBRegressor) class, and set the random seed to 0 (`random_state=0`).  **Leave all other parameters as default.**\n",
    "- Then, fit the model to the training data in `X_train` and `y_train`."
   ]
  },
  {
   "cell_type": "code",
   "execution_count": 3,
   "id": "e26a589f",
   "metadata": {
    "execution": {
     "iopub.execute_input": "2023-11-11T18:32:00.627529Z",
     "iopub.status.busy": "2023-11-11T18:32:00.626166Z",
     "iopub.status.idle": "2023-11-11T18:32:01.171323Z",
     "shell.execute_reply": "2023-11-11T18:32:01.170050Z"
    },
    "papermill": {
     "duration": 0.556575,
     "end_time": "2023-11-11T18:32:01.174066",
     "exception": false,
     "start_time": "2023-11-11T18:32:00.617491",
     "status": "completed"
    },
    "tags": []
   },
   "outputs": [
    {
     "data": {
      "application/javascript": [
       "parent.postMessage({\"jupyterEvent\": \"custom.exercise_interaction\", \"data\": {\"outcomeType\": 1, \"valueTowardsCompletion\": 0.5, \"interactionType\": 1, \"questionType\": 2, \"questionId\": \"1.1_Model1A\", \"learnToolsVersion\": \"0.3.4\", \"failureMessage\": \"\", \"exceptionClass\": \"\", \"trace\": \"\"}}, \"*\")"
      ],
      "text/plain": [
       "<IPython.core.display.Javascript object>"
      ]
     },
     "metadata": {},
     "output_type": "display_data"
    },
    {
     "data": {
      "text/markdown": [
       "<span style=\"color:#33cc33\">Correct</span>"
      ],
      "text/plain": [
       "Correct"
      ]
     },
     "metadata": {},
     "output_type": "display_data"
    }
   ],
   "source": [
    "from xgboost import XGBRegressor\n",
    "\n",
    "# Define the model\n",
    "my_model_1 = XGBRegressor(random_state=0)\n",
    "\n",
    "# Fit the model\n",
    "my_model_1.fit(X_train,y_train)\n",
    "\n",
    "# Check your answer\n",
    "step_1.a.check()"
   ]
  },
  {
   "cell_type": "code",
   "execution_count": 4,
   "id": "c8b0ab93",
   "metadata": {
    "execution": {
     "iopub.execute_input": "2023-11-11T18:32:01.193040Z",
     "iopub.status.busy": "2023-11-11T18:32:01.192587Z",
     "iopub.status.idle": "2023-11-11T18:32:01.197107Z",
     "shell.execute_reply": "2023-11-11T18:32:01.196116Z"
    },
    "papermill": {
     "duration": 0.015775,
     "end_time": "2023-11-11T18:32:01.199199",
     "exception": false,
     "start_time": "2023-11-11T18:32:01.183424",
     "status": "completed"
    },
    "tags": []
   },
   "outputs": [],
   "source": [
    "# Lines below will give you a hint or solution code\n",
    "#step_1.a.hint()\n",
    "#step_1.a.solution()"
   ]
  },
  {
   "cell_type": "markdown",
   "id": "3c65b2f6",
   "metadata": {
    "papermill": {
     "duration": 0.00726,
     "end_time": "2023-11-11T18:32:01.213890",
     "exception": false,
     "start_time": "2023-11-11T18:32:01.206630",
     "status": "completed"
    },
    "tags": []
   },
   "source": [
    "### Part B\n",
    "\n",
    "Set `predictions_1` to the model's predictions for the validation data.  Recall that the validation features are stored in `X_valid`."
   ]
  },
  {
   "cell_type": "code",
   "execution_count": 5,
   "id": "415a9b79",
   "metadata": {
    "execution": {
     "iopub.execute_input": "2023-11-11T18:32:01.230407Z",
     "iopub.status.busy": "2023-11-11T18:32:01.229937Z",
     "iopub.status.idle": "2023-11-11T18:32:01.293847Z",
     "shell.execute_reply": "2023-11-11T18:32:01.292768Z"
    },
    "papermill": {
     "duration": 0.075468,
     "end_time": "2023-11-11T18:32:01.296799",
     "exception": false,
     "start_time": "2023-11-11T18:32:01.221331",
     "status": "completed"
    },
    "tags": []
   },
   "outputs": [
    {
     "data": {
      "application/javascript": [
       "parent.postMessage({\"jupyterEvent\": \"custom.exercise_interaction\", \"data\": {\"outcomeType\": 1, \"valueTowardsCompletion\": 0.5, \"interactionType\": 1, \"questionType\": 2, \"questionId\": \"1.2_Model1B\", \"learnToolsVersion\": \"0.3.4\", \"failureMessage\": \"\", \"exceptionClass\": \"\", \"trace\": \"\"}}, \"*\")"
      ],
      "text/plain": [
       "<IPython.core.display.Javascript object>"
      ]
     },
     "metadata": {},
     "output_type": "display_data"
    },
    {
     "data": {
      "text/markdown": [
       "<span style=\"color:#33cc33\">Correct</span>"
      ],
      "text/plain": [
       "Correct"
      ]
     },
     "metadata": {},
     "output_type": "display_data"
    }
   ],
   "source": [
    "from sklearn.metrics import mean_absolute_error\n",
    "\n",
    "# Get predictions\n",
    "predictions_1 = my_model_1.predict(X_valid)\n",
    "\n",
    "# Check your answer\n",
    "step_1.b.check()"
   ]
  },
  {
   "cell_type": "code",
   "execution_count": 6,
   "id": "2eae24b9",
   "metadata": {
    "execution": {
     "iopub.execute_input": "2023-11-11T18:32:01.314288Z",
     "iopub.status.busy": "2023-11-11T18:32:01.313846Z",
     "iopub.status.idle": "2023-11-11T18:32:01.318299Z",
     "shell.execute_reply": "2023-11-11T18:32:01.317182Z"
    },
    "papermill": {
     "duration": 0.015748,
     "end_time": "2023-11-11T18:32:01.320629",
     "exception": false,
     "start_time": "2023-11-11T18:32:01.304881",
     "status": "completed"
    },
    "tags": []
   },
   "outputs": [],
   "source": [
    "# Lines below will give you a hint or solution code\n",
    "#step_1.b.hint()\n",
    "#step_1.b.solution()"
   ]
  },
  {
   "cell_type": "markdown",
   "id": "1f38865f",
   "metadata": {
    "papermill": {
     "duration": 0.00722,
     "end_time": "2023-11-11T18:32:01.335730",
     "exception": false,
     "start_time": "2023-11-11T18:32:01.328510",
     "status": "completed"
    },
    "tags": []
   },
   "source": [
    "### Part C\n",
    "\n",
    "Finally, use the `mean_absolute_error()` function to calculate the mean absolute error (MAE) corresponding to the predictions for the validation set.  Recall that the labels for the validation data are stored in `y_valid`."
   ]
  },
  {
   "cell_type": "code",
   "execution_count": 7,
   "id": "ee2b26bf",
   "metadata": {
    "execution": {
     "iopub.execute_input": "2023-11-11T18:32:01.353418Z",
     "iopub.status.busy": "2023-11-11T18:32:01.352584Z",
     "iopub.status.idle": "2023-11-11T18:32:01.364558Z",
     "shell.execute_reply": "2023-11-11T18:32:01.363441Z"
    },
    "papermill": {
     "duration": 0.023419,
     "end_time": "2023-11-11T18:32:01.366819",
     "exception": false,
     "start_time": "2023-11-11T18:32:01.343400",
     "status": "completed"
    },
    "tags": []
   },
   "outputs": [
    {
     "name": "stdout",
     "output_type": "stream",
     "text": [
      "Mean Absolute Error: 18161.82412510702\n"
     ]
    },
    {
     "data": {
      "application/javascript": [
       "parent.postMessage({\"jupyterEvent\": \"custom.exercise_interaction\", \"data\": {\"outcomeType\": 1, \"valueTowardsCompletion\": 0.5, \"interactionType\": 1, \"questionType\": 2, \"questionId\": \"1.3_Model1C\", \"learnToolsVersion\": \"0.3.4\", \"failureMessage\": \"\", \"exceptionClass\": \"\", \"trace\": \"\"}}, \"*\")"
      ],
      "text/plain": [
       "<IPython.core.display.Javascript object>"
      ]
     },
     "metadata": {},
     "output_type": "display_data"
    },
    {
     "data": {
      "text/markdown": [
       "<span style=\"color:#33cc33\">Correct</span>"
      ],
      "text/plain": [
       "Correct"
      ]
     },
     "metadata": {},
     "output_type": "display_data"
    }
   ],
   "source": [
    "# Calculate MAE\n",
    "mae_1 = mean_absolute_error(predictions_1,y_valid)\n",
    "\n",
    "# Uncomment to print MAE\n",
    "print(\"Mean Absolute Error:\" , mae_1)\n",
    "\n",
    "# Check your answer\n",
    "step_1.c.check()"
   ]
  },
  {
   "cell_type": "code",
   "execution_count": 8,
   "id": "1aa11eee",
   "metadata": {
    "execution": {
     "iopub.execute_input": "2023-11-11T18:32:01.385391Z",
     "iopub.status.busy": "2023-11-11T18:32:01.384930Z",
     "iopub.status.idle": "2023-11-11T18:32:01.389642Z",
     "shell.execute_reply": "2023-11-11T18:32:01.388395Z"
    },
    "papermill": {
     "duration": 0.017339,
     "end_time": "2023-11-11T18:32:01.392272",
     "exception": false,
     "start_time": "2023-11-11T18:32:01.374933",
     "status": "completed"
    },
    "tags": []
   },
   "outputs": [],
   "source": [
    "# Lines below will give you a hint or solution code\n",
    "#step_1.c.hint()\n",
    "#step_1.c.solution()"
   ]
  },
  {
   "cell_type": "markdown",
   "id": "a85e208f",
   "metadata": {
    "papermill": {
     "duration": 0.007838,
     "end_time": "2023-11-11T18:32:01.408682",
     "exception": false,
     "start_time": "2023-11-11T18:32:01.400844",
     "status": "completed"
    },
    "tags": []
   },
   "source": [
    "# Step 2: Improve the model\n",
    "\n",
    "Now that you've trained a default model as baseline, it's time to tinker with the parameters, to see if you can get better performance!\n",
    "- Begin by setting `my_model_2` to an XGBoost model, using the [XGBRegressor](https://xgboost.readthedocs.io/en/latest/python/python_api.html#xgboost.XGBRegressor) class.  Use what you learned in the previous tutorial to figure out how to change the default parameters (like `n_estimators` and `learning_rate`) to get better results.\n",
    "- Then, fit the model to the training data in `X_train` and `y_train`.\n",
    "- Set `predictions_2` to the model's predictions for the validation data.  Recall that the validation features are stored in `X_valid`.\n",
    "- Finally, use the `mean_absolute_error()` function to calculate the mean absolute error (MAE) corresponding to the predictions on the validation set.  Recall that the labels for the validation data are stored in `y_valid`.\n",
    "\n",
    "In order for this step to be marked correct, your model in `my_model_2` must attain lower MAE than the model in `my_model_1`. "
   ]
  },
  {
   "cell_type": "code",
   "execution_count": 9,
   "id": "55a3feec",
   "metadata": {
    "execution": {
     "iopub.execute_input": "2023-11-11T18:32:01.426952Z",
     "iopub.status.busy": "2023-11-11T18:32:01.426564Z",
     "iopub.status.idle": "2023-11-11T18:32:06.109737Z",
     "shell.execute_reply": "2023-11-11T18:32:06.108712Z"
    },
    "papermill": {
     "duration": 4.695488,
     "end_time": "2023-11-11T18:32:06.112400",
     "exception": false,
     "start_time": "2023-11-11T18:32:01.416912",
     "status": "completed"
    },
    "tags": []
   },
   "outputs": [
    {
     "name": "stdout",
     "output_type": "stream",
     "text": [
      "Mean Absolute Error: 17224.27947078339\n"
     ]
    },
    {
     "data": {
      "application/javascript": [
       "parent.postMessage({\"jupyterEvent\": \"custom.exercise_interaction\", \"data\": {\"outcomeType\": 1, \"valueTowardsCompletion\": 0.5, \"interactionType\": 1, \"questionType\": 2, \"questionId\": \"2_Model2\", \"learnToolsVersion\": \"0.3.4\", \"failureMessage\": \"\", \"exceptionClass\": \"\", \"trace\": \"\"}}, \"*\")"
      ],
      "text/plain": [
       "<IPython.core.display.Javascript object>"
      ]
     },
     "metadata": {},
     "output_type": "display_data"
    },
    {
     "data": {
      "text/markdown": [
       "<span style=\"color:#33cc33\">Correct</span>"
      ],
      "text/plain": [
       "Correct"
      ]
     },
     "metadata": {},
     "output_type": "display_data"
    }
   ],
   "source": [
    "# Define the model\n",
    "my_model_2 = XGBRegressor(n_estimators=1000,learning_rate=0.05)\n",
    "\n",
    "# Fit the model\n",
    "my_model_2.fit(X_train,y_train)\n",
    "\n",
    "# Get predictions\n",
    "predictions_2 = my_model_2.predict(X_valid)\n",
    "\n",
    "# Calculate MAE\n",
    "mae_2 = mean_absolute_error(predictions_2,y_valid)\n",
    "\n",
    "# Uncomment to print MAE\n",
    "print(\"Mean Absolute Error:\" , mae_2)\n",
    "\n",
    "# Check your answer\n",
    "step_2.check()"
   ]
  },
  {
   "cell_type": "code",
   "execution_count": 10,
   "id": "5883a7b5",
   "metadata": {
    "execution": {
     "iopub.execute_input": "2023-11-11T18:32:06.134434Z",
     "iopub.status.busy": "2023-11-11T18:32:06.132691Z",
     "iopub.status.idle": "2023-11-11T18:32:06.138411Z",
     "shell.execute_reply": "2023-11-11T18:32:06.137340Z"
    },
    "papermill": {
     "duration": 0.019391,
     "end_time": "2023-11-11T18:32:06.141009",
     "exception": false,
     "start_time": "2023-11-11T18:32:06.121618",
     "status": "completed"
    },
    "tags": []
   },
   "outputs": [],
   "source": [
    "# Lines below will give you a hint or solution code\n",
    "#step_2.hint()\n",
    "#step_2.solution()"
   ]
  },
  {
   "cell_type": "markdown",
   "id": "34054ac9",
   "metadata": {
    "papermill": {
     "duration": 0.008119,
     "end_time": "2023-11-11T18:32:06.157813",
     "exception": false,
     "start_time": "2023-11-11T18:32:06.149694",
     "status": "completed"
    },
    "tags": []
   },
   "source": [
    "# Step 3: Break the model\n",
    "\n",
    "In this step, you will create a model that performs worse than the original model in Step 1.  This will help you to develop your intuition for how to set parameters.  You might even find that you accidentally get better performance, which is ultimately a nice problem to have and a valuable learning experience!\n",
    "- Begin by setting `my_model_3` to an XGBoost model, using the [XGBRegressor](https://xgboost.readthedocs.io/en/latest/python/python_api.html#xgboost.XGBRegressor) class.  Use what you learned in the previous tutorial to figure out how to change the default parameters (like `n_estimators` and `learning_rate`) to design a model to get high MAE.\n",
    "- Then, fit the model to the training data in `X_train` and `y_train`.\n",
    "- Set `predictions_3` to the model's predictions for the validation data.  Recall that the validation features are stored in `X_valid`.\n",
    "- Finally, use the `mean_absolute_error()` function to calculate the mean absolute error (MAE) corresponding to the predictions on the validation set.  Recall that the labels for the validation data are stored in `y_valid`.\n",
    "\n",
    "In order for this step to be marked correct, your model in `my_model_3` must attain higher MAE than the model in `my_model_1`. "
   ]
  },
  {
   "cell_type": "code",
   "execution_count": 11,
   "id": "a29d12bd",
   "metadata": {
    "execution": {
     "iopub.execute_input": "2023-11-11T18:32:06.176875Z",
     "iopub.status.busy": "2023-11-11T18:32:06.176103Z",
     "iopub.status.idle": "2023-11-11T18:32:06.393430Z",
     "shell.execute_reply": "2023-11-11T18:32:06.392455Z"
    },
    "papermill": {
     "duration": 0.229668,
     "end_time": "2023-11-11T18:32:06.395851",
     "exception": false,
     "start_time": "2023-11-11T18:32:06.166183",
     "status": "completed"
    },
    "tags": []
   },
   "outputs": [
    {
     "name": "stdout",
     "output_type": "stream",
     "text": [
      "Mean Absolute Error: 27856.76586579623\n"
     ]
    },
    {
     "data": {
      "application/javascript": [
       "parent.postMessage({\"jupyterEvent\": \"custom.exercise_interaction\", \"data\": {\"outcomeType\": 1, \"valueTowardsCompletion\": 0.5, \"interactionType\": 1, \"questionType\": 2, \"questionId\": \"3_Model3\", \"learnToolsVersion\": \"0.3.4\", \"failureMessage\": \"\", \"exceptionClass\": \"\", \"trace\": \"\"}}, \"*\")"
      ],
      "text/plain": [
       "<IPython.core.display.Javascript object>"
      ]
     },
     "metadata": {},
     "output_type": "display_data"
    },
    {
     "data": {
      "text/markdown": [
       "<span style=\"color:#33cc33\">Correct</span>"
      ],
      "text/plain": [
       "Correct"
      ]
     },
     "metadata": {},
     "output_type": "display_data"
    }
   ],
   "source": [
    "# Define the model\n",
    "my_model_3 = XGBRegressor(n_estimators=10,learning_rate=0.1)\n",
    "\n",
    "# Fit the model\n",
    "my_model_3.fit(X_train,y_train)\n",
    "\n",
    "# Get predictions\n",
    "predictions_3 = my_model_3.predict(X_valid)\n",
    "\n",
    "# Calculate MAE\n",
    "mae_3 = mean_absolute_error(y_valid,predictions_3)\n",
    "\n",
    "# Uncomment to print MAE\n",
    "print(\"Mean Absolute Error:\" , mae_3)\n",
    "\n",
    "# Check your answer\n",
    "step_3.check()"
   ]
  },
  {
   "cell_type": "code",
   "execution_count": 12,
   "id": "64b8ce41",
   "metadata": {
    "execution": {
     "iopub.execute_input": "2023-11-11T18:32:06.416198Z",
     "iopub.status.busy": "2023-11-11T18:32:06.415811Z",
     "iopub.status.idle": "2023-11-11T18:32:06.421366Z",
     "shell.execute_reply": "2023-11-11T18:32:06.420219Z"
    },
    "papermill": {
     "duration": 0.018114,
     "end_time": "2023-11-11T18:32:06.423707",
     "exception": false,
     "start_time": "2023-11-11T18:32:06.405593",
     "status": "completed"
    },
    "tags": []
   },
   "outputs": [],
   "source": [
    "# Lines below will give you a hint or solution code\n",
    "#step_3.hint()\n",
    "#step_3.solution()"
   ]
  },
  {
   "cell_type": "markdown",
   "id": "9483f022",
   "metadata": {
    "papermill": {
     "duration": 0.009511,
     "end_time": "2023-11-11T18:32:06.442285",
     "exception": false,
     "start_time": "2023-11-11T18:32:06.432774",
     "status": "completed"
    },
    "tags": []
   },
   "source": [
    "# Keep going\n",
    "\n",
    "Continue to learn about **[data leakage](https://www.kaggle.com/alexisbcook/data-leakage)**.  This is an important issue for a data scientist to understand, and it has the potential to ruin your models in subtle and dangerous ways!"
   ]
  },
  {
   "cell_type": "markdown",
   "id": "864e983b",
   "metadata": {
    "papermill": {
     "duration": 0.00903,
     "end_time": "2023-11-11T18:32:06.460698",
     "exception": false,
     "start_time": "2023-11-11T18:32:06.451668",
     "status": "completed"
    },
    "tags": []
   },
   "source": [
    "---\n",
    "\n",
    "\n",
    "\n",
    "\n",
    "*Have questions or comments? Visit the [course discussion forum](https://www.kaggle.com/learn/intermediate-machine-learning/discussion) to chat with other learners.*"
   ]
  }
 ],
 "metadata": {
  "kernelspec": {
   "display_name": "Python 3",
   "language": "python",
   "name": "python3"
  },
  "language_info": {
   "codemirror_mode": {
    "name": "ipython",
    "version": 3
   },
   "file_extension": ".py",
   "mimetype": "text/x-python",
   "name": "python",
   "nbconvert_exporter": "python",
   "pygments_lexer": "ipython3",
   "version": "3.10.12"
  },
  "papermill": {
   "default_parameters": {},
   "duration": 13.442126,
   "end_time": "2023-11-11T18:32:07.090346",
   "environment_variables": {},
   "exception": null,
   "input_path": "__notebook__.ipynb",
   "output_path": "__notebook__.ipynb",
   "parameters": {},
   "start_time": "2023-11-11T18:31:53.648220",
   "version": "2.4.0"
  }
 },
 "nbformat": 4,
 "nbformat_minor": 5
}
