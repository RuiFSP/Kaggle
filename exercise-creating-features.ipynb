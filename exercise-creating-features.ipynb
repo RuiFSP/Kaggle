{
 "cells": [
  {
   "cell_type": "markdown",
   "id": "4277eca5",
   "metadata": {
    "papermill": {
     "duration": 0.005683,
     "end_time": "2023-12-27T11:21:46.380195",
     "exception": false,
     "start_time": "2023-12-27T11:21:46.374512",
     "status": "completed"
    },
    "tags": []
   },
   "source": [
    "**This notebook is an exercise in the [Feature Engineering](https://www.kaggle.com/learn/feature-engineering) course.  You can reference the tutorial at [this link](https://www.kaggle.com/ryanholbrook/creating-features).**\n",
    "\n",
    "---\n"
   ]
  },
  {
   "cell_type": "markdown",
   "id": "52d40216",
   "metadata": {
    "papermill": {
     "duration": 0.004706,
     "end_time": "2023-12-27T11:21:46.389921",
     "exception": false,
     "start_time": "2023-12-27T11:21:46.385215",
     "status": "completed"
    },
    "tags": []
   },
   "source": [
    "# Introduction #\n",
    "\n",
    "In this exercise you'll start developing the features you identified in Exercise 2 as having the most potential. As you work through this exercise, you might take a moment to look at the data documentation again and consider whether the features we're creating make sense from a real-world perspective, and whether there are any useful combinations that stand out to you.\n",
    "\n",
    "Run this cell to set everything up!"
   ]
  },
  {
   "cell_type": "code",
   "execution_count": 1,
   "id": "76c9f8d8",
   "metadata": {
    "execution": {
     "iopub.execute_input": "2023-12-27T11:21:46.401953Z",
     "iopub.status.busy": "2023-12-27T11:21:46.401433Z",
     "iopub.status.idle": "2023-12-27T11:21:48.302955Z",
     "shell.execute_reply": "2023-12-27T11:21:48.301875Z"
    },
    "papermill": {
     "duration": 1.910537,
     "end_time": "2023-12-27T11:21:48.305430",
     "exception": false,
     "start_time": "2023-12-27T11:21:46.394893",
     "status": "completed"
    },
    "tags": []
   },
   "outputs": [],
   "source": [
    "# Setup feedback system\n",
    "from learntools.core import binder\n",
    "binder.bind(globals())\n",
    "from learntools.feature_engineering_new.ex3 import *\n",
    "\n",
    "import numpy as np\n",
    "import pandas as pd\n",
    "from sklearn.model_selection import cross_val_score\n",
    "from xgboost import XGBRegressor\n",
    "\n",
    "\n",
    "def score_dataset(X, y, model=XGBRegressor()):\n",
    "    # Label encoding for categoricals\n",
    "    for colname in X.select_dtypes([\"category\", \"object\"]):\n",
    "        X[colname], _ = X[colname].factorize()\n",
    "    # Metric for Housing competition is RMSLE (Root Mean Squared Log Error)\n",
    "    score = cross_val_score(\n",
    "        model, X, y, cv=5, scoring=\"neg_mean_squared_log_error\",\n",
    "    )\n",
    "    score = -1 * score.mean()\n",
    "    score = np.sqrt(score)\n",
    "    return score\n",
    "\n",
    "\n",
    "# Prepare data\n",
    "df = pd.read_csv(\"../input/fe-course-data/ames.csv\")\n",
    "X = df.copy()\n",
    "y = X.pop(\"SalePrice\")"
   ]
  },
  {
   "cell_type": "markdown",
   "id": "d8d8c339",
   "metadata": {
    "papermill": {
     "duration": 0.005017,
     "end_time": "2023-12-27T11:21:48.315748",
     "exception": false,
     "start_time": "2023-12-27T11:21:48.310731",
     "status": "completed"
    },
    "tags": []
   },
   "source": [
    "-------------------------------------------------------------------------------\n",
    "\n",
    "Let's start with a few mathematical combinations. We'll focus on features describing areas -- having the same units (square-feet) makes it easy to combine them in sensible ways. Since we're using XGBoost (a tree-based model), we'll focus on ratios and sums.\n",
    "\n",
    "# 1) Create Mathematical Transforms\n",
    "\n",
    "Create the following features:\n",
    "\n",
    "- `LivLotRatio`: the ratio of `GrLivArea` to `LotArea`\n",
    "- `Spaciousness`: the sum of `FirstFlrSF` and `SecondFlrSF` divided by `TotRmsAbvGrd`\n",
    "- `TotalOutsideSF`: the sum of `WoodDeckSF`, `OpenPorchSF`, `EnclosedPorch`, `Threeseasonporch`, and `ScreenPorch`"
   ]
  },
  {
   "cell_type": "code",
   "execution_count": 2,
   "id": "33afb6da",
   "metadata": {
    "execution": {
     "iopub.execute_input": "2023-12-27T11:21:48.328414Z",
     "iopub.status.busy": "2023-12-27T11:21:48.327629Z",
     "iopub.status.idle": "2023-12-27T11:21:48.354298Z",
     "shell.execute_reply": "2023-12-27T11:21:48.352844Z"
    },
    "papermill": {
     "duration": 0.03555,
     "end_time": "2023-12-27T11:21:48.356620",
     "exception": false,
     "start_time": "2023-12-27T11:21:48.321070",
     "status": "completed"
    },
    "tags": []
   },
   "outputs": [
    {
     "data": {
      "text/html": [
       "<div>\n",
       "<style scoped>\n",
       "    .dataframe tbody tr th:only-of-type {\n",
       "        vertical-align: middle;\n",
       "    }\n",
       "\n",
       "    .dataframe tbody tr th {\n",
       "        vertical-align: top;\n",
       "    }\n",
       "\n",
       "    .dataframe thead th {\n",
       "        text-align: right;\n",
       "    }\n",
       "</style>\n",
       "<table border=\"1\" class=\"dataframe\">\n",
       "  <thead>\n",
       "    <tr style=\"text-align: right;\">\n",
       "      <th></th>\n",
       "      <th>MSSubClass</th>\n",
       "      <th>MSZoning</th>\n",
       "      <th>LotFrontage</th>\n",
       "      <th>LotArea</th>\n",
       "      <th>Street</th>\n",
       "      <th>Alley</th>\n",
       "      <th>LotShape</th>\n",
       "      <th>LandContour</th>\n",
       "      <th>Utilities</th>\n",
       "      <th>LotConfig</th>\n",
       "      <th>...</th>\n",
       "      <th>PoolArea</th>\n",
       "      <th>PoolQC</th>\n",
       "      <th>Fence</th>\n",
       "      <th>MiscFeature</th>\n",
       "      <th>MiscVal</th>\n",
       "      <th>MoSold</th>\n",
       "      <th>YearSold</th>\n",
       "      <th>SaleType</th>\n",
       "      <th>SaleCondition</th>\n",
       "      <th>SalePrice</th>\n",
       "    </tr>\n",
       "  </thead>\n",
       "  <tbody>\n",
       "    <tr>\n",
       "      <th>0</th>\n",
       "      <td>One_Story_1946_and_Newer_All_Styles</td>\n",
       "      <td>Residential_Low_Density</td>\n",
       "      <td>141.0</td>\n",
       "      <td>31770.0</td>\n",
       "      <td>Pave</td>\n",
       "      <td>No_Alley_Access</td>\n",
       "      <td>Slightly_Irregular</td>\n",
       "      <td>Lvl</td>\n",
       "      <td>AllPub</td>\n",
       "      <td>Corner</td>\n",
       "      <td>...</td>\n",
       "      <td>0.0</td>\n",
       "      <td>No_Pool</td>\n",
       "      <td>No_Fence</td>\n",
       "      <td>NaN</td>\n",
       "      <td>0.0</td>\n",
       "      <td>5</td>\n",
       "      <td>2010</td>\n",
       "      <td>WD</td>\n",
       "      <td>Normal</td>\n",
       "      <td>215000</td>\n",
       "    </tr>\n",
       "    <tr>\n",
       "      <th>1</th>\n",
       "      <td>One_Story_1946_and_Newer_All_Styles</td>\n",
       "      <td>Residential_High_Density</td>\n",
       "      <td>80.0</td>\n",
       "      <td>11622.0</td>\n",
       "      <td>Pave</td>\n",
       "      <td>No_Alley_Access</td>\n",
       "      <td>Regular</td>\n",
       "      <td>Lvl</td>\n",
       "      <td>AllPub</td>\n",
       "      <td>Inside</td>\n",
       "      <td>...</td>\n",
       "      <td>0.0</td>\n",
       "      <td>No_Pool</td>\n",
       "      <td>Minimum_Privacy</td>\n",
       "      <td>NaN</td>\n",
       "      <td>0.0</td>\n",
       "      <td>6</td>\n",
       "      <td>2010</td>\n",
       "      <td>WD</td>\n",
       "      <td>Normal</td>\n",
       "      <td>105000</td>\n",
       "    </tr>\n",
       "    <tr>\n",
       "      <th>2</th>\n",
       "      <td>One_Story_1946_and_Newer_All_Styles</td>\n",
       "      <td>Residential_Low_Density</td>\n",
       "      <td>81.0</td>\n",
       "      <td>14267.0</td>\n",
       "      <td>Pave</td>\n",
       "      <td>No_Alley_Access</td>\n",
       "      <td>Slightly_Irregular</td>\n",
       "      <td>Lvl</td>\n",
       "      <td>AllPub</td>\n",
       "      <td>Corner</td>\n",
       "      <td>...</td>\n",
       "      <td>0.0</td>\n",
       "      <td>No_Pool</td>\n",
       "      <td>No_Fence</td>\n",
       "      <td>Gar2</td>\n",
       "      <td>12500.0</td>\n",
       "      <td>6</td>\n",
       "      <td>2010</td>\n",
       "      <td>WD</td>\n",
       "      <td>Normal</td>\n",
       "      <td>172000</td>\n",
       "    </tr>\n",
       "    <tr>\n",
       "      <th>3</th>\n",
       "      <td>One_Story_1946_and_Newer_All_Styles</td>\n",
       "      <td>Residential_Low_Density</td>\n",
       "      <td>93.0</td>\n",
       "      <td>11160.0</td>\n",
       "      <td>Pave</td>\n",
       "      <td>No_Alley_Access</td>\n",
       "      <td>Regular</td>\n",
       "      <td>Lvl</td>\n",
       "      <td>AllPub</td>\n",
       "      <td>Corner</td>\n",
       "      <td>...</td>\n",
       "      <td>0.0</td>\n",
       "      <td>No_Pool</td>\n",
       "      <td>No_Fence</td>\n",
       "      <td>NaN</td>\n",
       "      <td>0.0</td>\n",
       "      <td>4</td>\n",
       "      <td>2010</td>\n",
       "      <td>WD</td>\n",
       "      <td>Normal</td>\n",
       "      <td>244000</td>\n",
       "    </tr>\n",
       "    <tr>\n",
       "      <th>4</th>\n",
       "      <td>Two_Story_1946_and_Newer</td>\n",
       "      <td>Residential_Low_Density</td>\n",
       "      <td>74.0</td>\n",
       "      <td>13830.0</td>\n",
       "      <td>Pave</td>\n",
       "      <td>No_Alley_Access</td>\n",
       "      <td>Slightly_Irregular</td>\n",
       "      <td>Lvl</td>\n",
       "      <td>AllPub</td>\n",
       "      <td>Inside</td>\n",
       "      <td>...</td>\n",
       "      <td>0.0</td>\n",
       "      <td>No_Pool</td>\n",
       "      <td>Minimum_Privacy</td>\n",
       "      <td>NaN</td>\n",
       "      <td>0.0</td>\n",
       "      <td>3</td>\n",
       "      <td>2010</td>\n",
       "      <td>WD</td>\n",
       "      <td>Normal</td>\n",
       "      <td>189900</td>\n",
       "    </tr>\n",
       "  </tbody>\n",
       "</table>\n",
       "<p>5 rows × 79 columns</p>\n",
       "</div>"
      ],
      "text/plain": [
       "                            MSSubClass                  MSZoning  LotFrontage  \\\n",
       "0  One_Story_1946_and_Newer_All_Styles   Residential_Low_Density        141.0   \n",
       "1  One_Story_1946_and_Newer_All_Styles  Residential_High_Density         80.0   \n",
       "2  One_Story_1946_and_Newer_All_Styles   Residential_Low_Density         81.0   \n",
       "3  One_Story_1946_and_Newer_All_Styles   Residential_Low_Density         93.0   \n",
       "4             Two_Story_1946_and_Newer   Residential_Low_Density         74.0   \n",
       "\n",
       "   LotArea Street            Alley            LotShape LandContour Utilities  \\\n",
       "0  31770.0   Pave  No_Alley_Access  Slightly_Irregular         Lvl    AllPub   \n",
       "1  11622.0   Pave  No_Alley_Access             Regular         Lvl    AllPub   \n",
       "2  14267.0   Pave  No_Alley_Access  Slightly_Irregular         Lvl    AllPub   \n",
       "3  11160.0   Pave  No_Alley_Access             Regular         Lvl    AllPub   \n",
       "4  13830.0   Pave  No_Alley_Access  Slightly_Irregular         Lvl    AllPub   \n",
       "\n",
       "  LotConfig  ... PoolArea   PoolQC            Fence MiscFeature  MiscVal  \\\n",
       "0    Corner  ...      0.0  No_Pool         No_Fence         NaN      0.0   \n",
       "1    Inside  ...      0.0  No_Pool  Minimum_Privacy         NaN      0.0   \n",
       "2    Corner  ...      0.0  No_Pool         No_Fence        Gar2  12500.0   \n",
       "3    Corner  ...      0.0  No_Pool         No_Fence         NaN      0.0   \n",
       "4    Inside  ...      0.0  No_Pool  Minimum_Privacy         NaN      0.0   \n",
       "\n",
       "  MoSold YearSold SaleType  SaleCondition  SalePrice  \n",
       "0      5     2010      WD          Normal     215000  \n",
       "1      6     2010      WD          Normal     105000  \n",
       "2      6     2010      WD          Normal     172000  \n",
       "3      4     2010      WD          Normal     244000  \n",
       "4      3     2010      WD          Normal     189900  \n",
       "\n",
       "[5 rows x 79 columns]"
      ]
     },
     "execution_count": 2,
     "metadata": {},
     "output_type": "execute_result"
    }
   ],
   "source": [
    "df.head()"
   ]
  },
  {
   "cell_type": "code",
   "execution_count": 3,
   "id": "9a52b78f",
   "metadata": {
    "execution": {
     "iopub.execute_input": "2023-12-27T11:21:48.368822Z",
     "iopub.status.busy": "2023-12-27T11:21:48.368492Z",
     "iopub.status.idle": "2023-12-27T11:21:48.391274Z",
     "shell.execute_reply": "2023-12-27T11:21:48.390142Z"
    },
    "lines_to_next_cell": 0,
    "papermill": {
     "duration": 0.031898,
     "end_time": "2023-12-27T11:21:48.393948",
     "exception": false,
     "start_time": "2023-12-27T11:21:48.362050",
     "status": "completed"
    },
    "tags": []
   },
   "outputs": [
    {
     "data": {
      "application/javascript": [
       "parent.postMessage({\"jupyterEvent\": \"custom.exercise_interaction\", \"data\": {\"outcomeType\": 1, \"valueTowardsCompletion\": 0.2, \"interactionType\": 1, \"questionType\": 2, \"questionId\": \"1_Q1\", \"learnToolsVersion\": \"0.3.4\", \"failureMessage\": \"\", \"exceptionClass\": \"\", \"trace\": \"\"}}, \"*\")"
      ],
      "text/plain": [
       "<IPython.core.display.Javascript object>"
      ]
     },
     "metadata": {},
     "output_type": "display_data"
    },
    {
     "data": {
      "text/markdown": [
       "<span style=\"color:#33cc33\">Correct</span>"
      ],
      "text/plain": [
       "Correct"
      ]
     },
     "metadata": {},
     "output_type": "display_data"
    }
   ],
   "source": [
    "# YOUR CODE HERE\n",
    "X_1 = pd.DataFrame()  # dataframe to hold new features\n",
    "\n",
    "X_1[\"LivLotRatio\"] = df['GrLivArea'] / df['LotArea']\n",
    "X_1[\"Spaciousness\"] = (df['FirstFlrSF'] + df['SecondFlrSF']) / df['TotRmsAbvGrd']\n",
    "X_1[\"TotalOutsideSF\"] = df[['WoodDeckSF', 'OpenPorchSF', 'EnclosedPorch', 'Threeseasonporch', 'ScreenPorch']].sum(axis=1)\n",
    "\n",
    "\n",
    "# Check your answer\n",
    "q_1.check()"
   ]
  },
  {
   "cell_type": "code",
   "execution_count": 4,
   "id": "c9bfd67f",
   "metadata": {
    "execution": {
     "iopub.execute_input": "2023-12-27T11:21:48.406780Z",
     "iopub.status.busy": "2023-12-27T11:21:48.406441Z",
     "iopub.status.idle": "2023-12-27T11:21:48.410785Z",
     "shell.execute_reply": "2023-12-27T11:21:48.409421Z"
    },
    "lines_to_next_cell": 0,
    "papermill": {
     "duration": 0.013962,
     "end_time": "2023-12-27T11:21:48.413604",
     "exception": false,
     "start_time": "2023-12-27T11:21:48.399642",
     "status": "completed"
    },
    "tags": []
   },
   "outputs": [],
   "source": [
    "# Lines below will give you a hint or solution code\n",
    "#q_1.hint()\n",
    "#q_1.solution()"
   ]
  },
  {
   "cell_type": "markdown",
   "id": "7eb4bdd5",
   "metadata": {
    "papermill": {
     "duration": 0.005477,
     "end_time": "2023-12-27T11:21:48.425281",
     "exception": false,
     "start_time": "2023-12-27T11:21:48.419804",
     "status": "completed"
    },
    "tags": []
   },
   "source": [
    "-------------------------------------------------------------------------------\n",
    "\n",
    "If you've discovered an interaction effect between a numeric feature and a categorical feature, you might want to model it explicitly using a one-hot encoding, like so:\n",
    "\n",
    "```\n",
    "# One-hot encode Categorical feature, adding a column prefix \"Cat\"\n",
    "X_new = pd.get_dummies(df.Categorical, prefix=\"Cat\")\n",
    "\n",
    "# Multiply row-by-row\n",
    "X_new = X_new.mul(df.Continuous, axis=0)\n",
    "\n",
    "# Join the new features to the feature set\n",
    "X = X.join(X_new)\n",
    "```\n",
    "\n",
    "# 2) Interaction with a Categorical\n",
    "\n",
    "We discovered an interaction between `BldgType` and `GrLivArea` in Exercise 2. Now create their interaction features."
   ]
  },
  {
   "cell_type": "code",
   "execution_count": 5,
   "id": "90da3865",
   "metadata": {
    "execution": {
     "iopub.execute_input": "2023-12-27T11:21:48.438140Z",
     "iopub.status.busy": "2023-12-27T11:21:48.437789Z",
     "iopub.status.idle": "2023-12-27T11:21:48.451845Z",
     "shell.execute_reply": "2023-12-27T11:21:48.450572Z"
    },
    "lines_to_next_cell": 0,
    "papermill": {
     "duration": 0.02282,
     "end_time": "2023-12-27T11:21:48.453748",
     "exception": false,
     "start_time": "2023-12-27T11:21:48.430928",
     "status": "completed"
    },
    "tags": []
   },
   "outputs": [
    {
     "data": {
      "application/javascript": [
       "parent.postMessage({\"jupyterEvent\": \"custom.exercise_interaction\", \"data\": {\"outcomeType\": 1, \"valueTowardsCompletion\": 0.2, \"interactionType\": 1, \"questionType\": 2, \"questionId\": \"2_Q2\", \"learnToolsVersion\": \"0.3.4\", \"failureMessage\": \"\", \"exceptionClass\": \"\", \"trace\": \"\"}}, \"*\")"
      ],
      "text/plain": [
       "<IPython.core.display.Javascript object>"
      ]
     },
     "metadata": {},
     "output_type": "display_data"
    },
    {
     "data": {
      "text/markdown": [
       "<span style=\"color:#33cc33\">Correct</span>"
      ],
      "text/plain": [
       "Correct"
      ]
     },
     "metadata": {},
     "output_type": "display_data"
    }
   ],
   "source": [
    "# YOUR CODE HERE\n",
    "# One-hot encode BldgType. Use `prefix=\"Bldg\"` in `get_dummies`\n",
    "X_2 = pd.get_dummies(df['BldgType'], prefix=\"Bldg\")\n",
    "# Multiply\n",
    "X_2 = X_2.mul(df['GrLivArea'], axis=0)\n",
    "\n",
    "\n",
    "# Check your answer\n",
    "q_2.check()"
   ]
  },
  {
   "cell_type": "code",
   "execution_count": 6,
   "id": "f2ffde36",
   "metadata": {
    "execution": {
     "iopub.execute_input": "2023-12-27T11:21:48.466886Z",
     "iopub.status.busy": "2023-12-27T11:21:48.466535Z",
     "iopub.status.idle": "2023-12-27T11:21:48.470612Z",
     "shell.execute_reply": "2023-12-27T11:21:48.469702Z"
    },
    "lines_to_next_cell": 0,
    "papermill": {
     "duration": 0.012599,
     "end_time": "2023-12-27T11:21:48.472160",
     "exception": false,
     "start_time": "2023-12-27T11:21:48.459561",
     "status": "completed"
    },
    "tags": []
   },
   "outputs": [],
   "source": [
    "# Lines below will give you a hint or solution code\n",
    "#q_2.hint()\n",
    "#q_2.solution()"
   ]
  },
  {
   "cell_type": "markdown",
   "id": "f383236c",
   "metadata": {
    "lines_to_next_cell": 0,
    "papermill": {
     "duration": 0.005469,
     "end_time": "2023-12-27T11:21:48.483594",
     "exception": false,
     "start_time": "2023-12-27T11:21:48.478125",
     "status": "completed"
    },
    "tags": []
   },
   "source": [
    "# 3) Count Feature\n",
    "\n",
    "Let's try creating a feature that describes how many kinds of outdoor areas a dwelling has. Create a feature `PorchTypes` that counts how many of the following are greater than 0.0:\n",
    "\n",
    "```\n",
    "WoodDeckSF\n",
    "OpenPorchSF\n",
    "EnclosedPorch\n",
    "Threeseasonporch\n",
    "ScreenPorch\n",
    "```"
   ]
  },
  {
   "cell_type": "code",
   "execution_count": 7,
   "id": "77c89158",
   "metadata": {
    "execution": {
     "iopub.execute_input": "2023-12-27T11:21:48.496527Z",
     "iopub.status.busy": "2023-12-27T11:21:48.495874Z",
     "iopub.status.idle": "2023-12-27T11:21:48.507980Z",
     "shell.execute_reply": "2023-12-27T11:21:48.507357Z"
    },
    "lines_to_next_cell": 0,
    "papermill": {
     "duration": 0.020987,
     "end_time": "2023-12-27T11:21:48.510074",
     "exception": false,
     "start_time": "2023-12-27T11:21:48.489087",
     "status": "completed"
    },
    "tags": []
   },
   "outputs": [
    {
     "data": {
      "application/javascript": [
       "parent.postMessage({\"jupyterEvent\": \"custom.exercise_interaction\", \"data\": {\"outcomeType\": 1, \"valueTowardsCompletion\": 0.2, \"interactionType\": 1, \"questionType\": 2, \"questionId\": \"3_Q3\", \"learnToolsVersion\": \"0.3.4\", \"failureMessage\": \"\", \"exceptionClass\": \"\", \"trace\": \"\"}}, \"*\")"
      ],
      "text/plain": [
       "<IPython.core.display.Javascript object>"
      ]
     },
     "metadata": {},
     "output_type": "display_data"
    },
    {
     "data": {
      "text/markdown": [
       "<span style=\"color:#33cc33\">Correct</span>"
      ],
      "text/plain": [
       "Correct"
      ]
     },
     "metadata": {},
     "output_type": "display_data"
    }
   ],
   "source": [
    "X_3 = pd.DataFrame()\n",
    "\n",
    "# YOUR CODE HERE\n",
    "X_3[\"PorchTypes\"] = df[['WoodDeckSF','OpenPorchSF','EnclosedPorch','Threeseasonporch','ScreenPorch']].gt(0.0).sum(axis=1)\n",
    "\n",
    "\n",
    "# Check your answer\n",
    "q_3.check()"
   ]
  },
  {
   "cell_type": "code",
   "execution_count": 8,
   "id": "ff676297",
   "metadata": {
    "execution": {
     "iopub.execute_input": "2023-12-27T11:21:48.524017Z",
     "iopub.status.busy": "2023-12-27T11:21:48.523338Z",
     "iopub.status.idle": "2023-12-27T11:21:48.527195Z",
     "shell.execute_reply": "2023-12-27T11:21:48.526244Z"
    },
    "lines_to_next_cell": 0,
    "papermill": {
     "duration": 0.012955,
     "end_time": "2023-12-27T11:21:48.529041",
     "exception": false,
     "start_time": "2023-12-27T11:21:48.516086",
     "status": "completed"
    },
    "tags": []
   },
   "outputs": [],
   "source": [
    "# Lines below will give you a hint or solution code\n",
    "#q_3.hint()\n",
    "#q_3.solution()"
   ]
  },
  {
   "cell_type": "markdown",
   "id": "4c383290",
   "metadata": {
    "papermill": {
     "duration": 0.006649,
     "end_time": "2023-12-27T11:21:48.541762",
     "exception": false,
     "start_time": "2023-12-27T11:21:48.535113",
     "status": "completed"
    },
    "tags": []
   },
   "source": [
    "# 4) Break Down a Categorical Feature\n",
    "\n",
    "`MSSubClass` describes the type of a dwelling:"
   ]
  },
  {
   "cell_type": "code",
   "execution_count": 9,
   "id": "ce22be57",
   "metadata": {
    "execution": {
     "iopub.execute_input": "2023-12-27T11:21:48.555095Z",
     "iopub.status.busy": "2023-12-27T11:21:48.554749Z",
     "iopub.status.idle": "2023-12-27T11:21:48.562291Z",
     "shell.execute_reply": "2023-12-27T11:21:48.561520Z"
    },
    "papermill": {
     "duration": 0.016568,
     "end_time": "2023-12-27T11:21:48.564310",
     "exception": false,
     "start_time": "2023-12-27T11:21:48.547742",
     "status": "completed"
    },
    "tags": []
   },
   "outputs": [
    {
     "data": {
      "text/plain": [
       "array(['One_Story_1946_and_Newer_All_Styles', 'Two_Story_1946_and_Newer',\n",
       "       'One_Story_PUD_1946_and_Newer',\n",
       "       'One_and_Half_Story_Finished_All_Ages', 'Split_Foyer',\n",
       "       'Two_Story_PUD_1946_and_Newer', 'Split_or_Multilevel',\n",
       "       'One_Story_1945_and_Older', 'Duplex_All_Styles_and_Ages',\n",
       "       'Two_Family_conversion_All_Styles_and_Ages',\n",
       "       'One_and_Half_Story_Unfinished_All_Ages',\n",
       "       'Two_Story_1945_and_Older', 'Two_and_Half_Story_All_Ages',\n",
       "       'One_Story_with_Finished_Attic_All_Ages',\n",
       "       'PUD_Multilevel_Split_Level_Foyer',\n",
       "       'One_and_Half_Story_PUD_All_Ages'], dtype=object)"
      ]
     },
     "execution_count": 9,
     "metadata": {},
     "output_type": "execute_result"
    }
   ],
   "source": [
    "df.MSSubClass.unique()"
   ]
  },
  {
   "cell_type": "markdown",
   "id": "030284e0",
   "metadata": {
    "papermill": {
     "duration": 0.005674,
     "end_time": "2023-12-27T11:21:48.576262",
     "exception": false,
     "start_time": "2023-12-27T11:21:48.570588",
     "status": "completed"
    },
    "tags": []
   },
   "source": [
    "You can see that there is a more general categorization described (roughly) by the first word of each category. Create a feature containing only these first words by splitting `MSSubClass` at the first underscore `_`. (Hint: In the `split` method use an argument `n=1`.)"
   ]
  },
  {
   "cell_type": "code",
   "execution_count": 10,
   "id": "bdf73916",
   "metadata": {
    "execution": {
     "iopub.execute_input": "2023-12-27T11:21:48.589291Z",
     "iopub.status.busy": "2023-12-27T11:21:48.588919Z",
     "iopub.status.idle": "2023-12-27T11:21:48.606845Z",
     "shell.execute_reply": "2023-12-27T11:21:48.606109Z"
    },
    "lines_to_next_cell": 0,
    "papermill": {
     "duration": 0.026517,
     "end_time": "2023-12-27T11:21:48.608488",
     "exception": false,
     "start_time": "2023-12-27T11:21:48.581971",
     "status": "completed"
    },
    "tags": []
   },
   "outputs": [
    {
     "data": {
      "application/javascript": [
       "parent.postMessage({\"jupyterEvent\": \"custom.exercise_interaction\", \"data\": {\"outcomeType\": 1, \"valueTowardsCompletion\": 0.2, \"interactionType\": 1, \"questionType\": 2, \"questionId\": \"4_Q4\", \"learnToolsVersion\": \"0.3.4\", \"failureMessage\": \"\", \"exceptionClass\": \"\", \"trace\": \"\"}}, \"*\")"
      ],
      "text/plain": [
       "<IPython.core.display.Javascript object>"
      ]
     },
     "metadata": {},
     "output_type": "display_data"
    },
    {
     "data": {
      "text/markdown": [
       "<span style=\"color:#33cc33\">Correct</span>"
      ],
      "text/plain": [
       "Correct"
      ]
     },
     "metadata": {},
     "output_type": "display_data"
    }
   ],
   "source": [
    "X_4 = pd.DataFrame()\n",
    "\n",
    "# YOUR CODE HERE\n",
    "X_4[\"MSClass\"] = df['MSSubClass'].str.split(\"_\", n=1, expand=True)[0]\n",
    "\n",
    "# Check your answer\n",
    "q_4.check()"
   ]
  },
  {
   "cell_type": "code",
   "execution_count": 11,
   "id": "183df2e2",
   "metadata": {
    "execution": {
     "iopub.execute_input": "2023-12-27T11:21:48.625031Z",
     "iopub.status.busy": "2023-12-27T11:21:48.624421Z",
     "iopub.status.idle": "2023-12-27T11:21:48.628199Z",
     "shell.execute_reply": "2023-12-27T11:21:48.627306Z"
    },
    "lines_to_next_cell": 0,
    "papermill": {
     "duration": 0.014082,
     "end_time": "2023-12-27T11:21:48.630042",
     "exception": false,
     "start_time": "2023-12-27T11:21:48.615960",
     "status": "completed"
    },
    "tags": []
   },
   "outputs": [],
   "source": [
    "# Lines below will give you a hint or solution code\n",
    "#q_4.hint()\n",
    "#q_4.solution()"
   ]
  },
  {
   "cell_type": "markdown",
   "id": "2d340d89",
   "metadata": {
    "papermill": {
     "duration": 0.005934,
     "end_time": "2023-12-27T11:21:48.642282",
     "exception": false,
     "start_time": "2023-12-27T11:21:48.636348",
     "status": "completed"
    },
    "tags": []
   },
   "source": [
    "# 5) Use a Grouped Transform\n",
    "\n",
    "The value of a home often depends on how it compares to typical homes in its neighborhood. Create a feature `MedNhbdArea` that describes the *median* of `GrLivArea` grouped on `Neighborhood`."
   ]
  },
  {
   "cell_type": "code",
   "execution_count": 12,
   "id": "49098ccf",
   "metadata": {
    "execution": {
     "iopub.execute_input": "2023-12-27T11:21:48.656458Z",
     "iopub.status.busy": "2023-12-27T11:21:48.656071Z",
     "iopub.status.idle": "2023-12-27T11:21:48.666880Z",
     "shell.execute_reply": "2023-12-27T11:21:48.665924Z"
    },
    "papermill": {
     "duration": 0.019988,
     "end_time": "2023-12-27T11:21:48.668488",
     "exception": false,
     "start_time": "2023-12-27T11:21:48.648500",
     "status": "completed"
    },
    "tags": []
   },
   "outputs": [
    {
     "data": {
      "text/plain": [
       "Neighborhood\n",
       "Bloomington_Heights                        1455.5\n",
       "Blueste                                    1118.0\n",
       "Briardale                                  1092.0\n",
       "Brookside                                  1231.0\n",
       "Clear_Creek                                1694.0\n",
       "College_Creek                              1504.0\n",
       "Crawford                                   1648.0\n",
       "Edwards                                    1195.5\n",
       "Gilbert                                    1560.0\n",
       "Green_Hills                                1398.5\n",
       "Greens                                     1226.0\n",
       "Iowa_DOT_and_Rail_Road                     1128.0\n",
       "Landmark                                   1320.0\n",
       "Meadow_Village                             1092.0\n",
       "Mitchell                                   1282.0\n",
       "North_Ames                                 1200.0\n",
       "Northpark_Villa                            1322.0\n",
       "Northridge                                 2418.0\n",
       "Northridge_Heights                         1832.0\n",
       "Northwest_Ames                             1632.0\n",
       "Old_Town                                   1374.0\n",
       "Sawyer                                     1052.0\n",
       "Sawyer_West                                1575.0\n",
       "Somerset                                   1555.0\n",
       "South_and_West_of_Iowa_State_University    1536.5\n",
       "Stone_Brook                                1767.0\n",
       "Timberland                                 1650.5\n",
       "Veenker                                    1706.5\n",
       "Name: GrLivArea, dtype: float64"
      ]
     },
     "execution_count": 12,
     "metadata": {},
     "output_type": "execute_result"
    }
   ],
   "source": [
    "df.groupby('Neighborhood')['GrLivArea'].median()"
   ]
  },
  {
   "cell_type": "code",
   "execution_count": 13,
   "id": "5cea7e2b",
   "metadata": {
    "execution": {
     "iopub.execute_input": "2023-12-27T11:21:48.683043Z",
     "iopub.status.busy": "2023-12-27T11:21:48.682660Z",
     "iopub.status.idle": "2023-12-27T11:21:48.695934Z",
     "shell.execute_reply": "2023-12-27T11:21:48.694644Z"
    },
    "lines_to_next_cell": 0,
    "papermill": {
     "duration": 0.022858,
     "end_time": "2023-12-27T11:21:48.697772",
     "exception": false,
     "start_time": "2023-12-27T11:21:48.674914",
     "status": "completed"
    },
    "tags": []
   },
   "outputs": [
    {
     "data": {
      "application/javascript": [
       "parent.postMessage({\"jupyterEvent\": \"custom.exercise_interaction\", \"data\": {\"outcomeType\": 1, \"valueTowardsCompletion\": 0.2, \"interactionType\": 1, \"questionType\": 2, \"questionId\": \"5_Q5\", \"learnToolsVersion\": \"0.3.4\", \"failureMessage\": \"\", \"exceptionClass\": \"\", \"trace\": \"\"}}, \"*\")"
      ],
      "text/plain": [
       "<IPython.core.display.Javascript object>"
      ]
     },
     "metadata": {},
     "output_type": "display_data"
    },
    {
     "data": {
      "text/markdown": [
       "<span style=\"color:#33cc33\">Correct</span>"
      ],
      "text/plain": [
       "Correct"
      ]
     },
     "metadata": {},
     "output_type": "display_data"
    }
   ],
   "source": [
    "X_5 = pd.DataFrame()\n",
    "\n",
    "# YOUR CODE HERE\n",
    "X_5[\"MedNhbdArea\"] = (df.groupby('Neighborhood')['GrLivArea']).transform(\"median\")\n",
    "\n",
    "# Check your answer\n",
    "q_5.check()"
   ]
  },
  {
   "cell_type": "code",
   "execution_count": 14,
   "id": "cdfe814a",
   "metadata": {
    "execution": {
     "iopub.execute_input": "2023-12-27T11:21:48.712514Z",
     "iopub.status.busy": "2023-12-27T11:21:48.712200Z",
     "iopub.status.idle": "2023-12-27T11:21:48.716031Z",
     "shell.execute_reply": "2023-12-27T11:21:48.714970Z"
    },
    "lines_to_next_cell": 0,
    "papermill": {
     "duration": 0.013711,
     "end_time": "2023-12-27T11:21:48.718308",
     "exception": false,
     "start_time": "2023-12-27T11:21:48.704597",
     "status": "completed"
    },
    "tags": []
   },
   "outputs": [],
   "source": [
    "# Lines below will give you a hint or solution code\n",
    "#q_5.hint()\n",
    "#q_5.solution()"
   ]
  },
  {
   "cell_type": "markdown",
   "id": "b080ce60",
   "metadata": {
    "papermill": {
     "duration": 0.006412,
     "end_time": "2023-12-27T11:21:48.731722",
     "exception": false,
     "start_time": "2023-12-27T11:21:48.725310",
     "status": "completed"
    },
    "tags": []
   },
   "source": [
    "Now you've made your first new feature set! If you like, you can run the cell below to score the model with all of your new features added:"
   ]
  },
  {
   "cell_type": "code",
   "execution_count": 15,
   "id": "72e3b71d",
   "metadata": {
    "execution": {
     "iopub.execute_input": "2023-12-27T11:21:48.748362Z",
     "iopub.status.busy": "2023-12-27T11:21:48.748033Z",
     "iopub.status.idle": "2023-12-27T11:21:50.736693Z",
     "shell.execute_reply": "2023-12-27T11:21:50.735749Z"
    },
    "papermill": {
     "duration": 1.999405,
     "end_time": "2023-12-27T11:21:50.738581",
     "exception": false,
     "start_time": "2023-12-27T11:21:48.739176",
     "status": "completed"
    },
    "tags": []
   },
   "outputs": [
    {
     "data": {
      "text/plain": [
       "0.13954039591355258"
      ]
     },
     "execution_count": 15,
     "metadata": {},
     "output_type": "execute_result"
    }
   ],
   "source": [
    "X_new = X.join([X_1, X_2, X_3, X_4, X_5])\n",
    "score_dataset(X_new, y)"
   ]
  },
  {
   "cell_type": "markdown",
   "id": "e76d0afe",
   "metadata": {
    "papermill": {
     "duration": 0.006642,
     "end_time": "2023-12-27T11:21:50.752275",
     "exception": false,
     "start_time": "2023-12-27T11:21:50.745633",
     "status": "completed"
    },
    "tags": []
   },
   "source": [
    "# Keep Going #\n",
    "\n",
    "[**Untangle spatial relationships**](https://www.kaggle.com/ryanholbrook/clustering-with-k-means) by adding cluster labels to your dataset."
   ]
  },
  {
   "cell_type": "markdown",
   "id": "b9ad23dc",
   "metadata": {
    "papermill": {
     "duration": 0.006616,
     "end_time": "2023-12-27T11:21:50.765874",
     "exception": false,
     "start_time": "2023-12-27T11:21:50.759258",
     "status": "completed"
    },
    "tags": []
   },
   "source": [
    "---\n",
    "\n",
    "\n",
    "\n",
    "\n",
    "*Have questions or comments? Visit the [course discussion forum](https://www.kaggle.com/learn/feature-engineering/discussion) to chat with other learners.*"
   ]
  }
 ],
 "metadata": {
  "jupytext": {
   "cell_metadata_filter": "-all",
   "formats": "ipynb"
  },
  "kaggle": {
   "accelerator": "none",
   "dataSources": [
    {
     "datasetId": 933090,
     "sourceId": 1828856,
     "sourceType": "datasetVersion"
    }
   ],
   "isGpuEnabled": false,
   "isInternetEnabled": false,
   "language": "python",
   "sourceType": "notebook"
  },
  "kernelspec": {
   "display_name": "Python 3",
   "language": "python",
   "name": "python3"
  },
  "language_info": {
   "codemirror_mode": {
    "name": "ipython",
    "version": 3
   },
   "file_extension": ".py",
   "mimetype": "text/x-python",
   "name": "python",
   "nbconvert_exporter": "python",
   "pygments_lexer": "ipython3",
   "version": "3.10.12"
  },
  "papermill": {
   "default_parameters": {},
   "duration": 7.581285,
   "end_time": "2023-12-27T11:21:51.292743",
   "environment_variables": {},
   "exception": null,
   "input_path": "__notebook__.ipynb",
   "output_path": "__notebook__.ipynb",
   "parameters": {},
   "start_time": "2023-12-27T11:21:43.711458",
   "version": "2.4.0"
  }
 },
 "nbformat": 4,
 "nbformat_minor": 5
}
