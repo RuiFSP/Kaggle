{
 "cells": [
  {
   "cell_type": "markdown",
   "id": "bc724dab",
   "metadata": {
    "papermill": {
     "duration": 0.005999,
     "end_time": "2023-04-01T15:21:27.980983",
     "exception": false,
     "start_time": "2023-04-01T15:21:27.974984",
     "status": "completed"
    },
    "tags": []
   },
   "source": [
    "**This notebook is an exercise in the [Python](https://www.kaggle.com/learn/python) course.  You can reference the tutorial at [this link](https://www.kaggle.com/colinmorris/functions-and-getting-help).**\n",
    "\n",
    "---\n"
   ]
  },
  {
   "cell_type": "markdown",
   "id": "a2a4efb1",
   "metadata": {
    "papermill": {
     "duration": 0.004537,
     "end_time": "2023-04-01T15:21:27.991027",
     "exception": false,
     "start_time": "2023-04-01T15:21:27.986490",
     "status": "completed"
    },
    "tags": []
   },
   "source": [
    "Functions are powerful. Try writing some yourself.\n",
    "\n",
    "As before, don't forget to run the setup code below before jumping into question 1."
   ]
  },
  {
   "cell_type": "code",
   "execution_count": 1,
   "id": "b2aec4f3",
   "metadata": {
    "_kg_hide-input": true,
    "_kg_hide-output": true,
    "execution": {
     "iopub.execute_input": "2023-04-01T15:21:28.002805Z",
     "iopub.status.busy": "2023-04-01T15:21:28.002414Z",
     "iopub.status.idle": "2023-04-01T15:21:28.062120Z",
     "shell.execute_reply": "2023-04-01T15:21:28.060728Z"
    },
    "papermill": {
     "duration": 0.069176,
     "end_time": "2023-04-01T15:21:28.065117",
     "exception": false,
     "start_time": "2023-04-01T15:21:27.995941",
     "status": "completed"
    },
    "tags": []
   },
   "outputs": [
    {
     "name": "stdout",
     "output_type": "stream",
     "text": [
      "Setup complete.\n"
     ]
    }
   ],
   "source": [
    "# SETUP. You don't need to worry for now about what this code does or how it works.\n",
    "from learntools.core import binder; binder.bind(globals())\n",
    "from learntools.python.ex2 import *\n",
    "print('Setup complete.')"
   ]
  },
  {
   "cell_type": "markdown",
   "id": "895a7b0d",
   "metadata": {
    "papermill": {
     "duration": 0.005319,
     "end_time": "2023-04-01T15:21:28.075796",
     "exception": false,
     "start_time": "2023-04-01T15:21:28.070477",
     "status": "completed"
    },
    "tags": []
   },
   "source": [
    "# 1.\n",
    "\n",
    "Complete the body of the following function according to its docstring.\n",
    "\n",
    "HINT: Python has a built-in function `round`."
   ]
  },
  {
   "cell_type": "code",
   "execution_count": 2,
   "id": "04e0db68",
   "metadata": {
    "execution": {
     "iopub.execute_input": "2023-04-01T15:21:28.088093Z",
     "iopub.status.busy": "2023-04-01T15:21:28.087289Z",
     "iopub.status.idle": "2023-04-01T15:21:28.099964Z",
     "shell.execute_reply": "2023-04-01T15:21:28.098540Z"
    },
    "papermill": {
     "duration": 0.021696,
     "end_time": "2023-04-01T15:21:28.102520",
     "exception": false,
     "start_time": "2023-04-01T15:21:28.080824",
     "status": "completed"
    },
    "tags": []
   },
   "outputs": [
    {
     "data": {
      "application/javascript": [
       "parent.postMessage({\"jupyterEvent\": \"custom.exercise_interaction\", \"data\": {\"outcomeType\": 1, \"valueTowardsCompletion\": 0.16666666666666666, \"interactionType\": 1, \"questionType\": 2, \"questionId\": \"1_RoundFunctionProblem\", \"learnToolsVersion\": \"0.3.4\", \"failureMessage\": \"\", \"exceptionClass\": \"\", \"trace\": \"\"}}, \"*\")"
      ],
      "text/plain": [
       "<IPython.core.display.Javascript object>"
      ]
     },
     "metadata": {},
     "output_type": "display_data"
    },
    {
     "data": {
      "text/markdown": [
       "<span style=\"color:#33cc33\">Correct</span>"
      ],
      "text/plain": [
       "Correct"
      ]
     },
     "metadata": {},
     "output_type": "display_data"
    }
   ],
   "source": [
    "def round_to_two_places(num):\n",
    "    \"\"\"Return the given number rounded to two decimal places. \n",
    "    \n",
    "    >>> round_to_two_places(3.14159)\n",
    "    3.14\n",
    "    \"\"\"\n",
    "    # Replace this body with your own code.\n",
    "    # (\"pass\" is a keyword that does literally nothing. We used it as a placeholder\n",
    "    # because after we begin a code block, Python requires at least one line of code)\n",
    "    return round(num,2)\n",
    "\n",
    "# Check your answer\n",
    "q1.check()"
   ]
  },
  {
   "cell_type": "code",
   "execution_count": 3,
   "id": "aea4115b",
   "metadata": {
    "execution": {
     "iopub.execute_input": "2023-04-01T15:21:28.115117Z",
     "iopub.status.busy": "2023-04-01T15:21:28.114732Z",
     "iopub.status.idle": "2023-04-01T15:21:28.119693Z",
     "shell.execute_reply": "2023-04-01T15:21:28.118412Z"
    },
    "papermill": {
     "duration": 0.014345,
     "end_time": "2023-04-01T15:21:28.122131",
     "exception": false,
     "start_time": "2023-04-01T15:21:28.107786",
     "status": "completed"
    },
    "tags": []
   },
   "outputs": [],
   "source": [
    "# Uncomment the following for a hint\n",
    "#q1.hint()\n",
    "# Or uncomment the following to peek at the solution\n",
    "#q1.solution()"
   ]
  },
  {
   "cell_type": "markdown",
   "id": "35a20633",
   "metadata": {
    "papermill": {
     "duration": 0.004763,
     "end_time": "2023-04-01T15:21:28.132069",
     "exception": false,
     "start_time": "2023-04-01T15:21:28.127306",
     "status": "completed"
    },
    "tags": []
   },
   "source": [
    "# 2.\n",
    "The help for `round` says that `ndigits` (the second argument) may be negative.\n",
    "What do you think will happen when it is? Try some examples in the following cell."
   ]
  },
  {
   "cell_type": "code",
   "execution_count": 4,
   "id": "f71b64d8",
   "metadata": {
    "execution": {
     "iopub.execute_input": "2023-04-01T15:21:28.144876Z",
     "iopub.status.busy": "2023-04-01T15:21:28.144481Z",
     "iopub.status.idle": "2023-04-01T15:21:28.151271Z",
     "shell.execute_reply": "2023-04-01T15:21:28.149948Z"
    },
    "papermill": {
     "duration": 0.016106,
     "end_time": "2023-04-01T15:21:28.153686",
     "exception": false,
     "start_time": "2023-04-01T15:21:28.137580",
     "status": "completed"
    },
    "tags": []
   },
   "outputs": [
    {
     "name": "stdout",
     "output_type": "stream",
     "text": [
      "23.6\n",
      "24.0\n",
      "20.0\n",
      "0.0\n"
     ]
    }
   ],
   "source": [
    "print(round(23.56,1))\n",
    "print(round(23.56,0))\n",
    "print(round(23.56,-1))\n",
    "print(round(23.56,-2))"
   ]
  },
  {
   "cell_type": "markdown",
   "id": "515ad76c",
   "metadata": {
    "papermill": {
     "duration": 0.00509,
     "end_time": "2023-04-01T15:21:28.163966",
     "exception": false,
     "start_time": "2023-04-01T15:21:28.158876",
     "status": "completed"
    },
    "tags": []
   },
   "source": [
    "Can you think of a case where this would be useful?  Once you're ready, run the code cell below to see the answer and to receive credit for completing the problem."
   ]
  },
  {
   "cell_type": "code",
   "execution_count": 5,
   "id": "9407fdcc",
   "metadata": {
    "execution": {
     "iopub.execute_input": "2023-04-01T15:21:28.176812Z",
     "iopub.status.busy": "2023-04-01T15:21:28.175987Z",
     "iopub.status.idle": "2023-04-01T15:21:28.185804Z",
     "shell.execute_reply": "2023-04-01T15:21:28.184627Z"
    },
    "papermill": {
     "duration": 0.018937,
     "end_time": "2023-04-01T15:21:28.188191",
     "exception": false,
     "start_time": "2023-04-01T15:21:28.169254",
     "status": "completed"
    },
    "tags": []
   },
   "outputs": [
    {
     "data": {
      "application/javascript": [
       "parent.postMessage({\"jupyterEvent\": \"custom.exercise_interaction\", \"data\": {\"interactionType\": 3, \"questionType\": 4, \"questionId\": \"2_RoundNdigitsProblem\", \"learnToolsVersion\": \"0.3.4\", \"valueTowardsCompletion\": 0.0, \"failureMessage\": \"\", \"exceptionClass\": \"\", \"trace\": \"\", \"outcomeType\": 4}}, \"*\")"
      ],
      "text/plain": [
       "<IPython.core.display.Javascript object>"
      ]
     },
     "metadata": {},
     "output_type": "display_data"
    },
    {
     "data": {
      "text/markdown": [
       "<span style=\"color:#33cc99\">Solution:</span> As you've seen, `ndigits=-1` rounds to the nearest 10, `ndigits=-2` rounds to the nearest 100 and so on. Where might this be useful? Suppose we're dealing with large numbers:\n",
       "\n",
       "> The area of Finland is 338,424 km²  \n",
       "> The area of Greenland is 2,166,086 km²\n",
       "\n",
       "We probably don't care whether it's really 338,424, or 338,425, or 338,177. All those digits of accuracy are just distracting. We can chop them off by calling `round()` with `ndigits=-3`:\n",
       "\n",
       "> The area of Finland is 338,000 km²  \n",
       "> The area of Greenland is 2,166,000 km²\n",
       "\n",
       "(We'll talk about how we would get the commas later when we talk about string formatting :))\n"
      ],
      "text/plain": [
       "Solution: As you've seen, `ndigits=-1` rounds to the nearest 10, `ndigits=-2` rounds to the nearest 100 and so on. Where might this be useful? Suppose we're dealing with large numbers:\n",
       "\n",
       "> The area of Finland is 338,424 km²  \n",
       "> The area of Greenland is 2,166,086 km²\n",
       "\n",
       "We probably don't care whether it's really 338,424, or 338,425, or 338,177. All those digits of accuracy are just distracting. We can chop them off by calling `round()` with `ndigits=-3`:\n",
       "\n",
       "> The area of Finland is 338,000 km²  \n",
       "> The area of Greenland is 2,166,000 km²\n",
       "\n",
       "(We'll talk about how we would get the commas later when we talk about string formatting :))"
      ]
     },
     "metadata": {},
     "output_type": "display_data"
    }
   ],
   "source": [
    "# Check your answer (Run this code cell to receive credit!)\n",
    "q2.solution()"
   ]
  },
  {
   "cell_type": "markdown",
   "id": "1e4bf2b8",
   "metadata": {
    "papermill": {
     "duration": 0.005389,
     "end_time": "2023-04-01T15:21:28.199251",
     "exception": false,
     "start_time": "2023-04-01T15:21:28.193862",
     "status": "completed"
    },
    "tags": []
   },
   "source": [
    "# 3.\n",
    "\n",
    "In the previous exercise, the candy-sharing friends Alice, Bob and Carol tried to split candies evenly. For the sake of their friendship, any candies left over would be smashed. For example, if they collectively bring home 91 candies, they'll take 30 each and smash 1.\n",
    "\n",
    "Below is a simple function that will calculate the number of candies to smash for *any* number of total candies.\n",
    "\n",
    "Modify it so that it optionally takes a second argument representing the number of friends the candies are being split between. If no second argument is provided, it should assume 3 friends, as before.\n",
    "\n",
    "Update the docstring to reflect this new behaviour."
   ]
  },
  {
   "cell_type": "code",
   "execution_count": 6,
   "id": "da1f4c0e",
   "metadata": {
    "execution": {
     "iopub.execute_input": "2023-04-01T15:21:28.212565Z",
     "iopub.status.busy": "2023-04-01T15:21:28.212107Z",
     "iopub.status.idle": "2023-04-01T15:21:28.223115Z",
     "shell.execute_reply": "2023-04-01T15:21:28.222088Z"
    },
    "papermill": {
     "duration": 0.020667,
     "end_time": "2023-04-01T15:21:28.225592",
     "exception": false,
     "start_time": "2023-04-01T15:21:28.204925",
     "status": "completed"
    },
    "tags": []
   },
   "outputs": [
    {
     "data": {
      "application/javascript": [
       "parent.postMessage({\"jupyterEvent\": \"custom.exercise_interaction\", \"data\": {\"outcomeType\": 1, \"valueTowardsCompletion\": 0.16666666666666666, \"interactionType\": 1, \"questionType\": 2, \"questionId\": \"3_CandySmashingFunctionProblem\", \"learnToolsVersion\": \"0.3.4\", \"failureMessage\": \"\", \"exceptionClass\": \"\", \"trace\": \"\"}}, \"*\")"
      ],
      "text/plain": [
       "<IPython.core.display.Javascript object>"
      ]
     },
     "metadata": {},
     "output_type": "display_data"
    },
    {
     "data": {
      "text/markdown": [
       "<span style=\"color:#33cc33\">Correct</span>"
      ],
      "text/plain": [
       "Correct"
      ]
     },
     "metadata": {},
     "output_type": "display_data"
    }
   ],
   "source": [
    "def to_smash(total_candies, n=3):\n",
    "    \"\"\"Return the number of leftover candies that must be smashed after distributing\n",
    "    the given number of candies evenly between 3 friends.\n",
    "    \n",
    "    >>> to_smash(91)\n",
    "    1\n",
    "    \"\"\"\n",
    "    return total_candies % n\n",
    "\n",
    "# Check your answer\n",
    "q3.check()"
   ]
  },
  {
   "cell_type": "code",
   "execution_count": 7,
   "id": "7517e283",
   "metadata": {
    "execution": {
     "iopub.execute_input": "2023-04-01T15:21:28.239643Z",
     "iopub.status.busy": "2023-04-01T15:21:28.238758Z",
     "iopub.status.idle": "2023-04-01T15:21:28.243944Z",
     "shell.execute_reply": "2023-04-01T15:21:28.243079Z"
    },
    "papermill": {
     "duration": 0.015011,
     "end_time": "2023-04-01T15:21:28.246331",
     "exception": false,
     "start_time": "2023-04-01T15:21:28.231320",
     "status": "completed"
    },
    "tags": []
   },
   "outputs": [],
   "source": [
    "#q3.hint()"
   ]
  },
  {
   "cell_type": "code",
   "execution_count": 8,
   "id": "941442cf",
   "metadata": {
    "execution": {
     "iopub.execute_input": "2023-04-01T15:21:28.261491Z",
     "iopub.status.busy": "2023-04-01T15:21:28.260572Z",
     "iopub.status.idle": "2023-04-01T15:21:28.265990Z",
     "shell.execute_reply": "2023-04-01T15:21:28.264990Z"
    },
    "papermill": {
     "duration": 0.015418,
     "end_time": "2023-04-01T15:21:28.268508",
     "exception": false,
     "start_time": "2023-04-01T15:21:28.253090",
     "status": "completed"
    },
    "tags": []
   },
   "outputs": [],
   "source": [
    "#q3.solution()"
   ]
  },
  {
   "cell_type": "markdown",
   "id": "b870ba16",
   "metadata": {
    "papermill": {
     "duration": 0.005596,
     "end_time": "2023-04-01T15:21:28.279995",
     "exception": false,
     "start_time": "2023-04-01T15:21:28.274399",
     "status": "completed"
    },
    "tags": []
   },
   "source": [
    "# 4. (Optional)\n",
    "\n",
    "It may not be fun, but reading and understanding error messages will be an important part of your Python career.\n",
    "\n",
    "Each code cell below contains some commented buggy code. For each cell...\n",
    "\n",
    "1. Read the code and predict what you think will happen when it's run.\n",
    "2. Then uncomment the code and run it to see what happens. (**Tip**: In the kernel editor, you can highlight several lines and press `ctrl`+`/` to toggle commenting.)\n",
    "3. Fix the code (so that it accomplishes its intended purpose without throwing an exception)\n",
    "\n",
    "<!-- TODO: should this be autochecked? Delta is probably pretty small. -->"
   ]
  },
  {
   "cell_type": "code",
   "execution_count": 9,
   "id": "9b08c273",
   "metadata": {
    "execution": {
     "iopub.execute_input": "2023-04-01T15:21:28.294428Z",
     "iopub.status.busy": "2023-04-01T15:21:28.293546Z",
     "iopub.status.idle": "2023-04-01T15:21:28.301905Z",
     "shell.execute_reply": "2023-04-01T15:21:28.300558Z"
    },
    "papermill": {
     "duration": 0.018532,
     "end_time": "2023-04-01T15:21:28.304435",
     "exception": false,
     "start_time": "2023-04-01T15:21:28.285903",
     "status": "completed"
    },
    "tags": []
   },
   "outputs": [
    {
     "data": {
      "text/plain": [
       "10.0"
      ]
     },
     "execution_count": 9,
     "metadata": {},
     "output_type": "execute_result"
    }
   ],
   "source": [
    "round_to_two_places(round(9.9999,2))"
   ]
  },
  {
   "cell_type": "code",
   "execution_count": 10,
   "id": "5704df6b",
   "metadata": {
    "execution": {
     "iopub.execute_input": "2023-04-01T15:21:28.318651Z",
     "iopub.status.busy": "2023-04-01T15:21:28.317813Z",
     "iopub.status.idle": "2023-04-01T15:21:28.325798Z",
     "shell.execute_reply": "2023-04-01T15:21:28.324699Z"
    },
    "papermill": {
     "duration": 0.017606,
     "end_time": "2023-04-01T15:21:28.328118",
     "exception": false,
     "start_time": "2023-04-01T15:21:28.310512",
     "status": "completed"
    },
    "tags": []
   },
   "outputs": [
    {
     "data": {
      "text/plain": [
       "5"
      ]
     },
     "execution_count": 10,
     "metadata": {},
     "output_type": "execute_result"
    }
   ],
   "source": [
    "x = -10\n",
    "y = 5\n",
    "# Which of the two variables above has the smallest absolute value?\n",
    "smallest_abs = min(abs(x), abs(y))\n",
    "smallest_abs"
   ]
  },
  {
   "cell_type": "code",
   "execution_count": 11,
   "id": "ed5a993f",
   "metadata": {
    "execution": {
     "iopub.execute_input": "2023-04-01T15:21:28.342435Z",
     "iopub.status.busy": "2023-04-01T15:21:28.341585Z",
     "iopub.status.idle": "2023-04-01T15:21:28.349221Z",
     "shell.execute_reply": "2023-04-01T15:21:28.347556Z"
    },
    "papermill": {
     "duration": 0.018272,
     "end_time": "2023-04-01T15:21:28.352255",
     "exception": false,
     "start_time": "2023-04-01T15:21:28.333983",
     "status": "completed"
    },
    "tags": []
   },
   "outputs": [
    {
     "name": "stdout",
     "output_type": "stream",
     "text": [
      "5\n"
     ]
    }
   ],
   "source": [
    "def f(x):\n",
    "    y = abs(x)\n",
    "    return y\n",
    "\n",
    "print(f(5))"
   ]
  },
  {
   "cell_type": "markdown",
   "id": "ac45d3a4",
   "metadata": {
    "papermill": {
     "duration": 0.005971,
     "end_time": "2023-04-01T15:21:28.365309",
     "exception": false,
     "start_time": "2023-04-01T15:21:28.359338",
     "status": "completed"
    },
    "tags": []
   },
   "source": [
    "# Keep Going\n",
    "\n",
    "Nice job with the code. Next up, you'll learn about *conditionals*, which you'll need to **[write interesting programs](https://www.kaggle.com/colinmorris/booleans-and-conditionals)**. "
   ]
  },
  {
   "cell_type": "markdown",
   "id": "4b2ce9b8",
   "metadata": {
    "papermill": {
     "duration": 0.005831,
     "end_time": "2023-04-01T15:21:28.377466",
     "exception": false,
     "start_time": "2023-04-01T15:21:28.371635",
     "status": "completed"
    },
    "tags": []
   },
   "source": [
    "---\n",
    "\n",
    "\n",
    "\n",
    "\n",
    "*Have questions or comments? Visit the [course discussion forum](https://www.kaggle.com/learn/python/discussion) to chat with other learners.*"
   ]
  }
 ],
 "metadata": {
  "kernelspec": {
   "display_name": "Python 3",
   "language": "python",
   "name": "python3"
  },
  "language_info": {
   "codemirror_mode": {
    "name": "ipython",
    "version": 3
   },
   "file_extension": ".py",
   "mimetype": "text/x-python",
   "name": "python",
   "nbconvert_exporter": "python",
   "pygments_lexer": "ipython3",
   "version": "3.7.12"
  },
  "papermill": {
   "default_parameters": {},
   "duration": 12.290043,
   "end_time": "2023-04-01T15:21:29.106675",
   "environment_variables": {},
   "exception": null,
   "input_path": "__notebook__.ipynb",
   "output_path": "__notebook__.ipynb",
   "parameters": {},
   "start_time": "2023-04-01T15:21:16.816632",
   "version": "2.4.0"
  }
 },
 "nbformat": 4,
 "nbformat_minor": 5
}
