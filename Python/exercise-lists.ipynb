{
 "cells": [
  {
   "cell_type": "markdown",
   "id": "d0b80b79",
   "metadata": {
    "papermill": {
     "duration": 0.006014,
     "end_time": "2023-04-02T12:41:21.093380",
     "exception": false,
     "start_time": "2023-04-02T12:41:21.087366",
     "status": "completed"
    },
    "tags": []
   },
   "source": [
    "**This notebook is an exercise in the [Python](https://www.kaggle.com/learn/python) course.  You can reference the tutorial at [this link](https://www.kaggle.com/colinmorris/lists).**\n",
    "\n",
    "---\n"
   ]
  },
  {
   "cell_type": "markdown",
   "id": "09747ab7",
   "metadata": {
    "papermill": {
     "duration": 0.004504,
     "end_time": "2023-04-02T12:41:21.102909",
     "exception": false,
     "start_time": "2023-04-02T12:41:21.098405",
     "status": "completed"
    },
    "tags": []
   },
   "source": [
    "Things get more interesting with lists. You'll apply your new knowledge to solve the questions below. Remember to run the following cell first."
   ]
  },
  {
   "cell_type": "code",
   "execution_count": 1,
   "id": "97a8b0a9",
   "metadata": {
    "execution": {
     "iopub.execute_input": "2023-04-02T12:41:21.115325Z",
     "iopub.status.busy": "2023-04-02T12:41:21.114476Z",
     "iopub.status.idle": "2023-04-02T12:41:21.161365Z",
     "shell.execute_reply": "2023-04-02T12:41:21.159914Z"
    },
    "papermill": {
     "duration": 0.05625,
     "end_time": "2023-04-02T12:41:21.164047",
     "exception": false,
     "start_time": "2023-04-02T12:41:21.107797",
     "status": "completed"
    },
    "tags": []
   },
   "outputs": [
    {
     "name": "stdout",
     "output_type": "stream",
     "text": [
      "Setup complete.\n"
     ]
    }
   ],
   "source": [
    "from learntools.core import binder; binder.bind(globals())\n",
    "from learntools.python.ex4 import *\n",
    "print('Setup complete.')"
   ]
  },
  {
   "cell_type": "markdown",
   "id": "d731b688",
   "metadata": {
    "papermill": {
     "duration": 0.004631,
     "end_time": "2023-04-02T12:41:21.173643",
     "exception": false,
     "start_time": "2023-04-02T12:41:21.169012",
     "status": "completed"
    },
    "tags": []
   },
   "source": [
    "# 1.\n",
    "\n",
    "Complete the function below according to its docstring."
   ]
  },
  {
   "cell_type": "code",
   "execution_count": 2,
   "id": "0ceb3676",
   "metadata": {
    "execution": {
     "iopub.execute_input": "2023-04-02T12:41:21.185664Z",
     "iopub.status.busy": "2023-04-02T12:41:21.184992Z",
     "iopub.status.idle": "2023-04-02T12:41:21.194874Z",
     "shell.execute_reply": "2023-04-02T12:41:21.193766Z"
    },
    "papermill": {
     "duration": 0.018511,
     "end_time": "2023-04-02T12:41:21.197269",
     "exception": false,
     "start_time": "2023-04-02T12:41:21.178758",
     "status": "completed"
    },
    "tags": []
   },
   "outputs": [
    {
     "data": {
      "application/javascript": [
       "parent.postMessage({\"jupyterEvent\": \"custom.exercise_interaction\", \"data\": {\"outcomeType\": 1, \"valueTowardsCompletion\": 0.2, \"interactionType\": 1, \"questionType\": 2, \"questionId\": \"1_SelectSecondItem\", \"learnToolsVersion\": \"0.3.4\", \"failureMessage\": \"\", \"exceptionClass\": \"\", \"trace\": \"\"}}, \"*\")"
      ],
      "text/plain": [
       "<IPython.core.display.Javascript object>"
      ]
     },
     "metadata": {},
     "output_type": "display_data"
    },
    {
     "data": {
      "text/markdown": [
       "<span style=\"color:#33cc33\">Correct</span>"
      ],
      "text/plain": [
       "Correct"
      ]
     },
     "metadata": {},
     "output_type": "display_data"
    }
   ],
   "source": [
    "def select_second(L):\n",
    "    \"\"\"Return the second element of the given list. If the list has no second\n",
    "    element, return None.\n",
    "    \"\"\"\n",
    "    return None if len(L) < 2 else L[1]\n",
    "\n",
    "# Check your answer\n",
    "q1.check()"
   ]
  },
  {
   "cell_type": "code",
   "execution_count": 3,
   "id": "fe049eb9",
   "metadata": {
    "execution": {
     "iopub.execute_input": "2023-04-02T12:41:21.209193Z",
     "iopub.status.busy": "2023-04-02T12:41:21.208828Z",
     "iopub.status.idle": "2023-04-02T12:41:21.212769Z",
     "shell.execute_reply": "2023-04-02T12:41:21.211926Z"
    },
    "papermill": {
     "duration": 0.012511,
     "end_time": "2023-04-02T12:41:21.214798",
     "exception": false,
     "start_time": "2023-04-02T12:41:21.202287",
     "status": "completed"
    },
    "tags": []
   },
   "outputs": [],
   "source": [
    "# q1.hint()\n",
    "# q1.solution()"
   ]
  },
  {
   "cell_type": "markdown",
   "id": "abd62bdf",
   "metadata": {
    "papermill": {
     "duration": 0.004799,
     "end_time": "2023-04-02T12:41:21.224633",
     "exception": false,
     "start_time": "2023-04-02T12:41:21.219834",
     "status": "completed"
    },
    "tags": []
   },
   "source": [
    "# 2.\n",
    "\n",
    "You are analyzing sports teams.  Members of each team are stored in a list. The Coach is the first name in the list, the captain is the second name in the list, and other players are listed after that. \n",
    "These lists are stored in another list, which starts with the best team and proceeds through the list to the worst team last.  Complete the function below to select the **captain** of the worst team."
   ]
  },
  {
   "cell_type": "code",
   "execution_count": 4,
   "id": "ce3bccc0",
   "metadata": {
    "execution": {
     "iopub.execute_input": "2023-04-02T12:41:21.236977Z",
     "iopub.status.busy": "2023-04-02T12:41:21.236257Z",
     "iopub.status.idle": "2023-04-02T12:41:21.244410Z",
     "shell.execute_reply": "2023-04-02T12:41:21.243423Z"
    },
    "papermill": {
     "duration": 0.017137,
     "end_time": "2023-04-02T12:41:21.246782",
     "exception": false,
     "start_time": "2023-04-02T12:41:21.229645",
     "status": "completed"
    },
    "tags": []
   },
   "outputs": [
    {
     "data": {
      "application/javascript": [
       "parent.postMessage({\"jupyterEvent\": \"custom.exercise_interaction\", \"data\": {\"outcomeType\": 1, \"valueTowardsCompletion\": 0.2, \"interactionType\": 1, \"questionType\": 2, \"questionId\": \"2_LosingTeamCaptain\", \"learnToolsVersion\": \"0.3.4\", \"failureMessage\": \"\", \"exceptionClass\": \"\", \"trace\": \"\"}}, \"*\")"
      ],
      "text/plain": [
       "<IPython.core.display.Javascript object>"
      ]
     },
     "metadata": {},
     "output_type": "display_data"
    },
    {
     "data": {
      "text/markdown": [
       "<span style=\"color:#33cc33\">Correct</span>"
      ],
      "text/plain": [
       "Correct"
      ]
     },
     "metadata": {},
     "output_type": "display_data"
    }
   ],
   "source": [
    "def losing_team_captain(teams):\n",
    "    \"\"\"Given a list of teams, where each team is a list of names, return the 2nd player (captain)\n",
    "    from the last listed team\n",
    "    \"\"\"\n",
    "    return teams[-1][1]\n",
    "\n",
    "# Check your answer\n",
    "q2.check()"
   ]
  },
  {
   "cell_type": "code",
   "execution_count": 5,
   "id": "6979f922",
   "metadata": {
    "collapsed": true,
    "execution": {
     "iopub.execute_input": "2023-04-02T12:41:21.260198Z",
     "iopub.status.busy": "2023-04-02T12:41:21.259833Z",
     "iopub.status.idle": "2023-04-02T12:41:21.263678Z",
     "shell.execute_reply": "2023-04-02T12:41:21.262792Z"
    },
    "jupyter": {
     "outputs_hidden": true
    },
    "papermill": {
     "duration": 0.013577,
     "end_time": "2023-04-02T12:41:21.266091",
     "exception": false,
     "start_time": "2023-04-02T12:41:21.252514",
     "status": "completed"
    },
    "tags": []
   },
   "outputs": [],
   "source": [
    "#q2.hint()\n",
    "#q2.solution()"
   ]
  },
  {
   "cell_type": "markdown",
   "id": "52b84b9c",
   "metadata": {
    "papermill": {
     "duration": 0.005207,
     "end_time": "2023-04-02T12:41:21.276853",
     "exception": false,
     "start_time": "2023-04-02T12:41:21.271646",
     "status": "completed"
    },
    "tags": []
   },
   "source": [
    "# 3.\n",
    "\n",
    "The next iteration of Mario Kart will feature an extra-infuriating new item, the *Purple Shell*. When used, it warps the last place racer into first place and the first place racer into last place. Complete the function below to implement the Purple Shell's effect."
   ]
  },
  {
   "cell_type": "code",
   "execution_count": 6,
   "id": "298e0475",
   "metadata": {
    "execution": {
     "iopub.execute_input": "2023-04-02T12:41:21.289654Z",
     "iopub.status.busy": "2023-04-02T12:41:21.289282Z",
     "iopub.status.idle": "2023-04-02T12:41:21.294513Z",
     "shell.execute_reply": "2023-04-02T12:41:21.293402Z"
    },
    "papermill": {
     "duration": 0.014603,
     "end_time": "2023-04-02T12:41:21.296826",
     "exception": false,
     "start_time": "2023-04-02T12:41:21.282223",
     "status": "completed"
    },
    "tags": []
   },
   "outputs": [],
   "source": [
    "def purple_shell(racers):\n",
    "    \"\"\"Given a list of racers, set the first place racer (at the front of the list) to last\n",
    "    place and vice versa.\n",
    "    \n",
    "    >>> r = [\"Mario\", \"Bowser\", \"Luigi\"]\n",
    "    >>> purple_shell(r)\n",
    "    >>> r\n",
    "    [\"Luigi\", \"Bowser\", \"Mario\"]\n",
    "    \"\"\"\n",
    "    racers[0],racers[-1] = racers[-1],racers[0]\n",
    "\n",
    "# Check your answer\n",
    "# q3.check()"
   ]
  },
  {
   "cell_type": "code",
   "execution_count": 7,
   "id": "50bd1aab",
   "metadata": {
    "execution": {
     "iopub.execute_input": "2023-04-02T12:41:21.309798Z",
     "iopub.status.busy": "2023-04-02T12:41:21.309412Z",
     "iopub.status.idle": "2023-04-02T12:41:21.317001Z",
     "shell.execute_reply": "2023-04-02T12:41:21.316132Z"
    },
    "papermill": {
     "duration": 0.0167,
     "end_time": "2023-04-02T12:41:21.319027",
     "exception": false,
     "start_time": "2023-04-02T12:41:21.302327",
     "status": "completed"
    },
    "tags": []
   },
   "outputs": [
    {
     "data": {
      "application/javascript": [
       "parent.postMessage({\"jupyterEvent\": \"custom.exercise_interaction\", \"data\": {\"interactionType\": 3, \"questionType\": 2, \"questionId\": \"3_PurpleShell\", \"learnToolsVersion\": \"0.3.4\", \"valueTowardsCompletion\": 0.0, \"failureMessage\": \"\", \"exceptionClass\": \"\", \"trace\": \"\", \"outcomeType\": 4}}, \"*\")"
      ],
      "text/plain": [
       "<IPython.core.display.Javascript object>"
      ]
     },
     "metadata": {},
     "output_type": "display_data"
    },
    {
     "data": {
      "text/markdown": [
       "<span style=\"color:#33cc99\">Solution:</span> \n",
       "```python\n",
       "def purple_shell(racers):\n",
       "    # One slick way to do the swap is x[0], x[-1] = x[-1], x[0].\n",
       "    temp = racers[0]\n",
       "    racers[0] = racers[-1]\n",
       "    racers[-1] = temp\n",
       "```"
      ],
      "text/plain": [
       "Solution: \n",
       "```python\n",
       "def purple_shell(racers):\n",
       "    # One slick way to do the swap is x[0], x[-1] = x[-1], x[0].\n",
       "    temp = racers[0]\n",
       "    racers[0] = racers[-1]\n",
       "    racers[-1] = temp\n",
       "```"
      ]
     },
     "metadata": {},
     "output_type": "display_data"
    }
   ],
   "source": [
    "#q3.hint()\n",
    "q3.solution()"
   ]
  },
  {
   "cell_type": "markdown",
   "id": "9042c22c",
   "metadata": {
    "papermill": {
     "duration": 0.006338,
     "end_time": "2023-04-02T12:41:21.330929",
     "exception": false,
     "start_time": "2023-04-02T12:41:21.324591",
     "status": "completed"
    },
    "tags": []
   },
   "source": [
    "# 4.\n",
    "\n",
    "What are the lengths of the following lists? Fill in the variable `lengths` with your predictions. (Try to make a prediction for each list *without* just calling `len()` on it.)"
   ]
  },
  {
   "cell_type": "code",
   "execution_count": 8,
   "id": "79077601",
   "metadata": {
    "execution": {
     "iopub.execute_input": "2023-04-02T12:41:21.344164Z",
     "iopub.status.busy": "2023-04-02T12:41:21.343233Z",
     "iopub.status.idle": "2023-04-02T12:41:21.353478Z",
     "shell.execute_reply": "2023-04-02T12:41:21.352504Z"
    },
    "papermill": {
     "duration": 0.019488,
     "end_time": "2023-04-02T12:41:21.355882",
     "exception": false,
     "start_time": "2023-04-02T12:41:21.336394",
     "status": "completed"
    },
    "tags": []
   },
   "outputs": [
    {
     "data": {
      "application/javascript": [
       "parent.postMessage({\"jupyterEvent\": \"custom.exercise_interaction\", \"data\": {\"outcomeType\": 1, \"valueTowardsCompletion\": 0.2, \"interactionType\": 1, \"questionType\": 1, \"questionId\": \"4_UnderstandLen\", \"learnToolsVersion\": \"0.3.4\", \"failureMessage\": \"\", \"exceptionClass\": \"\", \"trace\": \"\"}}, \"*\")"
      ],
      "text/plain": [
       "<IPython.core.display.Javascript object>"
      ]
     },
     "metadata": {},
     "output_type": "display_data"
    },
    {
     "data": {
      "text/markdown": [
       "<span style=\"color:#33cc33\">Correct:</span> \n",
       "\n",
       "\n",
       "- a: There are three items in this list. Nothing tricky yet.\n",
       "- b: The list `[2, 3]` counts as a single item. It has one item before it. So we have 2 items in the list\n",
       "- c: The empty list has 0 items\n",
       "- d: The expression is the same as the list `[2, 3]`, which has length 2."
      ],
      "text/plain": [
       "Correct: \n",
       "\n",
       "\n",
       "- a: There are three items in this list. Nothing tricky yet.\n",
       "- b: The list `[2, 3]` counts as a single item. It has one item before it. So we have 2 items in the list\n",
       "- c: The empty list has 0 items\n",
       "- d: The expression is the same as the list `[2, 3]`, which has length 2."
      ]
     },
     "metadata": {},
     "output_type": "display_data"
    }
   ],
   "source": [
    "a = [1, 2, 3]\n",
    "b = [1, [2, 3]]\n",
    "c = []\n",
    "d = [1, 2, 3][1:]\n",
    "\n",
    "# Put your predictions in the list below. Lengths should contain 4 numbers, the\n",
    "# first being the length of a, the second being the length of b and so on.\n",
    "lengths = [3,2,0,2]\n",
    "\n",
    "# Check your answer\n",
    "q4.check()"
   ]
  },
  {
   "cell_type": "code",
   "execution_count": 9,
   "id": "84b5e50c",
   "metadata": {
    "collapsed": true,
    "execution": {
     "iopub.execute_input": "2023-04-02T12:41:21.369420Z",
     "iopub.status.busy": "2023-04-02T12:41:21.369055Z",
     "iopub.status.idle": "2023-04-02T12:41:21.373308Z",
     "shell.execute_reply": "2023-04-02T12:41:21.372188Z"
    },
    "jupyter": {
     "outputs_hidden": true
    },
    "papermill": {
     "duration": 0.013966,
     "end_time": "2023-04-02T12:41:21.375683",
     "exception": false,
     "start_time": "2023-04-02T12:41:21.361717",
     "status": "completed"
    },
    "tags": []
   },
   "outputs": [],
   "source": [
    "# line below provides some explanation\n",
    "#q4.solution()"
   ]
  },
  {
   "cell_type": "markdown",
   "id": "c913415d",
   "metadata": {
    "papermill": {
     "duration": 0.005545,
     "end_time": "2023-04-02T12:41:21.387452",
     "exception": false,
     "start_time": "2023-04-02T12:41:21.381907",
     "status": "completed"
    },
    "tags": []
   },
   "source": [
    "# 5. <span title=\"A bit spicy\" style=\"color: darkgreen \">🌶️</span>\n",
    "\n",
    "We're using lists to record people who attended our party and what order they arrived in. For example, the following list represents a party with 7 guests, in which Adela showed up first and Ford was the last to arrive:\n",
    "\n",
    "    party_attendees = ['Adela', 'Fleda', 'Owen', 'May', 'Mona', 'Gilbert', 'Ford']\n",
    "\n",
    "A guest is considered 'fashionably late' if they arrived after at least half of the party's guests. However, they must not be the very last guest (that's taking it too far). In the above example, Mona and Gilbert are the only guests who were fashionably late.\n",
    "\n",
    "Complete the function below which takes a list of party attendees as well as a person, and tells us whether that person is fashionably late."
   ]
  },
  {
   "cell_type": "code",
   "execution_count": 10,
   "id": "47b35372",
   "metadata": {
    "execution": {
     "iopub.execute_input": "2023-04-02T12:41:21.401100Z",
     "iopub.status.busy": "2023-04-02T12:41:21.400702Z",
     "iopub.status.idle": "2023-04-02T12:41:21.410037Z",
     "shell.execute_reply": "2023-04-02T12:41:21.408803Z"
    },
    "papermill": {
     "duration": 0.018971,
     "end_time": "2023-04-02T12:41:21.412301",
     "exception": false,
     "start_time": "2023-04-02T12:41:21.393330",
     "status": "completed"
    },
    "tags": []
   },
   "outputs": [
    {
     "data": {
      "application/javascript": [
       "parent.postMessage({\"jupyterEvent\": \"custom.exercise_interaction\", \"data\": {\"outcomeType\": 1, \"valueTowardsCompletion\": 0.2, \"interactionType\": 1, \"questionType\": 2, \"questionId\": \"5_FashionablyLate\", \"learnToolsVersion\": \"0.3.4\", \"failureMessage\": \"\", \"exceptionClass\": \"\", \"trace\": \"\"}}, \"*\")"
      ],
      "text/plain": [
       "<IPython.core.display.Javascript object>"
      ]
     },
     "metadata": {},
     "output_type": "display_data"
    },
    {
     "data": {
      "text/markdown": [
       "<span style=\"color:#33cc33\">Correct</span>"
      ],
      "text/plain": [
       "Correct"
      ]
     },
     "metadata": {},
     "output_type": "display_data"
    }
   ],
   "source": [
    "def fashionably_late(arrivals, name):\n",
    "    \"\"\"Given an ordered list of arrivals to the party and a name, return whether the guest with that\n",
    "    name was fashionably late.\n",
    "    \"\"\"\n",
    "    return name in arrivals[int((len(arrivals) + 1)/ 2):-1]\n",
    "\n",
    "# Check your answer\n",
    "q5.check()"
   ]
  },
  {
   "cell_type": "code",
   "execution_count": 11,
   "id": "52f51bbe",
   "metadata": {
    "execution": {
     "iopub.execute_input": "2023-04-02T12:41:21.426626Z",
     "iopub.status.busy": "2023-04-02T12:41:21.426232Z",
     "iopub.status.idle": "2023-04-02T12:41:21.435861Z",
     "shell.execute_reply": "2023-04-02T12:41:21.434644Z"
    },
    "papermill": {
     "duration": 0.019488,
     "end_time": "2023-04-02T12:41:21.438041",
     "exception": false,
     "start_time": "2023-04-02T12:41:21.418553",
     "status": "completed"
    },
    "tags": []
   },
   "outputs": [
    {
     "data": {
      "application/javascript": [
       "parent.postMessage({\"jupyterEvent\": \"custom.exercise_interaction\", \"data\": {\"interactionType\": 3, \"questionType\": 2, \"questionId\": \"5_FashionablyLate\", \"learnToolsVersion\": \"0.3.4\", \"valueTowardsCompletion\": 0.0, \"failureMessage\": \"\", \"exceptionClass\": \"\", \"trace\": \"\", \"outcomeType\": 4}}, \"*\")"
      ],
      "text/plain": [
       "<IPython.core.display.Javascript object>"
      ]
     },
     "metadata": {},
     "output_type": "display_data"
    },
    {
     "data": {
      "text/markdown": [
       "<span style=\"color:#33cc99\">Solution:</span> \n",
       "```python\n",
       "def fashionably_late(arrivals, name):\n",
       "    order = arrivals.index(name)\n",
       "    return order >= len(arrivals) / 2 and order != len(arrivals) - 1\n",
       "```"
      ],
      "text/plain": [
       "Solution: \n",
       "```python\n",
       "def fashionably_late(arrivals, name):\n",
       "    order = arrivals.index(name)\n",
       "    return order >= len(arrivals) / 2 and order != len(arrivals) - 1\n",
       "```"
      ]
     },
     "metadata": {},
     "output_type": "display_data"
    }
   ],
   "source": [
    "#q5.hint()\n",
    "q5.solution()"
   ]
  },
  {
   "cell_type": "markdown",
   "id": "2fde4d1c",
   "metadata": {
    "papermill": {
     "duration": 0.006125,
     "end_time": "2023-04-02T12:41:21.450559",
     "exception": false,
     "start_time": "2023-04-02T12:41:21.444434",
     "status": "completed"
    },
    "tags": []
   },
   "source": [
    "# Keep Going\n",
    "\n",
    "That's it for lists and tuples! Now you have the baseline knowledge to **[learn about loops](https://www.kaggle.com/colinmorris/loops-and-list-comprehensions)**, which is where lists and tuples get really interesting. "
   ]
  },
  {
   "cell_type": "markdown",
   "id": "7fa8d2ce",
   "metadata": {
    "papermill": {
     "duration": 0.006032,
     "end_time": "2023-04-02T12:41:21.462946",
     "exception": false,
     "start_time": "2023-04-02T12:41:21.456914",
     "status": "completed"
    },
    "tags": []
   },
   "source": [
    "---\n",
    "\n",
    "\n",
    "\n",
    "\n",
    "*Have questions or comments? Visit the [course discussion forum](https://www.kaggle.com/learn/python/discussion) to chat with other learners.*"
   ]
  }
 ],
 "metadata": {
  "kernelspec": {
   "display_name": "Python 3",
   "language": "python",
   "name": "python3"
  },
  "language_info": {
   "codemirror_mode": {
    "name": "ipython",
    "version": 3
   },
   "file_extension": ".py",
   "mimetype": "text/x-python",
   "name": "python",
   "nbconvert_exporter": "python",
   "pygments_lexer": "ipython3",
   "version": "3.7.12"
  },
  "papermill": {
   "default_parameters": {},
   "duration": 10.917068,
   "end_time": "2023-04-02T12:41:22.090668",
   "environment_variables": {},
   "exception": null,
   "input_path": "__notebook__.ipynb",
   "output_path": "__notebook__.ipynb",
   "parameters": {},
   "start_time": "2023-04-02T12:41:11.173600",
   "version": "2.4.0"
  }
 },
 "nbformat": 4,
 "nbformat_minor": 5
}
