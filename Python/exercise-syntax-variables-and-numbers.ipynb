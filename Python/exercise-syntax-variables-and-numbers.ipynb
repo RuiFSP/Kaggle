{
 "cells": [
  {
   "cell_type": "markdown",
   "id": "5ea4e7fa",
   "metadata": {
    "papermill": {
     "duration": 0.007806,
     "end_time": "2023-04-01T15:06:58.699825",
     "exception": false,
     "start_time": "2023-04-01T15:06:58.692019",
     "status": "completed"
    },
    "tags": []
   },
   "source": [
    "**This notebook is an exercise in the [Python](https://www.kaggle.com/learn/python) course.  You can reference the tutorial at [this link](https://www.kaggle.com/colinmorris/hello-python).**\n",
    "\n",
    "---\n"
   ]
  },
  {
   "cell_type": "markdown",
   "id": "60ab4f1f",
   "metadata": {
    "papermill": {
     "duration": 0.006381,
     "end_time": "2023-04-01T15:06:58.713070",
     "exception": false,
     "start_time": "2023-04-01T15:06:58.706689",
     "status": "completed"
    },
    "tags": []
   },
   "source": [
    "Welcome to your first set of Python coding problems.  If this is your first time using Kaggle Notebooks, welcome! \n",
    "\n",
    "Notebooks are composed of blocks (called \"cells\") of text and code. Each of these is editable, though you'll mainly be editing the code cells to answer some questions.\n",
    "\n",
    "To get started, try running the code cell below (by pressing the ► button, or clicking on the cell and pressing ctrl+enter on your keyboard)."
   ]
  },
  {
   "cell_type": "code",
   "execution_count": 1,
   "id": "cfd897de",
   "metadata": {
    "execution": {
     "iopub.execute_input": "2023-04-01T15:06:58.728240Z",
     "iopub.status.busy": "2023-04-01T15:06:58.727807Z",
     "iopub.status.idle": "2023-04-01T15:06:58.738816Z",
     "shell.execute_reply": "2023-04-01T15:06:58.737382Z"
    },
    "papermill": {
     "duration": 0.022043,
     "end_time": "2023-04-01T15:06:58.741641",
     "exception": false,
     "start_time": "2023-04-01T15:06:58.719598",
     "status": "completed"
    },
    "tags": []
   },
   "outputs": [
    {
     "name": "stdout",
     "output_type": "stream",
     "text": [
      "You've successfully run some Python code\n",
      "Congratulations!\n"
     ]
    }
   ],
   "source": [
    "print(\"You've successfully run some Python code\")\n",
    "print(\"Congratulations!\")"
   ]
  },
  {
   "cell_type": "code",
   "execution_count": 2,
   "id": "e6e2209e",
   "metadata": {
    "execution": {
     "iopub.execute_input": "2023-04-01T15:06:58.758397Z",
     "iopub.status.busy": "2023-04-01T15:06:58.757137Z",
     "iopub.status.idle": "2023-04-01T15:06:58.764398Z",
     "shell.execute_reply": "2023-04-01T15:06:58.762776Z"
    },
    "papermill": {
     "duration": 0.017904,
     "end_time": "2023-04-01T15:06:58.767012",
     "exception": false,
     "start_time": "2023-04-01T15:06:58.749108",
     "status": "completed"
    },
    "tags": []
   },
   "outputs": [
    {
     "name": "stdout",
     "output_type": "stream",
     "text": [
      "Amazing print\n"
     ]
    }
   ],
   "source": [
    "print(\"Amazing print\")"
   ]
  },
  {
   "cell_type": "markdown",
   "id": "dfeec1f0",
   "metadata": {
    "papermill": {
     "duration": 0.006579,
     "end_time": "2023-04-01T15:06:58.780847",
     "exception": false,
     "start_time": "2023-04-01T15:06:58.774268",
     "status": "completed"
    },
    "tags": []
   },
   "source": [
    "Try adding another line of code in the cell above and re-running it. \n",
    "\n",
    "Now let's get a little fancier:  Add a new code cell by clicking on an existing code cell, hitting the escape key, and then hitting the `a` or `b` key.  The `a` key will add a cell above the current cell, and `b` adds a cell below.\n",
    "\n",
    "Great! Now you know how to use Notebooks.\n",
    "\n",
    "Each hands-on exercise starts by setting up our feedback and code checking mechanism. Run the code cell below to do that. Then you'll be ready to move on to question 0."
   ]
  },
  {
   "cell_type": "code",
   "execution_count": 3,
   "id": "5fa93c84",
   "metadata": {
    "_kg_hide-input": true,
    "_kg_hide-output": true,
    "execution": {
     "iopub.execute_input": "2023-04-01T15:06:58.796964Z",
     "iopub.status.busy": "2023-04-01T15:06:58.796098Z",
     "iopub.status.idle": "2023-04-01T15:06:58.843031Z",
     "shell.execute_reply": "2023-04-01T15:06:58.841693Z"
    },
    "papermill": {
     "duration": 0.058563,
     "end_time": "2023-04-01T15:06:58.846308",
     "exception": false,
     "start_time": "2023-04-01T15:06:58.787745",
     "status": "completed"
    },
    "tags": []
   },
   "outputs": [
    {
     "name": "stdout",
     "output_type": "stream",
     "text": [
      "Setup complete! You're ready to start question 0.\n"
     ]
    }
   ],
   "source": [
    "from learntools.core import binder; binder.bind(globals())\n",
    "from learntools.python.ex1 import *\n",
    "print(\"Setup complete! You're ready to start question 0.\")"
   ]
  },
  {
   "cell_type": "markdown",
   "id": "877583b7",
   "metadata": {
    "papermill": {
     "duration": 0.00657,
     "end_time": "2023-04-01T15:06:58.860116",
     "exception": false,
     "start_time": "2023-04-01T15:06:58.853546",
     "status": "completed"
    },
    "tags": []
   },
   "source": [
    "# 0.\n",
    "\n",
    "*This is a silly question intended as an introduction to the format we use for hands-on exercises throughout all Kaggle courses.*\n",
    "\n",
    "**What is your favorite color? **\n",
    "\n",
    "To complete this question, create a variable called `color` in the cell below with an appropriate value. The function call `q0.check()` (which we've already provided in the cell below) will check your answer."
   ]
  },
  {
   "cell_type": "code",
   "execution_count": 4,
   "id": "1266fe43",
   "metadata": {
    "execution": {
     "iopub.execute_input": "2023-04-01T15:06:58.875648Z",
     "iopub.status.busy": "2023-04-01T15:06:58.875258Z",
     "iopub.status.idle": "2023-04-01T15:06:58.886321Z",
     "shell.execute_reply": "2023-04-01T15:06:58.884896Z"
    },
    "papermill": {
     "duration": 0.022589,
     "end_time": "2023-04-01T15:06:58.889522",
     "exception": false,
     "start_time": "2023-04-01T15:06:58.866933",
     "status": "completed"
    },
    "tags": []
   },
   "outputs": [
    {
     "data": {
      "application/javascript": [
       "parent.postMessage({\"jupyterEvent\": \"custom.exercise_interaction\", \"data\": {\"outcomeType\": 1, \"valueTowardsCompletion\": 0.25, \"interactionType\": 1, \"questionType\": 2, \"questionId\": \"0_ExerciseFormatTutorial\", \"learnToolsVersion\": \"0.3.4\", \"failureMessage\": \"\", \"exceptionClass\": \"\", \"trace\": \"\"}}, \"*\")"
      ],
      "text/plain": [
       "<IPython.core.display.Javascript object>"
      ]
     },
     "metadata": {},
     "output_type": "display_data"
    },
    {
     "data": {
      "text/markdown": [
       "<span style=\"color:#33cc33\">Correct:</span> What?! You got it right without needing a hint or anything? Drats. Well hey, you should still continue to the next step to get some practice asking for a hint and checking solutions. (Even though you obviously don't need any help here.)"
      ],
      "text/plain": [
       "Correct: What?! You got it right without needing a hint or anything? Drats. Well hey, you should still continue to the next step to get some practice asking for a hint and checking solutions. (Even though you obviously don't need any help here.)"
      ]
     },
     "metadata": {},
     "output_type": "display_data"
    }
   ],
   "source": [
    "# create a variable called color with an appropriate value on the line below\n",
    "# (Remember, strings in Python must be enclosed in 'single' or \"double\" quotes)\n",
    "color = \"blue\"\n",
    "____\n",
    "\n",
    "# Check your answer\n",
    "q0.check()"
   ]
  },
  {
   "cell_type": "markdown",
   "id": "632c1847",
   "metadata": {
    "papermill": {
     "duration": 0.006847,
     "end_time": "2023-04-01T15:06:58.904022",
     "exception": false,
     "start_time": "2023-04-01T15:06:58.897175",
     "status": "completed"
    },
    "tags": []
   },
   "source": [
    "Didn't get the right answer? How do you not even know your own favorite color?!\n",
    "\n",
    "Delete the `#` in the line below to make one of the lines run. You can choose between getting a hint or the full answer by choosing which line to remove the `#` from. \n",
    "\n",
    "Removing the `#` is called uncommenting, because it changes that line from a \"comment\" which Python doesn't run to code, which Python does run."
   ]
  },
  {
   "cell_type": "code",
   "execution_count": 5,
   "id": "9cbfb157",
   "metadata": {
    "execution": {
     "iopub.execute_input": "2023-04-01T15:06:58.921054Z",
     "iopub.status.busy": "2023-04-01T15:06:58.920638Z",
     "iopub.status.idle": "2023-04-01T15:06:58.924941Z",
     "shell.execute_reply": "2023-04-01T15:06:58.923876Z"
    },
    "papermill": {
     "duration": 0.016175,
     "end_time": "2023-04-01T15:06:58.927230",
     "exception": false,
     "start_time": "2023-04-01T15:06:58.911055",
     "status": "completed"
    },
    "tags": []
   },
   "outputs": [],
   "source": [
    "#q0.hint()\n",
    "#q0.solution()"
   ]
  },
  {
   "cell_type": "markdown",
   "id": "3f56e69e",
   "metadata": {
    "papermill": {
     "duration": 0.006795,
     "end_time": "2023-04-01T15:06:58.941232",
     "exception": false,
     "start_time": "2023-04-01T15:06:58.934437",
     "status": "completed"
    },
    "tags": []
   },
   "source": [
    "The upcoming questions work the same way. The only thing that will change are the question numbers. For the next question, you'll call `q1.check()`, `q1.hint()`, `q1.solution()`, for question 2, you'll call `q2.check()`, and so on."
   ]
  },
  {
   "cell_type": "markdown",
   "id": "b6b44fb8",
   "metadata": {
    "papermill": {
     "duration": 0.006794,
     "end_time": "2023-04-01T15:06:58.955064",
     "exception": false,
     "start_time": "2023-04-01T15:06:58.948270",
     "status": "completed"
    },
    "tags": []
   },
   "source": [
    "<hr/>\n",
    "\n",
    "# 1.\n",
    "\n",
    "Complete the code below. In case it's helpful, here is the table of available arithmetic operations:\n",
    "\n",
    "\n",
    "\n",
    "| Operator     | Name           | Description                                            |\n",
    "|--------------|----------------|--------------------------------------------------------|\n",
    "| ``a + b``    | Addition       | Sum of ``a`` and ``b``                                 |\n",
    "| ``a - b``    | Subtraction    | Difference of ``a`` and ``b``                          |\n",
    "| ``a * b``    | Multiplication | Product of ``a`` and ``b``                             |\n",
    "| ``a / b``    | True division  | Quotient of ``a`` and ``b``                            |\n",
    "| ``a // b``   | Floor division | Quotient of ``a`` and ``b``, removing fractional parts |\n",
    "| ``a % b``    | Modulus        | Integer remainder after division of ``a`` by ``b``     |\n",
    "| ``a ** b``   | Exponentiation | ``a`` raised to the power of ``b``                     |\n",
    "| ``-a``       | Negation       | The negative of ``a``                                  |\n",
    "\n",
    "<span style=\"display:none\"></span>\n"
   ]
  },
  {
   "cell_type": "code",
   "execution_count": 6,
   "id": "8ed145f1",
   "metadata": {
    "execution": {
     "iopub.execute_input": "2023-04-01T15:06:58.971950Z",
     "iopub.status.busy": "2023-04-01T15:06:58.971560Z",
     "iopub.status.idle": "2023-04-01T15:06:58.983605Z",
     "shell.execute_reply": "2023-04-01T15:06:58.982388Z"
    },
    "papermill": {
     "duration": 0.024001,
     "end_time": "2023-04-01T15:06:58.985989",
     "exception": false,
     "start_time": "2023-04-01T15:06:58.961988",
     "status": "completed"
    },
    "tags": []
   },
   "outputs": [
    {
     "data": {
      "application/javascript": [
       "parent.postMessage({\"jupyterEvent\": \"custom.exercise_interaction\", \"data\": {\"outcomeType\": 1, \"valueTowardsCompletion\": 0.25, \"interactionType\": 1, \"questionType\": 1, \"questionId\": \"1_CircleArea\", \"learnToolsVersion\": \"0.3.4\", \"failureMessage\": \"\", \"exceptionClass\": \"\", \"trace\": \"\"}}, \"*\")"
      ],
      "text/plain": [
       "<IPython.core.display.Javascript object>"
      ]
     },
     "metadata": {},
     "output_type": "display_data"
    },
    {
     "data": {
      "text/markdown": [
       "<span style=\"color:#33cc33\">Correct</span>"
      ],
      "text/plain": [
       "Correct"
      ]
     },
     "metadata": {},
     "output_type": "display_data"
    }
   ],
   "source": [
    "pi = 3.14159 # approximate\n",
    "diameter = 3\n",
    "\n",
    "# Create a variable called 'radius' equal to half the diameter\n",
    "radius = diameter / 2\n",
    "\n",
    "# Create a variable called 'area', using the formula for the area of a circle: pi times the radius squared\n",
    "area = pi * radius ** 2\n",
    "\n",
    "# Check your answer\n",
    "q1.check()"
   ]
  },
  {
   "cell_type": "code",
   "execution_count": 7,
   "id": "5704627a",
   "metadata": {
    "execution": {
     "iopub.execute_input": "2023-04-01T15:06:59.002912Z",
     "iopub.status.busy": "2023-04-01T15:06:59.002430Z",
     "iopub.status.idle": "2023-04-01T15:06:59.007612Z",
     "shell.execute_reply": "2023-04-01T15:06:59.006338Z"
    },
    "papermill": {
     "duration": 0.016381,
     "end_time": "2023-04-01T15:06:59.009929",
     "exception": false,
     "start_time": "2023-04-01T15:06:58.993548",
     "status": "completed"
    },
    "tags": []
   },
   "outputs": [],
   "source": [
    "# Uncomment and run the lines below if you need help.\n",
    "#q1.hint()\n",
    "#q1.solution()"
   ]
  },
  {
   "cell_type": "markdown",
   "id": "70b9794a",
   "metadata": {
    "papermill": {
     "duration": 0.007116,
     "end_time": "2023-04-01T15:06:59.024652",
     "exception": false,
     "start_time": "2023-04-01T15:06:59.017536",
     "status": "completed"
    },
    "tags": []
   },
   "source": [
    "<hr/>\n",
    "\n",
    "# 2.\n",
    "\n",
    "Add code to the following cell to swap variables `a` and `b` (so that `a` refers to the object previously referred to by `b` and vice versa)."
   ]
  },
  {
   "cell_type": "code",
   "execution_count": 8,
   "id": "392236ee",
   "metadata": {
    "execution": {
     "iopub.execute_input": "2023-04-01T15:06:59.041782Z",
     "iopub.status.busy": "2023-04-01T15:06:59.041358Z",
     "iopub.status.idle": "2023-04-01T15:06:59.051651Z",
     "shell.execute_reply": "2023-04-01T15:06:59.050457Z"
    },
    "papermill": {
     "duration": 0.021991,
     "end_time": "2023-04-01T15:06:59.054073",
     "exception": false,
     "start_time": "2023-04-01T15:06:59.032082",
     "status": "completed"
    },
    "tags": []
   },
   "outputs": [
    {
     "data": {
      "application/javascript": [
       "parent.postMessage({\"jupyterEvent\": \"custom.exercise_interaction\", \"data\": {\"outcomeType\": 1, \"valueTowardsCompletion\": 0.25, \"interactionType\": 1, \"questionType\": 2, \"questionId\": \"2_VariableSwap\", \"learnToolsVersion\": \"0.3.4\", \"failureMessage\": \"\", \"exceptionClass\": \"\", \"trace\": \"\"}}, \"*\")"
      ],
      "text/plain": [
       "<IPython.core.display.Javascript object>"
      ]
     },
     "metadata": {},
     "output_type": "display_data"
    },
    {
     "data": {
      "text/markdown": [
       "<span style=\"color:#33cc33\">Correct:</span> \n",
       "\n",
       "The most straightforward solution is to use a third variable to temporarily store one of the old values. e.g.:\n",
       "\n",
       "    tmp = a\n",
       "    a = b\n",
       "    b = tmp\n",
       "\n",
       "If you've read lots of Python code, you might have seen the following trick to swap two variables in one line:\n",
       "\n",
       "    a, b = b, a\n",
       "\n",
       "We'll demystify this bit of Python magic later when we talk about *tuples*."
      ],
      "text/plain": [
       "Correct: \n",
       "\n",
       "The most straightforward solution is to use a third variable to temporarily store one of the old values. e.g.:\n",
       "\n",
       "    tmp = a\n",
       "    a = b\n",
       "    b = tmp\n",
       "\n",
       "If you've read lots of Python code, you might have seen the following trick to swap two variables in one line:\n",
       "\n",
       "    a, b = b, a\n",
       "\n",
       "We'll demystify this bit of Python magic later when we talk about *tuples*."
      ]
     },
     "metadata": {},
     "output_type": "display_data"
    }
   ],
   "source": [
    "########### Setup code - don't touch this part ######################\n",
    "# If you're curious, these are examples of lists. We'll talk about \n",
    "# them in depth a few lessons from now. For now, just know that they're\n",
    "# yet another type of Python object, like int or float.\n",
    "a = [1, 2, 3]\n",
    "b = [3, 2, 1]\n",
    "q2.store_original_ids()\n",
    "######################################################################\n",
    "\n",
    "# Your code goes here. Swap the values to which a and b refer.\n",
    "# If you get stuck, you can always uncomment one or both of the lines in\n",
    "# the next cell for a hint, or to peek at the solution.\n",
    "a , b = b , a\n",
    "\n",
    "\n",
    "######################################################################\n",
    "\n",
    "# Check your answer\n",
    "q2.check()"
   ]
  },
  {
   "cell_type": "code",
   "execution_count": 9,
   "id": "9aaedf1c",
   "metadata": {
    "execution": {
     "iopub.execute_input": "2023-04-01T15:06:59.071593Z",
     "iopub.status.busy": "2023-04-01T15:06:59.071136Z",
     "iopub.status.idle": "2023-04-01T15:06:59.076199Z",
     "shell.execute_reply": "2023-04-01T15:06:59.074996Z"
    },
    "papermill": {
     "duration": 0.016657,
     "end_time": "2023-04-01T15:06:59.078572",
     "exception": false,
     "start_time": "2023-04-01T15:06:59.061915",
     "status": "completed"
    },
    "tags": []
   },
   "outputs": [],
   "source": [
    "#q2.hint()"
   ]
  },
  {
   "cell_type": "code",
   "execution_count": 10,
   "id": "89df949c",
   "metadata": {
    "execution": {
     "iopub.execute_input": "2023-04-01T15:06:59.096465Z",
     "iopub.status.busy": "2023-04-01T15:06:59.096032Z",
     "iopub.status.idle": "2023-04-01T15:06:59.100946Z",
     "shell.execute_reply": "2023-04-01T15:06:59.099717Z"
    },
    "papermill": {
     "duration": 0.017052,
     "end_time": "2023-04-01T15:06:59.103591",
     "exception": false,
     "start_time": "2023-04-01T15:06:59.086539",
     "status": "completed"
    },
    "tags": []
   },
   "outputs": [],
   "source": [
    "#q2.solution()"
   ]
  },
  {
   "cell_type": "markdown",
   "id": "89a92880",
   "metadata": {
    "papermill": {
     "duration": 0.007846,
     "end_time": "2023-04-01T15:06:59.119648",
     "exception": false,
     "start_time": "2023-04-01T15:06:59.111802",
     "status": "completed"
    },
    "tags": []
   },
   "source": [
    "<hr/>\n",
    "\n",
    "# 3a.\n",
    "\n",
    "Add parentheses to the following expression so that it evaluates to 1."
   ]
  },
  {
   "cell_type": "code",
   "execution_count": 11,
   "id": "e85411d7",
   "metadata": {
    "execution": {
     "iopub.execute_input": "2023-04-01T15:06:59.137411Z",
     "iopub.status.busy": "2023-04-01T15:06:59.136925Z",
     "iopub.status.idle": "2023-04-01T15:06:59.144473Z",
     "shell.execute_reply": "2023-04-01T15:06:59.143299Z"
    },
    "papermill": {
     "duration": 0.019308,
     "end_time": "2023-04-01T15:06:59.146818",
     "exception": false,
     "start_time": "2023-04-01T15:06:59.127510",
     "status": "completed"
    },
    "tags": []
   },
   "outputs": [
    {
     "data": {
      "text/plain": [
       "1"
      ]
     },
     "execution_count": 11,
     "metadata": {},
     "output_type": "execute_result"
    }
   ],
   "source": [
    "(5 - 3) // 2"
   ]
  },
  {
   "cell_type": "code",
   "execution_count": 12,
   "id": "81edf900",
   "metadata": {
    "execution": {
     "iopub.execute_input": "2023-04-01T15:06:59.164602Z",
     "iopub.status.busy": "2023-04-01T15:06:59.164188Z",
     "iopub.status.idle": "2023-04-01T15:06:59.168879Z",
     "shell.execute_reply": "2023-04-01T15:06:59.167737Z"
    },
    "papermill": {
     "duration": 0.016647,
     "end_time": "2023-04-01T15:06:59.171409",
     "exception": false,
     "start_time": "2023-04-01T15:06:59.154762",
     "status": "completed"
    },
    "tags": []
   },
   "outputs": [],
   "source": [
    "#q3.a.hint()"
   ]
  },
  {
   "cell_type": "code",
   "execution_count": 13,
   "id": "a77a1747",
   "metadata": {
    "execution": {
     "iopub.execute_input": "2023-04-01T15:06:59.189433Z",
     "iopub.status.busy": "2023-04-01T15:06:59.189018Z",
     "iopub.status.idle": "2023-04-01T15:06:59.198462Z",
     "shell.execute_reply": "2023-04-01T15:06:59.197278Z"
    },
    "papermill": {
     "duration": 0.021663,
     "end_time": "2023-04-01T15:06:59.201165",
     "exception": false,
     "start_time": "2023-04-01T15:06:59.179502",
     "status": "completed"
    },
    "tags": []
   },
   "outputs": [
    {
     "data": {
      "application/javascript": [
       "parent.postMessage({\"jupyterEvent\": \"custom.exercise_interaction\", \"data\": {\"interactionType\": 3, \"questionType\": 4, \"questionId\": \"3.1_ArithmeticParensEasy\", \"learnToolsVersion\": \"0.3.4\", \"valueTowardsCompletion\": 0.0, \"failureMessage\": \"\", \"exceptionClass\": \"\", \"trace\": \"\", \"outcomeType\": 4}}, \"*\")"
      ],
      "text/plain": [
       "<IPython.core.display.Javascript object>"
      ]
     },
     "metadata": {},
     "output_type": "display_data"
    },
    {
     "data": {
      "text/markdown": [
       "<span style=\"color:#33cc99\">Solution:</span> \n",
       "```python\n",
       "(5 - 3) // 2\n",
       "```"
      ],
      "text/plain": [
       "Solution: \n",
       "```python\n",
       "(5 - 3) // 2\n",
       "```"
      ]
     },
     "metadata": {},
     "output_type": "display_data"
    }
   ],
   "source": [
    "# Check your answer (Run this code cell to receive credit!)\n",
    "q3.a.solution()"
   ]
  },
  {
   "cell_type": "markdown",
   "id": "6d12ae10",
   "metadata": {
    "papermill": {
     "duration": 0.008336,
     "end_time": "2023-04-01T15:06:59.217766",
     "exception": false,
     "start_time": "2023-04-01T15:06:59.209430",
     "status": "completed"
    },
    "tags": []
   },
   "source": [
    "# 3b.  <span title=\"A bit spicy\" style=\"color: darkgreen \">🌶️</span>\n",
    "\n",
    "<small>Questions, like this one, marked a spicy pepper are a bit harder.</small>\n",
    "\n",
    "Add parentheses to the following expression so that it evaluates to 0."
   ]
  },
  {
   "cell_type": "code",
   "execution_count": 14,
   "id": "cef82ef5",
   "metadata": {
    "execution": {
     "iopub.execute_input": "2023-04-01T15:06:59.236949Z",
     "iopub.status.busy": "2023-04-01T15:06:59.236530Z",
     "iopub.status.idle": "2023-04-01T15:06:59.244246Z",
     "shell.execute_reply": "2023-04-01T15:06:59.243015Z"
    },
    "papermill": {
     "duration": 0.020619,
     "end_time": "2023-04-01T15:06:59.246755",
     "exception": false,
     "start_time": "2023-04-01T15:06:59.226136",
     "status": "completed"
    },
    "tags": []
   },
   "outputs": [
    {
     "data": {
      "text/plain": [
       "0"
      ]
     },
     "execution_count": 14,
     "metadata": {},
     "output_type": "execute_result"
    }
   ],
   "source": [
    "(8 - 3) * (2 - (1 + 1))"
   ]
  },
  {
   "cell_type": "code",
   "execution_count": 15,
   "id": "0f2bc985",
   "metadata": {
    "execution": {
     "iopub.execute_input": "2023-04-01T15:06:59.266376Z",
     "iopub.status.busy": "2023-04-01T15:06:59.265931Z",
     "iopub.status.idle": "2023-04-01T15:06:59.270816Z",
     "shell.execute_reply": "2023-04-01T15:06:59.269847Z"
    },
    "papermill": {
     "duration": 0.018382,
     "end_time": "2023-04-01T15:06:59.273695",
     "exception": false,
     "start_time": "2023-04-01T15:06:59.255313",
     "status": "completed"
    },
    "tags": []
   },
   "outputs": [],
   "source": [
    "#q3.b.hint()"
   ]
  },
  {
   "cell_type": "code",
   "execution_count": 16,
   "id": "86dd7b00",
   "metadata": {
    "execution": {
     "iopub.execute_input": "2023-04-01T15:06:59.292861Z",
     "iopub.status.busy": "2023-04-01T15:06:59.291794Z",
     "iopub.status.idle": "2023-04-01T15:06:59.300914Z",
     "shell.execute_reply": "2023-04-01T15:06:59.299648Z"
    },
    "papermill": {
     "duration": 0.021302,
     "end_time": "2023-04-01T15:06:59.303427",
     "exception": false,
     "start_time": "2023-04-01T15:06:59.282125",
     "status": "completed"
    },
    "tags": []
   },
   "outputs": [
    {
     "data": {
      "application/javascript": [
       "parent.postMessage({\"jupyterEvent\": \"custom.exercise_interaction\", \"data\": {\"interactionType\": 3, \"questionType\": 4, \"questionId\": \"3.2_ArithmeticParensHard\", \"learnToolsVersion\": \"0.3.4\", \"valueTowardsCompletion\": 0.0, \"failureMessage\": \"\", \"exceptionClass\": \"\", \"trace\": \"\", \"outcomeType\": 4}}, \"*\")"
      ],
      "text/plain": [
       "<IPython.core.display.Javascript object>"
      ]
     },
     "metadata": {},
     "output_type": "display_data"
    },
    {
     "data": {
      "text/markdown": [
       "<span style=\"color:#33cc99\">Solution:</span> `(8 - 3) * (2 - (1 + 1))` is one solution. There may be others."
      ],
      "text/plain": [
       "Solution: `(8 - 3) * (2 - (1 + 1))` is one solution. There may be others."
      ]
     },
     "metadata": {},
     "output_type": "display_data"
    }
   ],
   "source": [
    "# Check your answer (Run this code cell to receive credit!)\n",
    "q3.b.solution()"
   ]
  },
  {
   "cell_type": "markdown",
   "id": "b07b34c1",
   "metadata": {
    "papermill": {
     "duration": 0.008304,
     "end_time": "2023-04-01T15:06:59.320507",
     "exception": false,
     "start_time": "2023-04-01T15:06:59.312203",
     "status": "completed"
    },
    "tags": []
   },
   "source": [
    "<hr/>\n",
    "\n",
    "# 4. \n",
    "Alice, Bob and Carol have agreed to pool their Halloween candy and split it evenly among themselves.\n",
    "For the sake of their friendship, any candies left over will be smashed. For example, if they collectively\n",
    "bring home 91 candies, they'll take 30 each and smash 1.\n",
    "\n",
    "Write an arithmetic expression below to calculate how many candies they must smash for a given haul."
   ]
  },
  {
   "cell_type": "code",
   "execution_count": 17,
   "id": "c3ca2718",
   "metadata": {
    "execution": {
     "iopub.execute_input": "2023-04-01T15:06:59.339990Z",
     "iopub.status.busy": "2023-04-01T15:06:59.339526Z",
     "iopub.status.idle": "2023-04-01T15:06:59.349934Z",
     "shell.execute_reply": "2023-04-01T15:06:59.348691Z"
    },
    "papermill": {
     "duration": 0.023139,
     "end_time": "2023-04-01T15:06:59.352313",
     "exception": false,
     "start_time": "2023-04-01T15:06:59.329174",
     "status": "completed"
    },
    "tags": []
   },
   "outputs": [
    {
     "data": {
      "application/javascript": [
       "parent.postMessage({\"jupyterEvent\": \"custom.exercise_interaction\", \"data\": {\"outcomeType\": 1, \"valueTowardsCompletion\": 0.25, \"interactionType\": 1, \"questionType\": 1, \"questionId\": \"4_CandySplitting\", \"learnToolsVersion\": \"0.3.4\", \"failureMessage\": \"\", \"exceptionClass\": \"\", \"trace\": \"\"}}, \"*\")"
      ],
      "text/plain": [
       "<IPython.core.display.Javascript object>"
      ]
     },
     "metadata": {},
     "output_type": "display_data"
    },
    {
     "data": {
      "text/markdown": [
       "<span style=\"color:#33cc33\">Correct</span>"
      ],
      "text/plain": [
       "Correct"
      ]
     },
     "metadata": {},
     "output_type": "display_data"
    }
   ],
   "source": [
    "# Variables representing the number of candies collected by alice, bob, and carol\n",
    "alice_candies = 121\n",
    "bob_candies = 77\n",
    "carol_candies = 109\n",
    "\n",
    "# Your code goes here! Replace the right-hand side of this assignment with an expression\n",
    "# involving alice_candies, bob_candies, and carol_candies\n",
    "to_smash = (alice_candies + bob_candies + carol_candies) % 3\n",
    "\n",
    "# Check your answer\n",
    "q4.check()"
   ]
  },
  {
   "cell_type": "code",
   "execution_count": 18,
   "id": "60efcf1b",
   "metadata": {
    "execution": {
     "iopub.execute_input": "2023-04-01T15:06:59.371522Z",
     "iopub.status.busy": "2023-04-01T15:06:59.371128Z",
     "iopub.status.idle": "2023-04-01T15:06:59.376050Z",
     "shell.execute_reply": "2023-04-01T15:06:59.374882Z"
    },
    "papermill": {
     "duration": 0.017339,
     "end_time": "2023-04-01T15:06:59.378445",
     "exception": false,
     "start_time": "2023-04-01T15:06:59.361106",
     "status": "completed"
    },
    "tags": []
   },
   "outputs": [],
   "source": [
    "#q4.hint()\n",
    "#q4.solution()"
   ]
  },
  {
   "cell_type": "markdown",
   "id": "4cb6db53",
   "metadata": {
    "papermill": {
     "duration": 0.008459,
     "end_time": "2023-04-01T15:06:59.396080",
     "exception": false,
     "start_time": "2023-04-01T15:06:59.387621",
     "status": "completed"
    },
    "tags": []
   },
   "source": [
    "# Keep Going\n",
    "\n",
    "Next up, you'll **[learn to write new functions and understand functions others write](https://www.kaggle.com/colinmorris/functions-and-getting-help)**. This will make you at least 10 times more productive as a Python programmer. "
   ]
  },
  {
   "cell_type": "markdown",
   "id": "18911cc9",
   "metadata": {
    "papermill": {
     "duration": 0.008639,
     "end_time": "2023-04-01T15:06:59.413521",
     "exception": false,
     "start_time": "2023-04-01T15:06:59.404882",
     "status": "completed"
    },
    "tags": []
   },
   "source": [
    "---\n",
    "\n",
    "\n",
    "\n",
    "\n",
    "*Have questions or comments? Visit the [course discussion forum](https://www.kaggle.com/learn/python/discussion) to chat with other learners.*"
   ]
  }
 ],
 "metadata": {
  "kernelspec": {
   "display_name": "Python 3",
   "language": "python",
   "name": "python3"
  },
  "language_info": {
   "codemirror_mode": {
    "name": "ipython",
    "version": 3
   },
   "file_extension": ".py",
   "mimetype": "text/x-python",
   "name": "python",
   "nbconvert_exporter": "python",
   "pygments_lexer": "ipython3",
   "version": "3.7.12"
  },
  "papermill": {
   "default_parameters": {},
   "duration": 12.246112,
   "end_time": "2023-04-01T15:07:00.044962",
   "environment_variables": {},
   "exception": null,
   "input_path": "__notebook__.ipynb",
   "output_path": "__notebook__.ipynb",
   "parameters": {},
   "start_time": "2023-04-01T15:06:47.798850",
   "version": "2.4.0"
  }
 },
 "nbformat": 4,
 "nbformat_minor": 5
}
