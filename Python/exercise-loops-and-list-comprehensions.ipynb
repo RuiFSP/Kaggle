{
 "cells": [
  {
   "cell_type": "markdown",
   "id": "ebe7afd5",
   "metadata": {
    "papermill": {
     "duration": 0.006813,
     "end_time": "2023-04-02T13:58:21.715372",
     "exception": false,
     "start_time": "2023-04-02T13:58:21.708559",
     "status": "completed"
    },
    "tags": []
   },
   "source": [
    "**This notebook is an exercise in the [Python](https://www.kaggle.com/learn/python) course.  You can reference the tutorial at [this link](https://www.kaggle.com/colinmorris/loops-and-list-comprehensions).**\n",
    "\n",
    "---\n"
   ]
  },
  {
   "cell_type": "markdown",
   "id": "aaeae0b4",
   "metadata": {
    "papermill": {
     "duration": 0.005419,
     "end_time": "2023-04-02T13:58:21.726648",
     "exception": false,
     "start_time": "2023-04-02T13:58:21.721229",
     "status": "completed"
    },
    "tags": []
   },
   "source": [
    "With all you've learned, you can start writing much more interesting programs. See if you can solve the problems below.\n",
    "\n",
    "As always, run the setup code below before working on the questions."
   ]
  },
  {
   "cell_type": "code",
   "execution_count": 1,
   "id": "5fb40a0b",
   "metadata": {
    "execution": {
     "iopub.execute_input": "2023-04-02T13:58:21.740752Z",
     "iopub.status.busy": "2023-04-02T13:58:21.739519Z",
     "iopub.status.idle": "2023-04-02T13:58:21.797699Z",
     "shell.execute_reply": "2023-04-02T13:58:21.796379Z"
    },
    "papermill": {
     "duration": 0.068536,
     "end_time": "2023-04-02T13:58:21.800891",
     "exception": false,
     "start_time": "2023-04-02T13:58:21.732355",
     "status": "completed"
    },
    "tags": []
   },
   "outputs": [
    {
     "name": "stdout",
     "output_type": "stream",
     "text": [
      "Setup complete.\n"
     ]
    }
   ],
   "source": [
    "from learntools.core import binder; binder.bind(globals())\n",
    "from learntools.python.ex5 import *\n",
    "print('Setup complete.')"
   ]
  },
  {
   "cell_type": "markdown",
   "id": "f0d5c418",
   "metadata": {
    "papermill": {
     "duration": 0.005369,
     "end_time": "2023-04-02T13:58:21.812004",
     "exception": false,
     "start_time": "2023-04-02T13:58:21.806635",
     "status": "completed"
    },
    "tags": []
   },
   "source": [
    "# 1.\n",
    "\n",
    "Have you ever felt debugging involved a bit of luck? The following program has a bug. Try to identify the bug and fix it."
   ]
  },
  {
   "cell_type": "code",
   "execution_count": 2,
   "id": "ac106bae",
   "metadata": {
    "execution": {
     "iopub.execute_input": "2023-04-02T13:58:21.825509Z",
     "iopub.status.busy": "2023-04-02T13:58:21.824746Z",
     "iopub.status.idle": "2023-04-02T13:58:21.830463Z",
     "shell.execute_reply": "2023-04-02T13:58:21.829529Z"
    },
    "papermill": {
     "duration": 0.015352,
     "end_time": "2023-04-02T13:58:21.832952",
     "exception": false,
     "start_time": "2023-04-02T13:58:21.817600",
     "status": "completed"
    },
    "tags": []
   },
   "outputs": [],
   "source": [
    "def has_lucky_number(nums):\n",
    "    \"\"\"Return whether the given list of numbers is lucky. A lucky list contains\n",
    "    at least one number divisible by 7.\n",
    "    \"\"\"\n",
    "    for num in nums:\n",
    "        if num % 7 == 0:\n",
    "            return True\n",
    "        else:\n",
    "            return False"
   ]
  },
  {
   "cell_type": "markdown",
   "id": "69f27fe9",
   "metadata": {
    "papermill": {
     "duration": 0.005267,
     "end_time": "2023-04-02T13:58:21.843981",
     "exception": false,
     "start_time": "2023-04-02T13:58:21.838714",
     "status": "completed"
    },
    "tags": []
   },
   "source": [
    "Try to identify the bug and fix it in the cell below:"
   ]
  },
  {
   "cell_type": "code",
   "execution_count": 3,
   "id": "f9b05086",
   "metadata": {
    "execution": {
     "iopub.execute_input": "2023-04-02T13:58:21.857541Z",
     "iopub.status.busy": "2023-04-02T13:58:21.856785Z",
     "iopub.status.idle": "2023-04-02T13:58:21.867126Z",
     "shell.execute_reply": "2023-04-02T13:58:21.866220Z"
    },
    "papermill": {
     "duration": 0.019688,
     "end_time": "2023-04-02T13:58:21.869236",
     "exception": false,
     "start_time": "2023-04-02T13:58:21.849548",
     "status": "completed"
    },
    "tags": []
   },
   "outputs": [
    {
     "data": {
      "application/javascript": [
       "parent.postMessage({\"jupyterEvent\": \"custom.exercise_interaction\", \"data\": {\"outcomeType\": 1, \"valueTowardsCompletion\": 0.25, \"interactionType\": 1, \"questionType\": 2, \"questionId\": \"1_EarlyExitDebugging\", \"learnToolsVersion\": \"0.3.4\", \"failureMessage\": \"\", \"exceptionClass\": \"\", \"trace\": \"\"}}, \"*\")"
      ],
      "text/plain": [
       "<IPython.core.display.Javascript object>"
      ]
     },
     "metadata": {},
     "output_type": "display_data"
    },
    {
     "data": {
      "text/markdown": [
       "<span style=\"color:#33cc33\">Correct:</span> \n",
       "\n",
       "Remember that `return` causes a function to exit immediately. So our original implementation always ran for just one iteration. We can only return `False` if we've looked at every element of the list (and confirmed that none of them are lucky). Though we can return early if the answer is `True`:\n",
       "\n",
       "```python\n",
       "def has_lucky_number(nums):\n",
       "    for num in nums:\n",
       "        if num % 7 == 0:\n",
       "            return True\n",
       "    # We've exhausted the list without finding a lucky number\n",
       "    return False\n",
       "```\n",
       "\n",
       "Here's a one-line version using a list comprehension with Python's `any` function (you can read about what it does by calling `help(any)`):\n",
       "\n",
       "```python\n",
       "def has_lucky_number(nums):\n",
       "    return any([num % 7 == 0 for num in nums])\n",
       "```\n"
      ],
      "text/plain": [
       "Correct: \n",
       "\n",
       "Remember that `return` causes a function to exit immediately. So our original implementation always ran for just one iteration. We can only return `False` if we've looked at every element of the list (and confirmed that none of them are lucky). Though we can return early if the answer is `True`:\n",
       "\n",
       "```python\n",
       "def has_lucky_number(nums):\n",
       "    for num in nums:\n",
       "        if num % 7 == 0:\n",
       "            return True\n",
       "    # We've exhausted the list without finding a lucky number\n",
       "    return False\n",
       "```\n",
       "\n",
       "Here's a one-line version using a list comprehension with Python's `any` function (you can read about what it does by calling `help(any)`):\n",
       "\n",
       "```python\n",
       "def has_lucky_number(nums):\n",
       "    return any([num % 7 == 0 for num in nums])\n",
       "```"
      ]
     },
     "metadata": {},
     "output_type": "display_data"
    }
   ],
   "source": [
    "def has_lucky_number(nums):\n",
    "    \"\"\"Return whether the given list of numbers is lucky. A lucky list contains\n",
    "    at least one number divisible by 7.\n",
    "    \"\"\"\n",
    "    for num in nums:\n",
    "        if num % 7 == 0:\n",
    "            return True\n",
    "    return False\n",
    "\n",
    "# Check your answer\n",
    "q1.check()"
   ]
  },
  {
   "cell_type": "code",
   "execution_count": 4,
   "id": "7a8bc221",
   "metadata": {
    "execution": {
     "iopub.execute_input": "2023-04-02T13:58:21.883403Z",
     "iopub.status.busy": "2023-04-02T13:58:21.882647Z",
     "iopub.status.idle": "2023-04-02T13:58:21.890980Z",
     "shell.execute_reply": "2023-04-02T13:58:21.889861Z"
    },
    "papermill": {
     "duration": 0.018604,
     "end_time": "2023-04-02T13:58:21.893721",
     "exception": false,
     "start_time": "2023-04-02T13:58:21.875117",
     "status": "completed"
    },
    "tags": []
   },
   "outputs": [
    {
     "data": {
      "application/javascript": [
       "parent.postMessage({\"jupyterEvent\": \"custom.exercise_interaction\", \"data\": {\"interactionType\": 3, \"questionType\": 2, \"questionId\": \"1_EarlyExitDebugging\", \"learnToolsVersion\": \"0.3.4\", \"valueTowardsCompletion\": 0.0, \"failureMessage\": \"\", \"exceptionClass\": \"\", \"trace\": \"\", \"outcomeType\": 4}}, \"*\")"
      ],
      "text/plain": [
       "<IPython.core.display.Javascript object>"
      ]
     },
     "metadata": {},
     "output_type": "display_data"
    },
    {
     "data": {
      "text/markdown": [
       "<span style=\"color:#33cc99\">Solution:</span> Remember that `return` causes a function to exit immediately. So our original implementation always ran for just one iteration. We can only return `False` if we've looked at every element of the list (and confirmed that none of them are lucky). Though we can return early if the answer is `True`:\n",
       "\n",
       "```python\n",
       "def has_lucky_number(nums):\n",
       "    for num in nums:\n",
       "        if num % 7 == 0:\n",
       "            return True\n",
       "    # We've exhausted the list without finding a lucky number\n",
       "    return False\n",
       "```\n",
       "\n",
       "Here's a one-line version using a list comprehension with Python's `any` function (you can read about what it does by calling `help(any)`):\n",
       "\n",
       "```python\n",
       "def has_lucky_number(nums):\n",
       "    return any([num % 7 == 0 for num in nums])\n",
       "```\n"
      ],
      "text/plain": [
       "Solution: Remember that `return` causes a function to exit immediately. So our original implementation always ran for just one iteration. We can only return `False` if we've looked at every element of the list (and confirmed that none of them are lucky). Though we can return early if the answer is `True`:\n",
       "\n",
       "```python\n",
       "def has_lucky_number(nums):\n",
       "    for num in nums:\n",
       "        if num % 7 == 0:\n",
       "            return True\n",
       "    # We've exhausted the list without finding a lucky number\n",
       "    return False\n",
       "```\n",
       "\n",
       "Here's a one-line version using a list comprehension with Python's `any` function (you can read about what it does by calling `help(any)`):\n",
       "\n",
       "```python\n",
       "def has_lucky_number(nums):\n",
       "    return any([num % 7 == 0 for num in nums])\n",
       "```"
      ]
     },
     "metadata": {},
     "output_type": "display_data"
    }
   ],
   "source": [
    "#q1.hint()\n",
    "q1.solution()"
   ]
  },
  {
   "cell_type": "markdown",
   "id": "3835813f",
   "metadata": {
    "papermill": {
     "duration": 0.00594,
     "end_time": "2023-04-02T13:58:21.906055",
     "exception": false,
     "start_time": "2023-04-02T13:58:21.900115",
     "status": "completed"
    },
    "tags": []
   },
   "source": [
    "# 2.\n",
    "Look at the Python expression below. What do you think we'll get when we run it? When you've made your prediction, uncomment the code and run the cell to see if you were right."
   ]
  },
  {
   "cell_type": "code",
   "execution_count": 5,
   "id": "27895b15",
   "metadata": {
    "execution": {
     "iopub.execute_input": "2023-04-02T13:58:21.920912Z",
     "iopub.status.busy": "2023-04-02T13:58:21.920188Z",
     "iopub.status.idle": "2023-04-02T13:58:21.925156Z",
     "shell.execute_reply": "2023-04-02T13:58:21.924237Z"
    },
    "papermill": {
     "duration": 0.015318,
     "end_time": "2023-04-02T13:58:21.927568",
     "exception": false,
     "start_time": "2023-04-02T13:58:21.912250",
     "status": "completed"
    },
    "tags": []
   },
   "outputs": [],
   "source": [
    "# [1, 2, 3, 4] > 2"
   ]
  },
  {
   "cell_type": "markdown",
   "id": "2c330eab",
   "metadata": {
    "papermill": {
     "duration": 0.00639,
     "end_time": "2023-04-02T13:58:21.940187",
     "exception": false,
     "start_time": "2023-04-02T13:58:21.933797",
     "status": "completed"
    },
    "tags": []
   },
   "source": [
    "R and Python have some libraries (like numpy and pandas) compare each element of the list to 2 (i.e. do an 'element-wise' comparison) and give us a list of booleans like `[False, False, True, True]`. \n",
    "\n",
    "Implement a function that reproduces this behaviour, returning a list of booleans corresponding to whether the corresponding element is greater than n."
   ]
  },
  {
   "cell_type": "code",
   "execution_count": 6,
   "id": "76ef3175",
   "metadata": {
    "execution": {
     "iopub.execute_input": "2023-04-02T13:58:21.956002Z",
     "iopub.status.busy": "2023-04-02T13:58:21.955573Z",
     "iopub.status.idle": "2023-04-02T13:58:21.966069Z",
     "shell.execute_reply": "2023-04-02T13:58:21.964728Z"
    },
    "papermill": {
     "duration": 0.021997,
     "end_time": "2023-04-02T13:58:21.968493",
     "exception": false,
     "start_time": "2023-04-02T13:58:21.946496",
     "status": "completed"
    },
    "tags": []
   },
   "outputs": [
    {
     "data": {
      "application/javascript": [
       "parent.postMessage({\"jupyterEvent\": \"custom.exercise_interaction\", \"data\": {\"outcomeType\": 1, \"valueTowardsCompletion\": 0.25, \"interactionType\": 1, \"questionType\": 2, \"questionId\": \"2_ElementWiseComparison\", \"learnToolsVersion\": \"0.3.4\", \"failureMessage\": \"\", \"exceptionClass\": \"\", \"trace\": \"\"}}, \"*\")"
      ],
      "text/plain": [
       "<IPython.core.display.Javascript object>"
      ]
     },
     "metadata": {},
     "output_type": "display_data"
    },
    {
     "data": {
      "text/markdown": [
       "<span style=\"color:#33cc33\">Correct:</span> \n",
       "\n",
       "Here's one solution:\n",
       "```python\n",
       "def elementwise_greater_than(L, thresh):\n",
       "    res = []\n",
       "    for ele in L:\n",
       "        res.append(ele > thresh)\n",
       "    return res\n",
       "```\n",
       "\n",
       "And here's the list comprehension version:\n",
       "```python\n",
       "def elementwise_greater_than(L, thresh):\n",
       "    return [ele > thresh for ele in L]\n",
       "```\n"
      ],
      "text/plain": [
       "Correct: \n",
       "\n",
       "Here's one solution:\n",
       "```python\n",
       "def elementwise_greater_than(L, thresh):\n",
       "    res = []\n",
       "    for ele in L:\n",
       "        res.append(ele > thresh)\n",
       "    return res\n",
       "```\n",
       "\n",
       "And here's the list comprehension version:\n",
       "```python\n",
       "def elementwise_greater_than(L, thresh):\n",
       "    return [ele > thresh for ele in L]\n",
       "```"
      ]
     },
     "metadata": {},
     "output_type": "display_data"
    }
   ],
   "source": [
    "def elementwise_greater_than(L, thresh):\n",
    "    \"\"\"Return a list with the same length as L, where the value at index i is \n",
    "    True if L[i] is greater than thresh, and False otherwise.\n",
    "    \n",
    "    >>> elementwise_greater_than([1, 2, 3, 4], 2)\n",
    "    [False, False, True, True]\n",
    "    \"\"\"\n",
    "    return [num > thresh for num in L]\n",
    "\n",
    "# Check your answer\n",
    "q2.check()"
   ]
  },
  {
   "cell_type": "code",
   "execution_count": 7,
   "id": "cabb2763",
   "metadata": {
    "execution": {
     "iopub.execute_input": "2023-04-02T13:58:21.984104Z",
     "iopub.status.busy": "2023-04-02T13:58:21.983033Z",
     "iopub.status.idle": "2023-04-02T13:58:21.992165Z",
     "shell.execute_reply": "2023-04-02T13:58:21.990939Z"
    },
    "papermill": {
     "duration": 0.019758,
     "end_time": "2023-04-02T13:58:21.994848",
     "exception": false,
     "start_time": "2023-04-02T13:58:21.975090",
     "status": "completed"
    },
    "tags": []
   },
   "outputs": [
    {
     "data": {
      "application/javascript": [
       "parent.postMessage({\"jupyterEvent\": \"custom.exercise_interaction\", \"data\": {\"interactionType\": 3, \"questionType\": 2, \"questionId\": \"2_ElementWiseComparison\", \"learnToolsVersion\": \"0.3.4\", \"valueTowardsCompletion\": 0.0, \"failureMessage\": \"\", \"exceptionClass\": \"\", \"trace\": \"\", \"outcomeType\": 4}}, \"*\")"
      ],
      "text/plain": [
       "<IPython.core.display.Javascript object>"
      ]
     },
     "metadata": {},
     "output_type": "display_data"
    },
    {
     "data": {
      "text/markdown": [
       "<span style=\"color:#33cc99\">Solution:</span> Here's one solution:\n",
       "```python\n",
       "def elementwise_greater_than(L, thresh):\n",
       "    res = []\n",
       "    for ele in L:\n",
       "        res.append(ele > thresh)\n",
       "    return res\n",
       "```\n",
       "\n",
       "And here's the list comprehension version:\n",
       "```python\n",
       "def elementwise_greater_than(L, thresh):\n",
       "    return [ele > thresh for ele in L]\n",
       "```\n"
      ],
      "text/plain": [
       "Solution: Here's one solution:\n",
       "```python\n",
       "def elementwise_greater_than(L, thresh):\n",
       "    res = []\n",
       "    for ele in L:\n",
       "        res.append(ele > thresh)\n",
       "    return res\n",
       "```\n",
       "\n",
       "And here's the list comprehension version:\n",
       "```python\n",
       "def elementwise_greater_than(L, thresh):\n",
       "    return [ele > thresh for ele in L]\n",
       "```"
      ]
     },
     "metadata": {},
     "output_type": "display_data"
    }
   ],
   "source": [
    "q2.solution()"
   ]
  },
  {
   "cell_type": "markdown",
   "id": "191ba794",
   "metadata": {
    "papermill": {
     "duration": 0.006551,
     "end_time": "2023-04-02T13:58:22.008223",
     "exception": false,
     "start_time": "2023-04-02T13:58:22.001672",
     "status": "completed"
    },
    "tags": []
   },
   "source": [
    "# 3.\n",
    "\n",
    "Complete the body of the function below according to its docstring."
   ]
  },
  {
   "cell_type": "code",
   "execution_count": 8,
   "id": "7fbdf335",
   "metadata": {
    "execution": {
     "iopub.execute_input": "2023-04-02T13:58:22.023991Z",
     "iopub.status.busy": "2023-04-02T13:58:22.023288Z",
     "iopub.status.idle": "2023-04-02T13:58:22.035031Z",
     "shell.execute_reply": "2023-04-02T13:58:22.033629Z"
    },
    "papermill": {
     "duration": 0.022858,
     "end_time": "2023-04-02T13:58:22.037803",
     "exception": false,
     "start_time": "2023-04-02T13:58:22.014945",
     "status": "completed"
    },
    "tags": []
   },
   "outputs": [
    {
     "data": {
      "application/javascript": [
       "parent.postMessage({\"jupyterEvent\": \"custom.exercise_interaction\", \"data\": {\"outcomeType\": 1, \"valueTowardsCompletion\": 0.25, \"interactionType\": 1, \"questionType\": 2, \"questionId\": \"3_BoringMenu\", \"learnToolsVersion\": \"0.3.4\", \"failureMessage\": \"\", \"exceptionClass\": \"\", \"trace\": \"\"}}, \"*\")"
      ],
      "text/plain": [
       "<IPython.core.display.Javascript object>"
      ]
     },
     "metadata": {},
     "output_type": "display_data"
    },
    {
     "data": {
      "text/markdown": [
       "<span style=\"color:#33cc33\">Correct:</span> \n",
       "\n",
       "\n",
       "\n",
       "```python\n",
       "def menu_is_boring(meals):\n",
       "    # Iterate over all indices of the list, except the last one\n",
       "    for i in range(len(meals)-1):\n",
       "        if meals[i] == meals[i+1]:\n",
       "            return True\n",
       "    return False\n",
       "```\n",
       "\n",
       "The key to our solution is the call to `range`. `range(len(meals))` would give us all the indices of `meals`. If we had used that range, the last iteration of the loop would be comparing the last element to the element after it, which is... `IndexError`! `range(len(meals)-1)` gives us all the indices except the index of the last element.\n",
       "\n",
       "But don't we need to check if `meals` is empty? Turns out that `range(0) == range(-1)` - they're both empty. So if `meals` has length 0 or 1, we just won't do any iterations of our for loop.\n"
      ],
      "text/plain": [
       "Correct: \n",
       "\n",
       "\n",
       "\n",
       "```python\n",
       "def menu_is_boring(meals):\n",
       "    # Iterate over all indices of the list, except the last one\n",
       "    for i in range(len(meals)-1):\n",
       "        if meals[i] == meals[i+1]:\n",
       "            return True\n",
       "    return False\n",
       "```\n",
       "\n",
       "The key to our solution is the call to `range`. `range(len(meals))` would give us all the indices of `meals`. If we had used that range, the last iteration of the loop would be comparing the last element to the element after it, which is... `IndexError`! `range(len(meals)-1)` gives us all the indices except the index of the last element.\n",
       "\n",
       "But don't we need to check if `meals` is empty? Turns out that `range(0) == range(-1)` - they're both empty. So if `meals` has length 0 or 1, we just won't do any iterations of our for loop."
      ]
     },
     "metadata": {},
     "output_type": "display_data"
    }
   ],
   "source": [
    "def menu_is_boring(meals):\n",
    "    \"\"\"Given a list of meals served over some period of time, return True if the\n",
    "    same meal has ever been served two days in a row, and False otherwise.\n",
    "    \"\"\"\n",
    "    # Iterate over all indices of the list, except the last one\n",
    "    return any(meals[i] == meals[i+1] for i in range(len(meals)-1))\n",
    "\n",
    "#     for i in range(1, len(meals)):\n",
    "#         if meals[i] == meals[i-1]:\n",
    "#             return True\n",
    "#     return False\n",
    "\n",
    "# Check your answer\n",
    "q3.check()"
   ]
  },
  {
   "cell_type": "code",
   "execution_count": 9,
   "id": "1358c13e",
   "metadata": {
    "execution": {
     "iopub.execute_input": "2023-04-02T13:58:22.054027Z",
     "iopub.status.busy": "2023-04-02T13:58:22.053583Z",
     "iopub.status.idle": "2023-04-02T13:58:22.068218Z",
     "shell.execute_reply": "2023-04-02T13:58:22.067293Z"
    },
    "papermill": {
     "duration": 0.025545,
     "end_time": "2023-04-02T13:58:22.070592",
     "exception": false,
     "start_time": "2023-04-02T13:58:22.045047",
     "status": "completed"
    },
    "tags": []
   },
   "outputs": [
    {
     "data": {
      "application/javascript": [
       "parent.postMessage({\"jupyterEvent\": \"custom.exercise_interaction\", \"data\": {\"interactionType\": 2, \"questionType\": 2, \"questionId\": \"3_BoringMenu\", \"learnToolsVersion\": \"0.3.4\", \"valueTowardsCompletion\": 0.0, \"failureMessage\": \"\", \"exceptionClass\": \"\", \"trace\": \"\", \"outcomeType\": 4}}, \"*\")"
      ],
      "text/plain": [
       "<IPython.core.display.Javascript object>"
      ]
     },
     "metadata": {},
     "output_type": "display_data"
    },
    {
     "data": {
      "text/markdown": [
       "<span style=\"color:#3366cc\">Hint:</span> This is a case where it may be preferable to iterate over the *indices* of the list (using a call to `range()`) rather than iterating over the elements of the list itself. When indexing into the list, be mindful that you're not \"falling off the end\" (i.e. using an index that doesn't exist)."
      ],
      "text/plain": [
       "Hint: This is a case where it may be preferable to iterate over the *indices* of the list (using a call to `range()`) rather than iterating over the elements of the list itself. When indexing into the list, be mindful that you're not \"falling off the end\" (i.e. using an index that doesn't exist)."
      ]
     },
     "metadata": {},
     "output_type": "display_data"
    },
    {
     "data": {
      "application/javascript": [
       "parent.postMessage({\"jupyterEvent\": \"custom.exercise_interaction\", \"data\": {\"interactionType\": 3, \"questionType\": 2, \"questionId\": \"3_BoringMenu\", \"learnToolsVersion\": \"0.3.4\", \"valueTowardsCompletion\": 0.0, \"failureMessage\": \"\", \"exceptionClass\": \"\", \"trace\": \"\", \"outcomeType\": 4}}, \"*\")"
      ],
      "text/plain": [
       "<IPython.core.display.Javascript object>"
      ]
     },
     "metadata": {},
     "output_type": "display_data"
    },
    {
     "data": {
      "text/markdown": [
       "<span style=\"color:#33cc99\">Solution:</span> \n",
       "\n",
       "```python\n",
       "def menu_is_boring(meals):\n",
       "    # Iterate over all indices of the list, except the last one\n",
       "    for i in range(len(meals)-1):\n",
       "        if meals[i] == meals[i+1]:\n",
       "            return True\n",
       "    return False\n",
       "```\n",
       "\n",
       "The key to our solution is the call to `range`. `range(len(meals))` would give us all the indices of `meals`. If we had used that range, the last iteration of the loop would be comparing the last element to the element after it, which is... `IndexError`! `range(len(meals)-1)` gives us all the indices except the index of the last element.\n",
       "\n",
       "But don't we need to check if `meals` is empty? Turns out that `range(0) == range(-1)` - they're both empty. So if `meals` has length 0 or 1, we just won't do any iterations of our for loop.\n"
      ],
      "text/plain": [
       "Solution: \n",
       "\n",
       "```python\n",
       "def menu_is_boring(meals):\n",
       "    # Iterate over all indices of the list, except the last one\n",
       "    for i in range(len(meals)-1):\n",
       "        if meals[i] == meals[i+1]:\n",
       "            return True\n",
       "    return False\n",
       "```\n",
       "\n",
       "The key to our solution is the call to `range`. `range(len(meals))` would give us all the indices of `meals`. If we had used that range, the last iteration of the loop would be comparing the last element to the element after it, which is... `IndexError`! `range(len(meals)-1)` gives us all the indices except the index of the last element.\n",
       "\n",
       "But don't we need to check if `meals` is empty? Turns out that `range(0) == range(-1)` - they're both empty. So if `meals` has length 0 or 1, we just won't do any iterations of our for loop."
      ]
     },
     "metadata": {},
     "output_type": "display_data"
    }
   ],
   "source": [
    "q3.hint()\n",
    "q3.solution()"
   ]
  },
  {
   "cell_type": "markdown",
   "id": "ce91d92c",
   "metadata": {
    "papermill": {
     "duration": 0.00743,
     "end_time": "2023-04-02T13:58:22.085792",
     "exception": false,
     "start_time": "2023-04-02T13:58:22.078362",
     "status": "completed"
    },
    "tags": []
   },
   "source": [
    "# 4. <span title=\"A bit spicy\" style=\"color: darkgreen \">🌶️</span>\n",
    "\n",
    "Next to the Blackjack table, the Python Challenge Casino has a slot machine. You can get a result from the slot machine by calling `play_slot_machine()`. The number it returns is your winnings in dollars. Usually it returns 0.  But sometimes you'll get lucky and get a big payday. Try running it below:"
   ]
  },
  {
   "cell_type": "code",
   "execution_count": 10,
   "id": "2d3b94e6",
   "metadata": {
    "execution": {
     "iopub.execute_input": "2023-04-02T13:58:22.103540Z",
     "iopub.status.busy": "2023-04-02T13:58:22.102848Z",
     "iopub.status.idle": "2023-04-02T13:58:22.110477Z",
     "shell.execute_reply": "2023-04-02T13:58:22.109127Z"
    },
    "papermill": {
     "duration": 0.019463,
     "end_time": "2023-04-02T13:58:22.112927",
     "exception": false,
     "start_time": "2023-04-02T13:58:22.093464",
     "status": "completed"
    },
    "tags": []
   },
   "outputs": [
    {
     "data": {
      "text/plain": [
       "0"
      ]
     },
     "execution_count": 10,
     "metadata": {},
     "output_type": "execute_result"
    }
   ],
   "source": [
    "play_slot_machine()"
   ]
  },
  {
   "cell_type": "markdown",
   "id": "ab75b0c1",
   "metadata": {
    "papermill": {
     "duration": 0.007443,
     "end_time": "2023-04-02T13:58:22.128273",
     "exception": false,
     "start_time": "2023-04-02T13:58:22.120830",
     "status": "completed"
    },
    "tags": []
   },
   "source": [
    "By the way, did we mention that each play costs $1? Don't worry, we'll send you the bill later.\n",
    "\n",
    "On average, how much money can you expect to gain (or lose) every time you play the machine?  The casino keeps it a secret, but you can estimate the average value of each pull using a technique called the **Monte Carlo method**. To estimate the average outcome, we simulate the scenario many times, and return the average result.\n",
    "\n",
    "Complete the following function to calculate the average value per play of the slot machine."
   ]
  },
  {
   "cell_type": "code",
   "execution_count": 11,
   "id": "57d2d2f3",
   "metadata": {
    "execution": {
     "iopub.execute_input": "2023-04-02T13:58:22.145910Z",
     "iopub.status.busy": "2023-04-02T13:58:22.145505Z",
     "iopub.status.idle": "2023-04-02T13:58:22.151524Z",
     "shell.execute_reply": "2023-04-02T13:58:22.150188Z"
    },
    "papermill": {
     "duration": 0.018066,
     "end_time": "2023-04-02T13:58:22.154140",
     "exception": false,
     "start_time": "2023-04-02T13:58:22.136074",
     "status": "completed"
    },
    "tags": []
   },
   "outputs": [],
   "source": [
    "def estimate_average_slot_payout(n_runs):\n",
    "    \"\"\"Run the slot machine n_runs times and return the average net profit per run.\n",
    "    Example calls (note that return value is nondeterministic!):\n",
    "    >>> estimate_average_slot_payout(1)\n",
    "    -1\n",
    "    >>> estimate_average_slot_payout(1)\n",
    "    0.5\n",
    "    \"\"\"\n",
    "    payouts = [play_slot_machine()-1 for i in range(n_runs)]\n",
    "    # Calculate the average value\n",
    "    avg_payout = sum(payouts) / n_runs\n",
    "    return avg_payout"
   ]
  },
  {
   "cell_type": "markdown",
   "id": "4d6dd582",
   "metadata": {
    "papermill": {
     "duration": 0.007826,
     "end_time": "2023-04-02T13:58:22.169863",
     "exception": false,
     "start_time": "2023-04-02T13:58:22.162037",
     "status": "completed"
    },
    "tags": []
   },
   "source": [
    "When you think you know the expected value per spin, run the code cell below to view the solution and get credit for answering the question."
   ]
  },
  {
   "cell_type": "code",
   "execution_count": 12,
   "id": "c7f09e1e",
   "metadata": {
    "execution": {
     "iopub.execute_input": "2023-04-02T13:58:22.188075Z",
     "iopub.status.busy": "2023-04-02T13:58:22.187645Z",
     "iopub.status.idle": "2023-04-02T13:58:22.197207Z",
     "shell.execute_reply": "2023-04-02T13:58:22.196034Z"
    },
    "papermill": {
     "duration": 0.021905,
     "end_time": "2023-04-02T13:58:22.199712",
     "exception": false,
     "start_time": "2023-04-02T13:58:22.177807",
     "status": "completed"
    },
    "tags": []
   },
   "outputs": [
    {
     "data": {
      "application/javascript": [
       "parent.postMessage({\"jupyterEvent\": \"custom.exercise_interaction\", \"data\": {\"interactionType\": 3, \"questionType\": 4, \"questionId\": \"4_ExpectedSlotsPayout\", \"learnToolsVersion\": \"0.3.4\", \"valueTowardsCompletion\": 0.0, \"failureMessage\": \"\", \"exceptionClass\": \"\", \"trace\": \"\", \"outcomeType\": 4}}, \"*\")"
      ],
      "text/plain": [
       "<IPython.core.display.Javascript object>"
      ]
     },
     "metadata": {},
     "output_type": "display_data"
    },
    {
     "data": {
      "text/markdown": [
       "<span style=\"color:#33cc99\">Solution:</span> \n",
       "    \n",
       "The exact expected value of one pull of the slot machine is 0.025 - i.e. a little more than 2 cents.  See?  Not every game in the Python Challenge Casino is rigged against the player!\n",
       "\n",
       "In order to get this answer, you'll need to implement the `estimate_average_slot_payout(n_runs)` function to simulate pulling the slot machine `n_runs` times.  It should return the payout averaged over those `n_runs`.\n",
       "\n",
       "Then, once the function is defined, in order to estimate the average slot payout, we need only call the function.\n",
       "\n",
       "Because of the high variance of the outcome (there are some very rare high payout results that significantly affect the average) you might need to run your function with a very high value of `n_runs` to get a stable answer close to the true expectation.  For instance, you might use a value for `n_runs` of 1000000.\n",
       "\n",
       "Here's an example for how the function could look:\n",
       "```python\n",
       "def estimate_average_slot_payout(n_runs):\n",
       "    # Play slot machine n_runs times, calculate payout of each\n",
       "    payouts = [play_slot_machine()-1 for i in range(n_runs)]\n",
       "    # Calculate the average value\n",
       "    avg_payout = sum(payouts) / n_runs\n",
       "    return avg_payout\n",
       "    \n",
       "estimate_average_slot_payout(10000000)\n",
       "\n",
       "```\n",
       "\n",
       "This should return an answer close to 0.025!\n",
       "            \n"
      ],
      "text/plain": [
       "Solution: \n",
       "    \n",
       "The exact expected value of one pull of the slot machine is 0.025 - i.e. a little more than 2 cents.  See?  Not every game in the Python Challenge Casino is rigged against the player!\n",
       "\n",
       "In order to get this answer, you'll need to implement the `estimate_average_slot_payout(n_runs)` function to simulate pulling the slot machine `n_runs` times.  It should return the payout averaged over those `n_runs`.\n",
       "\n",
       "Then, once the function is defined, in order to estimate the average slot payout, we need only call the function.\n",
       "\n",
       "Because of the high variance of the outcome (there are some very rare high payout results that significantly affect the average) you might need to run your function with a very high value of `n_runs` to get a stable answer close to the true expectation.  For instance, you might use a value for `n_runs` of 1000000.\n",
       "\n",
       "Here's an example for how the function could look:\n",
       "```python\n",
       "def estimate_average_slot_payout(n_runs):\n",
       "    # Play slot machine n_runs times, calculate payout of each\n",
       "    payouts = [play_slot_machine()-1 for i in range(n_runs)]\n",
       "    # Calculate the average value\n",
       "    avg_payout = sum(payouts) / n_runs\n",
       "    return avg_payout\n",
       "    \n",
       "estimate_average_slot_payout(10000000)\n",
       "\n",
       "```\n",
       "\n",
       "This should return an answer close to 0.025!\n",
       "            "
      ]
     },
     "metadata": {},
     "output_type": "display_data"
    }
   ],
   "source": [
    "# Check your answer (Run this code cell to receive credit!)\n",
    "q4.solution()"
   ]
  },
  {
   "cell_type": "markdown",
   "id": "bc84b8a5",
   "metadata": {
    "papermill": {
     "duration": 0.00764,
     "end_time": "2023-04-02T13:58:22.215401",
     "exception": false,
     "start_time": "2023-04-02T13:58:22.207761",
     "status": "completed"
    },
    "tags": []
   },
   "source": [
    "# Keep Going\n",
    "\n",
    "Many programmers report that dictionaries are their favorite data structure. You'll get to **[learn about them](https://www.kaggle.com/colinmorris/strings-and-dictionaries)** (as well as strings) in the next lesson."
   ]
  },
  {
   "cell_type": "markdown",
   "id": "5481582e",
   "metadata": {
    "papermill": {
     "duration": 0.007724,
     "end_time": "2023-04-02T13:58:22.231144",
     "exception": false,
     "start_time": "2023-04-02T13:58:22.223420",
     "status": "completed"
    },
    "tags": []
   },
   "source": [
    "---\n",
    "\n",
    "\n",
    "\n",
    "\n",
    "*Have questions or comments? Visit the [course discussion forum](https://www.kaggle.com/learn/python/discussion) to chat with other learners.*"
   ]
  }
 ],
 "metadata": {
  "kernelspec": {
   "display_name": "Python 3",
   "language": "python",
   "name": "python3"
  },
  "language_info": {
   "codemirror_mode": {
    "name": "ipython",
    "version": 3
   },
   "file_extension": ".py",
   "mimetype": "text/x-python",
   "name": "python",
   "nbconvert_exporter": "python",
   "pygments_lexer": "ipython3",
   "version": "3.7.12"
  },
  "papermill": {
   "default_parameters": {},
   "duration": 12.226407,
   "end_time": "2023-04-02T13:58:22.963342",
   "environment_variables": {},
   "exception": null,
   "input_path": "__notebook__.ipynb",
   "output_path": "__notebook__.ipynb",
   "parameters": {},
   "start_time": "2023-04-02T13:58:10.736935",
   "version": "2.4.0"
  }
 },
 "nbformat": 4,
 "nbformat_minor": 5
}
