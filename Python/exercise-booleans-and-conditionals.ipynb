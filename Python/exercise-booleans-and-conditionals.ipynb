{
 "cells": [
  {
   "cell_type": "markdown",
   "id": "d974f068",
   "metadata": {
    "papermill": {
     "duration": 0.008841,
     "end_time": "2023-04-01T16:12:15.326075",
     "exception": false,
     "start_time": "2023-04-01T16:12:15.317234",
     "status": "completed"
    },
    "tags": []
   },
   "source": [
    "**This notebook is an exercise in the [Python](https://www.kaggle.com/learn/python) course.  You can reference the tutorial at [this link](https://www.kaggle.com/colinmorris/booleans-and-conditionals).**\n",
    "\n",
    "---\n"
   ]
  },
  {
   "cell_type": "markdown",
   "id": "2d854d03",
   "metadata": {
    "papermill": {
     "duration": 0.007547,
     "end_time": "2023-04-01T16:12:15.341783",
     "exception": false,
     "start_time": "2023-04-01T16:12:15.334236",
     "status": "completed"
    },
    "tags": []
   },
   "source": [
    "In this exercise, you'll put to work what you have learned about booleans and conditionals.\n",
    "\n",
    "To get started, **run the setup code below** before writing your own code (and if you leave this notebook and come back later, don't forget to run the setup code again)."
   ]
  },
  {
   "cell_type": "code",
   "execution_count": 1,
   "id": "a448fa14",
   "metadata": {
    "execution": {
     "iopub.execute_input": "2023-04-01T16:12:15.359432Z",
     "iopub.status.busy": "2023-04-01T16:12:15.359023Z",
     "iopub.status.idle": "2023-04-01T16:12:15.427485Z",
     "shell.execute_reply": "2023-04-01T16:12:15.426464Z"
    },
    "papermill": {
     "duration": 0.080311,
     "end_time": "2023-04-01T16:12:15.429967",
     "exception": false,
     "start_time": "2023-04-01T16:12:15.349656",
     "status": "completed"
    },
    "tags": []
   },
   "outputs": [
    {
     "name": "stdout",
     "output_type": "stream",
     "text": [
      "Setup complete.\n"
     ]
    }
   ],
   "source": [
    "from learntools.core import binder; binder.bind(globals())\n",
    "from learntools.python.ex3 import *\n",
    "print('Setup complete.')"
   ]
  },
  {
   "cell_type": "markdown",
   "id": "d0a9b287",
   "metadata": {
    "papermill": {
     "duration": 0.007783,
     "end_time": "2023-04-01T16:12:15.447020",
     "exception": false,
     "start_time": "2023-04-01T16:12:15.439237",
     "status": "completed"
    },
    "tags": []
   },
   "source": [
    "# 1.\n",
    "\n",
    "Many programming languages have [`sign`](https://en.wikipedia.org/wiki/Sign_function) available as a built-in function. Python doesn't, but we can define our own!\n",
    "\n",
    "In the cell below, define a function called `sign` which takes a numerical argument and returns -1 if it's negative, 1 if it's positive, and 0 if it's 0."
   ]
  },
  {
   "cell_type": "code",
   "execution_count": 2,
   "id": "24ee3d59",
   "metadata": {
    "execution": {
     "iopub.execute_input": "2023-04-01T16:12:15.464525Z",
     "iopub.status.busy": "2023-04-01T16:12:15.464117Z",
     "iopub.status.idle": "2023-04-01T16:12:15.475251Z",
     "shell.execute_reply": "2023-04-01T16:12:15.473965Z"
    },
    "papermill": {
     "duration": 0.02308,
     "end_time": "2023-04-01T16:12:15.478016",
     "exception": false,
     "start_time": "2023-04-01T16:12:15.454936",
     "status": "completed"
    },
    "tags": []
   },
   "outputs": [
    {
     "data": {
      "application/javascript": [
       "parent.postMessage({\"jupyterEvent\": \"custom.exercise_interaction\", \"data\": {\"outcomeType\": 1, \"valueTowardsCompletion\": 0.2, \"interactionType\": 1, \"questionType\": 2, \"questionId\": \"1_SignFunctionProblem\", \"learnToolsVersion\": \"0.3.4\", \"failureMessage\": \"\", \"exceptionClass\": \"\", \"trace\": \"\"}}, \"*\")"
      ],
      "text/plain": [
       "<IPython.core.display.Javascript object>"
      ]
     },
     "metadata": {},
     "output_type": "display_data"
    },
    {
     "data": {
      "text/markdown": [
       "<span style=\"color:#33cc33\">Correct</span>"
      ],
      "text/plain": [
       "Correct"
      ]
     },
     "metadata": {},
     "output_type": "display_data"
    }
   ],
   "source": [
    "# Your code goes here. Define a function called 'sign'\n",
    "def sign(n):\n",
    "    if n > 0:\n",
    "        return 1\n",
    "    if n < 0:\n",
    "        return -1\n",
    "    if n == 0:\n",
    "        return 0\n",
    "\n",
    "# Check your answer\n",
    "q1.check()"
   ]
  },
  {
   "cell_type": "code",
   "execution_count": 3,
   "id": "6c724a2e",
   "metadata": {
    "execution": {
     "iopub.execute_input": "2023-04-01T16:12:15.497612Z",
     "iopub.status.busy": "2023-04-01T16:12:15.496352Z",
     "iopub.status.idle": "2023-04-01T16:12:15.502337Z",
     "shell.execute_reply": "2023-04-01T16:12:15.500847Z"
    },
    "papermill": {
     "duration": 0.018427,
     "end_time": "2023-04-01T16:12:15.505000",
     "exception": false,
     "start_time": "2023-04-01T16:12:15.486573",
     "status": "completed"
    },
    "tags": []
   },
   "outputs": [],
   "source": [
    "#q1.solution()"
   ]
  },
  {
   "cell_type": "markdown",
   "id": "a8d0b691",
   "metadata": {
    "papermill": {
     "duration": 0.008018,
     "end_time": "2023-04-01T16:12:15.521406",
     "exception": false,
     "start_time": "2023-04-01T16:12:15.513388",
     "status": "completed"
    },
    "tags": []
   },
   "source": [
    "# 2.\n",
    "\n",
    "We've decided to add \"logging\" to our `to_smash` function from the previous exercise."
   ]
  },
  {
   "cell_type": "code",
   "execution_count": 4,
   "id": "982f6067",
   "metadata": {
    "execution": {
     "iopub.execute_input": "2023-04-01T16:12:15.542482Z",
     "iopub.status.busy": "2023-04-01T16:12:15.542088Z",
     "iopub.status.idle": "2023-04-01T16:12:15.552380Z",
     "shell.execute_reply": "2023-04-01T16:12:15.550193Z"
    },
    "papermill": {
     "duration": 0.024666,
     "end_time": "2023-04-01T16:12:15.555379",
     "exception": false,
     "start_time": "2023-04-01T16:12:15.530713",
     "status": "completed"
    },
    "tags": []
   },
   "outputs": [
    {
     "name": "stdout",
     "output_type": "stream",
     "text": [
      "Splitting 91 candies\n"
     ]
    },
    {
     "data": {
      "text/plain": [
       "1"
      ]
     },
     "execution_count": 4,
     "metadata": {},
     "output_type": "execute_result"
    }
   ],
   "source": [
    "def to_smash(total_candies):\n",
    "    \"\"\"Return the number of leftover candies that must be smashed after distributing\n",
    "    the given number of candies evenly between 3 friends.\n",
    "    \n",
    "    >>> to_smash(91)\n",
    "    1\n",
    "    \"\"\"\n",
    "    print(\"Splitting\", total_candies, \"candies\")\n",
    "    return total_candies % 3\n",
    "\n",
    "to_smash(91)"
   ]
  },
  {
   "cell_type": "markdown",
   "id": "453d8a15",
   "metadata": {
    "papermill": {
     "duration": 0.008328,
     "end_time": "2023-04-01T16:12:15.573213",
     "exception": false,
     "start_time": "2023-04-01T16:12:15.564885",
     "status": "completed"
    },
    "tags": []
   },
   "source": [
    "What happens if we call it with `total_candies = 1`?"
   ]
  },
  {
   "cell_type": "code",
   "execution_count": 5,
   "id": "88f17705",
   "metadata": {
    "execution": {
     "iopub.execute_input": "2023-04-01T16:12:15.592300Z",
     "iopub.status.busy": "2023-04-01T16:12:15.591924Z",
     "iopub.status.idle": "2023-04-01T16:12:15.601844Z",
     "shell.execute_reply": "2023-04-01T16:12:15.599336Z"
    },
    "papermill": {
     "duration": 0.02309,
     "end_time": "2023-04-01T16:12:15.604973",
     "exception": false,
     "start_time": "2023-04-01T16:12:15.581883",
     "status": "completed"
    },
    "tags": []
   },
   "outputs": [
    {
     "name": "stdout",
     "output_type": "stream",
     "text": [
      "Splitting 1 candies\n"
     ]
    },
    {
     "data": {
      "text/plain": [
       "1"
      ]
     },
     "execution_count": 5,
     "metadata": {},
     "output_type": "execute_result"
    }
   ],
   "source": [
    "to_smash(1)"
   ]
  },
  {
   "cell_type": "markdown",
   "id": "e941ae10",
   "metadata": {
    "papermill": {
     "duration": 0.008435,
     "end_time": "2023-04-01T16:12:15.622407",
     "exception": false,
     "start_time": "2023-04-01T16:12:15.613972",
     "status": "completed"
    },
    "tags": []
   },
   "source": [
    "That isn't great grammar!\n",
    "\n",
    "Modify the definition in the cell below to correct the grammar of our print statement. (If there's only one candy, we should use the singular \"candy\" instead of the plural \"candies\")"
   ]
  },
  {
   "cell_type": "code",
   "execution_count": 6,
   "id": "7dca809d",
   "metadata": {
    "execution": {
     "iopub.execute_input": "2023-04-01T16:12:15.641728Z",
     "iopub.status.busy": "2023-04-01T16:12:15.641273Z",
     "iopub.status.idle": "2023-04-01T16:12:15.650989Z",
     "shell.execute_reply": "2023-04-01T16:12:15.649421Z"
    },
    "papermill": {
     "duration": 0.022446,
     "end_time": "2023-04-01T16:12:15.653718",
     "exception": false,
     "start_time": "2023-04-01T16:12:15.631272",
     "status": "completed"
    },
    "tags": []
   },
   "outputs": [
    {
     "name": "stdout",
     "output_type": "stream",
     "text": [
      "Splitting 91 candies\n",
      "Splitting 1 candy\n"
     ]
    },
    {
     "data": {
      "text/plain": [
       "1"
      ]
     },
     "execution_count": 6,
     "metadata": {},
     "output_type": "execute_result"
    }
   ],
   "source": [
    "def to_smash(total_candies):\n",
    "    \"\"\"Return the number of leftover candies that must be smashed after distributing\n",
    "    the given number of candies evenly between 3 friends.\n",
    "    \n",
    "    >>> to_smash(91)\n",
    "    1\n",
    "    \"\"\"\n",
    "    print(\"Splitting\", total_candies, \"candies\" if total_candies > 1 else \"candy\")\n",
    "    return total_candies % 3\n",
    "\n",
    "to_smash(91)\n",
    "to_smash(1)"
   ]
  },
  {
   "cell_type": "markdown",
   "id": "70c5fc97",
   "metadata": {
    "papermill": {
     "duration": 0.00914,
     "end_time": "2023-04-01T16:12:15.672056",
     "exception": false,
     "start_time": "2023-04-01T16:12:15.662916",
     "status": "completed"
    },
    "tags": []
   },
   "source": [
    "To get credit for completing this problem, and to see the official answer, run the code cell below."
   ]
  },
  {
   "cell_type": "code",
   "execution_count": 7,
   "id": "ab27697c",
   "metadata": {
    "execution": {
     "iopub.execute_input": "2023-04-01T16:12:15.691306Z",
     "iopub.status.busy": "2023-04-01T16:12:15.690969Z",
     "iopub.status.idle": "2023-04-01T16:12:15.699698Z",
     "shell.execute_reply": "2023-04-01T16:12:15.698616Z"
    },
    "papermill": {
     "duration": 0.021167,
     "end_time": "2023-04-01T16:12:15.702158",
     "exception": false,
     "start_time": "2023-04-01T16:12:15.680991",
     "status": "completed"
    },
    "tags": []
   },
   "outputs": [
    {
     "data": {
      "application/javascript": [
       "parent.postMessage({\"jupyterEvent\": \"custom.exercise_interaction\", \"data\": {\"interactionType\": 3, \"questionType\": 4, \"questionId\": \"2_PluralizationProblem\", \"learnToolsVersion\": \"0.3.4\", \"valueTowardsCompletion\": 0.0, \"failureMessage\": \"\", \"exceptionClass\": \"\", \"trace\": \"\", \"outcomeType\": 4}}, \"*\")"
      ],
      "text/plain": [
       "<IPython.core.display.Javascript object>"
      ]
     },
     "metadata": {},
     "output_type": "display_data"
    },
    {
     "data": {
      "text/markdown": [
       "<span style=\"color:#33cc99\">Solution:</span> A straightforward (and totally fine) solution is to replace the original `print` call with:\n",
       "\n",
       "```python\n",
       "if total_candies == 1:\n",
       "    print(\"Splitting 1 candy\")\n",
       "else:\n",
       "    print(\"Splitting\", total_candies, \"candies\")\n",
       "```\n",
       "\n",
       "Here's a slightly more succinct solution using a conditional expression:\n",
       "\n",
       "```python\n",
       "print(\"Splitting\", total_candies, \"candy\" if total_candies == 1 else \"candies\")\n",
       "```"
      ],
      "text/plain": [
       "Solution: A straightforward (and totally fine) solution is to replace the original `print` call with:\n",
       "\n",
       "```python\n",
       "if total_candies == 1:\n",
       "    print(\"Splitting 1 candy\")\n",
       "else:\n",
       "    print(\"Splitting\", total_candies, \"candies\")\n",
       "```\n",
       "\n",
       "Here's a slightly more succinct solution using a conditional expression:\n",
       "\n",
       "```python\n",
       "print(\"Splitting\", total_candies, \"candy\" if total_candies == 1 else \"candies\")\n",
       "```"
      ]
     },
     "metadata": {},
     "output_type": "display_data"
    }
   ],
   "source": [
    "# Check your answer (Run this code cell to receive credit!)\n",
    "q2.solution()"
   ]
  },
  {
   "cell_type": "markdown",
   "id": "29bed2f4",
   "metadata": {
    "papermill": {
     "duration": 0.00865,
     "end_time": "2023-04-01T16:12:15.719989",
     "exception": false,
     "start_time": "2023-04-01T16:12:15.711339",
     "status": "completed"
    },
    "tags": []
   },
   "source": [
    "# 3. <span title=\"A bit spicy\" style=\"color: darkgreen \">🌶️</span>\n",
    "\n",
    "In the tutorial, we talked about deciding whether we're prepared for the weather. I said that I'm safe from today's weather if...\n",
    "- I have an umbrella...\n",
    "- or if the rain isn't too heavy and I have a hood...\n",
    "- otherwise, I'm still fine unless it's raining *and* it's a workday\n",
    "\n",
    "The function below uses our first attempt at turning this logic into a Python expression. I claimed that there was a bug in that code. Can you find it?\n",
    "\n",
    "To prove that `prepared_for_weather` is buggy, come up with a set of inputs where either:\n",
    "- the function returns `False` (but should have returned `True`), or\n",
    "- the function returned `True` (but should have returned `False`).\n",
    "\n",
    "To get credit for completing this question, your code should return a <font color='#33cc33'>Correct</font> result."
   ]
  },
  {
   "cell_type": "code",
   "execution_count": 8,
   "id": "ee7bdb52",
   "metadata": {
    "execution": {
     "iopub.execute_input": "2023-04-01T16:12:15.739851Z",
     "iopub.status.busy": "2023-04-01T16:12:15.739479Z",
     "iopub.status.idle": "2023-04-01T16:12:15.748923Z",
     "shell.execute_reply": "2023-04-01T16:12:15.748232Z"
    },
    "papermill": {
     "duration": 0.021405,
     "end_time": "2023-04-01T16:12:15.750577",
     "exception": false,
     "start_time": "2023-04-01T16:12:15.729172",
     "status": "completed"
    },
    "tags": []
   },
   "outputs": [
    {
     "name": "stdout",
     "output_type": "stream",
     "text": [
      "False\n"
     ]
    },
    {
     "data": {
      "application/javascript": [
       "parent.postMessage({\"jupyterEvent\": \"custom.exercise_interaction\", \"data\": {\"outcomeType\": 1, \"valueTowardsCompletion\": 0.2, \"interactionType\": 1, \"questionType\": 1, \"questionId\": \"3_WeatherDebug\", \"learnToolsVersion\": \"0.3.4\", \"failureMessage\": \"\", \"exceptionClass\": \"\", \"trace\": \"\"}}, \"*\")"
      ],
      "text/plain": [
       "<IPython.core.display.Javascript object>"
      ]
     },
     "metadata": {},
     "output_type": "display_data"
    },
    {
     "data": {
      "text/markdown": [
       "<span style=\"color:#33cc33\">Correct:</span> \n",
       "\n",
       "One example of a failing test case is:\n",
       "\n",
       "```python\n",
       "have_umbrella = False\n",
       "rain_level = 0.0\n",
       "have_hood = False\n",
       "is_workday = False\n",
       "```\n",
       "\n",
       "Clearly we're prepared for the weather in this case. It's not raining. Not only that, it's not a workday, so we don't even need to leave the house! But our function will return False on these inputs.\n",
       "\n",
       "The key problem is that Python implictly parenthesizes the last part as:\n",
       "\n",
       "```python\n",
       "(not (rain_level > 0)) and is_workday\n",
       "```\n",
       "\n",
       "Whereas what we were trying to express would look more like:\n",
       "\n",
       "```python\n",
       "not (rain_level > 0 and is_workday)\n",
       "```\n"
      ],
      "text/plain": [
       "Correct: \n",
       "\n",
       "One example of a failing test case is:\n",
       "\n",
       "```python\n",
       "have_umbrella = False\n",
       "rain_level = 0.0\n",
       "have_hood = False\n",
       "is_workday = False\n",
       "```\n",
       "\n",
       "Clearly we're prepared for the weather in this case. It's not raining. Not only that, it's not a workday, so we don't even need to leave the house! But our function will return False on these inputs.\n",
       "\n",
       "The key problem is that Python implictly parenthesizes the last part as:\n",
       "\n",
       "```python\n",
       "(not (rain_level > 0)) and is_workday\n",
       "```\n",
       "\n",
       "Whereas what we were trying to express would look more like:\n",
       "\n",
       "```python\n",
       "not (rain_level > 0 and is_workday)\n",
       "```"
      ]
     },
     "metadata": {},
     "output_type": "display_data"
    }
   ],
   "source": [
    "def prepared_for_weather(have_umbrella, rain_level, have_hood, is_workday):\n",
    "    # Don't change this code. Our goal is just to find the bug, not fix it!\n",
    "    return have_umbrella or rain_level < 5 and have_hood or not rain_level > 0 and is_workday\n",
    "\n",
    "# Change the values of these inputs so they represent a case where prepared_for_weather\n",
    "# returns the wrong answer.\n",
    "have_umbrella = False\n",
    "rain_level = 6.0\n",
    "have_hood = True\n",
    "is_workday = False\n",
    "\n",
    "# Check what the function returns given the current values of the variables above\n",
    "actual = prepared_for_weather(have_umbrella, rain_level, have_hood, is_workday)\n",
    "print(actual)\n",
    "\n",
    "# Check your answer\n",
    "q3.check()"
   ]
  },
  {
   "cell_type": "code",
   "execution_count": 9,
   "id": "4e894803",
   "metadata": {
    "execution": {
     "iopub.execute_input": "2023-04-01T16:12:15.771576Z",
     "iopub.status.busy": "2023-04-01T16:12:15.771211Z",
     "iopub.status.idle": "2023-04-01T16:12:15.774470Z",
     "shell.execute_reply": "2023-04-01T16:12:15.773822Z"
    },
    "papermill": {
     "duration": 0.016217,
     "end_time": "2023-04-01T16:12:15.776300",
     "exception": false,
     "start_time": "2023-04-01T16:12:15.760083",
     "status": "completed"
    },
    "tags": []
   },
   "outputs": [],
   "source": [
    "#q3.hint()\n",
    "#q3.solution()"
   ]
  },
  {
   "cell_type": "markdown",
   "id": "24560791",
   "metadata": {
    "papermill": {
     "duration": 0.00909,
     "end_time": "2023-04-01T16:12:15.795022",
     "exception": false,
     "start_time": "2023-04-01T16:12:15.785932",
     "status": "completed"
    },
    "tags": []
   },
   "source": [
    "# 4.\n",
    "\n",
    "The function `is_negative` below is implemented correctly - it returns True if the given number is negative and False otherwise.\n",
    "\n",
    "However, it's more verbose than it needs to be. We can actually reduce the number of lines of code in this function by *75%* while keeping the same behaviour. \n",
    "\n",
    "See if you can come up with an equivalent body that uses just **one line** of code, and put it in the function `concise_is_negative`. (HINT: you don't even need Python's ternary syntax)"
   ]
  },
  {
   "cell_type": "code",
   "execution_count": 10,
   "id": "9ada2237",
   "metadata": {
    "execution": {
     "iopub.execute_input": "2023-04-01T16:12:15.816139Z",
     "iopub.status.busy": "2023-04-01T16:12:15.815770Z",
     "iopub.status.idle": "2023-04-01T16:12:15.824094Z",
     "shell.execute_reply": "2023-04-01T16:12:15.823131Z"
    },
    "papermill": {
     "duration": 0.021472,
     "end_time": "2023-04-01T16:12:15.826188",
     "exception": false,
     "start_time": "2023-04-01T16:12:15.804716",
     "status": "completed"
    },
    "tags": []
   },
   "outputs": [
    {
     "data": {
      "application/javascript": [
       "parent.postMessage({\"jupyterEvent\": \"custom.exercise_interaction\", \"data\": {\"outcomeType\": 1, \"valueTowardsCompletion\": 0.2, \"interactionType\": 1, \"questionType\": 2, \"questionId\": \"4_ConciseIsNegative\", \"learnToolsVersion\": \"0.3.4\", \"failureMessage\": \"\", \"exceptionClass\": \"\", \"trace\": \"\"}}, \"*\")"
      ],
      "text/plain": [
       "<IPython.core.display.Javascript object>"
      ]
     },
     "metadata": {},
     "output_type": "display_data"
    },
    {
     "data": {
      "text/markdown": [
       "<span style=\"color:#33cc33\">Correct</span>"
      ],
      "text/plain": [
       "Correct"
      ]
     },
     "metadata": {},
     "output_type": "display_data"
    }
   ],
   "source": [
    "def is_negative(number):\n",
    "    if number < 0:\n",
    "        return True\n",
    "    else:\n",
    "        return False\n",
    "\n",
    "def concise_is_negative(number):\n",
    "    pass # Your code goes here (try to keep it to one line!)\n",
    "    return True if number < 0 else False\n",
    "\n",
    "# Check your answer\n",
    "q4.check()"
   ]
  },
  {
   "cell_type": "code",
   "execution_count": 11,
   "id": "e6894f42",
   "metadata": {
    "execution": {
     "iopub.execute_input": "2023-04-01T16:12:15.848386Z",
     "iopub.status.busy": "2023-04-01T16:12:15.847484Z",
     "iopub.status.idle": "2023-04-01T16:12:15.853358Z",
     "shell.execute_reply": "2023-04-01T16:12:15.850978Z"
    },
    "papermill": {
     "duration": 0.020436,
     "end_time": "2023-04-01T16:12:15.856438",
     "exception": false,
     "start_time": "2023-04-01T16:12:15.836002",
     "status": "completed"
    },
    "tags": []
   },
   "outputs": [],
   "source": [
    "#q4.hint()\n",
    "#q4.solution()"
   ]
  },
  {
   "cell_type": "markdown",
   "id": "5782a2e8",
   "metadata": {
    "papermill": {
     "duration": 0.009723,
     "end_time": "2023-04-01T16:12:15.876848",
     "exception": false,
     "start_time": "2023-04-01T16:12:15.867125",
     "status": "completed"
    },
    "tags": []
   },
   "source": [
    "# 5a.\n",
    "\n",
    "The boolean variables `ketchup`, `mustard` and `onion` represent whether a customer wants a particular topping on their hot dog. We want to implement a number of boolean functions that correspond to some yes-or-no questions about the customer's order. For example:"
   ]
  },
  {
   "cell_type": "code",
   "execution_count": 12,
   "id": "9cf12253",
   "metadata": {
    "execution": {
     "iopub.execute_input": "2023-04-01T16:12:15.897782Z",
     "iopub.status.busy": "2023-04-01T16:12:15.897407Z",
     "iopub.status.idle": "2023-04-01T16:12:15.904086Z",
     "shell.execute_reply": "2023-04-01T16:12:15.901935Z"
    },
    "papermill": {
     "duration": 0.020941,
     "end_time": "2023-04-01T16:12:15.907416",
     "exception": false,
     "start_time": "2023-04-01T16:12:15.886475",
     "status": "completed"
    },
    "tags": []
   },
   "outputs": [],
   "source": [
    "def onionless(ketchup, mustard, onion):\n",
    "    \"\"\"Return whether the customer doesn't want onions.\n",
    "    \"\"\"\n",
    "    return not onion"
   ]
  },
  {
   "cell_type": "code",
   "execution_count": 13,
   "id": "5ce97607",
   "metadata": {
    "execution": {
     "iopub.execute_input": "2023-04-01T16:12:15.930399Z",
     "iopub.status.busy": "2023-04-01T16:12:15.930030Z",
     "iopub.status.idle": "2023-04-01T16:12:15.941571Z",
     "shell.execute_reply": "2023-04-01T16:12:15.940434Z"
    },
    "papermill": {
     "duration": 0.02568,
     "end_time": "2023-04-01T16:12:15.943722",
     "exception": false,
     "start_time": "2023-04-01T16:12:15.918042",
     "status": "completed"
    },
    "tags": []
   },
   "outputs": [
    {
     "data": {
      "application/javascript": [
       "parent.postMessage({\"jupyterEvent\": \"custom.exercise_interaction\", \"data\": {\"outcomeType\": 1, \"valueTowardsCompletion\": 0.2, \"interactionType\": 1, \"questionType\": 2, \"questionId\": \"5.1_AllToppings\", \"learnToolsVersion\": \"0.3.4\", \"failureMessage\": \"\", \"exceptionClass\": \"\", \"trace\": \"\"}}, \"*\")"
      ],
      "text/plain": [
       "<IPython.core.display.Javascript object>"
      ]
     },
     "metadata": {},
     "output_type": "display_data"
    },
    {
     "data": {
      "text/markdown": [
       "<span style=\"color:#33cc33\">Correct</span>"
      ],
      "text/plain": [
       "Correct"
      ]
     },
     "metadata": {},
     "output_type": "display_data"
    }
   ],
   "source": [
    "def wants_all_toppings(ketchup, mustard, onion):\n",
    "    \"\"\"Return whether the customer wants \"the works\" (all 3 toppings)\n",
    "    \"\"\"\n",
    "    return ketchup and mustard and onion\n",
    "\n",
    "# Check your answer\n",
    "q5.a.check()"
   ]
  },
  {
   "cell_type": "code",
   "execution_count": 14,
   "id": "a955dbab",
   "metadata": {
    "execution": {
     "iopub.execute_input": "2023-04-01T16:12:15.966195Z",
     "iopub.status.busy": "2023-04-01T16:12:15.965790Z",
     "iopub.status.idle": "2023-04-01T16:12:15.971224Z",
     "shell.execute_reply": "2023-04-01T16:12:15.969583Z"
    },
    "papermill": {
     "duration": 0.020487,
     "end_time": "2023-04-01T16:12:15.974485",
     "exception": false,
     "start_time": "2023-04-01T16:12:15.953998",
     "status": "completed"
    },
    "tags": []
   },
   "outputs": [],
   "source": [
    "#q5.a.hint()\n",
    "#q5.a.solution()"
   ]
  },
  {
   "cell_type": "markdown",
   "id": "d23985a1",
   "metadata": {
    "papermill": {
     "duration": 0.009551,
     "end_time": "2023-04-01T16:12:15.994302",
     "exception": false,
     "start_time": "2023-04-01T16:12:15.984751",
     "status": "completed"
    },
    "tags": []
   },
   "source": [
    "# 5b.\n",
    "\n",
    "For the next function, fill in the body to match the English description in the docstring. "
   ]
  },
  {
   "cell_type": "code",
   "execution_count": 15,
   "id": "69afbbd4",
   "metadata": {
    "execution": {
     "iopub.execute_input": "2023-04-01T16:12:16.016019Z",
     "iopub.status.busy": "2023-04-01T16:12:16.015632Z",
     "iopub.status.idle": "2023-04-01T16:12:16.026909Z",
     "shell.execute_reply": "2023-04-01T16:12:16.025574Z"
    },
    "papermill": {
     "duration": 0.024696,
     "end_time": "2023-04-01T16:12:16.029104",
     "exception": false,
     "start_time": "2023-04-01T16:12:16.004408",
     "status": "completed"
    },
    "tags": []
   },
   "outputs": [
    {
     "data": {
      "application/javascript": [
       "parent.postMessage({\"jupyterEvent\": \"custom.exercise_interaction\", \"data\": {\"outcomeType\": 1, \"valueTowardsCompletion\": 0.2, \"interactionType\": 1, \"questionType\": 2, \"questionId\": \"5.2_PlainDog\", \"learnToolsVersion\": \"0.3.4\", \"failureMessage\": \"\", \"exceptionClass\": \"\", \"trace\": \"\"}}, \"*\")"
      ],
      "text/plain": [
       "<IPython.core.display.Javascript object>"
      ]
     },
     "metadata": {},
     "output_type": "display_data"
    },
    {
     "data": {
      "text/markdown": [
       "<span style=\"color:#33cc33\">Correct:</span> \n",
       "\n",
       "One solution looks like:\n",
       "```python\n",
       "return not ketchup and not mustard and not onion\n",
       "```\n",
       "\n",
       "We can also [\"factor out\" the nots](https://en.wikipedia.org/wiki/De_Morgan%27s_laws) to get:\n",
       "\n",
       "```python\n",
       "return not (ketchup or mustard or onion)\n",
       "```"
      ],
      "text/plain": [
       "Correct: \n",
       "\n",
       "One solution looks like:\n",
       "```python\n",
       "return not ketchup and not mustard and not onion\n",
       "```\n",
       "\n",
       "We can also [\"factor out\" the nots](https://en.wikipedia.org/wiki/De_Morgan%27s_laws) to get:\n",
       "\n",
       "```python\n",
       "return not (ketchup or mustard or onion)\n",
       "```"
      ]
     },
     "metadata": {},
     "output_type": "display_data"
    }
   ],
   "source": [
    "def wants_plain_hotdog(ketchup, mustard, onion):\n",
    "    \"\"\"Return whether the customer wants a plain hot dog with no toppings.\n",
    "    \"\"\"\n",
    "    return not (ketchup or mustard or onion)\n",
    "\n",
    "# Check your answer\n",
    "q5.b.check()"
   ]
  },
  {
   "cell_type": "code",
   "execution_count": 16,
   "id": "8ca5dfac",
   "metadata": {
    "execution": {
     "iopub.execute_input": "2023-04-01T16:12:16.051722Z",
     "iopub.status.busy": "2023-04-01T16:12:16.051331Z",
     "iopub.status.idle": "2023-04-01T16:12:16.056704Z",
     "shell.execute_reply": "2023-04-01T16:12:16.055258Z"
    },
    "papermill": {
     "duration": 0.019658,
     "end_time": "2023-04-01T16:12:16.059461",
     "exception": false,
     "start_time": "2023-04-01T16:12:16.039803",
     "status": "completed"
    },
    "tags": []
   },
   "outputs": [],
   "source": [
    "#q5.b.hint()\n",
    "#q5.b.solution()"
   ]
  },
  {
   "cell_type": "markdown",
   "id": "544809c8",
   "metadata": {
    "papermill": {
     "duration": 0.010005,
     "end_time": "2023-04-01T16:12:16.079980",
     "exception": false,
     "start_time": "2023-04-01T16:12:16.069975",
     "status": "completed"
    },
    "tags": []
   },
   "source": [
    "# 5c.\n",
    "\n",
    "You know what to do: for the next function, fill in the body to match the English description in the docstring."
   ]
  },
  {
   "cell_type": "code",
   "execution_count": 17,
   "id": "800992a5",
   "metadata": {
    "execution": {
     "iopub.execute_input": "2023-04-01T16:12:16.102253Z",
     "iopub.status.busy": "2023-04-01T16:12:16.101779Z",
     "iopub.status.idle": "2023-04-01T16:12:16.112790Z",
     "shell.execute_reply": "2023-04-01T16:12:16.111083Z"
    },
    "papermill": {
     "duration": 0.02562,
     "end_time": "2023-04-01T16:12:16.115757",
     "exception": false,
     "start_time": "2023-04-01T16:12:16.090137",
     "status": "completed"
    },
    "tags": []
   },
   "outputs": [
    {
     "data": {
      "application/javascript": [
       "parent.postMessage({\"jupyterEvent\": \"custom.exercise_interaction\", \"data\": {\"outcomeType\": 1, \"valueTowardsCompletion\": 0.2, \"interactionType\": 1, \"questionType\": 2, \"questionId\": \"5.3_OneSauce\", \"learnToolsVersion\": \"0.3.4\", \"failureMessage\": \"\", \"exceptionClass\": \"\", \"trace\": \"\"}}, \"*\")"
      ],
      "text/plain": [
       "<IPython.core.display.Javascript object>"
      ]
     },
     "metadata": {},
     "output_type": "display_data"
    },
    {
     "data": {
      "text/markdown": [
       "<span style=\"color:#33cc33\">Correct</span>"
      ],
      "text/plain": [
       "Correct"
      ]
     },
     "metadata": {},
     "output_type": "display_data"
    }
   ],
   "source": [
    "def exactly_one_sauce(ketchup, mustard, onion):\n",
    "    \"\"\"Return whether the customer wants either ketchup or mustard, but not both.\n",
    "    (You may be familiar with this operation under the name \"exclusive or\")\n",
    "    \"\"\"\n",
    "    return ketchup and not mustard or not ketchup and mustard\n",
    "\n",
    "# Check your answer\n",
    "q5.c.check()"
   ]
  },
  {
   "cell_type": "code",
   "execution_count": 18,
   "id": "1b6cf3a1",
   "metadata": {
    "execution": {
     "iopub.execute_input": "2023-04-01T16:12:16.139133Z",
     "iopub.status.busy": "2023-04-01T16:12:16.138701Z",
     "iopub.status.idle": "2023-04-01T16:12:16.143811Z",
     "shell.execute_reply": "2023-04-01T16:12:16.142210Z"
    },
    "papermill": {
     "duration": 0.019716,
     "end_time": "2023-04-01T16:12:16.146432",
     "exception": false,
     "start_time": "2023-04-01T16:12:16.126716",
     "status": "completed"
    },
    "tags": []
   },
   "outputs": [],
   "source": [
    "#q5.c.hint()\n",
    "#q5.c.solution()"
   ]
  },
  {
   "cell_type": "markdown",
   "id": "1f4e9a7c",
   "metadata": {
    "papermill": {
     "duration": 0.009931,
     "end_time": "2023-04-01T16:12:16.166930",
     "exception": false,
     "start_time": "2023-04-01T16:12:16.156999",
     "status": "completed"
    },
    "tags": []
   },
   "source": [
    "# 6. <span title=\"A bit spicy\" style=\"color: darkgreen \">🌶️</span>\n",
    "\n",
    "We’ve seen that calling `bool()` on an integer returns `False` if it’s equal to 0 and `True` otherwise. What happens if we call `int()` on a bool? Try it out in the notebook cell below.\n",
    "\n",
    "Can you take advantage of this to write a succinct function that corresponds to the English sentence \"does the customer want exactly one topping?\"?"
   ]
  },
  {
   "cell_type": "code",
   "execution_count": 19,
   "id": "7944e058",
   "metadata": {
    "execution": {
     "iopub.execute_input": "2023-04-01T16:12:16.189842Z",
     "iopub.status.busy": "2023-04-01T16:12:16.189400Z",
     "iopub.status.idle": "2023-04-01T16:12:16.199187Z",
     "shell.execute_reply": "2023-04-01T16:12:16.197756Z"
    },
    "papermill": {
     "duration": 0.024833,
     "end_time": "2023-04-01T16:12:16.202245",
     "exception": false,
     "start_time": "2023-04-01T16:12:16.177412",
     "status": "completed"
    },
    "tags": []
   },
   "outputs": [
    {
     "data": {
      "application/javascript": [
       "parent.postMessage({\"jupyterEvent\": \"custom.exercise_interaction\", \"data\": {\"outcomeType\": 1, \"valueTowardsCompletion\": 0.2, \"interactionType\": 1, \"questionType\": 2, \"questionId\": \"6_OneTopping\", \"learnToolsVersion\": \"0.3.4\", \"failureMessage\": \"\", \"exceptionClass\": \"\", \"trace\": \"\"}}, \"*\")"
      ],
      "text/plain": [
       "<IPython.core.display.Javascript object>"
      ]
     },
     "metadata": {},
     "output_type": "display_data"
    },
    {
     "data": {
      "text/markdown": [
       "<span style=\"color:#33cc33\">Correct:</span> \n",
       "\n",
       "This condition would be pretty complicated to express using just `and`, `or` and `not`, but using boolean-to-integer conversion gives us this short solution:\n",
       "```python\n",
       "return (int(ketchup) + int(mustard) + int(onion)) == 1\n",
       "```\n",
       "\n",
       "Fun fact: we don't technically need to call `int` on the arguments. Just by doing addition with booleans, Python implicitly does the integer conversion. So we could also write...\n",
       "\n",
       "```python\n",
       "return (ketchup + mustard + onion) == 1\n",
       "```"
      ],
      "text/plain": [
       "Correct: \n",
       "\n",
       "This condition would be pretty complicated to express using just `and`, `or` and `not`, but using boolean-to-integer conversion gives us this short solution:\n",
       "```python\n",
       "return (int(ketchup) + int(mustard) + int(onion)) == 1\n",
       "```\n",
       "\n",
       "Fun fact: we don't technically need to call `int` on the arguments. Just by doing addition with booleans, Python implicitly does the integer conversion. So we could also write...\n",
       "\n",
       "```python\n",
       "return (ketchup + mustard + onion) == 1\n",
       "```"
      ]
     },
     "metadata": {},
     "output_type": "display_data"
    }
   ],
   "source": [
    "def exactly_one_topping(ketchup, mustard, onion):\n",
    "    \"\"\"Return whether the customer wants exactly one of the three available toppings\n",
    "    on their hot dog.\n",
    "    \"\"\"\n",
    "    return (ketchup + mustard + onion) == 1\n",
    "\n",
    "# Check your answer\n",
    "q6.check()"
   ]
  },
  {
   "cell_type": "code",
   "execution_count": 20,
   "id": "0155f81d",
   "metadata": {
    "execution": {
     "iopub.execute_input": "2023-04-01T16:12:16.226208Z",
     "iopub.status.busy": "2023-04-01T16:12:16.225780Z",
     "iopub.status.idle": "2023-04-01T16:12:16.231844Z",
     "shell.execute_reply": "2023-04-01T16:12:16.229971Z"
    },
    "papermill": {
     "duration": 0.021518,
     "end_time": "2023-04-01T16:12:16.234628",
     "exception": false,
     "start_time": "2023-04-01T16:12:16.213110",
     "status": "completed"
    },
    "tags": []
   },
   "outputs": [],
   "source": [
    "#q6.hint()\n",
    "#q6.solution()"
   ]
  },
  {
   "cell_type": "markdown",
   "id": "ce057e68",
   "metadata": {
    "papermill": {
     "duration": 0.010845,
     "end_time": "2023-04-01T16:12:16.256799",
     "exception": false,
     "start_time": "2023-04-01T16:12:16.245954",
     "status": "completed"
    },
    "tags": []
   },
   "source": [
    "# 7. <span title=\"A bit spicy\" style=\"color: darkgreen \">🌶️</span> (Optional)\n",
    "\n",
    "In this problem we'll be working with a simplified version of [blackjack](https://en.wikipedia.org/wiki/Blackjack) (aka twenty-one). In this version there is one player (who you'll control) and a dealer. Play proceeds as follows:\n",
    "\n",
    "- The player is dealt two face-up cards. The dealer is dealt one face-up card.\n",
    "- The player may ask to be dealt another card ('hit') as many times as they wish. If the sum of their cards exceeds 21, they lose the round immediately.\n",
    "- The dealer then deals additional cards to himself until either:\n",
    "    - the sum of the dealer's cards exceeds 21, in which case the player wins the round\n",
    "    - the sum of the dealer's cards is greater than or equal to 17. If the player's total is greater than the dealer's, the player wins. Otherwise, the dealer wins (even in case of a tie).\n",
    "    \n",
    "When calculating the sum of cards, Jack, Queen, and King count for 10. Aces can count as 1 or 11 (when referring to a player's \"total\" above, we mean the largest total that can be made without exceeding 21. So e.g. A+8 = 19, A+8+8 = 17)\n",
    "\n",
    "For this problem, you'll write a function representing the player's decision-making strategy in this game. We've provided a very unintelligent implementation below:"
   ]
  },
  {
   "cell_type": "code",
   "execution_count": 21,
   "id": "7b1567c3",
   "metadata": {
    "execution": {
     "iopub.execute_input": "2023-04-01T16:12:16.280706Z",
     "iopub.status.busy": "2023-04-01T16:12:16.280228Z",
     "iopub.status.idle": "2023-04-01T16:12:16.285613Z",
     "shell.execute_reply": "2023-04-01T16:12:16.284597Z"
    },
    "papermill": {
     "duration": 0.019749,
     "end_time": "2023-04-01T16:12:16.287701",
     "exception": false,
     "start_time": "2023-04-01T16:12:16.267952",
     "status": "completed"
    },
    "tags": []
   },
   "outputs": [],
   "source": [
    "def should_hit(dealer_total, player_total, player_low_aces, player_high_aces):\n",
    "    \"\"\"Return True if the player should hit (request another card) given the current game\n",
    "    state, or False if the player should stay.\n",
    "    When calculating a hand's total value, we count aces as \"high\" (with value 11) if doing so\n",
    "    doesn't bring the total above 21, otherwise we count them as low (with value 1). \n",
    "    For example, if the player's hand is {A, A, A, 7}, we will count it as 11 + 1 + 1 + 7,\n",
    "    and therefore set player_total=20, player_low_aces=2, player_high_aces=1.\n",
    "    \"\"\"\n",
    "    return False"
   ]
  },
  {
   "cell_type": "markdown",
   "id": "7754e9b4",
   "metadata": {
    "papermill": {
     "duration": 0.011173,
     "end_time": "2023-04-01T16:12:16.310863",
     "exception": false,
     "start_time": "2023-04-01T16:12:16.299690",
     "status": "completed"
    },
    "tags": []
   },
   "source": [
    "This very conservative agent *always* sticks with the hand of two cards that they're dealt.\n",
    "\n",
    "We'll be simulating games between your player agent and our own dealer agent by calling your function.\n",
    "\n",
    "Try running the function below to see an example of a simulated game:"
   ]
  },
  {
   "cell_type": "code",
   "execution_count": 22,
   "id": "8968c6c8",
   "metadata": {
    "execution": {
     "iopub.execute_input": "2023-04-01T16:12:16.336588Z",
     "iopub.status.busy": "2023-04-01T16:12:16.336140Z",
     "iopub.status.idle": "2023-04-01T16:12:16.341995Z",
     "shell.execute_reply": "2023-04-01T16:12:16.340465Z"
    },
    "papermill": {
     "duration": 0.021343,
     "end_time": "2023-04-01T16:12:16.344731",
     "exception": false,
     "start_time": "2023-04-01T16:12:16.323388",
     "status": "completed"
    },
    "tags": []
   },
   "outputs": [
    {
     "name": "stdout",
     "output_type": "stream",
     "text": [
      "Player starts with 5 and Q (total = 15)\n",
      "Dealer starts with A\n",
      "\n",
      "__Player's turn__\n",
      "Player stays\n",
      "\n",
      "__Dealer's turn__\n",
      "Dealer hits and receives K. (total = 21)\n",
      "Dealer stands.\n",
      "Dealer wins. 21 >= 15\n"
     ]
    }
   ],
   "source": [
    "q7.simulate_one_game()"
   ]
  },
  {
   "cell_type": "markdown",
   "id": "303d7eff",
   "metadata": {
    "papermill": {
     "duration": 0.01031,
     "end_time": "2023-04-01T16:12:16.365718",
     "exception": false,
     "start_time": "2023-04-01T16:12:16.355408",
     "status": "completed"
    },
    "tags": []
   },
   "source": [
    "The real test of your agent's mettle is their average win rate over many games. Try calling the function below to simulate 50000 games of blackjack (it may take a couple seconds):"
   ]
  },
  {
   "cell_type": "code",
   "execution_count": 23,
   "id": "0d02c711",
   "metadata": {
    "execution": {
     "iopub.execute_input": "2023-04-01T16:12:16.388415Z",
     "iopub.status.busy": "2023-04-01T16:12:16.388048Z",
     "iopub.status.idle": "2023-04-01T16:12:18.050890Z",
     "shell.execute_reply": "2023-04-01T16:12:18.049440Z"
    },
    "papermill": {
     "duration": 1.677146,
     "end_time": "2023-04-01T16:12:18.053283",
     "exception": false,
     "start_time": "2023-04-01T16:12:16.376137",
     "status": "completed"
    },
    "tags": []
   },
   "outputs": [
    {
     "name": "stdout",
     "output_type": "stream",
     "text": [
      "Player won 20513 out of 50000 games (win rate = 41.0%)\n"
     ]
    }
   ],
   "source": [
    "def should_hit(dealer_total, player_total, player_low_aces, player_high_aces):\n",
    "    \"\"\"Return True if the player should hit (request another card) given the current game\n",
    "    state, or False if the player should stay.\n",
    "    When calculating a hand's total value, we count aces as \"high\" (with value 11) if doing so\n",
    "    doesn't bring the total above 21, otherwise we count them as low (with value 1). \n",
    "    For example, if the player's hand is {A, A, A, 7}, we will count it as 11 + 1 + 1 + 7,\n",
    "    and therefore set player_total=20, player_low_aces=2, player_high_aces=1.\n",
    "    \"\"\"\n",
    "    if player_total < 16 and (player_low_aces + player_high_aces)  == 0:\n",
    "        return True\n",
    "    elif player_total >= 16:\n",
    "        return False\n",
    "\n",
    "q7.simulate(n_games=50000)"
   ]
  },
  {
   "cell_type": "code",
   "execution_count": 24,
   "id": "b3e2c7c9",
   "metadata": {
    "execution": {
     "iopub.execute_input": "2023-04-01T16:12:18.077166Z",
     "iopub.status.busy": "2023-04-01T16:12:18.076756Z",
     "iopub.status.idle": "2023-04-01T16:12:19.719715Z",
     "shell.execute_reply": "2023-04-01T16:12:19.718511Z"
    },
    "papermill": {
     "duration": 1.658021,
     "end_time": "2023-04-01T16:12:19.722279",
     "exception": false,
     "start_time": "2023-04-01T16:12:18.064258",
     "status": "completed"
    },
    "tags": []
   },
   "outputs": [
    {
     "name": "stdout",
     "output_type": "stream",
     "text": [
      "Player won 20531 out of 50000 games (win rate = 41.1%)\n"
     ]
    }
   ],
   "source": [
    "q7.simulate(n_games=50000)"
   ]
  },
  {
   "cell_type": "markdown",
   "id": "15781913",
   "metadata": {
    "papermill": {
     "duration": 0.011808,
     "end_time": "2023-04-01T16:12:19.745862",
     "exception": false,
     "start_time": "2023-04-01T16:12:19.734054",
     "status": "completed"
    },
    "tags": []
   },
   "source": [
    "Our dumb agent that completely ignores the game state still manages to win shockingly often!\n",
    "\n",
    "Try adding some more smarts to the `should_hit` function and see how it affects the results."
   ]
  },
  {
   "cell_type": "markdown",
   "id": "64d4445f",
   "metadata": {
    "papermill": {
     "duration": 0.011528,
     "end_time": "2023-04-01T16:12:19.769934",
     "exception": false,
     "start_time": "2023-04-01T16:12:19.758406",
     "status": "completed"
    },
    "tags": []
   },
   "source": [
    "# Keep Going\n",
    "\n",
    "Learn about **[lists and tuples](https://www.kaggle.com/colinmorris/lists)** to handle multiple items of data in a systematic way."
   ]
  },
  {
   "cell_type": "markdown",
   "id": "a0866891",
   "metadata": {
    "papermill": {
     "duration": 0.010473,
     "end_time": "2023-04-01T16:12:19.792147",
     "exception": false,
     "start_time": "2023-04-01T16:12:19.781674",
     "status": "completed"
    },
    "tags": []
   },
   "source": [
    "---\n",
    "\n",
    "\n",
    "\n",
    "\n",
    "*Have questions or comments? Visit the [course discussion forum](https://www.kaggle.com/learn/python/discussion) to chat with other learners.*"
   ]
  }
 ],
 "metadata": {
  "kernelspec": {
   "display_name": "Python 3",
   "language": "python",
   "name": "python3"
  },
  "language_info": {
   "codemirror_mode": {
    "name": "ipython",
    "version": 3
   },
   "file_extension": ".py",
   "mimetype": "text/x-python",
   "name": "python",
   "nbconvert_exporter": "python",
   "pygments_lexer": "ipython3",
   "version": "3.7.12"
  },
  "papermill": {
   "default_parameters": {},
   "duration": 15.218674,
   "end_time": "2023-04-01T16:12:20.525741",
   "environment_variables": {},
   "exception": null,
   "input_path": "__notebook__.ipynb",
   "output_path": "__notebook__.ipynb",
   "parameters": {},
   "start_time": "2023-04-01T16:12:05.307067",
   "version": "2.4.0"
  }
 },
 "nbformat": 4,
 "nbformat_minor": 5
}
