{
 "cells": [
  {
   "cell_type": "markdown",
   "metadata": {},
   "source": [
    "# Binary Classification with a Bank Churn Dataset\n",
    "## Playground Series - Season 4, Episode 1"
   ]
  },
  {
   "cell_type": "code",
   "execution_count": 1,
   "metadata": {},
   "outputs": [],
   "source": [
    "#imports\n",
    "import pandas as pd\n",
    "import numpy as np\n",
    "import matplotlib.pyplot as plt\n",
    "import seaborn as sns\n",
    "import warnings\n",
    "import xgboost as xgb\n",
    "import optuna\n",
    "from datetime import datetime as dt\n",
    "\n",
    "# STATISTICS\n",
    "from statsmodels.graphics.gofplots import qqplot\n",
    "\n",
    "#notebook settings\n",
    "pd.set_option('display.max_columns', None)\n",
    "warnings.filterwarnings('ignore')\n",
    "\n",
    "#category encoders\n",
    "from category_encoders import BinaryEncoder\n",
    "\n",
    "#sklearn libraries\n",
    "from sklearn.preprocessing import StandardScaler, MinMaxScaler, Normalizer, RobustScaler\n",
    "from sklearn.preprocessing import KBinsDiscretizer, Binarizer, LabelEncoder, OneHotEncoder, TargetEncoder, LabelEncoder, OrdinalEncoder\n",
    "from sklearn.impute import SimpleImputer\n",
    "# metrics\n",
    "from sklearn.metrics import confusion_matrix,roc_auc_score,roc_curve,classification_report,auc, accuracy_score\n",
    "# imbalanced datasets\n",
    "from imblearn.over_sampling import SMOTE,RandomOverSampler\n",
    "from imblearn.under_sampling import TomekLinks,RandomUnderSampler\n",
    "# models\n",
    "from sklearn.linear_model import LogisticRegression\n",
    "from sklearn.ensemble import RandomForestClassifier, GradientBoostingClassifier, VotingClassifier, AdaBoostClassifier\n",
    "from sklearn.tree import DecisionTreeClassifier, DecisionTreeRegressor\n",
    "from sklearn.neighbors import KNeighborsClassifier\n",
    "from sklearn.svm import SVC\n",
    "# feature selection\n",
    "from sklearn.feature_selection import SelectKBest, chi2, f_classif, SelectFromModel\n",
    "# model selection\n",
    "from sklearn.model_selection import train_test_split, cross_val_score, learning_curve\n",
    "from sklearn.model_selection import GridSearchCV, RandomizedSearchCV, StratifiedKFold, KFold\n",
    "# pipelines\n",
    "from sklearn.pipeline import make_pipeline, Pipeline\n",
    "from sklearn.base import BaseEstimator, ClassifierMixin, TransformerMixin\n",
    "from sklearn.compose import ColumnTransformer, make_column_transformer\n",
    "from sklearn.utils import class_weight"
   ]
  },
  {
   "cell_type": "markdown",
   "metadata": {},
   "source": [
    "## READING FILES"
   ]
  },
  {
   "cell_type": "markdown",
   "metadata": {},
   "source": [
    "**Bank Customer Churn Dataset**\n",
    "\n",
    "The Bank Customer Churn Dataset is a commonly used dataset for predicting customer churn in the banking industry. It contains information on bank customers who either left the bank or continue to be customers. The dataset includes the following attributes:\n",
    "- Customer ID: A unique identifier for each customer.\n",
    "- Surname: The customer's surname or last name.\n",
    "- Credit Score: A numerical value representing the customer's credit score.\n",
    "- Geography: The country where the customer resides (France, Spain, or Germany).\n",
    "- Gender: The customer's gender (Male or Female).\n",
    "- Age: The customer's age.\n",
    "- Tenure: The number of years the customer has been with the bank.\n",
    "- Balance: The customer's account balance.\n",
    "- NumOfProducts: The number of bank products the customer uses (e.g., savings account, credit card).\n",
    "- HasCrCard: Whether the customer has a credit card (1 = yes, 0 = no).\n",
    "- IsActiveMember: Whether the customer is an active member (1 = yes, 0 = no).\n",
    "- EstimatedSalary: The estimated salary of the customer.\n",
    "- Exited: Whether the customer has churned (1 = yes, 0 = no)."
   ]
  },
  {
   "cell_type": "code",
   "execution_count": 2,
   "metadata": {},
   "outputs": [],
   "source": [
    "train_df = pd.read_csv('data/train.csv', index_col='id')\n",
    "test_df = pd.read_csv('data/test.csv',index_col='id')\n",
    "submission = pd.read_csv('data/sample_submission.csv')"
   ]
  },
  {
   "cell_type": "markdown",
   "metadata": {},
   "source": [
    "## 1) EDA - Exploratory Data Analysis"
   ]
  },
  {
   "cell_type": "markdown",
   "metadata": {},
   "source": [
    "### 1.1) Checking for missing values"
   ]
  },
  {
   "cell_type": "code",
   "execution_count": 3,
   "metadata": {},
   "outputs": [
    {
     "data": {
      "text/plain": [
       "CustomerId         0\n",
       "Surname            0\n",
       "CreditScore        0\n",
       "Geography          0\n",
       "Gender             0\n",
       "Age                0\n",
       "Tenure             0\n",
       "Balance            0\n",
       "NumOfProducts      0\n",
       "HasCrCard          0\n",
       "IsActiveMember     0\n",
       "EstimatedSalary    0\n",
       "Exited             0\n",
       "dtype: int64"
      ]
     },
     "execution_count": 3,
     "metadata": {},
     "output_type": "execute_result"
    }
   ],
   "source": [
    "train_df.isnull().sum()"
   ]
  },
  {
   "cell_type": "code",
   "execution_count": 4,
   "metadata": {},
   "outputs": [
    {
     "data": {
      "text/html": [
       "<div>\n",
       "<style scoped>\n",
       "    .dataframe tbody tr th:only-of-type {\n",
       "        vertical-align: middle;\n",
       "    }\n",
       "\n",
       "    .dataframe tbody tr th {\n",
       "        vertical-align: top;\n",
       "    }\n",
       "\n",
       "    .dataframe thead th {\n",
       "        text-align: right;\n",
       "    }\n",
       "</style>\n",
       "<table border=\"1\" class=\"dataframe\">\n",
       "  <thead>\n",
       "    <tr style=\"text-align: right;\">\n",
       "      <th></th>\n",
       "      <th>CustomerId</th>\n",
       "      <th>Surname</th>\n",
       "      <th>CreditScore</th>\n",
       "      <th>Geography</th>\n",
       "      <th>Gender</th>\n",
       "      <th>Age</th>\n",
       "      <th>Tenure</th>\n",
       "      <th>Balance</th>\n",
       "      <th>NumOfProducts</th>\n",
       "      <th>HasCrCard</th>\n",
       "      <th>IsActiveMember</th>\n",
       "      <th>EstimatedSalary</th>\n",
       "      <th>Exited</th>\n",
       "    </tr>\n",
       "    <tr>\n",
       "      <th>id</th>\n",
       "      <th></th>\n",
       "      <th></th>\n",
       "      <th></th>\n",
       "      <th></th>\n",
       "      <th></th>\n",
       "      <th></th>\n",
       "      <th></th>\n",
       "      <th></th>\n",
       "      <th></th>\n",
       "      <th></th>\n",
       "      <th></th>\n",
       "      <th></th>\n",
       "      <th></th>\n",
       "    </tr>\n",
       "  </thead>\n",
       "  <tbody>\n",
       "    <tr>\n",
       "      <th>0</th>\n",
       "      <td>15674932</td>\n",
       "      <td>Okwudilichukwu</td>\n",
       "      <td>668</td>\n",
       "      <td>France</td>\n",
       "      <td>Male</td>\n",
       "      <td>33.0</td>\n",
       "      <td>3</td>\n",
       "      <td>0.00</td>\n",
       "      <td>2</td>\n",
       "      <td>1.0</td>\n",
       "      <td>0.0</td>\n",
       "      <td>181449.97</td>\n",
       "      <td>0</td>\n",
       "    </tr>\n",
       "    <tr>\n",
       "      <th>1</th>\n",
       "      <td>15749177</td>\n",
       "      <td>Okwudiliolisa</td>\n",
       "      <td>627</td>\n",
       "      <td>France</td>\n",
       "      <td>Male</td>\n",
       "      <td>33.0</td>\n",
       "      <td>1</td>\n",
       "      <td>0.00</td>\n",
       "      <td>2</td>\n",
       "      <td>1.0</td>\n",
       "      <td>1.0</td>\n",
       "      <td>49503.50</td>\n",
       "      <td>0</td>\n",
       "    </tr>\n",
       "    <tr>\n",
       "      <th>2</th>\n",
       "      <td>15694510</td>\n",
       "      <td>Hsueh</td>\n",
       "      <td>678</td>\n",
       "      <td>France</td>\n",
       "      <td>Male</td>\n",
       "      <td>40.0</td>\n",
       "      <td>10</td>\n",
       "      <td>0.00</td>\n",
       "      <td>2</td>\n",
       "      <td>1.0</td>\n",
       "      <td>0.0</td>\n",
       "      <td>184866.69</td>\n",
       "      <td>0</td>\n",
       "    </tr>\n",
       "    <tr>\n",
       "      <th>3</th>\n",
       "      <td>15741417</td>\n",
       "      <td>Kao</td>\n",
       "      <td>581</td>\n",
       "      <td>France</td>\n",
       "      <td>Male</td>\n",
       "      <td>34.0</td>\n",
       "      <td>2</td>\n",
       "      <td>148882.54</td>\n",
       "      <td>1</td>\n",
       "      <td>1.0</td>\n",
       "      <td>1.0</td>\n",
       "      <td>84560.88</td>\n",
       "      <td>0</td>\n",
       "    </tr>\n",
       "    <tr>\n",
       "      <th>4</th>\n",
       "      <td>15766172</td>\n",
       "      <td>Chiemenam</td>\n",
       "      <td>716</td>\n",
       "      <td>Spain</td>\n",
       "      <td>Male</td>\n",
       "      <td>33.0</td>\n",
       "      <td>5</td>\n",
       "      <td>0.00</td>\n",
       "      <td>2</td>\n",
       "      <td>1.0</td>\n",
       "      <td>1.0</td>\n",
       "      <td>15068.83</td>\n",
       "      <td>0</td>\n",
       "    </tr>\n",
       "  </tbody>\n",
       "</table>\n",
       "</div>"
      ],
      "text/plain": [
       "    CustomerId         Surname  CreditScore Geography Gender   Age  Tenure  \\\n",
       "id                                                                           \n",
       "0     15674932  Okwudilichukwu          668    France   Male  33.0       3   \n",
       "1     15749177   Okwudiliolisa          627    France   Male  33.0       1   \n",
       "2     15694510           Hsueh          678    France   Male  40.0      10   \n",
       "3     15741417             Kao          581    France   Male  34.0       2   \n",
       "4     15766172       Chiemenam          716     Spain   Male  33.0       5   \n",
       "\n",
       "      Balance  NumOfProducts  HasCrCard  IsActiveMember  EstimatedSalary  \\\n",
       "id                                                                         \n",
       "0        0.00              2        1.0             0.0        181449.97   \n",
       "1        0.00              2        1.0             1.0         49503.50   \n",
       "2        0.00              2        1.0             0.0        184866.69   \n",
       "3   148882.54              1        1.0             1.0         84560.88   \n",
       "4        0.00              2        1.0             1.0         15068.83   \n",
       "\n",
       "    Exited  \n",
       "id          \n",
       "0        0  \n",
       "1        0  \n",
       "2        0  \n",
       "3        0  \n",
       "4        0  "
      ]
     },
     "execution_count": 4,
     "metadata": {},
     "output_type": "execute_result"
    }
   ],
   "source": [
    "train_df.head()"
   ]
  },
  {
   "cell_type": "code",
   "execution_count": 5,
   "metadata": {},
   "outputs": [
    {
     "data": {
      "text/plain": [
       "CustomerId         0\n",
       "Surname            0\n",
       "CreditScore        0\n",
       "Geography          0\n",
       "Gender             0\n",
       "Age                0\n",
       "Tenure             0\n",
       "Balance            0\n",
       "NumOfProducts      0\n",
       "HasCrCard          0\n",
       "IsActiveMember     0\n",
       "EstimatedSalary    0\n",
       "dtype: int64"
      ]
     },
     "execution_count": 5,
     "metadata": {},
     "output_type": "execute_result"
    }
   ],
   "source": [
    "test_df.isnull().sum()"
   ]
  },
  {
   "cell_type": "code",
   "execution_count": 6,
   "metadata": {},
   "outputs": [
    {
     "data": {
      "text/html": [
       "<div>\n",
       "<style scoped>\n",
       "    .dataframe tbody tr th:only-of-type {\n",
       "        vertical-align: middle;\n",
       "    }\n",
       "\n",
       "    .dataframe tbody tr th {\n",
       "        vertical-align: top;\n",
       "    }\n",
       "\n",
       "    .dataframe thead th {\n",
       "        text-align: right;\n",
       "    }\n",
       "</style>\n",
       "<table border=\"1\" class=\"dataframe\">\n",
       "  <thead>\n",
       "    <tr style=\"text-align: right;\">\n",
       "      <th></th>\n",
       "      <th>CustomerId</th>\n",
       "      <th>Surname</th>\n",
       "      <th>CreditScore</th>\n",
       "      <th>Geography</th>\n",
       "      <th>Gender</th>\n",
       "      <th>Age</th>\n",
       "      <th>Tenure</th>\n",
       "      <th>Balance</th>\n",
       "      <th>NumOfProducts</th>\n",
       "      <th>HasCrCard</th>\n",
       "      <th>IsActiveMember</th>\n",
       "      <th>EstimatedSalary</th>\n",
       "    </tr>\n",
       "    <tr>\n",
       "      <th>id</th>\n",
       "      <th></th>\n",
       "      <th></th>\n",
       "      <th></th>\n",
       "      <th></th>\n",
       "      <th></th>\n",
       "      <th></th>\n",
       "      <th></th>\n",
       "      <th></th>\n",
       "      <th></th>\n",
       "      <th></th>\n",
       "      <th></th>\n",
       "      <th></th>\n",
       "    </tr>\n",
       "  </thead>\n",
       "  <tbody>\n",
       "    <tr>\n",
       "      <th>165034</th>\n",
       "      <td>15773898</td>\n",
       "      <td>Lucchese</td>\n",
       "      <td>586</td>\n",
       "      <td>France</td>\n",
       "      <td>Female</td>\n",
       "      <td>23.0</td>\n",
       "      <td>2</td>\n",
       "      <td>0.00</td>\n",
       "      <td>2</td>\n",
       "      <td>0.0</td>\n",
       "      <td>1.0</td>\n",
       "      <td>160976.75</td>\n",
       "    </tr>\n",
       "    <tr>\n",
       "      <th>165035</th>\n",
       "      <td>15782418</td>\n",
       "      <td>Nott</td>\n",
       "      <td>683</td>\n",
       "      <td>France</td>\n",
       "      <td>Female</td>\n",
       "      <td>46.0</td>\n",
       "      <td>2</td>\n",
       "      <td>0.00</td>\n",
       "      <td>1</td>\n",
       "      <td>1.0</td>\n",
       "      <td>0.0</td>\n",
       "      <td>72549.27</td>\n",
       "    </tr>\n",
       "    <tr>\n",
       "      <th>165036</th>\n",
       "      <td>15807120</td>\n",
       "      <td>K?</td>\n",
       "      <td>656</td>\n",
       "      <td>France</td>\n",
       "      <td>Female</td>\n",
       "      <td>34.0</td>\n",
       "      <td>7</td>\n",
       "      <td>0.00</td>\n",
       "      <td>2</td>\n",
       "      <td>1.0</td>\n",
       "      <td>0.0</td>\n",
       "      <td>138882.09</td>\n",
       "    </tr>\n",
       "    <tr>\n",
       "      <th>165037</th>\n",
       "      <td>15808905</td>\n",
       "      <td>O'Donnell</td>\n",
       "      <td>681</td>\n",
       "      <td>France</td>\n",
       "      <td>Male</td>\n",
       "      <td>36.0</td>\n",
       "      <td>8</td>\n",
       "      <td>0.00</td>\n",
       "      <td>1</td>\n",
       "      <td>1.0</td>\n",
       "      <td>0.0</td>\n",
       "      <td>113931.57</td>\n",
       "    </tr>\n",
       "    <tr>\n",
       "      <th>165038</th>\n",
       "      <td>15607314</td>\n",
       "      <td>Higgins</td>\n",
       "      <td>752</td>\n",
       "      <td>Germany</td>\n",
       "      <td>Male</td>\n",
       "      <td>38.0</td>\n",
       "      <td>10</td>\n",
       "      <td>121263.62</td>\n",
       "      <td>1</td>\n",
       "      <td>1.0</td>\n",
       "      <td>0.0</td>\n",
       "      <td>139431.00</td>\n",
       "    </tr>\n",
       "  </tbody>\n",
       "</table>\n",
       "</div>"
      ],
      "text/plain": [
       "        CustomerId    Surname  CreditScore Geography  Gender   Age  Tenure  \\\n",
       "id                                                                           \n",
       "165034    15773898   Lucchese          586    France  Female  23.0       2   \n",
       "165035    15782418       Nott          683    France  Female  46.0       2   \n",
       "165036    15807120         K?          656    France  Female  34.0       7   \n",
       "165037    15808905  O'Donnell          681    France    Male  36.0       8   \n",
       "165038    15607314    Higgins          752   Germany    Male  38.0      10   \n",
       "\n",
       "          Balance  NumOfProducts  HasCrCard  IsActiveMember  EstimatedSalary  \n",
       "id                                                                            \n",
       "165034       0.00              2        0.0             1.0        160976.75  \n",
       "165035       0.00              1        1.0             0.0         72549.27  \n",
       "165036       0.00              2        1.0             0.0        138882.09  \n",
       "165037       0.00              1        1.0             0.0        113931.57  \n",
       "165038  121263.62              1        1.0             0.0        139431.00  "
      ]
     },
     "execution_count": 6,
     "metadata": {},
     "output_type": "execute_result"
    }
   ],
   "source": [
    "test_df.head()"
   ]
  },
  {
   "cell_type": "markdown",
   "metadata": {},
   "source": [
    "No missing Values in train and test data 😃✅"
   ]
  },
  {
   "cell_type": "markdown",
   "metadata": {},
   "source": [
    "### 1.2) Checking for duplicated values"
   ]
  },
  {
   "cell_type": "code",
   "execution_count": 7,
   "metadata": {},
   "outputs": [
    {
     "name": "stdout",
     "output_type": "stream",
     "text": [
      "0\n",
      "0\n"
     ]
    }
   ],
   "source": [
    "print(train_df.duplicated().sum())\n",
    "print(test_df.duplicated().sum())"
   ]
  },
  {
   "cell_type": "markdown",
   "metadata": {},
   "source": [
    "No duplicated Values in train and test data 😃✅"
   ]
  },
  {
   "cell_type": "markdown",
   "metadata": {},
   "source": [
    "### 1.3) Size of train and test data"
   ]
  },
  {
   "cell_type": "code",
   "execution_count": 8,
   "metadata": {},
   "outputs": [
    {
     "name": "stdout",
     "output_type": "stream",
     "text": [
      "(165034, 13)\n",
      "(110023, 12)\n"
     ]
    }
   ],
   "source": [
    "print(train_df.shape)\n",
    "print(test_df.shape)"
   ]
  },
  {
   "cell_type": "markdown",
   "metadata": {},
   "source": [
    "### 1.4) Uniques values"
   ]
  },
  {
   "cell_type": "code",
   "execution_count": 9,
   "metadata": {},
   "outputs": [
    {
     "data": {
      "text/plain": [
       "CustomerId         23221\n",
       "Surname             2797\n",
       "CreditScore          457\n",
       "Geography              3\n",
       "Gender                 2\n",
       "Age                   71\n",
       "Tenure                11\n",
       "Balance            30075\n",
       "NumOfProducts          4\n",
       "HasCrCard              2\n",
       "IsActiveMember         2\n",
       "EstimatedSalary    55298\n",
       "Exited                 2\n",
       "dtype: int64"
      ]
     },
     "execution_count": 9,
     "metadata": {},
     "output_type": "execute_result"
    }
   ],
   "source": [
    "# let's start looking at the training data\n",
    "train_df.nunique()"
   ]
  },
  {
   "cell_type": "markdown",
   "metadata": {},
   "source": [
    "### 1.5) data type information"
   ]
  },
  {
   "cell_type": "code",
   "execution_count": 10,
   "metadata": {},
   "outputs": [
    {
     "data": {
      "text/plain": [
       "CustomerId           int64\n",
       "Surname             object\n",
       "CreditScore          int64\n",
       "Geography           object\n",
       "Gender              object\n",
       "Age                float64\n",
       "Tenure               int64\n",
       "Balance            float64\n",
       "NumOfProducts        int64\n",
       "HasCrCard          float64\n",
       "IsActiveMember     float64\n",
       "EstimatedSalary    float64\n",
       "Exited               int64\n",
       "dtype: object"
      ]
     },
     "execution_count": 10,
     "metadata": {},
     "output_type": "execute_result"
    }
   ],
   "source": [
    "train_df.dtypes"
   ]
  },
  {
   "cell_type": "markdown",
   "metadata": {},
   "source": [
    "- **Customer ID**:\n",
    "  - Treatment: Exclude from modeling or use it as an index, but do not include it as a feature in your predictive model.\n",
    "  - Why: Customer ID is usually a unique identifier and does not contribute to the model's predictive power. Including it may lead to overfitting, as the\n",
    "  model might mistakenly learn patterns specific to individual customers that do not generalize well.\n",
    "\n",
    "- **Surname**:\n",
    "  - Treatment: Exclude from modeling.\n",
    "  - Why: Surnames are categorical data, but including them in a model might not provide meaningful information. If you attempt to one-hot encode surnames, it could lead to an extremely high-dimensional dataset, making the model computationally expensive and potentially overfit to the training data."
   ]
  },
  {
   "cell_type": "markdown",
   "metadata": {},
   "source": [
    "## 2) PreProcess Data"
   ]
  },
  {
   "cell_type": "code",
   "execution_count": 11,
   "metadata": {},
   "outputs": [
    {
     "data": {
      "text/html": [
       "<div>\n",
       "<style scoped>\n",
       "    .dataframe tbody tr th:only-of-type {\n",
       "        vertical-align: middle;\n",
       "    }\n",
       "\n",
       "    .dataframe tbody tr th {\n",
       "        vertical-align: top;\n",
       "    }\n",
       "\n",
       "    .dataframe thead th {\n",
       "        text-align: right;\n",
       "    }\n",
       "</style>\n",
       "<table border=\"1\" class=\"dataframe\">\n",
       "  <thead>\n",
       "    <tr style=\"text-align: right;\">\n",
       "      <th></th>\n",
       "      <th>cat_ohe__Geography_France</th>\n",
       "      <th>cat_ohe__Geography_Germany</th>\n",
       "      <th>cat_ohe__Geography_Spain</th>\n",
       "      <th>cat_binary__Gender_0</th>\n",
       "      <th>cat_binary__Gender_1</th>\n",
       "      <th>cat_ord__NumOfProducts</th>\n",
       "      <th>num__CreditScore</th>\n",
       "      <th>num__Age</th>\n",
       "      <th>num__Tenure</th>\n",
       "      <th>num__Balance</th>\n",
       "      <th>num__EstimatedSalary</th>\n",
       "      <th>pass__HasCrCard</th>\n",
       "      <th>pass__IsActiveMember</th>\n",
       "    </tr>\n",
       "  </thead>\n",
       "  <tbody>\n",
       "    <tr>\n",
       "      <th>0</th>\n",
       "      <td>1.0</td>\n",
       "      <td>0.0</td>\n",
       "      <td>0.0</td>\n",
       "      <td>0.0</td>\n",
       "      <td>1.0</td>\n",
       "      <td>1.0</td>\n",
       "      <td>0.079646</td>\n",
       "      <td>-0.4</td>\n",
       "      <td>-0.50</td>\n",
       "      <td>0.000000</td>\n",
       "      <td>0.788698</td>\n",
       "      <td>1.0</td>\n",
       "      <td>0.0</td>\n",
       "    </tr>\n",
       "    <tr>\n",
       "      <th>1</th>\n",
       "      <td>1.0</td>\n",
       "      <td>0.0</td>\n",
       "      <td>0.0</td>\n",
       "      <td>0.0</td>\n",
       "      <td>1.0</td>\n",
       "      <td>1.0</td>\n",
       "      <td>-0.283186</td>\n",
       "      <td>-0.4</td>\n",
       "      <td>-1.00</td>\n",
       "      <td>0.000000</td>\n",
       "      <td>-0.850085</td>\n",
       "      <td>1.0</td>\n",
       "      <td>1.0</td>\n",
       "    </tr>\n",
       "    <tr>\n",
       "      <th>2</th>\n",
       "      <td>1.0</td>\n",
       "      <td>0.0</td>\n",
       "      <td>0.0</td>\n",
       "      <td>0.0</td>\n",
       "      <td>1.0</td>\n",
       "      <td>1.0</td>\n",
       "      <td>0.168142</td>\n",
       "      <td>0.3</td>\n",
       "      <td>1.25</td>\n",
       "      <td>0.000000</td>\n",
       "      <td>0.831134</td>\n",
       "      <td>1.0</td>\n",
       "      <td>0.0</td>\n",
       "    </tr>\n",
       "    <tr>\n",
       "      <th>3</th>\n",
       "      <td>1.0</td>\n",
       "      <td>0.0</td>\n",
       "      <td>0.0</td>\n",
       "      <td>0.0</td>\n",
       "      <td>1.0</td>\n",
       "      <td>0.0</td>\n",
       "      <td>-0.690265</td>\n",
       "      <td>-0.3</td>\n",
       "      <td>-0.75</td>\n",
       "      <td>1.241313</td>\n",
       "      <td>-0.414670</td>\n",
       "      <td>1.0</td>\n",
       "      <td>1.0</td>\n",
       "    </tr>\n",
       "    <tr>\n",
       "      <th>4</th>\n",
       "      <td>0.0</td>\n",
       "      <td>0.0</td>\n",
       "      <td>1.0</td>\n",
       "      <td>0.0</td>\n",
       "      <td>1.0</td>\n",
       "      <td>1.0</td>\n",
       "      <td>0.504425</td>\n",
       "      <td>-0.4</td>\n",
       "      <td>0.00</td>\n",
       "      <td>0.000000</td>\n",
       "      <td>-1.277766</td>\n",
       "      <td>1.0</td>\n",
       "      <td>1.0</td>\n",
       "    </tr>\n",
       "  </tbody>\n",
       "</table>\n",
       "</div>"
      ],
      "text/plain": [
       "   cat_ohe__Geography_France  cat_ohe__Geography_Germany  \\\n",
       "0                        1.0                         0.0   \n",
       "1                        1.0                         0.0   \n",
       "2                        1.0                         0.0   \n",
       "3                        1.0                         0.0   \n",
       "4                        0.0                         0.0   \n",
       "\n",
       "   cat_ohe__Geography_Spain  cat_binary__Gender_0  cat_binary__Gender_1  \\\n",
       "0                       0.0                   0.0                   1.0   \n",
       "1                       0.0                   0.0                   1.0   \n",
       "2                       0.0                   0.0                   1.0   \n",
       "3                       0.0                   0.0                   1.0   \n",
       "4                       1.0                   0.0                   1.0   \n",
       "\n",
       "   cat_ord__NumOfProducts  num__CreditScore  num__Age  num__Tenure  \\\n",
       "0                     1.0          0.079646      -0.4        -0.50   \n",
       "1                     1.0         -0.283186      -0.4        -1.00   \n",
       "2                     1.0          0.168142       0.3         1.25   \n",
       "3                     0.0         -0.690265      -0.3        -0.75   \n",
       "4                     1.0          0.504425      -0.4         0.00   \n",
       "\n",
       "   num__Balance  num__EstimatedSalary  pass__HasCrCard  pass__IsActiveMember  \n",
       "0      0.000000              0.788698              1.0                   0.0  \n",
       "1      0.000000             -0.850085              1.0                   1.0  \n",
       "2      0.000000              0.831134              1.0                   0.0  \n",
       "3      1.241313             -0.414670              1.0                   1.0  \n",
       "4      0.000000             -1.277766              1.0                   1.0  "
      ]
     },
     "execution_count": 11,
     "metadata": {},
     "output_type": "execute_result"
    }
   ],
   "source": [
    "# build a transform function to drop columns with scikit-learn BaseEstimator and TransformerMixin.\n",
    "# It will receive a list of columns to drop and return the transformed DataFrame without those columns.\n",
    "\n",
    "class DropColumns(BaseEstimator, TransformerMixin):\n",
    "    def __init__(self, columns):\n",
    "        self.columns = columns\n",
    "\n",
    "    def fit(self, X, y=None):\n",
    "        return self\n",
    "\n",
    "    def transform(self, X):\n",
    "        data = X.copy()\n",
    "        return data.drop(labels=self.columns, axis='columns')\n",
    "\n",
    "    def get_feature_names_out(self, input_features=None):\n",
    "        return [col for col in input_features if col not in self.columns]\n",
    "\n",
    "\n",
    "# let's test the DropColumns transformer\n",
    "columns_to_drop = ['CustomerId', 'Surname']\n",
    "\n",
    "\n",
    "# identifying categorical and numerical features\n",
    "cat_ohe_features = ['Geography'] # order does not matter\n",
    "cat_binary_features = ['Gender'] # converting to binary\n",
    "cat_ord_features = ['NumOfProducts'] # order matters\n",
    "num_features = ['CreditScore', 'Age','Tenure', 'Balance', 'EstimatedSalary']\n",
    "\n",
    "# let's build a pipeline for cat features\n",
    "cat_ohe_pipeline = Pipeline(steps=[\n",
    "    ('ohe', OneHotEncoder(sparse=False, handle_unknown='ignore'))\n",
    "])\n",
    "\n",
    "cat_ord_pipeline = Pipeline(steps=[\n",
    "    ('ord', OrdinalEncoder(handle_unknown='use_encoded_value', unknown_value=-1))\n",
    "])\n",
    "\n",
    "cat_binary_pipeline = Pipeline(steps=[\n",
    "    ('binary', BinaryEncoder())\n",
    "])\n",
    "\n",
    "# let's build a pipeline for numerical features\n",
    "num_pipeline = Pipeline(steps=[\n",
    "    ('robust_scaler', RobustScaler())\n",
    "])\n",
    "\n",
    "# let's join the numerical and categorical pipelines\n",
    "preprocessor = ColumnTransformer(transformers=[\n",
    "    ('cat_ohe', cat_ohe_pipeline, cat_ohe_features),\n",
    "    ('cat_binary', cat_binary_pipeline, cat_binary_features),\n",
    "    ('cat_ord', cat_ord_pipeline, cat_ord_features),\n",
    "    ('num', num_pipeline, num_features),\n",
    "    ('pass', 'passthrough', ['HasCrCard', 'IsActiveMember'])\n",
    "])\n",
    "\n",
    "pipeline = Pipeline(steps=[\n",
    "    ('drop_columns', DropColumns(columns=columns_to_drop)),\n",
    "    ('preprocessor', preprocessor),\n",
    "])\n",
    "\n",
    "\n",
    "# let's test the pipeline on the training data\n",
    "X_train = pipeline.fit_transform(train_df)\n",
    "feature_names = pipeline.named_steps['preprocessor'].get_feature_names_out()\n",
    "\n",
    "# create a dataframe with the transformed data and feature names\n",
    "X_transformed = pd.DataFrame(X_train, columns=feature_names)\n",
    "\n",
    "# check dataframe head\n",
    "X_transformed.head()"
   ]
  },
  {
   "cell_type": "code",
   "execution_count": 12,
   "metadata": {},
   "outputs": [
    {
     "name": "stdout",
     "output_type": "stream",
     "text": [
      "X_transformed shape: (165034, 13)\n",
      "y shape: (165034,)\n"
     ]
    }
   ],
   "source": [
    "# shapes\n",
    "print('X_transformed shape: {}'.format(X_transformed.shape))\n",
    "print('y shape: {}'.format(train_df['Exited'].shape))"
   ]
  },
  {
   "cell_type": "code",
   "execution_count": 13,
   "metadata": {},
   "outputs": [],
   "source": [
    "# use xgboost as the model for our pipeline\n",
    "\n",
    "params = {\n",
    "    'objective': 'binary:logistic',\n",
    "    'n_jobs': -1,\n",
    "    'eval_metric': 'roc_auc'\n",
    "}\n",
    "    \n",
    "model = xgb.XGBClassifier(params=params)\n",
    "    \n",
    "\n",
    "# let's create a pipeline with our previous pipeline (preprocessor) and the model\n",
    "xgb_pipe = Pipeline(steps=[\n",
    "    ('preprocessor', pipeline),\n",
    "    ('xgboost', model)\n",
    "])\n",
    "\n",
    "# let's train our model\n",
    "xgb_pipe.fit(train_df, train_df['Exited'])\n",
    "\n",
    "# let's make predictions on the test set\n",
    "predictions = xgb_pipe.predict_proba(test_df)[:, 1]\n"
   ]
  },
  {
   "cell_type": "code",
   "execution_count": 14,
   "metadata": {},
   "outputs": [
    {
     "data": {
      "image/png": "[encoded data removed]",
      "text/plain": [
       "<Figure size 500x500 with 1 Axes>"
      ]
     },
     "metadata": {},
     "output_type": "display_data"
    }
   ],
   "source": [
    "# let's create a function to plot the feature importance\n",
    "def plot_feature_importance(model, X, y):\n",
    "    plt.figure(figsize=(5, 5))\n",
    "    feat_importances = pd.Series(model.feature_importances_, index=X.columns)\n",
    "    feat_importances.nlargest(20).sort_values(ascending=True).plot(kind='barh')\n",
    "    plt.title('Feature importance')\n",
    "    plt.show()\n",
    "\n",
    "plot_feature_importance(xgb_pipe.named_steps['xgboost'], X_transformed, train_df['Exited'])"
   ]
  },
  {
   "cell_type": "code",
   "execution_count": 15,
   "metadata": {},
   "outputs": [
    {
     "data": {
      "text/html": [
       "<div>\n",
       "<style scoped>\n",
       "    .dataframe tbody tr th:only-of-type {\n",
       "        vertical-align: middle;\n",
       "    }\n",
       "\n",
       "    .dataframe tbody tr th {\n",
       "        vertical-align: top;\n",
       "    }\n",
       "\n",
       "    .dataframe thead th {\n",
       "        text-align: right;\n",
       "    }\n",
       "</style>\n",
       "<table border=\"1\" class=\"dataframe\">\n",
       "  <thead>\n",
       "    <tr style=\"text-align: right;\">\n",
       "      <th></th>\n",
       "      <th>feature</th>\n",
       "      <th>importance</th>\n",
       "    </tr>\n",
       "  </thead>\n",
       "  <tbody>\n",
       "    <tr>\n",
       "      <th>5</th>\n",
       "      <td>cat_ord__NumOfProducts</td>\n",
       "      <td>0.494919</td>\n",
       "    </tr>\n",
       "    <tr>\n",
       "      <th>12</th>\n",
       "      <td>pass__IsActiveMember</td>\n",
       "      <td>0.182950</td>\n",
       "    </tr>\n",
       "    <tr>\n",
       "      <th>7</th>\n",
       "      <td>num__Age</td>\n",
       "      <td>0.116714</td>\n",
       "    </tr>\n",
       "    <tr>\n",
       "      <th>1</th>\n",
       "      <td>cat_ohe__Geography_Germany</td>\n",
       "      <td>0.080283</td>\n",
       "    </tr>\n",
       "    <tr>\n",
       "      <th>3</th>\n",
       "      <td>cat_binary__Gender_0</td>\n",
       "      <td>0.047533</td>\n",
       "    </tr>\n",
       "    <tr>\n",
       "      <th>9</th>\n",
       "      <td>num__Balance</td>\n",
       "      <td>0.026731</td>\n",
       "    </tr>\n",
       "    <tr>\n",
       "      <th>11</th>\n",
       "      <td>pass__HasCrCard</td>\n",
       "      <td>0.011181</td>\n",
       "    </tr>\n",
       "    <tr>\n",
       "      <th>6</th>\n",
       "      <td>num__CreditScore</td>\n",
       "      <td>0.008776</td>\n",
       "    </tr>\n",
       "    <tr>\n",
       "      <th>10</th>\n",
       "      <td>num__EstimatedSalary</td>\n",
       "      <td>0.008363</td>\n",
       "    </tr>\n",
       "    <tr>\n",
       "      <th>2</th>\n",
       "      <td>cat_ohe__Geography_Spain</td>\n",
       "      <td>0.007611</td>\n",
       "    </tr>\n",
       "    <tr>\n",
       "      <th>0</th>\n",
       "      <td>cat_ohe__Geography_France</td>\n",
       "      <td>0.007488</td>\n",
       "    </tr>\n",
       "    <tr>\n",
       "      <th>8</th>\n",
       "      <td>num__Tenure</td>\n",
       "      <td>0.007451</td>\n",
       "    </tr>\n",
       "    <tr>\n",
       "      <th>4</th>\n",
       "      <td>cat_binary__Gender_1</td>\n",
       "      <td>0.000000</td>\n",
       "    </tr>\n",
       "  </tbody>\n",
       "</table>\n",
       "</div>"
      ],
      "text/plain": [
       "                       feature  importance\n",
       "5       cat_ord__NumOfProducts    0.494919\n",
       "12        pass__IsActiveMember    0.182950\n",
       "7                     num__Age    0.116714\n",
       "1   cat_ohe__Geography_Germany    0.080283\n",
       "3         cat_binary__Gender_0    0.047533\n",
       "9                 num__Balance    0.026731\n",
       "11             pass__HasCrCard    0.011181\n",
       "6             num__CreditScore    0.008776\n",
       "10        num__EstimatedSalary    0.008363\n",
       "2     cat_ohe__Geography_Spain    0.007611\n",
       "0    cat_ohe__Geography_France    0.007488\n",
       "8                  num__Tenure    0.007451\n",
       "4         cat_binary__Gender_1    0.000000"
      ]
     },
     "execution_count": 15,
     "metadata": {},
     "output_type": "execute_result"
    }
   ],
   "source": [
    "# create a dataframe of feature importance values sorted by importance\n",
    "feature_importance = pd.DataFrame({'feature': X_transformed.columns, 'importance': xgb_pipe.named_steps['xgboost'].feature_importances_}).sort_values(by='importance', ascending=False)\n",
    "feature_importance"
   ]
  },
  {
   "cell_type": "code",
   "execution_count": 16,
   "metadata": {},
   "outputs": [],
   "source": [
    "X = train_df\n",
    "y = train_df['Exited']\n",
    "\n",
    "X_train, X_val, y_train, y_val = train_test_split(X, y, test_size=0.2, random_state=42)\n",
    "\n",
    "\n",
    "def objective(trial):\n",
    "    params = {\n",
    "        \"objective\": \"binary:logistic\",\n",
    "        \"n_estimators\": trial.suggest_int(\"n_estimators\", 100, 1000),\n",
    "        \"verbosity\": 0,\n",
    "        \"learning_rate\": trial.suggest_float(\"learning_rate\", 1e-3, 0.1, log=True),\n",
    "        \"max_depth\": trial.suggest_int(\"max_depth\", 1, 10),\n",
    "        \"subsample\": trial.suggest_float(\"subsample\", 0.05, 1.0),\n",
    "        \"colsample_bytree\": trial.suggest_float(\"colsample_bytree\", 0.05, 1.0),\n",
    "        \"min_child_weight\": trial.suggest_int(\"min_child_weight\", 1, 20),\n",
    "        \"gamma\": trial.suggest_float(\"gamma\", 0.0, 1.0),\n",
    "        \"scale_pos_weight\": trial.suggest_float(\"scale_pos_weight\", 1.0, 100.0),\n",
    "    }\n",
    "\n",
    "    model = xgb.XGBClassifier(**params)\n",
    "    \n",
    "    #use pipeline\n",
    "    xgb_pipe = Pipeline(steps=[\n",
    "        ('preprocessor', pipeline),\n",
    "        ('xgboost', model)\n",
    "    ])\n",
    "    \n",
    "    #fit model\n",
    "    xgb_pipe.fit(X_train, y_train)\n",
    "    \n",
    "    #roc auc score\n",
    "    predictions = xgb_pipe.predict_proba(X_val)[:, 1]\n",
    "    roc_auc = roc_auc_score(y_val, predictions)\n",
    "    \n",
    "    return roc_auc"
   ]
  },
  {
   "cell_type": "code",
   "execution_count": 17,
   "metadata": {},
   "outputs": [
    {
     "name": "stderr",
     "output_type": "stream",
     "text": [
      "[I 2024-01-06 09:20:05,455] A new study created in memory with name: no-name-ed2eeedc-80f4-4fa7-9e5e-0751f85db0de\n",
      "[I 2024-01-06 09:20:08,024] Trial 0 finished with value: 0.8835557994225562 and parameters: {'n_estimators': 526, 'learning_rate': 0.008456523809495483, 'max_depth': 4, 'subsample': 0.9554566983746375, 'colsample_bytree': 0.31615401968334345, 'min_child_weight': 13, 'gamma': 0.10250728412171994, 'scale_pos_weight': 16.482646256242006}. Best is trial 0 with value: 0.8835557994225562.\n",
      "[I 2024-01-06 09:20:10,630] Trial 1 finished with value: 0.844090279872705 and parameters: {'n_estimators': 617, 'learning_rate': 0.0014730536000643394, 'max_depth': 2, 'subsample': 0.6910675336306283, 'colsample_bytree': 0.8591110293117188, 'min_child_weight': 3, 'gamma': 0.2797109748529101, 'scale_pos_weight': 35.246442934724776}. Best is trial 0 with value: 0.8835557994225562.\n",
      "[I 2024-01-06 09:20:14,231] Trial 2 finished with value: 0.8609040918329243 and parameters: {'n_estimators': 947, 'learning_rate': 0.003039336136633384, 'max_depth': 2, 'subsample': 0.682293075737309, 'colsample_bytree': 0.17121465613998926, 'min_child_weight': 14, 'gamma': 0.7226396711522953, 'scale_pos_weight': 91.18846264177503}. Best is trial 0 with value: 0.8835557994225562.\n",
      "[I 2024-01-06 09:20:15,754] Trial 3 finished with value: 0.8675978353529076 and parameters: {'n_estimators': 311, 'learning_rate': 0.01583462227247028, 'max_depth': 8, 'subsample': 0.061700826976956745, 'colsample_bytree': 0.12186484025132648, 'min_child_weight': 6, 'gamma': 0.06598788227999985, 'scale_pos_weight': 11.95360333310527}. Best is trial 0 with value: 0.8835557994225562.\n",
      "[I 2024-01-06 09:20:18,463] Trial 4 finished with value: 0.8783733616657632 and parameters: {'n_estimators': 855, 'learning_rate': 0.04711002485409519, 'max_depth': 1, 'subsample': 0.11528860192504686, 'colsample_bytree': 0.7014413716215253, 'min_child_weight': 18, 'gamma': 0.9112189074045198, 'scale_pos_weight': 94.73106223313823}. Best is trial 0 with value: 0.8835557994225562.\n",
      "[I 2024-01-06 09:20:20,993] Trial 5 finished with value: 0.8843099069791621 and parameters: {'n_estimators': 570, 'learning_rate': 0.09947022326092052, 'max_depth': 6, 'subsample': 0.48015852571523715, 'colsample_bytree': 0.22938251304556673, 'min_child_weight': 18, 'gamma': 0.7967441043778225, 'scale_pos_weight': 40.29441761822264}. Best is trial 5 with value: 0.8843099069791621.\n",
      "[I 2024-01-06 09:20:23,045] Trial 6 finished with value: 0.8782123939920856 and parameters: {'n_estimators': 414, 'learning_rate': 0.0016948950420554454, 'max_depth': 4, 'subsample': 0.13992061280426887, 'colsample_bytree': 0.9996650194833832, 'min_child_weight': 7, 'gamma': 0.008518797988373406, 'scale_pos_weight': 34.61385463992636}. Best is trial 5 with value: 0.8843099069791621.\n",
      "[I 2024-01-06 09:20:24,086] Trial 7 finished with value: 0.8886076075466166 and parameters: {'n_estimators': 155, 'learning_rate': 0.021550523456298813, 'max_depth': 5, 'subsample': 0.6895454450815796, 'colsample_bytree': 0.5865082295481208, 'min_child_weight': 5, 'gamma': 0.4065238266897001, 'scale_pos_weight': 32.3847978866757}. Best is trial 7 with value: 0.8886076075466166.\n",
      "[I 2024-01-06 09:20:25,359] Trial 8 finished with value: 0.8824065826208558 and parameters: {'n_estimators': 205, 'learning_rate': 0.004005417651160314, 'max_depth': 5, 'subsample': 0.3571378936406327, 'colsample_bytree': 0.64535172550689, 'min_child_weight': 15, 'gamma': 0.019012755906634426, 'scale_pos_weight': 72.22370122148789}. Best is trial 7 with value: 0.8886076075466166.\n",
      "[I 2024-01-06 09:20:26,430] Trial 9 finished with value: 0.862159061294543 and parameters: {'n_estimators': 182, 'learning_rate': 0.006612012762097693, 'max_depth': 10, 'subsample': 0.18423433225667268, 'colsample_bytree': 0.0941000712142599, 'min_child_weight': 17, 'gamma': 0.605015807485442, 'scale_pos_weight': 79.65787190422618}. Best is trial 7 with value: 0.8886076075466166.\n",
      "[I 2024-01-06 09:20:27,652] Trial 10 finished with value: 0.8847145724036083 and parameters: {'n_estimators': 142, 'learning_rate': 0.02835856771268839, 'max_depth': 7, 'subsample': 0.9931040298608358, 'colsample_bytree': 0.450705461904459, 'min_child_weight': 2, 'gamma': 0.37760267378933, 'scale_pos_weight': 54.75031260086406}. Best is trial 7 with value: 0.8886076075466166.\n",
      "[I 2024-01-06 09:20:30,571] Trial 11 finished with value: 0.8802169785298064 and parameters: {'n_estimators': 106, 'learning_rate': 0.0244961043838832, 'max_depth': 7, 'subsample': 0.9913355682805604, 'colsample_bytree': 0.4353282804081094, 'min_child_weight': 1, 'gamma': 0.3946840054276761, 'scale_pos_weight': 54.42877447823781}. Best is trial 7 with value: 0.8886076075466166.\n",
      "[I 2024-01-06 09:20:35,079] Trial 12 finished with value: 0.88777125006747 and parameters: {'n_estimators': 313, 'learning_rate': 0.02929111037537134, 'max_depth': 9, 'subsample': 0.7977165601129801, 'colsample_bytree': 0.5195043482230849, 'min_child_weight': 8, 'gamma': 0.45248747903235553, 'scale_pos_weight': 59.858302594333175}. Best is trial 7 with value: 0.8886076075466166.\n",
      "[I 2024-01-06 09:20:38,343] Trial 13 finished with value: 0.8806053711302164 and parameters: {'n_estimators': 336, 'learning_rate': 0.06884702860732227, 'max_depth': 10, 'subsample': 0.7300584158340513, 'colsample_bytree': 0.5826564256109542, 'min_child_weight': 9, 'gamma': 0.5372494976665483, 'scale_pos_weight': 65.98608141597308}. Best is trial 7 with value: 0.8886076075466166.\n",
      "[I 2024-01-06 09:20:41,121] Trial 14 finished with value: 0.8891363542891544 and parameters: {'n_estimators': 309, 'learning_rate': 0.015745446169671953, 'max_depth': 9, 'subsample': 0.7935172669249475, 'colsample_bytree': 0.7594476829897283, 'min_child_weight': 5, 'gamma': 0.2548587083306739, 'scale_pos_weight': 22.68901433795584}. Best is trial 14 with value: 0.8891363542891544.\n",
      "[I 2024-01-06 09:20:44,239] Trial 15 finished with value: 0.8910065176289019 and parameters: {'n_estimators': 439, 'learning_rate': 0.014731135959156375, 'max_depth': 5, 'subsample': 0.5594020241400802, 'colsample_bytree': 0.7868405413921508, 'min_child_weight': 5, 'gamma': 0.2297607431655101, 'scale_pos_weight': 1.5583853467323365}. Best is trial 15 with value: 0.8910065176289019.\n",
      "[I 2024-01-06 09:20:49,889] Trial 16 finished with value: 0.8900573155519409 and parameters: {'n_estimators': 695, 'learning_rate': 0.012428878142609462, 'max_depth': 8, 'subsample': 0.5216277092772107, 'colsample_bytree': 0.7963868458524591, 'min_child_weight': 10, 'gamma': 0.21408509794038155, 'scale_pos_weight': 16.36984437372393}. Best is trial 15 with value: 0.8910065176289019.\n",
      "[I 2024-01-06 09:20:54,607] Trial 17 finished with value: 0.8905529288710089 and parameters: {'n_estimators': 699, 'learning_rate': 0.004821652262195065, 'max_depth': 7, 'subsample': 0.47414725068218544, 'colsample_bytree': 0.8600769086862952, 'min_child_weight': 11, 'gamma': 0.1893828926523849, 'scale_pos_weight': 2.3773306443641085}. Best is trial 15 with value: 0.8910065176289019.\n",
      "[I 2024-01-06 09:20:58,242] Trial 18 finished with value: 0.8885378913135406 and parameters: {'n_estimators': 776, 'learning_rate': 0.0049121377536936964, 'max_depth': 4, 'subsample': 0.3606813742065462, 'colsample_bytree': 0.9498960184817757, 'min_child_weight': 12, 'gamma': 0.16984530546925586, 'scale_pos_weight': 1.3445814211101457}. Best is trial 15 with value: 0.8910065176289019.\n",
      "[I 2024-01-06 09:21:01,194] Trial 19 finished with value: 0.8889203454507785 and parameters: {'n_estimators': 462, 'learning_rate': 0.002383823626124865, 'max_depth': 6, 'subsample': 0.40898481522297425, 'colsample_bytree': 0.8651841066705712, 'min_child_weight': 11, 'gamma': 0.33845818981718034, 'scale_pos_weight': 1.6522490447317537}. Best is trial 15 with value: 0.8910065176289019.\n",
      "[I 2024-01-06 09:21:03,946] Trial 20 finished with value: 0.8861717724756206 and parameters: {'n_estimators': 678, 'learning_rate': 0.006819967275552484, 'max_depth': 3, 'subsample': 0.2793336387494561, 'colsample_bytree': 0.903377170292115, 'min_child_weight': 4, 'gamma': 0.15712877952031215, 'scale_pos_weight': 24.385332975055324}. Best is trial 15 with value: 0.8910065176289019.\n",
      "[I 2024-01-06 09:21:08,500] Trial 21 finished with value: 0.8909354933886029 and parameters: {'n_estimators': 741, 'learning_rate': 0.01170727988325514, 'max_depth': 7, 'subsample': 0.575563408171954, 'colsample_bytree': 0.8047215114014781, 'min_child_weight': 10, 'gamma': 0.2162279418063069, 'scale_pos_weight': 10.690364977521803}. Best is trial 15 with value: 0.8910065176289019.\n",
      "[I 2024-01-06 09:21:13,382] Trial 22 finished with value: 0.8909912133924929 and parameters: {'n_estimators': 795, 'learning_rate': 0.011466022262693491, 'max_depth': 7, 'subsample': 0.5931417112791061, 'colsample_bytree': 0.7784808319439234, 'min_child_weight': 9, 'gamma': 0.29236915738049185, 'scale_pos_weight': 6.923765126744366}. Best is trial 15 with value: 0.8910065176289019.\n",
      "[I 2024-01-06 09:21:18,358] Trial 23 finished with value: 0.8912798745814239 and parameters: {'n_estimators': 845, 'learning_rate': 0.010803571592777911, 'max_depth': 6, 'subsample': 0.5905061719784149, 'colsample_bytree': 0.7359977581046139, 'min_child_weight': 8, 'gamma': 0.30945454399578964, 'scale_pos_weight': 11.51544120546627}. Best is trial 23 with value: 0.8912798745814239.\n",
      "[I 2024-01-06 09:21:24,679] Trial 24 finished with value: 0.8906263428460228 and parameters: {'n_estimators': 965, 'learning_rate': 0.009332458001995137, 'max_depth': 6, 'subsample': 0.6115529932508339, 'colsample_bytree': 0.6995721419926264, 'min_child_weight': 8, 'gamma': 0.31834791941936125, 'scale_pos_weight': 45.20377773763123}. Best is trial 23 with value: 0.8912798745814239.\n",
      "[I 2024-01-06 09:21:28,681] Trial 25 finished with value: 0.8897013168266134 and parameters: {'n_estimators': 864, 'learning_rate': 0.0408167256029947, 'max_depth': 5, 'subsample': 0.5789369338508219, 'colsample_bytree': 0.7192205816249083, 'min_child_weight': 6, 'gamma': 0.4748775631667896, 'scale_pos_weight': 24.91233177810242}. Best is trial 23 with value: 0.8912798745814239.\n",
      "[I 2024-01-06 09:21:34,598] Trial 26 finished with value: 0.8895393888438353 and parameters: {'n_estimators': 842, 'learning_rate': 0.018017250768260294, 'max_depth': 8, 'subsample': 0.8988158987691717, 'colsample_bytree': 0.6243583577557861, 'min_child_weight': 8, 'gamma': 0.5688359122438179, 'scale_pos_weight': 13.187170828542804}. Best is trial 23 with value: 0.8912798745814239.\n",
      "[I 2024-01-06 09:21:40,178] Trial 27 finished with value: 0.8880578112701214 and parameters: {'n_estimators': 912, 'learning_rate': 0.0010161704975599564, 'max_depth': 6, 'subsample': 0.4241975549911494, 'colsample_bytree': 0.7569127809955137, 'min_child_weight': 20, 'gamma': 0.6431801388186393, 'scale_pos_weight': 7.20837554692855}. Best is trial 23 with value: 0.8912798745814239.\n",
      "[I 2024-01-06 09:21:43,612] Trial 28 finished with value: 0.8891247726302635 and parameters: {'n_estimators': 786, 'learning_rate': 0.012343868847958715, 'max_depth': 3, 'subsample': 0.6230377635959874, 'colsample_bytree': 0.5036949788427121, 'min_child_weight': 4, 'gamma': 0.292329954899189, 'scale_pos_weight': 20.82139554320226}. Best is trial 23 with value: 0.8912798745814239.\n",
      "[I 2024-01-06 09:21:46,248] Trial 29 finished with value: 0.8833568333112022 and parameters: {'n_estimators': 497, 'learning_rate': 0.007266178327186461, 'max_depth': 5, 'subsample': 0.8711250144746934, 'colsample_bytree': 0.3587173138456352, 'min_child_weight': 13, 'gamma': 0.11851605034287901, 'scale_pos_weight': 9.4721769691416}. Best is trial 23 with value: 0.8912798745814239.\n",
      "[I 2024-01-06 09:21:50,655] Trial 30 finished with value: 0.8904893304691839 and parameters: {'n_estimators': 1000, 'learning_rate': 0.008546259135881138, 'max_depth': 4, 'subsample': 0.5334083340644329, 'colsample_bytree': 0.9331512202924088, 'min_child_weight': 9, 'gamma': 0.09224939230860627, 'scale_pos_weight': 30.45985318901199}. Best is trial 23 with value: 0.8912798745814239.\n",
      "[I 2024-01-06 09:21:56,068] Trial 31 finished with value: 0.8905736941755487 and parameters: {'n_estimators': 764, 'learning_rate': 0.009792665163295602, 'max_depth': 8, 'subsample': 0.5621906352061948, 'colsample_bytree': 0.8091890744542346, 'min_child_weight': 10, 'gamma': 0.2505799396117897, 'scale_pos_weight': 8.164561540413526}. Best is trial 23 with value: 0.8912798745814239.\n",
      "[I 2024-01-06 09:22:00,130] Trial 32 finished with value: 0.8907840515396791 and parameters: {'n_estimators': 633, 'learning_rate': 0.012347285465459521, 'max_depth': 7, 'subsample': 0.6096964071220072, 'colsample_bytree': 0.8099251487078638, 'min_child_weight': 7, 'gamma': 0.23448354038411895, 'scale_pos_weight': 16.281258138866274}. Best is trial 23 with value: 0.8912798745814239.\n",
      "[I 2024-01-06 09:22:03,686] Trial 33 finished with value: 0.8912438823067242 and parameters: {'n_estimators': 555, 'learning_rate': 0.017917063759978518, 'max_depth': 7, 'subsample': 0.7370892856325626, 'colsample_bytree': 0.6611741009837223, 'min_child_weight': 12, 'gamma': 0.3265429146089939, 'scale_pos_weight': 6.905038646903016}. Best is trial 23 with value: 0.8912798745814239.\n",
      "[I 2024-01-06 09:22:07,237] Trial 34 finished with value: 0.8913244710049016 and parameters: {'n_estimators': 593, 'learning_rate': 0.018661932757172928, 'max_depth': 6, 'subsample': 0.7516021490483511, 'colsample_bytree': 0.6570314632654506, 'min_child_weight': 13, 'gamma': 0.33961987536981625, 'scale_pos_weight': 5.775642202860894}. Best is trial 34 with value: 0.8913244710049016.\n",
      "[I 2024-01-06 09:22:10,516] Trial 35 finished with value: 0.8905367857438912 and parameters: {'n_estimators': 557, 'learning_rate': 0.036769722691483285, 'max_depth': 6, 'subsample': 0.7533537965072541, 'colsample_bytree': 0.6476067169751516, 'min_child_weight': 13, 'gamma': 0.3433102878491304, 'scale_pos_weight': 18.380210793659902}. Best is trial 34 with value: 0.8913244710049016.\n",
      "[I 2024-01-06 09:22:12,514] Trial 36 finished with value: 0.8888545780749512 and parameters: {'n_estimators': 414, 'learning_rate': 0.018013881641632166, 'max_depth': 3, 'subsample': 0.6583424137311278, 'colsample_bytree': 0.6856494398538732, 'min_child_weight': 15, 'gamma': 0.44028624430709906, 'scale_pos_weight': 28.486893305349604}. Best is trial 34 with value: 0.8913244710049016.\n",
      "[I 2024-01-06 09:22:16,016] Trial 37 finished with value: 0.8913259832157838 and parameters: {'n_estimators': 599, 'learning_rate': 0.021888937480758056, 'max_depth': 5, 'subsample': 0.8601267166047363, 'colsample_bytree': 0.5614251273925326, 'min_child_weight': 15, 'gamma': 0.5119500088279239, 'scale_pos_weight': 15.040427239217717}. Best is trial 37 with value: 0.8913259832157838.\n",
      "[I 2024-01-06 09:22:19,449] Trial 38 finished with value: 0.8910498391592637 and parameters: {'n_estimators': 633, 'learning_rate': 0.022275587088489746, 'max_depth': 6, 'subsample': 0.8799212408202793, 'colsample_bytree': 0.568397401899607, 'min_child_weight': 16, 'gamma': 0.6968404348401633, 'scale_pos_weight': 39.92526693399856}. Best is trial 37 with value: 0.8913259832157838.\n",
      "[I 2024-01-06 09:22:21,594] Trial 39 finished with value: 0.8805477884578132 and parameters: {'n_estimators': 593, 'learning_rate': 0.060207346324251065, 'max_depth': 1, 'subsample': 0.8008304630941004, 'colsample_bytree': 0.4687398860624252, 'min_child_weight': 12, 'gamma': 0.49791186697954876, 'scale_pos_weight': 14.92900570860473}. Best is trial 37 with value: 0.8913259832157838.\n",
      "[I 2024-01-06 09:22:24,378] Trial 40 finished with value: 0.8896047340147994 and parameters: {'n_estimators': 514, 'learning_rate': 0.033204882207258604, 'max_depth': 5, 'subsample': 0.9152693471862384, 'colsample_bytree': 0.3381376793267702, 'min_child_weight': 14, 'gamma': 0.9295821609250401, 'scale_pos_weight': 39.34784593554251}. Best is trial 37 with value: 0.8913259832157838.\n",
      "[I 2024-01-06 09:22:27,927] Trial 41 finished with value: 0.8910387845665744 and parameters: {'n_estimators': 628, 'learning_rate': 0.022610742290053595, 'max_depth': 6, 'subsample': 0.8657686300398901, 'colsample_bytree': 0.5934975125091513, 'min_child_weight': 16, 'gamma': 0.7413783609540512, 'scale_pos_weight': 42.470785430375784}. Best is trial 37 with value: 0.8913259832157838.\n",
      "[I 2024-01-06 09:22:31,723] Trial 42 finished with value: 0.8907037498304282 and parameters: {'n_estimators': 662, 'learning_rate': 0.020059887359228677, 'max_depth': 6, 'subsample': 0.8393652809223495, 'colsample_bytree': 0.5445320084406394, 'min_child_weight': 17, 'gamma': 0.7183783654029199, 'scale_pos_weight': 84.54843599815004}. Best is trial 37 with value: 0.8913259832157838.\n",
      "[I 2024-01-06 09:22:34,522] Trial 43 finished with value: 0.8909813591861789 and parameters: {'n_estimators': 531, 'learning_rate': 0.045843702379742376, 'max_depth': 4, 'subsample': 0.7328633104402236, 'colsample_bytree': 0.5579433278515467, 'min_child_weight': 14, 'gamma': 0.8457559379143891, 'scale_pos_weight': 47.882289270475695}. Best is trial 37 with value: 0.8913259832157838.\n",
      "[I 2024-01-06 09:22:38,215] Trial 44 finished with value: 0.890793146881043 and parameters: {'n_estimators': 591, 'learning_rate': 0.024357586049654198, 'max_depth': 6, 'subsample': 0.9418937616317203, 'colsample_bytree': 0.6463258529317172, 'min_child_weight': 16, 'gamma': 0.9777295599295603, 'scale_pos_weight': 36.587234110626355}. Best is trial 37 with value: 0.8913259832157838.\n",
      "[I 2024-01-06 09:22:41,158] Trial 45 finished with value: 0.8884103219761881 and parameters: {'n_estimators': 384, 'learning_rate': 0.026334549074508197, 'max_depth': 8, 'subsample': 0.687548141000217, 'colsample_bytree': 0.3819520349698358, 'min_child_weight': 19, 'gamma': 0.6541552991192643, 'scale_pos_weight': 20.367942003144687}. Best is trial 37 with value: 0.8913259832157838.\n",
      "[I 2024-01-06 09:22:44,005] Trial 46 finished with value: 0.890223578723215 and parameters: {'n_estimators': 484, 'learning_rate': 0.015365368568522554, 'max_depth': 5, 'subsample': 0.8266225563970733, 'colsample_bytree': 0.5002576228751037, 'min_child_weight': 15, 'gamma': 0.3845470509833598, 'scale_pos_weight': 5.996769166353832}. Best is trial 37 with value: 0.8913259832157838.\n",
      "[I 2024-01-06 09:22:46,748] Trial 47 finished with value: 0.8864710219002353 and parameters: {'n_estimators': 547, 'learning_rate': 0.03222738451753588, 'max_depth': 4, 'subsample': 0.7295553184103571, 'colsample_bytree': 0.258108452587673, 'min_child_weight': 12, 'gamma': 0.5397963180303507, 'scale_pos_weight': 27.057491797501335}. Best is trial 37 with value: 0.8913259832157838.\n",
      "[I 2024-01-06 09:22:50,769] Trial 48 finished with value: 0.8892203537403433 and parameters: {'n_estimators': 638, 'learning_rate': 0.01754518818615713, 'max_depth': 7, 'subsample': 0.7641679529172506, 'colsample_bytree': 0.41457135482328855, 'min_child_weight': 17, 'gamma': 0.4248150492016203, 'scale_pos_weight': 97.6470114308504}. Best is trial 37 with value: 0.8913259832157838.\n",
      "[I 2024-01-06 09:22:56,525] Trial 49 finished with value: 0.8825039794877977 and parameters: {'n_estimators': 739, 'learning_rate': 0.05641048992200844, 'max_depth': 9, 'subsample': 0.6617101900762896, 'colsample_bytree': 0.7317368132990605, 'min_child_weight': 16, 'gamma': 0.8019458763496842, 'scale_pos_weight': 11.33466479128306}. Best is trial 37 with value: 0.8913259832157838.\n"
     ]
    },
    {
     "name": "stdout",
     "output_type": "stream",
     "text": [
      "Number of finished trials:  50\n",
      "Best trial:\n",
      "  Value: 0.8913259832157838\n",
      "  Params: \n",
      "    n_estimators: 599\n",
      "    learning_rate: 0.021888937480758056\n",
      "    max_depth: 5\n",
      "    subsample: 0.8601267166047363\n",
      "    colsample_bytree: 0.5614251273925326\n",
      "    min_child_weight: 15\n",
      "    gamma: 0.5119500088279239\n",
      "    scale_pos_weight: 15.040427239217717\n"
     ]
    }
   ],
   "source": [
    "study = optuna.create_study(direction=\"maximize\")\n",
    "study.optimize(objective, n_trials=50, timeout=600)\n",
    "\n",
    "print(\"Number of finished trials: \", len(study.trials))\n",
    "print(\"Best trial:\")\n",
    "trial = study.best_trial\n",
    "\n",
    "print(\"  Value: {}\".format(trial.value))\n",
    "print(\"  Params: \")\n",
    "for key, value in trial.params.items():\n",
    "    print(\"    {}: {}\".format(key, value))"
   ]
  },
  {
   "cell_type": "code",
   "execution_count": 18,
   "metadata": {},
   "outputs": [],
   "source": [
    "params = trial.params\n",
    "\n",
    "model_opt = xgb.XGBClassifier(**params)\n",
    "    \n",
    "# let's create a pipeline with our previous pipeline (preprocessor) and the model\n",
    "xgb_opt = Pipeline(steps=[\n",
    "    ('preprocessor', pipeline),\n",
    "    ('xgboost', model_opt)\n",
    "])\n",
    "\n",
    "# let's train our model\n",
    "xgb_opt.fit(train_df, train_df['Exited'])\n",
    "\n",
    "# let's make predictions on the test set\n",
    "predictions_optimized = xgb_opt.predict_proba(test_df)[:, 1]"
   ]
  },
  {
   "cell_type": "code",
   "execution_count": 19,
   "metadata": {},
   "outputs": [
    {
     "name": "stderr",
     "output_type": "stream",
     "text": [
      "[Parallel(n_jobs=-1)]: Using backend LokyBackend with 12 concurrent workers.\n",
      "[Parallel(n_jobs=-1)]: Done  10 out of  10 | elapsed:    6.4s finished\n",
      "[Parallel(n_jobs=-1)]: Using backend LokyBackend with 12 concurrent workers.\n"
     ]
    },
    {
     "name": "stdout",
     "output_type": "stream",
     "text": [
      "ROC AUC scores for the 10 folds:  [0.88942587 0.88541528 0.88847853 0.88537149 0.88457075 0.89307202\n",
      " 0.88567355 0.88969507 0.88567    0.8826853 ]\n",
      "Mean ROC AUC score: 0.887\n",
      "ROC AUC scores for the 10 folds:  [0.89225227 0.88752546 0.8907082  0.88884435 0.88739779 0.89551771\n",
      " 0.88856111 0.89377666 0.8884031  0.88632231]\n",
      "Mean ROC AUC score: 0.890\n"
     ]
    },
    {
     "name": "stderr",
     "output_type": "stream",
     "text": [
      "[Parallel(n_jobs=-1)]: Done  10 out of  10 | elapsed:   21.1s finished\n"
     ]
    }
   ],
   "source": [
    "cv = StratifiedKFold(n_splits=10, shuffle=True, random_state=42)\n",
    "\n",
    "scores = cross_val_score(estimator=xgb_pipe, \n",
    "                         X=train_df, \n",
    "                         y=train_df['Exited'], \n",
    "                         cv=cv,\n",
    "                         scoring='roc_auc',\n",
    "                         n_jobs=-1,\n",
    "                         verbose=1)\n",
    "\n",
    "\n",
    "scores_opt = cross_val_score(estimator=xgb_opt, \n",
    "                         X=train_df, \n",
    "                         y=train_df['Exited'], \n",
    "                         cv=cv,\n",
    "                         scoring='roc_auc',\n",
    "                         n_jobs=-1,\n",
    "                         verbose=1)\n",
    "\n",
    "# print scores and scores_opt\n",
    "print('ROC AUC scores for the 10 folds: ', scores)\n",
    "print('Mean ROC AUC score: %.3f' % scores.mean())\n",
    "\n",
    "print('ROC AUC scores for the 10 folds: ', scores_opt)\n",
    "print('Mean ROC AUC score: %.3f' % scores_opt.mean())"
   ]
  },
  {
   "cell_type": "code",
   "execution_count": 20,
   "metadata": {},
   "outputs": [
    {
     "data": {
      "image/png": "[encoded data removed]",
      "text/plain": [
       "<Figure size 1000x500 with 4 Axes>"
      ]
     },
     "metadata": {},
     "output_type": "display_data"
    }
   ],
   "source": [
    "# plot confusion matrix for xgb and xgb_opt side by side with sns and axis\n",
    "fig, (ax1, ax2) = plt.subplots(1, 2, figsize=(10, 5))\n",
    "sns.heatmap(confusion_matrix(train_df['Exited'], xgb_pipe.predict(train_df)), annot=True, fmt='d', ax=ax1)\n",
    "sns.heatmap(confusion_matrix(train_df['Exited'], xgb_opt.predict(train_df)), annot=True, fmt='d', ax=ax2)\n",
    "ax1.set_title('XGB')\n",
    "ax2.set_title('XGB Optimized')\n",
    "ax1.set_ylabel('True label')\n",
    "ax1.set_xlabel('Predicted label')\n",
    "ax2.set_ylabel('True label')\n",
    "ax2.set_xlabel('Predicted label')\n",
    "plt.show()"
   ]
  },
  {
   "cell_type": "code",
   "execution_count": 21,
   "metadata": {},
   "outputs": [
    {
     "data": {
      "image/png": "[encoded data removed]",
      "text/plain": [
       "<Figure size 1000x500 with 2 Axes>"
      ]
     },
     "metadata": {},
     "output_type": "display_data"
    }
   ],
   "source": [
    "# plot roc curve for xgb and xgb_opt side by side with sns and axis\n",
    "fig, (ax1, ax2) = plt.subplots(1, 2, figsize=(10, 5))\n",
    "fpr_xgb, tpr_xgb, _ = roc_curve(train_df['Exited'], xgb_pipe.predict_proba(train_df)[:, 1])\n",
    "fpr_xgb_opt, tpr_xgb_opt, _ = roc_curve(train_df['Exited'], xgb_opt.predict_proba(train_df)[:, 1])\n",
    "roc_auc_xgb = auc(fpr_xgb, tpr_xgb)\n",
    "roc_auc_xgb_opt = auc(fpr_xgb_opt, tpr_xgb_opt)\n",
    "ax1.plot(fpr_xgb, tpr_xgb, color='darkorange', lw=2, label='ROC curve (XGB) (AUC = %0.3f)' % roc_auc_xgb)\n",
    "ax2.plot(fpr_xgb_opt, tpr_xgb_opt, color='darkorange', lw=2, label='ROC curve (XGB Optimized) (AUC = %0.3f)' % roc_auc_xgb_opt)\n",
    "ax1.plot([0, 1], [0, 1], color='navy', lw=2, linestyle='--')\n",
    "ax2.plot([0, 1], [0, 1], color='navy', lw=2, linestyle='--')\n",
    "ax1.set_title('XGB')\n",
    "ax2.set_title('XGB Optimized')\n",
    "ax1.set_ylabel('True Positive Rate')\n",
    "ax1.set_xlabel('False Positive Rate')\n",
    "ax2.set_xlabel('False Positive Rate')\n",
    "ax2.set_ylabel('True Positive Rate')\n",
    "ax1.legend(loc=\"lower right\")\n",
    "ax2.legend(loc=\"lower right\")\n",
    "plt.show()\n"
   ]
  },
  {
   "cell_type": "code",
   "execution_count": 22,
   "metadata": {},
   "outputs": [
    {
     "name": "stdout",
     "output_type": "stream",
     "text": [
      "[learning_curve] Training set sizes: [  1485  17823  34161  50500  66838  83176  99515 115853 132191 148530]\n"
     ]
    },
    {
     "name": "stderr",
     "output_type": "stream",
     "text": [
      "[Parallel(n_jobs=-1)]: Using backend LokyBackend with 12 concurrent workers.\n",
      "[Parallel(n_jobs=-1)]: Done 100 out of 100 | elapsed:   22.6s finished\n",
      "[Parallel(n_jobs=-1)]: Using backend LokyBackend with 12 concurrent workers.\n"
     ]
    },
    {
     "name": "stdout",
     "output_type": "stream",
     "text": [
      "[learning_curve] Training set sizes: [  1485  17823  34161  50500  66838  83176  99515 115853 132191 148530]\n"
     ]
    },
    {
     "name": "stderr",
     "output_type": "stream",
     "text": [
      "[Parallel(n_jobs=-1)]: Done 100 out of 100 | elapsed:  1.7min finished\n"
     ]
    },
    {
     "data": {
      "image/png": "[encoded data removed]",
      "text/plain": [
       "<Figure size 1000x500 with 2 Axes>"
      ]
     },
     "metadata": {},
     "output_type": "display_data"
    }
   ],
   "source": [
    "# plot learning curve for xgb and xgb_opt side by side with sns and axis\n",
    "fig, (ax1, ax2) = plt.subplots(1, 2, figsize=(10, 5))\n",
    "train_sizes, train_scores, test_scores = learning_curve(xgb_pipe, train_df, train_df['Exited'], cv=cv, scoring='roc_auc', n_jobs=-1, train_sizes=np.linspace(0.01, 1.0, 10), verbose=1)\n",
    "train_sizes_opt, train_scores_opt, test_scores_opt = learning_curve(xgb_opt, train_df, train_df['Exited'], cv=cv, scoring='roc_auc', n_jobs=-1, train_sizes=np.linspace(0.01, 1.0, 10), verbose=1)\n",
    "train_scores_mean = np.mean(train_scores, axis=1)\n",
    "train_scores_mean_opt = np.mean(train_scores_opt, axis=1)\n",
    "train_scores_std = np.std(train_scores, axis=1)\n",
    "train_scores_std_opt = np.std(train_scores_opt, axis=1)\n",
    "test_scores_mean = np.mean(test_scores, axis=1)\n",
    "test_scores_mean_opt = np.mean(test_scores_opt, axis=1)\n",
    "test_scores_std = np.std(test_scores, axis=1)\n",
    "test_scores_std_opt = np.std(test_scores_opt, axis=1)\n",
    "ax1.grid()\n",
    "ax2.grid()\n",
    "ax1.fill_between(train_sizes, train_scores_mean - train_scores_std, train_scores_mean + train_scores_std, alpha=0.1, color='r')\n",
    "ax1.fill_between(train_sizes, test_scores_mean - test_scores_std, test_scores_mean + test_scores_std, alpha=0.1, color='g')\n",
    "ax2.fill_between(train_sizes_opt, train_scores_mean_opt - train_scores_std_opt, train_scores_mean_opt + train_scores_std_opt, alpha=0.1, color='r')\n",
    "ax2.fill_between(train_sizes_opt, test_scores_mean_opt - test_scores_std_opt, test_scores_mean_opt + test_scores_std_opt, alpha=0.1, color='g')\n",
    "ax1.plot(train_sizes, train_scores_mean, 'o-', color='r', label='Training score')\n",
    "ax1.plot(train_sizes, test_scores_mean, 'o-', color='g', label='Cross-validation score')\n",
    "ax2.plot(train_sizes_opt, train_scores_mean_opt, 'o-', color='r', label='Training score')\n",
    "ax2.plot(train_sizes_opt, test_scores_mean_opt, 'o-', color='g', label='Cross-validation score')\n",
    "ax1.set_title('XGB')\n",
    "ax2.set_title('XGB Optimized')\n",
    "ax1.set_xlabel('Training examples')\n",
    "ax1.set_ylabel('Score')\n",
    "ax2.set_xlabel('Training examples')\n",
    "ax2.set_ylabel('Score')\n",
    "ax1.legend(loc='best')\n",
    "ax2.legend(loc='best')\n",
    "plt.show()"
   ]
  },
  {
   "cell_type": "markdown",
   "metadata": {},
   "source": [
    "## 3) Submission"
   ]
  },
  {
   "cell_type": "code",
   "execution_count": 23,
   "metadata": {},
   "outputs": [],
   "source": [
    "# add to submission dataframe\n",
    "submission['Exited'] = predictions_optimized\n",
    "\n",
    "# save to csv\n",
    "submission.to_csv('data/submission_7.csv', index=False)"
   ]
  },
  {
   "cell_type": "markdown",
   "metadata": {},
   "source": [
    "# Best value for my model was: 0.88628 - submission 7"
   ]
  }
 ],
 "metadata": {
  "kernelspec": {
   "display_name": "Python 3",
   "language": "python",
   "name": "python3"
  },
  "language_info": {
   "codemirror_mode": {
    "name": "ipython",
    "version": 3
   },
   "file_extension": ".py",
   "mimetype": "text/x-python",
   "name": "python",
   "nbconvert_exporter": "python",
   "pygments_lexer": "ipython3",
   "version": "3.10.6"
  }
 },
 "nbformat": 4,
 "nbformat_minor": 2
}
