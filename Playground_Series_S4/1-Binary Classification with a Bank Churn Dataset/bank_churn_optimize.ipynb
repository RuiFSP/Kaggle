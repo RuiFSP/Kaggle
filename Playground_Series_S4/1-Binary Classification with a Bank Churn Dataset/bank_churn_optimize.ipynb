{
 "cells": [
  {
   "cell_type": "markdown",
   "metadata": {},
   "source": [
    "# Binary Classification with a Bank Churn Dataset\n",
    "## Playground Series - Season 4, Episode 1"
   ]
  },
  {
   "cell_type": "code",
   "execution_count": 15,
   "metadata": {},
   "outputs": [],
   "source": [
    "#imports\n",
    "import pandas as pd\n",
    "import numpy as np\n",
    "import matplotlib.pyplot as plt\n",
    "import seaborn as sns\n",
    "import warnings\n",
    "import xgboost as xgb\n",
    "import optuna\n",
    "from datetime import datetime as dt\n",
    "\n",
    "# STATISTICS\n",
    "from statsmodels.graphics.gofplots import qqplot\n",
    "\n",
    "#notebook settings\n",
    "pd.set_option('display.max_columns', None)\n",
    "warnings.filterwarnings('ignore')\n",
    "\n",
    "#category encoders\n",
    "from category_encoders import BinaryEncoder\n",
    "\n",
    "#sklearn libraries\n",
    "from sklearn.preprocessing import StandardScaler, MinMaxScaler, Normalizer, RobustScaler\n",
    "from sklearn.preprocessing import KBinsDiscretizer, Binarizer, LabelEncoder, OneHotEncoder, TargetEncoder, LabelEncoder, OrdinalEncoder\n",
    "from sklearn.impute import SimpleImputer\n",
    "# metrics\n",
    "from sklearn.metrics import confusion_matrix,roc_auc_score,roc_curve,classification_report,auc, accuracy_score\n",
    "# imbalanced datasets\n",
    "from imblearn.over_sampling import SMOTE,RandomOverSampler\n",
    "from imblearn.under_sampling import TomekLinks,RandomUnderSampler\n",
    "# models\n",
    "from sklearn.linear_model import LogisticRegression\n",
    "from sklearn.ensemble import RandomForestClassifier, GradientBoostingClassifier, VotingClassifier, AdaBoostClassifier\n",
    "from sklearn.tree import DecisionTreeClassifier, DecisionTreeRegressor\n",
    "from sklearn.neighbors import KNeighborsClassifier\n",
    "from sklearn.svm import SVC\n",
    "# feature selection\n",
    "from sklearn.feature_selection import SelectKBest, chi2, f_classif, SelectFromModel\n",
    "# model selection\n",
    "from sklearn.model_selection import train_test_split, cross_val_score, learning_curve\n",
    "from sklearn.model_selection import GridSearchCV, RandomizedSearchCV, StratifiedKFold, KFold\n",
    "# pipelines\n",
    "from sklearn.pipeline import make_pipeline, Pipeline\n",
    "from sklearn.base import BaseEstimator, ClassifierMixin, TransformerMixin\n",
    "from sklearn.compose import ColumnTransformer, make_column_transformer\n",
    "from sklearn.utils import class_weight"
   ]
  },
  {
   "cell_type": "markdown",
   "metadata": {},
   "source": [
    "## READING FILES"
   ]
  },
  {
   "cell_type": "markdown",
   "metadata": {},
   "source": [
    "**Bank Customer Churn Dataset**\n",
    "\n",
    "The Bank Customer Churn Dataset is a commonly used dataset for predicting customer churn in the banking industry. It contains information on bank customers who either left the bank or continue to be customers. The dataset includes the following attributes:\n",
    "- Customer ID: A unique identifier for each customer.\n",
    "- Surname: The customer's surname or last name.\n",
    "- Credit Score: A numerical value representing the customer's credit score.\n",
    "- Geography: The country where the customer resides (France, Spain, or Germany).\n",
    "- Gender: The customer's gender (Male or Female).\n",
    "- Age: The customer's age.\n",
    "- Tenure: The number of years the customer has been with the bank.\n",
    "- Balance: The customer's account balance.\n",
    "- NumOfProducts: The number of bank products the customer uses (e.g., savings account, credit card).\n",
    "- HasCrCard: Whether the customer has a credit card (1 = yes, 0 = no).\n",
    "- IsActiveMember: Whether the customer is an active member (1 = yes, 0 = no).\n",
    "- EstimatedSalary: The estimated salary of the customer.\n",
    "- Exited: Whether the customer has churned (1 = yes, 0 = no)."
   ]
  },
  {
   "cell_type": "code",
   "execution_count": 16,
   "metadata": {},
   "outputs": [],
   "source": [
    "train_df = pd.read_csv('data/train.csv', index_col='id')\n",
    "test_df = pd.read_csv('data/test.csv',index_col='id')\n",
    "submission = pd.read_csv('data/sample_submission.csv')"
   ]
  },
  {
   "cell_type": "markdown",
   "metadata": {},
   "source": [
    "## 1) EDA - Exploratory Data Analysis"
   ]
  },
  {
   "cell_type": "markdown",
   "metadata": {},
   "source": [
    "### 1.1) Checking for missing values"
   ]
  },
  {
   "cell_type": "code",
   "execution_count": 17,
   "metadata": {},
   "outputs": [
    {
     "data": {
      "text/plain": [
       "CustomerId         0\n",
       "Surname            0\n",
       "CreditScore        0\n",
       "Geography          0\n",
       "Gender             0\n",
       "Age                0\n",
       "Tenure             0\n",
       "Balance            0\n",
       "NumOfProducts      0\n",
       "HasCrCard          0\n",
       "IsActiveMember     0\n",
       "EstimatedSalary    0\n",
       "Exited             0\n",
       "dtype: int64"
      ]
     },
     "execution_count": 17,
     "metadata": {},
     "output_type": "execute_result"
    }
   ],
   "source": [
    "train_df.isnull().sum()"
   ]
  },
  {
   "cell_type": "code",
   "execution_count": 18,
   "metadata": {},
   "outputs": [
    {
     "data": {
      "text/html": [
       "<div>\n",
       "<style scoped>\n",
       "    .dataframe tbody tr th:only-of-type {\n",
       "        vertical-align: middle;\n",
       "    }\n",
       "\n",
       "    .dataframe tbody tr th {\n",
       "        vertical-align: top;\n",
       "    }\n",
       "\n",
       "    .dataframe thead th {\n",
       "        text-align: right;\n",
       "    }\n",
       "</style>\n",
       "<table border=\"1\" class=\"dataframe\">\n",
       "  <thead>\n",
       "    <tr style=\"text-align: right;\">\n",
       "      <th></th>\n",
       "      <th>CustomerId</th>\n",
       "      <th>Surname</th>\n",
       "      <th>CreditScore</th>\n",
       "      <th>Geography</th>\n",
       "      <th>Gender</th>\n",
       "      <th>Age</th>\n",
       "      <th>Tenure</th>\n",
       "      <th>Balance</th>\n",
       "      <th>NumOfProducts</th>\n",
       "      <th>HasCrCard</th>\n",
       "      <th>IsActiveMember</th>\n",
       "      <th>EstimatedSalary</th>\n",
       "      <th>Exited</th>\n",
       "    </tr>\n",
       "    <tr>\n",
       "      <th>id</th>\n",
       "      <th></th>\n",
       "      <th></th>\n",
       "      <th></th>\n",
       "      <th></th>\n",
       "      <th></th>\n",
       "      <th></th>\n",
       "      <th></th>\n",
       "      <th></th>\n",
       "      <th></th>\n",
       "      <th></th>\n",
       "      <th></th>\n",
       "      <th></th>\n",
       "      <th></th>\n",
       "    </tr>\n",
       "  </thead>\n",
       "  <tbody>\n",
       "    <tr>\n",
       "      <th>0</th>\n",
       "      <td>15674932</td>\n",
       "      <td>Okwudilichukwu</td>\n",
       "      <td>668</td>\n",
       "      <td>France</td>\n",
       "      <td>Male</td>\n",
       "      <td>33.0</td>\n",
       "      <td>3</td>\n",
       "      <td>0.00</td>\n",
       "      <td>2</td>\n",
       "      <td>1.0</td>\n",
       "      <td>0.0</td>\n",
       "      <td>181449.97</td>\n",
       "      <td>0</td>\n",
       "    </tr>\n",
       "    <tr>\n",
       "      <th>1</th>\n",
       "      <td>15749177</td>\n",
       "      <td>Okwudiliolisa</td>\n",
       "      <td>627</td>\n",
       "      <td>France</td>\n",
       "      <td>Male</td>\n",
       "      <td>33.0</td>\n",
       "      <td>1</td>\n",
       "      <td>0.00</td>\n",
       "      <td>2</td>\n",
       "      <td>1.0</td>\n",
       "      <td>1.0</td>\n",
       "      <td>49503.50</td>\n",
       "      <td>0</td>\n",
       "    </tr>\n",
       "    <tr>\n",
       "      <th>2</th>\n",
       "      <td>15694510</td>\n",
       "      <td>Hsueh</td>\n",
       "      <td>678</td>\n",
       "      <td>France</td>\n",
       "      <td>Male</td>\n",
       "      <td>40.0</td>\n",
       "      <td>10</td>\n",
       "      <td>0.00</td>\n",
       "      <td>2</td>\n",
       "      <td>1.0</td>\n",
       "      <td>0.0</td>\n",
       "      <td>184866.69</td>\n",
       "      <td>0</td>\n",
       "    </tr>\n",
       "    <tr>\n",
       "      <th>3</th>\n",
       "      <td>15741417</td>\n",
       "      <td>Kao</td>\n",
       "      <td>581</td>\n",
       "      <td>France</td>\n",
       "      <td>Male</td>\n",
       "      <td>34.0</td>\n",
       "      <td>2</td>\n",
       "      <td>148882.54</td>\n",
       "      <td>1</td>\n",
       "      <td>1.0</td>\n",
       "      <td>1.0</td>\n",
       "      <td>84560.88</td>\n",
       "      <td>0</td>\n",
       "    </tr>\n",
       "    <tr>\n",
       "      <th>4</th>\n",
       "      <td>15766172</td>\n",
       "      <td>Chiemenam</td>\n",
       "      <td>716</td>\n",
       "      <td>Spain</td>\n",
       "      <td>Male</td>\n",
       "      <td>33.0</td>\n",
       "      <td>5</td>\n",
       "      <td>0.00</td>\n",
       "      <td>2</td>\n",
       "      <td>1.0</td>\n",
       "      <td>1.0</td>\n",
       "      <td>15068.83</td>\n",
       "      <td>0</td>\n",
       "    </tr>\n",
       "  </tbody>\n",
       "</table>\n",
       "</div>"
      ],
      "text/plain": [
       "    CustomerId         Surname  CreditScore Geography Gender   Age  Tenure  \\\n",
       "id                                                                           \n",
       "0     15674932  Okwudilichukwu          668    France   Male  33.0       3   \n",
       "1     15749177   Okwudiliolisa          627    France   Male  33.0       1   \n",
       "2     15694510           Hsueh          678    France   Male  40.0      10   \n",
       "3     15741417             Kao          581    France   Male  34.0       2   \n",
       "4     15766172       Chiemenam          716     Spain   Male  33.0       5   \n",
       "\n",
       "      Balance  NumOfProducts  HasCrCard  IsActiveMember  EstimatedSalary  \\\n",
       "id                                                                         \n",
       "0        0.00              2        1.0             0.0        181449.97   \n",
       "1        0.00              2        1.0             1.0         49503.50   \n",
       "2        0.00              2        1.0             0.0        184866.69   \n",
       "3   148882.54              1        1.0             1.0         84560.88   \n",
       "4        0.00              2        1.0             1.0         15068.83   \n",
       "\n",
       "    Exited  \n",
       "id          \n",
       "0        0  \n",
       "1        0  \n",
       "2        0  \n",
       "3        0  \n",
       "4        0  "
      ]
     },
     "execution_count": 18,
     "metadata": {},
     "output_type": "execute_result"
    }
   ],
   "source": [
    "train_df.head()"
   ]
  },
  {
   "cell_type": "code",
   "execution_count": 19,
   "metadata": {},
   "outputs": [
    {
     "data": {
      "text/plain": [
       "CustomerId         0\n",
       "Surname            0\n",
       "CreditScore        0\n",
       "Geography          0\n",
       "Gender             0\n",
       "Age                0\n",
       "Tenure             0\n",
       "Balance            0\n",
       "NumOfProducts      0\n",
       "HasCrCard          0\n",
       "IsActiveMember     0\n",
       "EstimatedSalary    0\n",
       "dtype: int64"
      ]
     },
     "execution_count": 19,
     "metadata": {},
     "output_type": "execute_result"
    }
   ],
   "source": [
    "test_df.isnull().sum()"
   ]
  },
  {
   "cell_type": "code",
   "execution_count": 20,
   "metadata": {},
   "outputs": [
    {
     "data": {
      "text/html": [
       "<div>\n",
       "<style scoped>\n",
       "    .dataframe tbody tr th:only-of-type {\n",
       "        vertical-align: middle;\n",
       "    }\n",
       "\n",
       "    .dataframe tbody tr th {\n",
       "        vertical-align: top;\n",
       "    }\n",
       "\n",
       "    .dataframe thead th {\n",
       "        text-align: right;\n",
       "    }\n",
       "</style>\n",
       "<table border=\"1\" class=\"dataframe\">\n",
       "  <thead>\n",
       "    <tr style=\"text-align: right;\">\n",
       "      <th></th>\n",
       "      <th>CustomerId</th>\n",
       "      <th>Surname</th>\n",
       "      <th>CreditScore</th>\n",
       "      <th>Geography</th>\n",
       "      <th>Gender</th>\n",
       "      <th>Age</th>\n",
       "      <th>Tenure</th>\n",
       "      <th>Balance</th>\n",
       "      <th>NumOfProducts</th>\n",
       "      <th>HasCrCard</th>\n",
       "      <th>IsActiveMember</th>\n",
       "      <th>EstimatedSalary</th>\n",
       "    </tr>\n",
       "    <tr>\n",
       "      <th>id</th>\n",
       "      <th></th>\n",
       "      <th></th>\n",
       "      <th></th>\n",
       "      <th></th>\n",
       "      <th></th>\n",
       "      <th></th>\n",
       "      <th></th>\n",
       "      <th></th>\n",
       "      <th></th>\n",
       "      <th></th>\n",
       "      <th></th>\n",
       "      <th></th>\n",
       "    </tr>\n",
       "  </thead>\n",
       "  <tbody>\n",
       "    <tr>\n",
       "      <th>165034</th>\n",
       "      <td>15773898</td>\n",
       "      <td>Lucchese</td>\n",
       "      <td>586</td>\n",
       "      <td>France</td>\n",
       "      <td>Female</td>\n",
       "      <td>23.0</td>\n",
       "      <td>2</td>\n",
       "      <td>0.00</td>\n",
       "      <td>2</td>\n",
       "      <td>0.0</td>\n",
       "      <td>1.0</td>\n",
       "      <td>160976.75</td>\n",
       "    </tr>\n",
       "    <tr>\n",
       "      <th>165035</th>\n",
       "      <td>15782418</td>\n",
       "      <td>Nott</td>\n",
       "      <td>683</td>\n",
       "      <td>France</td>\n",
       "      <td>Female</td>\n",
       "      <td>46.0</td>\n",
       "      <td>2</td>\n",
       "      <td>0.00</td>\n",
       "      <td>1</td>\n",
       "      <td>1.0</td>\n",
       "      <td>0.0</td>\n",
       "      <td>72549.27</td>\n",
       "    </tr>\n",
       "    <tr>\n",
       "      <th>165036</th>\n",
       "      <td>15807120</td>\n",
       "      <td>K?</td>\n",
       "      <td>656</td>\n",
       "      <td>France</td>\n",
       "      <td>Female</td>\n",
       "      <td>34.0</td>\n",
       "      <td>7</td>\n",
       "      <td>0.00</td>\n",
       "      <td>2</td>\n",
       "      <td>1.0</td>\n",
       "      <td>0.0</td>\n",
       "      <td>138882.09</td>\n",
       "    </tr>\n",
       "    <tr>\n",
       "      <th>165037</th>\n",
       "      <td>15808905</td>\n",
       "      <td>O'Donnell</td>\n",
       "      <td>681</td>\n",
       "      <td>France</td>\n",
       "      <td>Male</td>\n",
       "      <td>36.0</td>\n",
       "      <td>8</td>\n",
       "      <td>0.00</td>\n",
       "      <td>1</td>\n",
       "      <td>1.0</td>\n",
       "      <td>0.0</td>\n",
       "      <td>113931.57</td>\n",
       "    </tr>\n",
       "    <tr>\n",
       "      <th>165038</th>\n",
       "      <td>15607314</td>\n",
       "      <td>Higgins</td>\n",
       "      <td>752</td>\n",
       "      <td>Germany</td>\n",
       "      <td>Male</td>\n",
       "      <td>38.0</td>\n",
       "      <td>10</td>\n",
       "      <td>121263.62</td>\n",
       "      <td>1</td>\n",
       "      <td>1.0</td>\n",
       "      <td>0.0</td>\n",
       "      <td>139431.00</td>\n",
       "    </tr>\n",
       "  </tbody>\n",
       "</table>\n",
       "</div>"
      ],
      "text/plain": [
       "        CustomerId    Surname  CreditScore Geography  Gender   Age  Tenure  \\\n",
       "id                                                                           \n",
       "165034    15773898   Lucchese          586    France  Female  23.0       2   \n",
       "165035    15782418       Nott          683    France  Female  46.0       2   \n",
       "165036    15807120         K?          656    France  Female  34.0       7   \n",
       "165037    15808905  O'Donnell          681    France    Male  36.0       8   \n",
       "165038    15607314    Higgins          752   Germany    Male  38.0      10   \n",
       "\n",
       "          Balance  NumOfProducts  HasCrCard  IsActiveMember  EstimatedSalary  \n",
       "id                                                                            \n",
       "165034       0.00              2        0.0             1.0        160976.75  \n",
       "165035       0.00              1        1.0             0.0         72549.27  \n",
       "165036       0.00              2        1.0             0.0        138882.09  \n",
       "165037       0.00              1        1.0             0.0        113931.57  \n",
       "165038  121263.62              1        1.0             0.0        139431.00  "
      ]
     },
     "execution_count": 20,
     "metadata": {},
     "output_type": "execute_result"
    }
   ],
   "source": [
    "test_df.head()"
   ]
  },
  {
   "cell_type": "markdown",
   "metadata": {},
   "source": [
    "No missing Values in train and test data 😃✅"
   ]
  },
  {
   "cell_type": "markdown",
   "metadata": {},
   "source": [
    "### 1.2) Checking for duplicated values"
   ]
  },
  {
   "cell_type": "code",
   "execution_count": 21,
   "metadata": {},
   "outputs": [
    {
     "name": "stdout",
     "output_type": "stream",
     "text": [
      "0\n",
      "0\n"
     ]
    }
   ],
   "source": [
    "print(train_df.duplicated().sum())\n",
    "print(test_df.duplicated().sum())"
   ]
  },
  {
   "cell_type": "markdown",
   "metadata": {},
   "source": [
    "No duplicated Values in train and test data 😃✅"
   ]
  },
  {
   "cell_type": "markdown",
   "metadata": {},
   "source": [
    "### 1.3) Size of train and test data"
   ]
  },
  {
   "cell_type": "code",
   "execution_count": 22,
   "metadata": {},
   "outputs": [
    {
     "name": "stdout",
     "output_type": "stream",
     "text": [
      "(165034, 13)\n",
      "(110023, 12)\n"
     ]
    }
   ],
   "source": [
    "print(train_df.shape)\n",
    "print(test_df.shape)"
   ]
  },
  {
   "cell_type": "markdown",
   "metadata": {},
   "source": [
    "### 1.4) Uniques values"
   ]
  },
  {
   "cell_type": "code",
   "execution_count": 23,
   "metadata": {},
   "outputs": [
    {
     "data": {
      "text/plain": [
       "CustomerId         23221\n",
       "Surname             2797\n",
       "CreditScore          457\n",
       "Geography              3\n",
       "Gender                 2\n",
       "Age                   71\n",
       "Tenure                11\n",
       "Balance            30075\n",
       "NumOfProducts          4\n",
       "HasCrCard              2\n",
       "IsActiveMember         2\n",
       "EstimatedSalary    55298\n",
       "Exited                 2\n",
       "dtype: int64"
      ]
     },
     "execution_count": 23,
     "metadata": {},
     "output_type": "execute_result"
    }
   ],
   "source": [
    "# let's start looking at the training data\n",
    "train_df.nunique()"
   ]
  },
  {
   "cell_type": "markdown",
   "metadata": {},
   "source": [
    "### 1.5) data type information"
   ]
  },
  {
   "cell_type": "code",
   "execution_count": 24,
   "metadata": {},
   "outputs": [
    {
     "data": {
      "text/plain": [
       "CustomerId           int64\n",
       "Surname             object\n",
       "CreditScore          int64\n",
       "Geography           object\n",
       "Gender              object\n",
       "Age                float64\n",
       "Tenure               int64\n",
       "Balance            float64\n",
       "NumOfProducts        int64\n",
       "HasCrCard          float64\n",
       "IsActiveMember     float64\n",
       "EstimatedSalary    float64\n",
       "Exited               int64\n",
       "dtype: object"
      ]
     },
     "execution_count": 24,
     "metadata": {},
     "output_type": "execute_result"
    }
   ],
   "source": [
    "train_df.dtypes"
   ]
  },
  {
   "cell_type": "markdown",
   "metadata": {},
   "source": [
    "- **Customer ID**:\n",
    "  - Treatment: Exclude from modeling or use it as an index, but do not include it as a feature in your predictive model.\n",
    "  - Why: Customer ID is usually a unique identifier and does not contribute to the model's predictive power. Including it may lead to overfitting, as the\n",
    "  model might mistakenly learn patterns specific to individual customers that do not generalize well.\n",
    "\n",
    "- **Surname**:\n",
    "  - Treatment: Exclude from modeling.\n",
    "  - Why: Surnames are categorical data, but including them in a model might not provide meaningful information. If you attempt to one-hot encode surnames, it could lead to an extremely high-dimensional dataset, making the model computationally expensive and potentially overfit to the training data."
   ]
  },
  {
   "cell_type": "markdown",
   "metadata": {},
   "source": [
    "## 2) PreProcess Data"
   ]
  },
  {
   "cell_type": "code",
   "execution_count": 25,
   "metadata": {},
   "outputs": [
    {
     "data": {
      "text/html": [
       "<div>\n",
       "<style scoped>\n",
       "    .dataframe tbody tr th:only-of-type {\n",
       "        vertical-align: middle;\n",
       "    }\n",
       "\n",
       "    .dataframe tbody tr th {\n",
       "        vertical-align: top;\n",
       "    }\n",
       "\n",
       "    .dataframe thead th {\n",
       "        text-align: right;\n",
       "    }\n",
       "</style>\n",
       "<table border=\"1\" class=\"dataframe\">\n",
       "  <thead>\n",
       "    <tr style=\"text-align: right;\">\n",
       "      <th></th>\n",
       "      <th>cat_ohe__Geography_France</th>\n",
       "      <th>cat_ohe__Geography_Germany</th>\n",
       "      <th>cat_ohe__Geography_Spain</th>\n",
       "      <th>cat_binary__Gender_0</th>\n",
       "      <th>cat_binary__Gender_1</th>\n",
       "      <th>cat_ord__NumOfProducts</th>\n",
       "      <th>num__CreditScore</th>\n",
       "      <th>num__Age</th>\n",
       "      <th>num__Tenure</th>\n",
       "      <th>num__Balance</th>\n",
       "      <th>num__EstimatedSalary</th>\n",
       "      <th>pass__HasCrCard</th>\n",
       "      <th>pass__IsActiveMember</th>\n",
       "    </tr>\n",
       "  </thead>\n",
       "  <tbody>\n",
       "    <tr>\n",
       "      <th>0</th>\n",
       "      <td>1.0</td>\n",
       "      <td>0.0</td>\n",
       "      <td>0.0</td>\n",
       "      <td>0.0</td>\n",
       "      <td>1.0</td>\n",
       "      <td>1.0</td>\n",
       "      <td>0.079646</td>\n",
       "      <td>-0.4</td>\n",
       "      <td>-0.50</td>\n",
       "      <td>0.000000</td>\n",
       "      <td>0.788698</td>\n",
       "      <td>1.0</td>\n",
       "      <td>0.0</td>\n",
       "    </tr>\n",
       "    <tr>\n",
       "      <th>1</th>\n",
       "      <td>1.0</td>\n",
       "      <td>0.0</td>\n",
       "      <td>0.0</td>\n",
       "      <td>0.0</td>\n",
       "      <td>1.0</td>\n",
       "      <td>1.0</td>\n",
       "      <td>-0.283186</td>\n",
       "      <td>-0.4</td>\n",
       "      <td>-1.00</td>\n",
       "      <td>0.000000</td>\n",
       "      <td>-0.850085</td>\n",
       "      <td>1.0</td>\n",
       "      <td>1.0</td>\n",
       "    </tr>\n",
       "    <tr>\n",
       "      <th>2</th>\n",
       "      <td>1.0</td>\n",
       "      <td>0.0</td>\n",
       "      <td>0.0</td>\n",
       "      <td>0.0</td>\n",
       "      <td>1.0</td>\n",
       "      <td>1.0</td>\n",
       "      <td>0.168142</td>\n",
       "      <td>0.3</td>\n",
       "      <td>1.25</td>\n",
       "      <td>0.000000</td>\n",
       "      <td>0.831134</td>\n",
       "      <td>1.0</td>\n",
       "      <td>0.0</td>\n",
       "    </tr>\n",
       "    <tr>\n",
       "      <th>3</th>\n",
       "      <td>1.0</td>\n",
       "      <td>0.0</td>\n",
       "      <td>0.0</td>\n",
       "      <td>0.0</td>\n",
       "      <td>1.0</td>\n",
       "      <td>0.0</td>\n",
       "      <td>-0.690265</td>\n",
       "      <td>-0.3</td>\n",
       "      <td>-0.75</td>\n",
       "      <td>1.241313</td>\n",
       "      <td>-0.414670</td>\n",
       "      <td>1.0</td>\n",
       "      <td>1.0</td>\n",
       "    </tr>\n",
       "    <tr>\n",
       "      <th>4</th>\n",
       "      <td>0.0</td>\n",
       "      <td>0.0</td>\n",
       "      <td>1.0</td>\n",
       "      <td>0.0</td>\n",
       "      <td>1.0</td>\n",
       "      <td>1.0</td>\n",
       "      <td>0.504425</td>\n",
       "      <td>-0.4</td>\n",
       "      <td>0.00</td>\n",
       "      <td>0.000000</td>\n",
       "      <td>-1.277766</td>\n",
       "      <td>1.0</td>\n",
       "      <td>1.0</td>\n",
       "    </tr>\n",
       "  </tbody>\n",
       "</table>\n",
       "</div>"
      ],
      "text/plain": [
       "   cat_ohe__Geography_France  cat_ohe__Geography_Germany  \\\n",
       "0                        1.0                         0.0   \n",
       "1                        1.0                         0.0   \n",
       "2                        1.0                         0.0   \n",
       "3                        1.0                         0.0   \n",
       "4                        0.0                         0.0   \n",
       "\n",
       "   cat_ohe__Geography_Spain  cat_binary__Gender_0  cat_binary__Gender_1  \\\n",
       "0                       0.0                   0.0                   1.0   \n",
       "1                       0.0                   0.0                   1.0   \n",
       "2                       0.0                   0.0                   1.0   \n",
       "3                       0.0                   0.0                   1.0   \n",
       "4                       1.0                   0.0                   1.0   \n",
       "\n",
       "   cat_ord__NumOfProducts  num__CreditScore  num__Age  num__Tenure  \\\n",
       "0                     1.0          0.079646      -0.4        -0.50   \n",
       "1                     1.0         -0.283186      -0.4        -1.00   \n",
       "2                     1.0          0.168142       0.3         1.25   \n",
       "3                     0.0         -0.690265      -0.3        -0.75   \n",
       "4                     1.0          0.504425      -0.4         0.00   \n",
       "\n",
       "   num__Balance  num__EstimatedSalary  pass__HasCrCard  pass__IsActiveMember  \n",
       "0      0.000000              0.788698              1.0                   0.0  \n",
       "1      0.000000             -0.850085              1.0                   1.0  \n",
       "2      0.000000              0.831134              1.0                   0.0  \n",
       "3      1.241313             -0.414670              1.0                   1.0  \n",
       "4      0.000000             -1.277766              1.0                   1.0  "
      ]
     },
     "execution_count": 25,
     "metadata": {},
     "output_type": "execute_result"
    }
   ],
   "source": [
    "# build a transform function to drop columns with scikit-learn BaseEstimator and TransformerMixin.\n",
    "# It will receive a list of columns to drop and return the transformed DataFrame without those columns.\n",
    "\n",
    "class DropColumns(BaseEstimator, TransformerMixin):\n",
    "    def __init__(self, columns):\n",
    "        self.columns = columns\n",
    "\n",
    "    def fit(self, X, y=None):\n",
    "        return self\n",
    "\n",
    "    def transform(self, X):\n",
    "        data = X.copy()\n",
    "        return data.drop(labels=self.columns, axis='columns')\n",
    "\n",
    "    def get_feature_names_out(self, input_features=None):\n",
    "        return [col for col in input_features if col not in self.columns]\n",
    "\n",
    "\n",
    "# let's test the DropColumns transformer\n",
    "columns_to_drop = ['CustomerId', 'Surname']\n",
    "\n",
    "\n",
    "# identifying categorical and numerical features\n",
    "cat_ohe_features = ['Geography'] # order does not matter\n",
    "cat_binary_features = ['Gender'] # converting to binary\n",
    "cat_ord_features = ['NumOfProducts'] # order matters\n",
    "num_features = ['CreditScore', 'Age','Tenure', 'Balance', 'EstimatedSalary']\n",
    "\n",
    "# let's build a pipeline for cat features\n",
    "cat_ohe_pipeline = Pipeline(steps=[\n",
    "    ('ohe', OneHotEncoder(sparse=False, handle_unknown='ignore'))\n",
    "])\n",
    "\n",
    "cat_ord_pipeline = Pipeline(steps=[\n",
    "    ('ord', OrdinalEncoder(handle_unknown='use_encoded_value', unknown_value=-1))\n",
    "])\n",
    "\n",
    "cat_binary_pipeline = Pipeline(steps=[\n",
    "    ('binary', BinaryEncoder())\n",
    "])\n",
    "\n",
    "# let's build a pipeline for numerical features\n",
    "num_pipeline = Pipeline(steps=[\n",
    "    ('robust_scaler', RobustScaler())\n",
    "])\n",
    "\n",
    "# let's join the numerical and categorical pipelines\n",
    "preprocessor = ColumnTransformer(transformers=[\n",
    "    ('cat_ohe', cat_ohe_pipeline, cat_ohe_features),\n",
    "    ('cat_binary', cat_binary_pipeline, cat_binary_features),\n",
    "    ('cat_ord', cat_ord_pipeline, cat_ord_features),\n",
    "    ('num', num_pipeline, num_features),\n",
    "    ('pass', 'passthrough', ['HasCrCard', 'IsActiveMember'])\n",
    "])\n",
    "\n",
    "pipeline = Pipeline(steps=[\n",
    "    ('drop_columns', DropColumns(columns=columns_to_drop)),\n",
    "    ('preprocessor', preprocessor),\n",
    "])\n",
    "\n",
    "\n",
    "# let's test the pipeline on the training data\n",
    "X_train = pipeline.fit_transform(train_df)\n",
    "feature_names = pipeline.named_steps['preprocessor'].get_feature_names_out()\n",
    "\n",
    "# create a dataframe with the transformed data and feature names\n",
    "X_transformed = pd.DataFrame(X_train, columns=feature_names)\n",
    "\n",
    "# check dataframe head\n",
    "X_transformed.head()"
   ]
  },
  {
   "cell_type": "code",
   "execution_count": 26,
   "metadata": {},
   "outputs": [
    {
     "name": "stdout",
     "output_type": "stream",
     "text": [
      "X_transformed shape: (165034, 13)\n",
      "y shape: (165034,)\n"
     ]
    }
   ],
   "source": [
    "# shapes\n",
    "print('X_transformed shape: {}'.format(X_transformed.shape))\n",
    "print('y shape: {}'.format(train_df['Exited'].shape))"
   ]
  },
  {
   "cell_type": "code",
   "execution_count": 27,
   "metadata": {},
   "outputs": [],
   "source": [
    "# use xgboost as the model for our pipeline\n",
    "\n",
    "params = {\n",
    "    'objective': 'binary:logistic',\n",
    "    'n_jobs': -1,\n",
    "    'eval_metric': 'roc_auc'\n",
    "}\n",
    "    \n",
    "model = xgb.XGBClassifier(params=params)\n",
    "    \n",
    "\n",
    "# let's create a pipeline with our previous pipeline (preprocessor) and the model\n",
    "xgb_pipe = Pipeline(steps=[\n",
    "    ('preprocessor', pipeline),\n",
    "    ('xgboost', model)\n",
    "])\n",
    "\n",
    "# let's train our model\n",
    "xgb_pipe.fit(train_df, train_df['Exited'])\n",
    "\n",
    "# let's make predictions on the test set\n",
    "predictions = xgb_pipe.predict_proba(test_df)[:, 1]\n"
   ]
  },
  {
   "cell_type": "code",
   "execution_count": 29,
   "metadata": {},
   "outputs": [
    {
     "data": {
      "image/png": "[encoded data removed]",
      "text/plain": [
       "<Figure size 500x500 with 1 Axes>"
      ]
     },
     "metadata": {},
     "output_type": "display_data"
    }
   ],
   "source": [
    "# let's create a function to plot the feature importance\n",
    "def plot_feature_importance(model, X, y):\n",
    "    plt.figure(figsize=(5, 5))\n",
    "    feat_importances = pd.Series(model.feature_importances_, index=X.columns)\n",
    "    feat_importances.nlargest(20).sort_values(ascending=True).plot(kind='barh')\n",
    "    plt.title('Feature importance')\n",
    "    plt.show()\n",
    "\n",
    "plot_feature_importance(xgb_pipe.named_steps['xgboost'], X_transformed, train_df['Exited'])"
   ]
  },
  {
   "cell_type": "code",
   "execution_count": 30,
   "metadata": {},
   "outputs": [
    {
     "data": {
      "text/html": [
       "<div>\n",
       "<style scoped>\n",
       "    .dataframe tbody tr th:only-of-type {\n",
       "        vertical-align: middle;\n",
       "    }\n",
       "\n",
       "    .dataframe tbody tr th {\n",
       "        vertical-align: top;\n",
       "    }\n",
       "\n",
       "    .dataframe thead th {\n",
       "        text-align: right;\n",
       "    }\n",
       "</style>\n",
       "<table border=\"1\" class=\"dataframe\">\n",
       "  <thead>\n",
       "    <tr style=\"text-align: right;\">\n",
       "      <th></th>\n",
       "      <th>feature</th>\n",
       "      <th>importance</th>\n",
       "    </tr>\n",
       "  </thead>\n",
       "  <tbody>\n",
       "    <tr>\n",
       "      <th>5</th>\n",
       "      <td>cat_ord__NumOfProducts</td>\n",
       "      <td>0.494919</td>\n",
       "    </tr>\n",
       "    <tr>\n",
       "      <th>12</th>\n",
       "      <td>pass__IsActiveMember</td>\n",
       "      <td>0.182950</td>\n",
       "    </tr>\n",
       "    <tr>\n",
       "      <th>7</th>\n",
       "      <td>num__Age</td>\n",
       "      <td>0.116714</td>\n",
       "    </tr>\n",
       "    <tr>\n",
       "      <th>1</th>\n",
       "      <td>cat_ohe__Geography_Germany</td>\n",
       "      <td>0.080283</td>\n",
       "    </tr>\n",
       "    <tr>\n",
       "      <th>3</th>\n",
       "      <td>cat_binary__Gender_0</td>\n",
       "      <td>0.047533</td>\n",
       "    </tr>\n",
       "    <tr>\n",
       "      <th>9</th>\n",
       "      <td>num__Balance</td>\n",
       "      <td>0.026731</td>\n",
       "    </tr>\n",
       "    <tr>\n",
       "      <th>11</th>\n",
       "      <td>pass__HasCrCard</td>\n",
       "      <td>0.011181</td>\n",
       "    </tr>\n",
       "    <tr>\n",
       "      <th>6</th>\n",
       "      <td>num__CreditScore</td>\n",
       "      <td>0.008776</td>\n",
       "    </tr>\n",
       "    <tr>\n",
       "      <th>10</th>\n",
       "      <td>num__EstimatedSalary</td>\n",
       "      <td>0.008363</td>\n",
       "    </tr>\n",
       "    <tr>\n",
       "      <th>2</th>\n",
       "      <td>cat_ohe__Geography_Spain</td>\n",
       "      <td>0.007611</td>\n",
       "    </tr>\n",
       "    <tr>\n",
       "      <th>0</th>\n",
       "      <td>cat_ohe__Geography_France</td>\n",
       "      <td>0.007488</td>\n",
       "    </tr>\n",
       "    <tr>\n",
       "      <th>8</th>\n",
       "      <td>num__Tenure</td>\n",
       "      <td>0.007451</td>\n",
       "    </tr>\n",
       "    <tr>\n",
       "      <th>4</th>\n",
       "      <td>cat_binary__Gender_1</td>\n",
       "      <td>0.000000</td>\n",
       "    </tr>\n",
       "  </tbody>\n",
       "</table>\n",
       "</div>"
      ],
      "text/plain": [
       "                       feature  importance\n",
       "5       cat_ord__NumOfProducts    0.494919\n",
       "12        pass__IsActiveMember    0.182950\n",
       "7                     num__Age    0.116714\n",
       "1   cat_ohe__Geography_Germany    0.080283\n",
       "3         cat_binary__Gender_0    0.047533\n",
       "9                 num__Balance    0.026731\n",
       "11             pass__HasCrCard    0.011181\n",
       "6             num__CreditScore    0.008776\n",
       "10        num__EstimatedSalary    0.008363\n",
       "2     cat_ohe__Geography_Spain    0.007611\n",
       "0    cat_ohe__Geography_France    0.007488\n",
       "8                  num__Tenure    0.007451\n",
       "4         cat_binary__Gender_1    0.000000"
      ]
     },
     "execution_count": 30,
     "metadata": {},
     "output_type": "execute_result"
    }
   ],
   "source": [
    "# create a dataframe of feature importance values sorted by importance\n",
    "feature_importance = pd.DataFrame({'feature': X_transformed.columns, 'importance': xgb_pipe.named_steps['xgboost'].feature_importances_}).sort_values(by='importance', ascending=False)\n",
    "feature_importance"
   ]
  },
  {
   "cell_type": "code",
   "execution_count": 33,
   "metadata": {},
   "outputs": [],
   "source": [
    "X = train_df\n",
    "y = train_df['Exited']\n",
    "\n",
    "X_train, X_val, y_train, y_val = train_test_split(X, y, test_size=0.2, random_state=42)\n",
    "\n",
    "\n",
    "def objective(trial):\n",
    "    params = {\n",
    "        \"objective\": \"binary:logistic\",\n",
    "        \"n_estimators\": trial.suggest_int(\"n_estimators\", 100, 1000),\n",
    "        \"verbosity\": 0,\n",
    "        \"learning_rate\": trial.suggest_float(\"learning_rate\", 1e-3, 0.1, log=True),\n",
    "        \"max_depth\": trial.suggest_int(\"max_depth\", 1, 10),\n",
    "        \"subsample\": trial.suggest_float(\"subsample\", 0.05, 1.0),\n",
    "        \"colsample_bytree\": trial.suggest_float(\"colsample_bytree\", 0.05, 1.0),\n",
    "        \"min_child_weight\": trial.suggest_int(\"min_child_weight\", 1, 20),\n",
    "        \"gamma\": trial.suggest_float(\"gamma\", 0.0, 1.0),\n",
    "        \"scale_pos_weight\": trial.suggest_float(\"scale_pos_weight\", 1.0, 100.0),\n",
    "    }\n",
    "\n",
    "    model = xgb.XGBClassifier(**params)\n",
    "    \n",
    "    #use pipeline\n",
    "    xgb_pipe = Pipeline(steps=[\n",
    "        ('preprocessor', pipeline),\n",
    "        ('xgboost', model)\n",
    "    ])\n",
    "    \n",
    "    #fit model\n",
    "    xgb_pipe.fit(X_train, y_train)\n",
    "    \n",
    "    #roc auc score\n",
    "    predictions = xgb_pipe.predict_proba(X_val)[:, 1]\n",
    "    roc_auc = roc_auc_score(y_val, predictions)\n",
    "    \n",
    "    return roc_auc"
   ]
  },
  {
   "cell_type": "code",
   "execution_count": 35,
   "metadata": {},
   "outputs": [
    {
     "name": "stderr",
     "output_type": "stream",
     "text": [
      "[I 2024-01-05 22:37:42,132] A new study created in memory with name: no-name-b9d576f4-fce5-4f2b-adbb-56fec10b8414\n",
      "[I 2024-01-05 22:37:48,355] Trial 0 finished with value: 0.8837965334607564 and parameters: {'n_estimators': 955, 'learning_rate': 0.005911214414317987, 'max_depth': 5, 'subsample': 0.8883215580805083, 'colsample_bytree': 0.372939131154508, 'min_child_weight': 5, 'gamma': 0.8025709173636073, 'scale_pos_weight': 93.0167094297196}. Best is trial 0 with value: 0.8837965334607564.\n",
      "[I 2024-01-05 22:37:53,073] Trial 1 finished with value: 0.8733185925886434 and parameters: {'n_estimators': 536, 'learning_rate': 0.06694163055622143, 'max_depth': 8, 'subsample': 0.6933487945403579, 'colsample_bytree': 0.8729511676361842, 'min_child_weight': 1, 'gamma': 0.6987035015551077, 'scale_pos_weight': 66.9464369179446}. Best is trial 0 with value: 0.8837965334607564.\n",
      "[I 2024-01-05 22:37:57,194] Trial 2 finished with value: 0.8810643657660623 and parameters: {'n_estimators': 925, 'learning_rate': 0.07363131167777112, 'max_depth': 1, 'subsample': 0.8861716762038625, 'colsample_bytree': 0.5209717467888616, 'min_child_weight': 6, 'gamma': 0.3427498727813335, 'scale_pos_weight': 22.095868120602013}. Best is trial 0 with value: 0.8837965334607564.\n",
      "[I 2024-01-05 22:38:00,927] Trial 3 finished with value: 0.880411209323873 and parameters: {'n_estimators': 351, 'learning_rate': 0.005171950851630906, 'max_depth': 7, 'subsample': 0.2633207551964549, 'colsample_bytree': 0.38148386075502244, 'min_child_weight': 2, 'gamma': 0.6375972921356574, 'scale_pos_weight': 8.036652615099701}. Best is trial 0 with value: 0.8837965334607564.\n",
      "[I 2024-01-05 22:38:03,807] Trial 4 finished with value: 0.8815784733138379 and parameters: {'n_estimators': 480, 'learning_rate': 0.015976129628882958, 'max_depth': 2, 'subsample': 0.900383702444758, 'colsample_bytree': 0.6832967140800691, 'min_child_weight': 6, 'gamma': 0.9192198009667524, 'scale_pos_weight': 88.28482049860787}. Best is trial 0 with value: 0.8837965334607564.\n",
      "[I 2024-01-05 22:38:08,007] Trial 5 finished with value: 0.8736884219726228 and parameters: {'n_estimators': 578, 'learning_rate': 0.005423705401009515, 'max_depth': 4, 'subsample': 0.32233927445314936, 'colsample_bytree': 0.22164881367734535, 'min_child_weight': 4, 'gamma': 0.11007386449055301, 'scale_pos_weight': 3.184912160575262}. Best is trial 0 with value: 0.8837965334607564.\n",
      "[I 2024-01-05 22:38:11,212] Trial 6 finished with value: 0.8662552156098133 and parameters: {'n_estimators': 449, 'learning_rate': 0.00658606745004543, 'max_depth': 9, 'subsample': 0.4003898204164325, 'colsample_bytree': 0.12452535354500452, 'min_child_weight': 8, 'gamma': 0.6727831245214345, 'scale_pos_weight': 33.35530790126108}. Best is trial 0 with value: 0.8837965334607564.\n",
      "[I 2024-01-05 22:38:15,206] Trial 7 finished with value: 0.888534938639008 and parameters: {'n_estimators': 258, 'learning_rate': 0.003747383691186326, 'max_depth': 10, 'subsample': 0.8092197869526515, 'colsample_bytree': 0.8532984424205375, 'min_child_weight': 18, 'gamma': 0.14922456303002585, 'scale_pos_weight': 22.96431217158188}. Best is trial 7 with value: 0.888534938639008.\n",
      "[I 2024-01-05 22:38:18,261] Trial 8 finished with value: 0.8766095139257514 and parameters: {'n_estimators': 517, 'learning_rate': 0.001634258686657414, 'max_depth': 3, 'subsample': 0.09983363005836458, 'colsample_bytree': 0.5220657819697198, 'min_child_weight': 6, 'gamma': 0.7219760579800317, 'scale_pos_weight': 16.921012817596427}. Best is trial 7 with value: 0.888534938639008.\n",
      "[I 2024-01-05 22:38:19,747] Trial 9 finished with value: 0.8873689219470697 and parameters: {'n_estimators': 176, 'learning_rate': 0.007657858830619511, 'max_depth': 6, 'subsample': 0.052320409048974226, 'colsample_bytree': 0.8412434963241548, 'min_child_weight': 7, 'gamma': 0.34673075636303663, 'scale_pos_weight': 28.326418466322494}. Best is trial 7 with value: 0.888534938639008.\n",
      "[I 2024-01-05 22:38:21,667] Trial 10 finished with value: 0.8874398082119233 and parameters: {'n_estimators': 110, 'learning_rate': 0.0011265899379495359, 'max_depth': 10, 'subsample': 0.6487380513626653, 'colsample_bytree': 0.9605884312381918, 'min_child_weight': 20, 'gamma': 0.005644455093392731, 'scale_pos_weight': 50.60570005597455}. Best is trial 7 with value: 0.888534938639008.\n",
      "[I 2024-01-05 22:38:23,547] Trial 11 finished with value: 0.8875877868771664 and parameters: {'n_estimators': 112, 'learning_rate': 0.0011231804077596987, 'max_depth': 10, 'subsample': 0.6304687498221423, 'colsample_bytree': 0.9918290202270855, 'min_child_weight': 20, 'gamma': 0.031432556351552135, 'scale_pos_weight': 49.30921758685753}. Best is trial 7 with value: 0.888534938639008.\n",
      "[I 2024-01-05 22:38:27,796] Trial 12 finished with value: 0.8879070206652999 and parameters: {'n_estimators': 266, 'learning_rate': 0.0023361193273648815, 'max_depth': 10, 'subsample': 0.6714341559277072, 'colsample_bytree': 0.9948608754442595, 'min_child_weight': 20, 'gamma': 0.21115638858268082, 'scale_pos_weight': 44.09121828989122}. Best is trial 7 with value: 0.888534938639008.\n",
      "[I 2024-01-05 22:38:30,981] Trial 13 finished with value: 0.8859553469513994 and parameters: {'n_estimators': 299, 'learning_rate': 0.0024698518397013886, 'max_depth': 8, 'subsample': 0.7507722179829344, 'colsample_bytree': 0.7340588506238643, 'min_child_weight': 15, 'gamma': 0.26678016048575, 'scale_pos_weight': 45.43668904281023}. Best is trial 7 with value: 0.888534938639008.\n",
      "[I 2024-01-05 22:38:38,719] Trial 14 finished with value: 0.8878877123814639 and parameters: {'n_estimators': 693, 'learning_rate': 0.0028110843458026354, 'max_depth': 10, 'subsample': 0.5567954166121166, 'colsample_bytree': 0.7172588506257093, 'min_child_weight': 16, 'gamma': 0.17672605720060586, 'scale_pos_weight': 61.58066610185179}. Best is trial 7 with value: 0.888534938639008.\n",
      "[I 2024-01-05 22:38:41,558] Trial 15 finished with value: 0.8899407373385728 and parameters: {'n_estimators': 274, 'learning_rate': 0.01813056330795991, 'max_depth': 8, 'subsample': 0.7741365699515428, 'colsample_bytree': 0.8175981260162724, 'min_child_weight': 16, 'gamma': 0.4798015422266115, 'scale_pos_weight': 35.55319754968612}. Best is trial 15 with value: 0.8899407373385728.\n",
      "[I 2024-01-05 22:38:47,780] Trial 16 finished with value: 0.8889880500018598 and parameters: {'n_estimators': 705, 'learning_rate': 0.019765060025691682, 'max_depth': 8, 'subsample': 0.7967553271292959, 'colsample_bytree': 0.8294985592725506, 'min_child_weight': 14, 'gamma': 0.4719344832359367, 'scale_pos_weight': 34.25909645423453}. Best is trial 15 with value: 0.8899407373385728.\n",
      "[I 2024-01-05 22:38:53,924] Trial 17 finished with value: 0.8894501849588442 and parameters: {'n_estimators': 749, 'learning_rate': 0.017504378879018245, 'max_depth': 7, 'subsample': 0.9967722391823364, 'colsample_bytree': 0.6062138224379444, 'min_child_weight': 12, 'gamma': 0.4780484170367954, 'scale_pos_weight': 73.17135072147762}. Best is trial 15 with value: 0.8899407373385728.\n",
      "[I 2024-01-05 22:38:59,045] Trial 18 finished with value: 0.8885425907572125 and parameters: {'n_estimators': 806, 'learning_rate': 0.034209170583438114, 'max_depth': 6, 'subsample': 0.9820208954388074, 'colsample_bytree': 0.6338429679925084, 'min_child_weight': 11, 'gamma': 0.5039900921321904, 'scale_pos_weight': 76.85519639699781}. Best is trial 15 with value: 0.8899407373385728.\n",
      "[I 2024-01-05 22:39:04,244] Trial 19 finished with value: 0.8898661450532548 and parameters: {'n_estimators': 660, 'learning_rate': 0.013051113867085077, 'max_depth': 7, 'subsample': 0.9872442441029861, 'colsample_bytree': 0.6186229984061942, 'min_child_weight': 11, 'gamma': 0.5169046587750081, 'scale_pos_weight': 76.91273267468301}. Best is trial 15 with value: 0.8899407373385728.\n",
      "[I 2024-01-05 22:39:07,031] Trial 20 finished with value: 0.8836665743886887 and parameters: {'n_estimators': 393, 'learning_rate': 0.011203067739780912, 'max_depth': 5, 'subsample': 0.5101848044026154, 'colsample_bytree': 0.40646478004218434, 'min_child_weight': 9, 'gamma': 0.568460090661923, 'scale_pos_weight': 98.70231382077361}. Best is trial 15 with value: 0.8899407373385728.\n",
      "[I 2024-01-05 22:39:11,620] Trial 21 finished with value: 0.8874205164851408 and parameters: {'n_estimators': 657, 'learning_rate': 0.03688663550317705, 'max_depth': 7, 'subsample': 0.9993605210247721, 'colsample_bytree': 0.6029879232258556, 'min_child_weight': 11, 'gamma': 0.4560810120153259, 'scale_pos_weight': 73.21613725536865}. Best is trial 15 with value: 0.8899407373385728.\n",
      "[I 2024-01-05 22:39:17,145] Trial 22 finished with value: 0.8891963901649776 and parameters: {'n_estimators': 811, 'learning_rate': 0.023184383408850172, 'max_depth': 7, 'subsample': 0.9415295270299961, 'colsample_bytree': 0.5730093351312817, 'min_child_weight': 13, 'gamma': 0.37830954379902804, 'scale_pos_weight': 81.61980969249802}. Best is trial 15 with value: 0.8899407373385728.\n",
      "[I 2024-01-05 22:39:23,768] Trial 23 finished with value: 0.8893670906265775 and parameters: {'n_estimators': 789, 'learning_rate': 0.012094323276463242, 'max_depth': 8, 'subsample': 0.8353789827428827, 'colsample_bytree': 0.7246382638695219, 'min_child_weight': 12, 'gamma': 0.565240983297398, 'scale_pos_weight': 61.51621605930033}. Best is trial 15 with value: 0.8899407373385728.\n",
      "[I 2024-01-05 22:39:28,114] Trial 24 finished with value: 0.8900776227780021 and parameters: {'n_estimators': 630, 'learning_rate': 0.029019898521301005, 'max_depth': 6, 'subsample': 0.763592410087133, 'colsample_bytree': 0.4467067491605104, 'min_child_weight': 17, 'gamma': 0.4178441532556878, 'scale_pos_weight': 54.72544126280104}. Best is trial 24 with value: 0.8900776227780021.\n",
      "[I 2024-01-05 22:39:31,822] Trial 25 finished with value: 0.8907893801513822 and parameters: {'n_estimators': 622, 'learning_rate': 0.03275587409088011, 'max_depth': 4, 'subsample': 0.7594176174512557, 'colsample_bytree': 0.45221879781935737, 'min_child_weight': 17, 'gamma': 0.3951924692701885, 'scale_pos_weight': 53.20610285385419}. Best is trial 25 with value: 0.8907893801513822.\n",
      "[I 2024-01-05 22:39:35,433] Trial 26 finished with value: 0.8875187467237732 and parameters: {'n_estimators': 594, 'learning_rate': 0.045686013923146696, 'max_depth': 4, 'subsample': 0.5459295379059722, 'colsample_bytree': 0.27393473589259165, 'min_child_weight': 18, 'gamma': 0.28688335603178355, 'scale_pos_weight': 54.95963509769448}. Best is trial 25 with value: 0.8907893801513822.\n",
      "[I 2024-01-05 22:39:39,952] Trial 27 finished with value: 0.8909626276397049 and parameters: {'n_estimators': 881, 'learning_rate': 0.028511803146272465, 'max_depth': 4, 'subsample': 0.7314497546872326, 'colsample_bytree': 0.4297730443694504, 'min_child_weight': 17, 'gamma': 0.4184806096303707, 'scale_pos_weight': 36.11601381091417}. Best is trial 27 with value: 0.8909626276397049.\n",
      "[I 2024-01-05 22:39:44,328] Trial 28 finished with value: 0.8912224823151353 and parameters: {'n_estimators': 875, 'learning_rate': 0.03125572421283187, 'max_depth': 4, 'subsample': 0.7222193185349448, 'colsample_bytree': 0.4984778366737639, 'min_child_weight': 18, 'gamma': 0.3861636469794195, 'scale_pos_weight': 40.485649949554045}. Best is trial 28 with value: 0.8912224823151353.\n",
      "[I 2024-01-05 22:39:49,204] Trial 29 finished with value: 0.8896342055699474 and parameters: {'n_estimators': 981, 'learning_rate': 0.055577427762749765, 'max_depth': 4, 'subsample': 0.5916005335248469, 'colsample_bytree': 0.2872047737935807, 'min_child_weight': 18, 'gamma': 0.8238803764617703, 'scale_pos_weight': 43.15238286678306}. Best is trial 28 with value: 0.8912224823151353.\n"
     ]
    },
    {
     "name": "stdout",
     "output_type": "stream",
     "text": [
      "Number of finished trials:  30\n",
      "Best trial:\n",
      "  Value: 0.8912224823151353\n",
      "  Params: \n",
      "    n_estimators: 875\n",
      "    learning_rate: 0.03125572421283187\n",
      "    max_depth: 4\n",
      "    subsample: 0.7222193185349448\n",
      "    colsample_bytree: 0.4984778366737639\n",
      "    min_child_weight: 18\n",
      "    gamma: 0.3861636469794195\n",
      "    scale_pos_weight: 40.485649949554045\n"
     ]
    }
   ],
   "source": [
    "study = optuna.create_study(direction=\"maximize\")\n",
    "study.optimize(objective, n_trials=30, timeout=600)\n",
    "\n",
    "print(\"Number of finished trials: \", len(study.trials))\n",
    "print(\"Best trial:\")\n",
    "trial = study.best_trial\n",
    "\n",
    "print(\"  Value: {}\".format(trial.value))\n",
    "print(\"  Params: \")\n",
    "for key, value in trial.params.items():\n",
    "    print(\"    {}: {}\".format(key, value))"
   ]
  },
  {
   "cell_type": "code",
   "execution_count": 36,
   "metadata": {},
   "outputs": [],
   "source": [
    "params = trial.params\n",
    "\n",
    "model_opt = xgb.XGBClassifier(**params)\n",
    "    \n",
    "# let's create a pipeline with our previous pipeline (preprocessor) and the model\n",
    "xgb_opt = Pipeline(steps=[\n",
    "    ('preprocessor', pipeline),\n",
    "    ('xgboost', model_opt)\n",
    "])\n",
    "\n",
    "# let's train our model\n",
    "xgb_opt.fit(train_df, train_df['Exited'])\n",
    "\n",
    "# let's make predictions on the test set\n",
    "predictions_optimized = xgb_opt.predict_proba(test_df)[:, 1]"
   ]
  },
  {
   "cell_type": "code",
   "execution_count": 37,
   "metadata": {},
   "outputs": [
    {
     "name": "stderr",
     "output_type": "stream",
     "text": [
      "[Parallel(n_jobs=-1)]: Using backend LokyBackend with 12 concurrent workers.\n",
      "[Parallel(n_jobs=-1)]: Done  10 out of  10 | elapsed:    6.7s finished\n",
      "[Parallel(n_jobs=-1)]: Using backend LokyBackend with 12 concurrent workers.\n"
     ]
    },
    {
     "name": "stdout",
     "output_type": "stream",
     "text": [
      "ROC AUC scores for the 10 folds:  [0.88942587 0.88541528 0.88847853 0.88537149 0.88457075 0.89307202\n",
      " 0.88567355 0.88969507 0.88567    0.8826853 ]\n",
      "Mean ROC AUC score: 0.887\n",
      "ROC AUC scores for the 10 folds:  [0.89183451 0.88729729 0.89087624 0.88889809 0.88735067 0.89535858\n",
      " 0.88865795 0.89321235 0.88772785 0.88591055]\n",
      "Mean ROC AUC score: 0.890\n"
     ]
    },
    {
     "name": "stderr",
     "output_type": "stream",
     "text": [
      "[Parallel(n_jobs=-1)]: Done  10 out of  10 | elapsed:   26.4s finished\n"
     ]
    }
   ],
   "source": [
    "cv = StratifiedKFold(n_splits=10, shuffle=True, random_state=42)\n",
    "\n",
    "scores = cross_val_score(estimator=xgb_pipe, \n",
    "                         X=train_df, \n",
    "                         y=train_df['Exited'], \n",
    "                         cv=cv,\n",
    "                         scoring='roc_auc',\n",
    "                         n_jobs=-1,\n",
    "                         verbose=1)\n",
    "\n",
    "\n",
    "scores_opt = cross_val_score(estimator=xgb_opt, \n",
    "                         X=train_df, \n",
    "                         y=train_df['Exited'], \n",
    "                         cv=cv,\n",
    "                         scoring='roc_auc',\n",
    "                         n_jobs=-1,\n",
    "                         verbose=1)\n",
    "\n",
    "# print scores and scores_opt\n",
    "print('ROC AUC scores for the 10 folds: ', scores)\n",
    "print('Mean ROC AUC score: %.3f' % scores.mean())\n",
    "\n",
    "print('ROC AUC scores for the 10 folds: ', scores_opt)\n",
    "print('Mean ROC AUC score: %.3f' % scores_opt.mean())"
   ]
  },
  {
   "cell_type": "code",
   "execution_count": 38,
   "metadata": {},
   "outputs": [
    {
     "data": {
      "image/png": "[encoded data removed]",
      "text/plain": [
       "<Figure size 1000x500 with 4 Axes>"
      ]
     },
     "metadata": {},
     "output_type": "display_data"
    }
   ],
   "source": [
    "# plot confusion matrix for xgb and xgb_opt side by side with sns and axis\n",
    "fig, (ax1, ax2) = plt.subplots(1, 2, figsize=(10, 5))\n",
    "sns.heatmap(confusion_matrix(train_df['Exited'], xgb_pipe.predict(train_df)), annot=True, fmt='d', ax=ax1)\n",
    "sns.heatmap(confusion_matrix(train_df['Exited'], xgb_opt.predict(train_df)), annot=True, fmt='d', ax=ax2)\n",
    "ax1.set_title('XGB')\n",
    "ax2.set_title('XGB Optimized')\n",
    "ax1.set_ylabel('True label')\n",
    "ax1.set_xlabel('Predicted label')\n",
    "ax2.set_ylabel('True label')\n",
    "ax2.set_xlabel('Predicted label')\n",
    "plt.show()"
   ]
  },
  {
   "cell_type": "code",
   "execution_count": 39,
   "metadata": {},
   "outputs": [
    {
     "data": {
      "image/png": "[encoded data removed]",
      "text/plain": [
       "<Figure size 1000x500 with 2 Axes>"
      ]
     },
     "metadata": {},
     "output_type": "display_data"
    }
   ],
   "source": [
    "# plot roc curve for xgb and xgb_opt side by side with sns and axis\n",
    "fig, (ax1, ax2) = plt.subplots(1, 2, figsize=(10, 5))\n",
    "fpr_xgb, tpr_xgb, _ = roc_curve(train_df['Exited'], xgb_pipe.predict_proba(train_df)[:, 1])\n",
    "fpr_xgb_opt, tpr_xgb_opt, _ = roc_curve(train_df['Exited'], xgb_opt.predict_proba(train_df)[:, 1])\n",
    "roc_auc_xgb = auc(fpr_xgb, tpr_xgb)\n",
    "roc_auc_xgb_opt = auc(fpr_xgb_opt, tpr_xgb_opt)\n",
    "ax1.plot(fpr_xgb, tpr_xgb, color='darkorange', lw=2, label='ROC curve (XGB) (AUC = %0.3f)' % roc_auc_xgb)\n",
    "ax2.plot(fpr_xgb_opt, tpr_xgb_opt, color='darkorange', lw=2, label='ROC curve (XGB Optimized) (AUC = %0.3f)' % roc_auc_xgb_opt)\n",
    "ax1.plot([0, 1], [0, 1], color='navy', lw=2, linestyle='--')\n",
    "ax2.plot([0, 1], [0, 1], color='navy', lw=2, linestyle='--')\n",
    "ax1.set_title('XGB')\n",
    "ax2.set_title('XGB Optimized')\n",
    "ax1.set_ylabel('True Positive Rate')\n",
    "ax1.set_xlabel('False Positive Rate')\n",
    "ax2.set_xlabel('False Positive Rate')\n",
    "ax2.set_ylabel('True Positive Rate')\n",
    "ax1.legend(loc=\"lower right\")\n",
    "ax2.legend(loc=\"lower right\")\n",
    "plt.show()\n"
   ]
  },
  {
   "cell_type": "code",
   "execution_count": 41,
   "metadata": {},
   "outputs": [
    {
     "name": "stdout",
     "output_type": "stream",
     "text": [
      "[learning_curve] Training set sizes: [  1485   9224  16963  24702  32442  40181  47920  55659  63398  71138\n",
      "  78877  86616  94355 102094 109834 117573 125312 133051 140790 148530]\n"
     ]
    },
    {
     "name": "stderr",
     "output_type": "stream",
     "text": [
      "[Parallel(n_jobs=-1)]: Using backend LokyBackend with 12 concurrent workers.\n",
      "[Parallel(n_jobs=-1)]: Done 200 out of 200 | elapsed:   45.5s finished\n"
     ]
    },
    {
     "name": "stdout",
     "output_type": "stream",
     "text": [
      "[learning_curve] Training set sizes: [  1485   9224  16963  24702  32442  40181  47920  55659  63398  71138\n",
      "  78877  86616  94355 102094 109834 117573 125312 133051 140790 148530]\n"
     ]
    },
    {
     "name": "stderr",
     "output_type": "stream",
     "text": [
      "[Parallel(n_jobs=-1)]: Using backend LokyBackend with 12 concurrent workers.\n",
      "[Parallel(n_jobs=-1)]: Done 200 out of 200 | elapsed:  4.1min finished\n"
     ]
    },
    {
     "data": {
      "image/png": "[encoded data removed]",
      "text/plain": [
       "<Figure size 1000x500 with 2 Axes>"
      ]
     },
     "metadata": {},
     "output_type": "display_data"
    }
   ],
   "source": [
    "# plot learning curve for xgb and xgb_opt side by side with sns and axis\n",
    "fig, (ax1, ax2) = plt.subplots(1, 2, figsize=(10, 5))\n",
    "train_sizes, train_scores, test_scores = learning_curve(xgb_pipe, train_df, train_df['Exited'], cv=cv, scoring='roc_auc', n_jobs=-1, train_sizes=np.linspace(0.01, 1.0, 20), verbose=1)\n",
    "train_sizes_opt, train_scores_opt, test_scores_opt = learning_curve(xgb_opt, train_df, train_df['Exited'], cv=cv, scoring='roc_auc', n_jobs=-1, train_sizes=np.linspace(0.01, 1.0, 20), verbose=1)\n",
    "train_scores_mean = np.mean(train_scores, axis=1)\n",
    "train_scores_mean_opt = np.mean(train_scores_opt, axis=1)\n",
    "train_scores_std = np.std(train_scores, axis=1)\n",
    "train_scores_std_opt = np.std(train_scores_opt, axis=1)\n",
    "test_scores_mean = np.mean(test_scores, axis=1)\n",
    "test_scores_mean_opt = np.mean(test_scores_opt, axis=1)\n",
    "test_scores_std = np.std(test_scores, axis=1)\n",
    "test_scores_std_opt = np.std(test_scores_opt, axis=1)\n",
    "ax1.grid()\n",
    "ax2.grid()\n",
    "ax1.fill_between(train_sizes, train_scores_mean - train_scores_std, train_scores_mean + train_scores_std, alpha=0.1, color='r')\n",
    "ax1.fill_between(train_sizes, test_scores_mean - test_scores_std, test_scores_mean + test_scores_std, alpha=0.1, color='g')\n",
    "ax2.fill_between(train_sizes_opt, train_scores_mean_opt - train_scores_std_opt, train_scores_mean_opt + train_scores_std_opt, alpha=0.1, color='r')\n",
    "ax2.fill_between(train_sizes_opt, test_scores_mean_opt - test_scores_std_opt, test_scores_mean_opt + test_scores_std_opt, alpha=0.1, color='g')\n",
    "ax1.plot(train_sizes, train_scores_mean, 'o-', color='r', label='Training score')\n",
    "ax1.plot(train_sizes, test_scores_mean, 'o-', color='g', label='Cross-validation score')\n",
    "ax2.plot(train_sizes_opt, train_scores_mean_opt, 'o-', color='r', label='Training score')\n",
    "ax2.plot(train_sizes_opt, test_scores_mean_opt, 'o-', color='g', label='Cross-validation score')\n",
    "ax1.set_title('XGB')\n",
    "ax2.set_title('XGB Optimized')\n",
    "ax1.set_xlabel('Training examples')\n",
    "ax1.set_ylabel('Score')\n",
    "ax2.set_xlabel('Training examples')\n",
    "ax2.set_ylabel('Score')\n",
    "ax1.legend(loc='best')\n",
    "ax2.legend(loc='best')\n",
    "plt.show()"
   ]
  },
  {
   "cell_type": "markdown",
   "metadata": {},
   "source": [
    "## 3) Submission"
   ]
  },
  {
   "cell_type": "code",
   "execution_count": 42,
   "metadata": {},
   "outputs": [],
   "source": [
    "# add to submission dataframe\n",
    "submission['Exited'] = predictions_optimized\n",
    "\n",
    "# save to csv\n",
    "submission.to_csv('data/submission_6.csv', index=False)"
   ]
  },
  {
   "cell_type": "markdown",
   "metadata": {},
   "source": [
    "# Best value for my model was: 0.88592"
   ]
  }
 ],
 "metadata": {
  "kernelspec": {
   "display_name": "Python 3",
   "language": "python",
   "name": "python3"
  },
  "language_info": {
   "codemirror_mode": {
    "name": "ipython",
    "version": 3
   },
   "file_extension": ".py",
   "mimetype": "text/x-python",
   "name": "python",
   "nbconvert_exporter": "python",
   "pygments_lexer": "ipython3",
   "version": "3.10.6"
  }
 },
 "nbformat": 4,
 "nbformat_minor": 2
}
