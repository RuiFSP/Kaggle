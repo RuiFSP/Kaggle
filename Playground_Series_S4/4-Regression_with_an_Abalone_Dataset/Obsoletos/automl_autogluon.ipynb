{
 "cells": [
  {
   "cell_type": "markdown",
   "metadata": {},
   "source": [
    "# Imports"
   ]
  },
  {
   "cell_type": "code",
   "execution_count": 1,
   "metadata": {},
   "outputs": [
    {
     "name": "stdout",
     "output_type": "stream",
     "text": [
      "CPU times: total: 46.9 ms\n",
      "Wall time: 1.44 s\n"
     ]
    }
   ],
   "source": [
    "%%time \n",
    "\n",
    "from IPython.display import clear_output\n",
    "from gc import collect\n",
    "!pip install -q autogluon.tabular --force-reinstall;\n",
    "\n",
    "collect();\n",
    "clear_output();"
   ]
  },
  {
   "cell_type": "code",
   "execution_count": 2,
   "metadata": {},
   "outputs": [
    {
     "name": "stdout",
     "output_type": "stream",
     "text": [
      "\n",
      "CPU times: total: 1.72 s\n",
      "Wall time: 1.99 s\n"
     ]
    },
    {
     "data": {
      "text/plain": [
       "0"
      ]
     },
     "execution_count": 2,
     "metadata": {},
     "output_type": "execute_result"
    }
   ],
   "source": [
    "%%time \n",
    "\n",
    "from IPython.display import clear_output\n",
    "from gc import collect\n",
    "\n",
    "from warnings import filterwarnings\n",
    "filterwarnings('ignore')\n",
    "\n",
    "from IPython.display import display_html, clear_output\n",
    "from pprint import pprint\n",
    "from functools import partial\n",
    "from copy import deepcopy\n",
    "import pandas as pd, numpy as np, os, joblib\n",
    "import re\n",
    "\n",
    "from warnings import filterwarnings\n",
    "filterwarnings('ignore')\n",
    "from tqdm.notebook import tqdm\n",
    "\n",
    "# AutoML package:-\n",
    "from autogluon.tabular import TabularDataset, TabularPredictor;\n",
    "\n",
    "print()\n",
    "collect()"
   ]
  },
  {
   "cell_type": "code",
   "execution_count": 3,
   "metadata": {},
   "outputs": [
    {
     "name": "stdout",
     "output_type": "stream",
     "text": [
      "\n"
     ]
    }
   ],
   "source": [
    "target   = \"Rings\";\n",
    "\n",
    "train    = pd.read_csv(\"data/train.csv\", index_col = \"id\")\n",
    "test     = pd.read_csv(\"data/test.csv\", index_col = \"id\")\n",
    "sub_fl   = pd.read_csv(\"data/sample_submission.csv\",)\n",
    "\n",
    "\n",
    "train[target] = np.log1p(train[target].values);\n",
    "\n",
    "print();\n",
    "collect();"
   ]
  },
  {
   "cell_type": "code",
   "execution_count": 4,
   "metadata": {},
   "outputs": [
    {
     "name": "stdout",
     "output_type": "stream",
     "text": [
      "\n"
     ]
    },
    {
     "data": {
      "text/html": [
       "<style type=\"text/css\">\n",
       "</style>\n",
       "<table id=\"T_34e8a\">\n",
       "  <caption>\n",
       "Model Leaderboard\n",
       "</caption>\n",
       "  <thead>\n",
       "    <tr>\n",
       "      <th class=\"blank level0\" >&nbsp;</th>\n",
       "      <th id=\"T_34e8a_level0_col0\" class=\"col_heading level0 col0\" >model</th>\n",
       "      <th id=\"T_34e8a_level0_col1\" class=\"col_heading level0 col1\" >score_val</th>\n",
       "      <th id=\"T_34e8a_level0_col2\" class=\"col_heading level0 col2\" >eval_metric</th>\n",
       "      <th id=\"T_34e8a_level0_col3\" class=\"col_heading level0 col3\" >pred_time_val</th>\n",
       "      <th id=\"T_34e8a_level0_col4\" class=\"col_heading level0 col4\" >fit_time</th>\n",
       "      <th id=\"T_34e8a_level0_col5\" class=\"col_heading level0 col5\" >pred_time_val_marginal</th>\n",
       "      <th id=\"T_34e8a_level0_col6\" class=\"col_heading level0 col6\" >fit_time_marginal</th>\n",
       "      <th id=\"T_34e8a_level0_col7\" class=\"col_heading level0 col7\" >stack_level</th>\n",
       "      <th id=\"T_34e8a_level0_col8\" class=\"col_heading level0 col8\" >can_infer</th>\n",
       "      <th id=\"T_34e8a_level0_col9\" class=\"col_heading level0 col9\" >fit_order</th>\n",
       "    </tr>\n",
       "  </thead>\n",
       "  <tbody>\n",
       "    <tr>\n",
       "      <th id=\"T_34e8a_level0_row0\" class=\"row_heading level0 row0\" >0</th>\n",
       "      <td id=\"T_34e8a_row0_col0\" class=\"data row0 col0\" >WeightedEnsemble_L2</td>\n",
       "      <td id=\"T_34e8a_row0_col1\" class=\"data row0 col1\" >-0.14529</td>\n",
       "      <td id=\"T_34e8a_row0_col2\" class=\"data row0 col2\" >root_mean_squared_error</td>\n",
       "      <td id=\"T_34e8a_row0_col3\" class=\"data row0 col3\" >0.11200</td>\n",
       "      <td id=\"T_34e8a_row0_col4\" class=\"data row0 col4\" >153.84165</td>\n",
       "      <td id=\"T_34e8a_row0_col5\" class=\"data row0 col5\" >0.00100</td>\n",
       "      <td id=\"T_34e8a_row0_col6\" class=\"data row0 col6\" >0.20003</td>\n",
       "      <td id=\"T_34e8a_row0_col7\" class=\"data row0 col7\" >2</td>\n",
       "      <td id=\"T_34e8a_row0_col8\" class=\"data row0 col8\" >True</td>\n",
       "      <td id=\"T_34e8a_row0_col9\" class=\"data row0 col9\" >4</td>\n",
       "    </tr>\n",
       "    <tr>\n",
       "      <th id=\"T_34e8a_level0_row1\" class=\"row_heading level0 row1\" >1</th>\n",
       "      <td id=\"T_34e8a_row1_col0\" class=\"data row1 col0\" >LightGBM</td>\n",
       "      <td id=\"T_34e8a_row1_col1\" class=\"data row1 col1\" >-0.14565</td>\n",
       "      <td id=\"T_34e8a_row1_col2\" class=\"data row1 col2\" >root_mean_squared_error</td>\n",
       "      <td id=\"T_34e8a_row1_col3\" class=\"data row1 col3\" >0.02200</td>\n",
       "      <td id=\"T_34e8a_row1_col4\" class=\"data row1 col4\" >2.68181</td>\n",
       "      <td id=\"T_34e8a_row1_col5\" class=\"data row1 col5\" >0.02200</td>\n",
       "      <td id=\"T_34e8a_row1_col6\" class=\"data row1 col6\" >2.68181</td>\n",
       "      <td id=\"T_34e8a_row1_col7\" class=\"data row1 col7\" >1</td>\n",
       "      <td id=\"T_34e8a_row1_col8\" class=\"data row1 col8\" >True</td>\n",
       "      <td id=\"T_34e8a_row1_col9\" class=\"data row1 col9\" >1</td>\n",
       "    </tr>\n",
       "    <tr>\n",
       "      <th id=\"T_34e8a_level0_row2\" class=\"row_heading level0 row2\" >2</th>\n",
       "      <td id=\"T_34e8a_row2_col0\" class=\"data row2 col0\" >CatBoost</td>\n",
       "      <td id=\"T_34e8a_row2_col1\" class=\"data row2 col1\" >-0.14661</td>\n",
       "      <td id=\"T_34e8a_row2_col2\" class=\"data row2 col2\" >root_mean_squared_error</td>\n",
       "      <td id=\"T_34e8a_row2_col3\" class=\"data row2 col3\" >0.00900</td>\n",
       "      <td id=\"T_34e8a_row2_col4\" class=\"data row2 col4\" >136.50481</td>\n",
       "      <td id=\"T_34e8a_row2_col5\" class=\"data row2 col5\" >0.00900</td>\n",
       "      <td id=\"T_34e8a_row2_col6\" class=\"data row2 col6\" >136.50481</td>\n",
       "      <td id=\"T_34e8a_row2_col7\" class=\"data row2 col7\" >1</td>\n",
       "      <td id=\"T_34e8a_row2_col8\" class=\"data row2 col8\" >True</td>\n",
       "      <td id=\"T_34e8a_row2_col9\" class=\"data row2 col9\" >3</td>\n",
       "    </tr>\n",
       "    <tr>\n",
       "      <th id=\"T_34e8a_level0_row3\" class=\"row_heading level0 row3\" >3</th>\n",
       "      <td id=\"T_34e8a_row3_col0\" class=\"data row3 col0\" >RandomForestMSE</td>\n",
       "      <td id=\"T_34e8a_row3_col1\" class=\"data row3 col1\" >-0.14914</td>\n",
       "      <td id=\"T_34e8a_row3_col2\" class=\"data row3 col2\" >root_mean_squared_error</td>\n",
       "      <td id=\"T_34e8a_row3_col3\" class=\"data row3 col3\" >0.08000</td>\n",
       "      <td id=\"T_34e8a_row3_col4\" class=\"data row3 col4\" >14.45500</td>\n",
       "      <td id=\"T_34e8a_row3_col5\" class=\"data row3 col5\" >0.08000</td>\n",
       "      <td id=\"T_34e8a_row3_col6\" class=\"data row3 col6\" >14.45500</td>\n",
       "      <td id=\"T_34e8a_row3_col7\" class=\"data row3 col7\" >1</td>\n",
       "      <td id=\"T_34e8a_row3_col8\" class=\"data row3 col8\" >True</td>\n",
       "      <td id=\"T_34e8a_row3_col9\" class=\"data row3 col9\" >2</td>\n",
       "    </tr>\n",
       "  </tbody>\n",
       "</table>\n"
      ],
      "text/plain": [
       "<pandas.io.formats.style.Styler at 0x1a815cebee0>"
      ]
     },
     "metadata": {},
     "output_type": "display_data"
    },
    {
     "name": "stdout",
     "output_type": "stream",
     "text": [
      "\n",
      "CPU times: total: 12min 7s\n",
      "Wall time: 3min 11s\n"
     ]
    }
   ],
   "source": [
    "%%time \n",
    "\n",
    "model = TabularPredictor(label        = target,\n",
    "                         problem_type = \"regression\",\n",
    "                         eval_metric  = \"root_mean_squared_error\",\n",
    "                         verbosity    = 2,\n",
    "                         )\n",
    "\n",
    "model.fit(train.drop(columns = ['id', \"Source\"], errors = \"ignore\"),\n",
    "          save_space      = True,\n",
    "          presets         = \"optimize_for_deployment\",\n",
    "          time_limit      = 9000,\n",
    "          excluded_model_types = [\"NN_TORCH\", \"FASTAI\", \"NN\"]\n",
    "          )\n",
    "\n",
    "preds = model.predict(test.drop(columns = ['id', \"Source\"], errors = \"ignore\"))\n",
    "\n",
    "clear_output();\n",
    "\n",
    "print()\n",
    "display(model.leaderboard().\\\n",
    "        style.format(precision = 5).\\\n",
    "        set_caption(f\"\\nModel Leaderboard\\n\")\n",
    "       )\n",
    "\n",
    "collect()\n",
    "print()"
   ]
  },
  {
   "cell_type": "code",
   "execution_count": 6,
   "metadata": {},
   "outputs": [
    {
     "name": "stdout",
     "output_type": "stream",
     "text": [
      "CPU times: total: 141 ms\n",
      "Wall time: 150 ms\n"
     ]
    }
   ],
   "source": [
    "%%time \n",
    "\n",
    "sub_fl[target] = np.expm1(preds.values)\n",
    "\n",
    "# Blending with good public work:-\n",
    "sub1 = pd.read_csv(f\"data/sample_submission.csv\")[target].values\n",
    "\n",
    "sub_fl[target] = np.average(np.c_[sub1, sub_fl[target].values], axis=1, weights = [0.80, 0.20])\n",
    "\n",
    "sub_fl[target] = sub_fl[target].clip(1, 29);\n",
    "sub_fl[target] = np.where(sub_fl[target].between(27.5,29), 29, sub_fl[target])\n",
    "sub_fl.to_csv(f\"outputs/submission_autogluon.csv\", index = None)"
   ]
  },
  {
   "cell_type": "markdown",
   "metadata": {},
   "source": [
    "public score `0.25593`"
   ]
  }
 ],
 "metadata": {
  "kernelspec": {
   "display_name": "Python 3",
   "language": "python",
   "name": "python3"
  },
  "language_info": {
   "codemirror_mode": {
    "name": "ipython",
    "version": 3
   },
   "file_extension": ".py",
   "mimetype": "text/x-python",
   "name": "python",
   "nbconvert_exporter": "python",
   "pygments_lexer": "ipython3",
   "version": "3.10.6"
  }
 },
 "nbformat": 4,
 "nbformat_minor": 2
}
